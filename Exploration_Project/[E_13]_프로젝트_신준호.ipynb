{
  "cells": [
    {
      "cell_type": "markdown",
      "metadata": {
        "id": "3755bea0"
      },
      "source": [
        "# 13. 인간보다 퀴즈를 잘푸는 인공지능\n"
      ],
      "id": "3755bea0"
    },
    {
      "cell_type": "code",
      "execution_count": 2,
      "metadata": {
        "colab": {
          "base_uri": "https://localhost:8080/"
        },
        "id": "9IB5zpfgLzWV",
        "outputId": "bb9dd688-760a-4ba6-9123-f40bce51e579"
      },
      "outputs": [
        {
          "output_type": "stream",
          "name": "stdout",
          "text": [
            "Mounted at /content/drive\n"
          ]
        }
      ],
      "source": [
        "from google.colab import drive\n",
        "drive.mount('/content/drive')"
      ],
      "id": "9IB5zpfgLzWV"
    },
    {
      "cell_type": "code",
      "execution_count": 3,
      "metadata": {
        "colab": {
          "base_uri": "https://localhost:8080/"
        },
        "id": "5lEeOyV-K9bA",
        "outputId": "4630d40d-7b7b-455e-99d8-8e6c28d9d9e9"
      },
      "outputs": [
        {
          "output_type": "stream",
          "name": "stdout",
          "text": [
            "Looking in indexes: https://pypi.org/simple, https://us-python.pkg.dev/colab-wheels/public/simple/\n",
            "Collecting tensorflow_addons\n",
            "  Downloading tensorflow_addons-0.17.1-cp37-cp37m-manylinux_2_17_x86_64.manylinux2014_x86_64.whl (1.1 MB)\n",
            "\u001b[K     |████████████████████████████████| 1.1 MB 14.4 MB/s \n",
            "\u001b[?25hRequirement already satisfied: packaging in /usr/local/lib/python3.7/dist-packages (from tensorflow_addons) (21.3)\n",
            "Requirement already satisfied: typeguard>=2.7 in /usr/local/lib/python3.7/dist-packages (from tensorflow_addons) (2.7.1)\n",
            "Requirement already satisfied: pyparsing!=3.0.5,>=2.0.2 in /usr/local/lib/python3.7/dist-packages (from packaging->tensorflow_addons) (3.0.9)\n",
            "Installing collected packages: tensorflow-addons\n",
            "Successfully installed tensorflow-addons-0.17.1\n",
            "Looking in indexes: https://pypi.org/simple, https://us-python.pkg.dev/colab-wheels/public/simple/\n",
            "Collecting sentencepiece\n",
            "  Downloading sentencepiece-0.1.96-cp37-cp37m-manylinux_2_17_x86_64.manylinux2014_x86_64.whl (1.2 MB)\n",
            "\u001b[K     |████████████████████████████████| 1.2 MB 16.2 MB/s \n",
            "\u001b[?25hInstalling collected packages: sentencepiece\n",
            "Successfully installed sentencepiece-0.1.96\n"
          ]
        }
      ],
      "source": [
        "! pip install tensorflow_addons\n",
        "! pip install  sentencepiece"
      ],
      "id": "5lEeOyV-K9bA"
    },
    {
      "cell_type": "code",
      "execution_count": 4,
      "metadata": {
        "id": "3f61274e"
      },
      "outputs": [],
      "source": [
        "# 라이브러리 \n",
        "\n",
        "# imports\n",
        "from __future__ import absolute_import, division, print_function, unicode_literals\n",
        "\n",
        "import tensorflow as tf\n",
        "import tensorflow.keras.backend as K\n",
        "import tensorflow_addons as tfa\n",
        "\n",
        "import os\n",
        "import re\n",
        "import numpy as np\n",
        "import pandas as pd\n",
        "import pickle\n",
        "import random\n",
        "import collections\n",
        "import json\n",
        "from datetime import datetime\n",
        "\n",
        "import sentencepiece as spm\n",
        "from tqdm.notebook import tqdm\n",
        "import matplotlib.pyplot as plt\n",
        "import seaborn as sns\n",
        "from wordcloud import WordCloud\n",
        "\n",
        "random_seed = 2022\n",
        "random.seed(random_seed)\n",
        "np.random.seed(random_seed)\n",
        "tf.random.set_seed(random_seed)"
      ],
      "id": "3f61274e"
    },
    {
      "cell_type": "code",
      "execution_count": 5,
      "metadata": {
        "id": "21ff8a2b"
      },
      "outputs": [],
      "source": [
        "def print_json_tree(data, indent=\"\"):\n",
        "    for key, value in data.items():\n",
        "        if type(value) == list:     # list 형태의 item은 첫번째 item만 출력\n",
        "            print(f'{indent}- {key}: [{len(value)}]')\n",
        "            print_json_tree(value[0], indent + \"  \")\n",
        "        else:\n",
        "            print(f'{indent}- {key}: {value}')"
      ],
      "id": "21ff8a2b"
    },
    {
      "cell_type": "code",
      "execution_count": 6,
      "metadata": {
        "colab": {
          "base_uri": "https://localhost:8080/"
        },
        "id": "b20072b6",
        "outputId": "c7a1f2a5-8949-4ecf-94c6-61fe3b8c87e0"
      },
      "outputs": [
        {
          "output_type": "stream",
          "name": "stdout",
          "text": [
            "- version: KorQuAD_v1.0_train\n",
            "- data: [1420]\n",
            "  - paragraphs: [3]\n",
            "    - qas: [8]\n",
            "      - answers: [1]\n",
            "        - text: 교향곡\n",
            "        - answer_start: 54\n",
            "      - id: 6566495-0-0\n",
            "      - question: 바그너는 괴테의 파우스트를 읽고 무엇을 쓰고자 했는가?\n",
            "    - context: 1839년 바그너는 괴테의 파우스트을 처음 읽고 그 내용에 마음이 끌려 이를 소재로 해서 하나의 교향곡을 쓰려는 뜻을 갖는다. 이 시기 바그너는 1838년에 빛 독촉으로 산전수전을 다 걲은 상황이라 좌절과 실망에 가득했으며 메피스토펠레스를 만나는 파우스트의 심경에 공감했다고 한다. 또한 파리에서 아브네크의 지휘로 파리 음악원 관현악단이 연주하는 베토벤의 교향곡 9번을 듣고 깊은 감명을 받았는데, 이것이 이듬해 1월에 파우스트의 서곡으로 쓰여진 이 작품에 조금이라도 영향을 끼쳤으리라는 것은 의심할 여지가 없다. 여기의 라단조 조성의 경우에도 그의 전기에 적혀 있는 것처럼 단순한 정신적 피로나 실의가 반영된 것이 아니라 베토벤의 합창교향곡 조성의 영향을 받은 것을 볼 수 있다. 그렇게 교향곡 작곡을 1839년부터 40년에 걸쳐 파리에서 착수했으나 1악장을 쓴 뒤에 중단했다. 또한 작품의 완성과 동시에 그는 이 서곡(1악장)을 파리 음악원의 연주회에서 연주할 파트보까지 준비하였으나, 실제로는 이루어지지는 않았다. 결국 초연은 4년 반이 지난 후에 드레스덴에서 연주되었고 재연도 이루어졌지만, 이후에 그대로 방치되고 말았다. 그 사이에 그는 리엔치와 방황하는 네덜란드인을 완성하고 탄호이저에도 착수하는 등 분주한 시간을 보냈는데, 그런 바쁜 생활이 이 곡을 잊게 한 것이 아닌가 하는 의견도 있다.\n",
            "  - title: 파우스트_서곡\n"
          ]
        }
      ],
      "source": [
        "data_dir =  '/content/drive/MyDrive/data/'\n",
        "model_dir ='/content/drive/MyDrive/models/'\n",
        "\n",
        "\n",
        "# 훈련데이터 확인\n",
        "train_json_path = data_dir + 'KorQuAD_v1.0_train.json'\n",
        "with open(train_json_path) as f:\n",
        "    train_json = json.load(f)\n",
        "    print_json_tree(train_json)"
      ],
      "id": "b20072b6"
    },
    {
      "cell_type": "code",
      "execution_count": 7,
      "metadata": {
        "colab": {
          "base_uri": "https://localhost:8080/"
        },
        "id": "72d27536",
        "outputId": "ff6eca37-b399-455d-af39-8c76405b65e5"
      },
      "outputs": [
        {
          "output_type": "stream",
          "name": "stdout",
          "text": [
            "- version: KorQuAD_v1.0_dev\n",
            "- data: [140]\n",
            "  - paragraphs: [2]\n",
            "    - qas: [7]\n",
            "      - answers: [1]\n",
            "        - text: 1989년 2월 15일\n",
            "        - answer_start: 0\n",
            "      - id: 6548850-0-0\n",
            "      - question: 임종석이 여의도 농민 폭력 시위를 주도한 혐의로 지명수배 된 날은?\n",
            "    - context: 1989년 2월 15일 여의도 농민 폭력 시위를 주도한 혐의(폭력행위등처벌에관한법률위반)으로 지명수배되었다. 1989년 3월 12일 서울지방검찰청 공안부는 임종석의 사전구속영장을 발부받았다. 같은 해 6월 30일 평양축전에 임수경을 대표로 파견하여 국가보안법위반 혐의가 추가되었다. 경찰은 12월 18일~20일 사이 서울 경희대학교에서 임종석이 성명 발표를 추진하고 있다는 첩보를 입수했고, 12월 18일 오전 7시 40분 경 가스총과 전자봉으로 무장한 특공조 및 대공과 직원 12명 등 22명의 사복 경찰을 승용차 8대에 나누어 경희대학교에 투입했다. 1989년 12월 18일 오전 8시 15분 경 서울청량리경찰서는 호위 학생 5명과 함께 경희대학교 학생회관 건물 계단을 내려오는 임종석을 발견, 검거해 구속을 집행했다. 임종석은 청량리경찰서에서 약 1시간 동안 조사를 받은 뒤 오전 9시 50분 경 서울 장안동의 서울지방경찰청 공안분실로 인계되었다.\n",
            "  - title: 임종석\n"
          ]
        }
      ],
      "source": [
        "# 검증데이터 확인\n",
        "dev_json_path = data_dir + '/KorQuAD_v1.0_dev.json'\n",
        "with open(dev_json_path) as f:\n",
        "    dev_json = json.load(f)\n",
        "    print_json_tree(dev_json)"
      ],
      "id": "72d27536"
    },
    {
      "cell_type": "markdown",
      "metadata": {
        "id": "35bae5af"
      },
      "source": [
        "* **실제 데이터의 형태**\n"
      ],
      "id": "35bae5af"
    },
    {
      "cell_type": "code",
      "execution_count": 8,
      "metadata": {
        "colab": {
          "base_uri": "https://localhost:8080/"
        },
        "id": "a376dd81",
        "outputId": "64d602fd-c181-4e14-9994-7ab6d0a939e1",
        "scrolled": false
      },
      "outputs": [
        {
          "output_type": "stream",
          "name": "stdout",
          "text": [
            "{\n",
            "  \"paragraphs\": [\n",
            "    {\n",
            "      \"qas\": [\n",
            "        {\n",
            "          \"answers\": [\n",
            "            {\n",
            "              \"text\": \"교향곡\",\n",
            "              \"answer_start\": 54\n",
            "            }\n",
            "          ],\n",
            "          \"id\": \"6566495-0-0\",\n",
            "          \"question\": \"바그너는 괴테의 파우스트를 읽고 무엇을 쓰고자 했는가?\"\n",
            "        },\n",
            "        {\n",
            "          \"answers\": [\n",
            "            {\n",
            "              \"text\": \"1악장\",\n",
            "              \"answer_start\": 421\n",
            "            }\n",
            "          ],\n",
            "          \"id\": \"6566495-0-1\",\n",
            "          \"question\": \"바그너는 교향곡 작곡을 어디까지 쓴 뒤에 중단했는가?\"\n",
            "        },\n",
            "        {\n",
            "          \"answers\": [\n",
            "            {\n",
            "              \"text\": \"베토벤의 교향곡 9번\",\n",
            "              \"answer_start\": 194\n",
            "            }\n",
            "          ],\n",
            "          \"id\": \"6566495-0-2\",\n",
            "          \"question\": \"바그너가 파우스트 서곡을 쓸 때 어떤 곡의 영향을 받았는가?\"\n",
            "        },\n",
            "        {\n",
            "          \"answers\": [\n",
            "            {\n",
            "              \"text\": \"파우스트\",\n",
            "              \"answer_start\": 15\n",
            "            }\n",
            "          ],\n",
            "          \"id\": \"6566518-0-0\",\n",
            "          \"question\": \"1839년 바그너가 교향곡의 소재로 쓰려고 했던 책은?\"\n",
            "        },\n",
            "        {\n",
            "          \"answers\": [\n",
            "            {\n",
            "              \"text\": \"합창교향곡\",\n",
            "              \"answer_start\": 354\n",
            "            }\n",
            "          ],\n",
            "          \"id\": \"6566518-0-1\",\n",
            "          \"question\": \"파우스트 서곡의 라단조 조성이 영향을 받은 베토벤의 곡은?\"\n",
            "        },\n",
            "        {\n",
            "          \"answers\": [\n",
            "            {\n",
            "              \"text\": \"1839\",\n",
            "              \"answer_start\": 0\n",
            "            }\n",
            "          ],\n",
            "          \"id\": \"5917067-0-0\",\n",
            "          \"question\": \"바그너가 파우스트를 처음으로 읽은 년도는?\"\n",
            "        },\n",
            "        {\n",
            "          \"answers\": [\n",
            "            {\n",
            "              \"text\": \"파리\",\n",
            "              \"answer_start\": 410\n",
            "            }\n",
            "          ],\n",
            "          \"id\": \"5917067-0-1\",\n",
            "          \"question\": \"바그너가 처음 교향곡 작곡을 한 장소는?\"\n",
            "        },\n",
            "        {\n",
            "          \"answers\": [\n",
            "            {\n",
            "              \"text\": \"드레스덴\",\n",
            "              \"answer_start\": 534\n",
            "            }\n",
            "          ],\n",
            "          \"id\": \"5917067-0-2\",\n",
            "          \"question\": \"바그너의 1악장의 초연은 어디서 연주되었는가?\"\n",
            "        }\n",
            "      ],\n",
            "      \"context\": \"1839년 바그너는 괴테의 파우스트을 처음 읽고 그 내용에 마음이 끌려 이를 소재로 해서 하나의 교향곡을 쓰려는 뜻을 갖는다. 이 시기 바그너는 1838년에 빛 독촉으로 산전수전을 다 걲은 상황이라 좌절과 실망에 가득했으며 메피스토펠레스를 만나는 파우스트의 심경에 공감했다고 한다. 또한 파리에서 아브네크의 지휘로 파리 음악원 관현악단이 연주하는 베토벤의 교향곡 9번을 듣고 깊은 감명을 받았는데, 이것이 이듬해 1월에 파우스트의 서곡으로 쓰여진 이 작품에 조금이라도 영향을 끼쳤으리라는 것은 의심할 여지가 없다. 여기의 라단조 조성의 경우에도 그의 전기에 적혀 있는 것처럼 단순한 정신적 피로나 실의가 반영된 것이 아니라 베토벤의 합창교향곡 조성의 영향을 받은 것을 볼 수 있다. 그렇게 교향곡 작곡을 1839년부터 40년에 걸쳐 파리에서 착수했으나 1악장을 쓴 뒤에 중단했다. 또한 작품의 완성과 동시에 그는 이 서곡(1악장)을 파리 음악원의 연주회에서 연주할 파트보까지 준비하였으나, 실제로는 이루어지지는 않았다. 결국 초연은 4년 반이 지난 후에 드레스덴에서 연주되었고 재연도 이루어졌지만, 이후에 그대로 방치되고 말았다. 그 사이에 그는 리엔치와 방황하는 네덜란드인을 완성하고 탄호이저에도 착수하는 등 분주한 시간을 보냈는데, 그런 바쁜 생활이 이 곡을 잊게 한 것이 아닌가 하는 의견도 있다.\"\n",
            "    },\n",
            "    {\n",
            "      \"qas\": [\n",
            "        {\n",
            "          \"answers\": [\n",
            "            {\n",
            "              \"text\": \"한스 폰 뷜로\",\n",
            "              \"answer_start\": 402\n",
            "            }\n",
            "          ],\n",
            "          \"id\": \"6566495-1-0\",\n",
            "          \"question\": \"바그너의 작품을 시인의 피로 쓰여졌다고 극찬한 것은 누구인가?\"\n",
            "        },\n",
            "        {\n",
            "          \"answers\": [\n",
            "            {\n",
            "              \"text\": \"리스트\",\n",
            "              \"answer_start\": 23\n",
            "            }\n",
            "          ],\n",
            "          \"id\": \"6566495-1-1\",\n",
            "          \"question\": \"잊혀져 있는 파우스트 서곡 1악장을 부활시킨 것은 누구인가?\"\n",
            "        },\n",
            "        {\n",
            "          \"answers\": [\n",
            "            {\n",
            "              \"text\": \"20루이의 금\",\n",
            "              \"answer_start\": 345\n",
            "            }\n",
            "          ],\n",
            "          \"id\": \"6566495-1-2\",\n",
            "          \"question\": \"바그너는 다시 개정된 총보를 얼마를 받고 팔았는가?\"\n",
            "        },\n",
            "        {\n",
            "          \"answers\": [\n",
            "            {\n",
            "              \"text\": \"리스트\",\n",
            "              \"answer_start\": 23\n",
            "            }\n",
            "          ],\n",
            "          \"id\": \"6566518-1-0\",\n",
            "          \"question\": \"파우스트 교향곡을 부활시킨 사람은?\"\n",
            "        },\n",
            "        {\n",
            "          \"answers\": [\n",
            "            {\n",
            "              \"text\": \"한스 폰 뷜로\",\n",
            "              \"answer_start\": 402\n",
            "            }\n",
            "          ],\n",
            "          \"id\": \"6566518-1-1\",\n",
            "          \"question\": \"파우스트 교향곡을 피아노 독주용으로 편곡한 사람은?\"\n",
            "        },\n",
            "        {\n",
            "          \"answers\": [\n",
            "            {\n",
            "              \"text\": \"리스트\",\n",
            "              \"answer_start\": 23\n",
            "            }\n",
            "          ],\n",
            "          \"id\": \"5917067-1-0\",\n",
            "          \"question\": \"1악장을 부활시켜 연주한 사람은?\"\n",
            "        },\n",
            "        {\n",
            "          \"answers\": [\n",
            "            {\n",
            "              \"text\": \"한스 폰 뷜로\",\n",
            "              \"answer_start\": 402\n",
            "            }\n",
            "          ],\n",
            "          \"id\": \"5917067-1-1\",\n",
            "          \"question\": \"파우스트 교향곡에 감탄하여 피아노곡으로 편곡한 사람은?\"\n",
            "        },\n",
            "        {\n",
            "          \"answers\": [\n",
            "            {\n",
            "              \"text\": \"1840년\",\n",
            "              \"answer_start\": 3\n",
            "            }\n",
            "          ],\n",
            "          \"id\": \"5917067-1-2\",\n",
            "          \"question\": \"리스트가 바그너와 알게 된 연도는?\"\n",
            "        }\n",
            "      ],\n",
            "      \"context\": \"한편 1840년부터 바그너와 알고 지내던 리스트가 잊혀져 있던 1악장을 부활시켜 1852년에 바이마르에서 연주했다. 이것을 계기로 바그너도 이 작품에 다시 관심을 갖게 되었고, 그 해 9월에는 총보의 반환을 요구하여 이를 서곡으로 간추린 다음 수정을 했고 브라이트코프흐 & 헤르텔 출판사에서 출판할 개정판도 준비했다. 1853년 5월에는 리스트가 이 작품이 수정되었다는 것을 인정했지만, 끝내 바그너의 출판 계획은 무산되고 말았다. 이후 1855년에 리스트가 자신의 작품 파우스트 교향곡을 거의 완성하여 그 사실을 바그너에게 알렸고, 바그너는 다시 개정된 총보를 리스트에게 보내고 브라이트코프흐 & 헤르텔 출판사에는 20루이의 금을 받고 팔았다. 또한 그의 작품을 “하나하나의 음표가 시인의 피로 쓰여졌다”며 극찬했던 한스 폰 뷜로가 그것을 피아노 독주용으로 편곡했는데, 리스트는 그것을 약간 변형되었을 뿐이라고 지적했다. 이 서곡의 총보 첫머리에는 파우스트 1부의 내용 중 한 구절을 인용하고 있다.\"\n",
            "    },\n",
            "    {\n",
            "      \"qas\": [\n",
            "        {\n",
            "          \"answers\": [\n",
            "            {\n",
            "              \"text\": \"주제, 동기\",\n",
            "              \"answer_start\": 70\n",
            "            }\n",
            "          ],\n",
            "          \"id\": \"6566495-2-0\",\n",
            "          \"question\": \"서주에는 무엇이 암시되어 있는가?\"\n",
            "        },\n",
            "        {\n",
            "          \"answers\": [\n",
            "            {\n",
            "              \"text\": \"제1바이올린\",\n",
            "              \"answer_start\": 148\n",
            "            }\n",
            "          ],\n",
            "          \"id\": \"6566495-2-1\",\n",
            "          \"question\": \"첫부분에는 어떤 악기를 사용해 더욱 명확하게 나타내는가?\"\n",
            "        },\n",
            "        {\n",
            "          \"answers\": [\n",
            "            {\n",
            "              \"text\": \"소나타 형식\",\n",
            "              \"answer_start\": 272\n",
            "            }\n",
            "          ],\n",
            "          \"id\": \"6566495-2-2\",\n",
            "          \"question\": \"주요부는 어떤 형식으로 되어 있는가?\"\n",
            "        },\n",
            "        {\n",
            "          \"answers\": [\n",
            "            {\n",
            "              \"text\": \"저음 주제\",\n",
            "              \"answer_start\": 102\n",
            "            }\n",
            "          ],\n",
            "          \"id\": \"6566518-2-0\",\n",
            "          \"question\": \"첫 부분의 주요주제를 암시하는 주제는?\"\n",
            "        },\n",
            "        {\n",
            "          \"answers\": [\n",
            "            {\n",
            "              \"text\": \"D장조\",\n",
            "              \"answer_start\": 409\n",
            "            }\n",
            "          ],\n",
            "          \"id\": \"6566518-2-1\",\n",
            "          \"question\": \"제2주제의 축소된 재현부의 조성은?\"\n",
            "        },\n",
            "        {\n",
            "          \"answers\": [\n",
            "            {\n",
            "              \"text\": \"4/4박자\",\n",
            "              \"answer_start\": 35\n",
            "            }\n",
            "          ],\n",
            "          \"id\": \"5917067-2-0\",\n",
            "          \"question\": \"곡이 시작할때의 박자는?\"\n",
            "        },\n",
            "        {\n",
            "          \"answers\": [\n",
            "            {\n",
            "              \"text\": \"고뇌와 갈망 동기, 청춘의 사랑 동기\",\n",
            "              \"answer_start\": 115\n",
            "            }\n",
            "          ],\n",
            "          \"id\": \"5917067-2-1\",\n",
            "          \"question\": \"이 곡의 주요 주제는?\"\n",
            "        },\n",
            "        {\n",
            "          \"answers\": [\n",
            "            {\n",
            "              \"text\": \"D장조\",\n",
            "              \"answer_start\": 409\n",
            "            }\n",
            "          ],\n",
            "          \"id\": \"5917067-2-2\",\n",
            "          \"question\": \"제 2주제에선 무슨 장조로 재현되는가?\"\n",
            "        }\n",
            "      ],\n",
            "      \"context\": \"이 작품은 라단조, Sehr gehalten(아주 신중하게), 4/4박자의 부드러운 서주로 서주로 시작되는데, 여기에는 주요 주제, 동기의 대부분이 암시, 예고되어 있다. 첫 부분의 저음 주제는 주요 주제(고뇌와 갈망 동기, 청춘의 사랑 동기)를 암시하고 있으며, 제1바이올린으로 더욱 명확하게 나타난다. 또한 그것을 이어받는 동기도 중요한 역할을 한다. 여기에 새로운 소재가 더해진 뒤에 새로운 주제도 연주된다. 주요부는 Sehr bewegt(아주 격동적으로), 2/2박자의 자유로운 소나타 형식으로 매우 드라마틱한 구상과 유기적인 구성을 하고 있다. 여기에는 지금까지의 주제나 소재 외에도 오보에에 의한 선율과 제2주제를 떠올리게 하는 부차적인 주제가 더해지는데, 중간부에서는 약보3이 중심이 되고 제2주제는 축소된 재현부에서 D장조로 재현된다. 마지막에는 주요 주제를 회상하면서 조용히 마친다.\"\n",
            "    }\n",
            "  ],\n",
            "  \"title\": \"파우스트_서곡\"\n",
            "}\n"
          ]
        }
      ],
      "source": [
        "print(json.dumps(train_json[\"data\"][0], indent=2, ensure_ascii=False))"
      ],
      "id": "a376dd81"
    },
    {
      "cell_type": "markdown",
      "metadata": {
        "id": "bec15e34"
      },
      "source": [
        "# KorQuAD 데이터셋 전처리 (1) 띄어쓰기 단위 정보관리"
      ],
      "id": "bec15e34"
    },
    {
      "cell_type": "code",
      "execution_count": 9,
      "metadata": {
        "id": "81ba7dd4"
      },
      "outputs": [],
      "source": [
        "def _is_whitespace(c):\n",
        "    if c == \" \" or c == \"\\t\" or c == \"\\r\" or c == \"\\n\" or ord(c) == 0x202F:\n",
        "        return True\n",
        "    return False"
      ],
      "id": "81ba7dd4"
    },
    {
      "cell_type": "code",
      "execution_count": 10,
      "metadata": {
        "colab": {
          "base_uri": "https://localhost:8080/"
        },
        "id": "b4e95290",
        "outputId": "1718edcd-9331-478f-f007-3a337eb589f8"
      },
      "outputs": [
        {
          "output_type": "execute_result",
          "data": {
            "text/plain": [
              "('파우스트', '파우스트')"
            ]
          },
          "metadata": {},
          "execution_count": 10
        }
      ],
      "source": [
        "# whitespace가 2개인 경우를 처리해야 함\n",
        "\n",
        "string1 = '1839년 파우스트를 읽었다.'\n",
        "string2 = '1839년  파우스트를 읽었다.'\n",
        "string1[6:10], string2[7:11]"
      ],
      "id": "b4e95290"
    },
    {
      "cell_type": "markdown",
      "metadata": {
        "id": "4f5fc814"
      },
      "source": [
        "* 위와 같이 whitespace가 2개인 경우 다르게 처리해야함"
      ],
      "id": "4f5fc814"
    },
    {
      "cell_type": "code",
      "execution_count": 11,
      "metadata": {
        "colab": {
          "base_uri": "https://localhost:8080/"
        },
        "id": "71eca6f7",
        "outputId": "85da3310-1b62-495b-d3bb-c2d51f759851"
      },
      "outputs": [
        {
          "output_type": "stream",
          "name": "stdout",
          "text": [
            "'1' : ['1'] : [0]\n",
            "'8' : ['18'] : [0, 0]\n",
            "'3' : ['183'] : [0, 0, 0]\n",
            "'9' : ['1839'] : [0, 0, 0, 0]\n",
            "'년' : ['1839년'] : [0, 0, 0, 0, 0]\n",
            "' ' : ['1839년'] : [0, 0, 0, 0, 0, 0]\n",
            "'파' : ['1839년', '파'] : [0, 0, 0, 0, 0, 0, 1]\n",
            "'우' : ['1839년', '파우'] : [0, 0, 0, 0, 0, 0, 1, 1]\n",
            "'스' : ['1839년', '파우스'] : [0, 0, 0, 0, 0, 0, 1, 1, 1]\n",
            "'트' : ['1839년', '파우스트'] : [0, 0, 0, 0, 0, 0, 1, 1, 1, 1]\n",
            "'를' : ['1839년', '파우스트를'] : [0, 0, 0, 0, 0, 0, 1, 1, 1, 1, 1]\n",
            "' ' : ['1839년', '파우스트를'] : [0, 0, 0, 0, 0, 0, 1, 1, 1, 1, 1, 1]\n",
            "'읽' : ['1839년', '파우스트를', '읽'] : [0, 0, 0, 0, 0, 0, 1, 1, 1, 1, 1, 1, 2]\n",
            "'었' : ['1839년', '파우스트를', '읽었'] : [0, 0, 0, 0, 0, 0, 1, 1, 1, 1, 1, 1, 2, 2]\n",
            "'다' : ['1839년', '파우스트를', '읽었다'] : [0, 0, 0, 0, 0, 0, 1, 1, 1, 1, 1, 1, 2, 2, 2]\n",
            "'.' : ['1839년', '파우스트를', '읽었다.'] : [0, 0, 0, 0, 0, 0, 1, 1, 1, 1, 1, 1, 2, 2, 2, 2]\n"
          ]
        }
      ],
      "source": [
        "word_tokens = []\n",
        "char_to_word = []\n",
        "prev_is_whitespace = True\n",
        "\n",
        "# 첫번째 문장(string1)에 대해 띄어쓰기 영역 정보를 표시\n",
        "for c in string1:\n",
        "    if _is_whitespace(c):\n",
        "        prev_is_whitespace = True\n",
        "    else:\n",
        "        if prev_is_whitespace:\n",
        "            word_tokens.append(c)\n",
        "        else:\n",
        "            word_tokens[-1] += c\n",
        "        prev_is_whitespace = False    \n",
        "    char_to_word.append(len(word_tokens) - 1)\n",
        "    print(f'\\'{c}\\' : {word_tokens} : {char_to_word}')"
      ],
      "id": "71eca6f7"
    },
    {
      "cell_type": "code",
      "execution_count": 12,
      "metadata": {
        "colab": {
          "base_uri": "https://localhost:8080/"
        },
        "id": "d91652e4",
        "outputId": "671096b1-06c7-4061-be55-a9748cf3df6d"
      },
      "outputs": [
        {
          "output_type": "stream",
          "name": "stdout",
          "text": [
            "'1' : ['1'] : [0]\n",
            "'8' : ['18'] : [0, 0]\n",
            "'3' : ['183'] : [0, 0, 0]\n",
            "'9' : ['1839'] : [0, 0, 0, 0]\n",
            "'년' : ['1839년'] : [0, 0, 0, 0, 0]\n",
            "' ' : ['1839년'] : [0, 0, 0, 0, 0, 0]\n",
            "' ' : ['1839년'] : [0, 0, 0, 0, 0, 0, 0]\n",
            "'파' : ['1839년', '파'] : [0, 0, 0, 0, 0, 0, 0, 1]\n",
            "'우' : ['1839년', '파우'] : [0, 0, 0, 0, 0, 0, 0, 1, 1]\n",
            "'스' : ['1839년', '파우스'] : [0, 0, 0, 0, 0, 0, 0, 1, 1, 1]\n",
            "'트' : ['1839년', '파우스트'] : [0, 0, 0, 0, 0, 0, 0, 1, 1, 1, 1]\n",
            "'를' : ['1839년', '파우스트를'] : [0, 0, 0, 0, 0, 0, 0, 1, 1, 1, 1, 1]\n",
            "' ' : ['1839년', '파우스트를'] : [0, 0, 0, 0, 0, 0, 0, 1, 1, 1, 1, 1, 1]\n",
            "'읽' : ['1839년', '파우스트를', '읽'] : [0, 0, 0, 0, 0, 0, 0, 1, 1, 1, 1, 1, 1, 2]\n",
            "'었' : ['1839년', '파우스트를', '읽었'] : [0, 0, 0, 0, 0, 0, 0, 1, 1, 1, 1, 1, 1, 2, 2]\n",
            "'다' : ['1839년', '파우스트를', '읽었다'] : [0, 0, 0, 0, 0, 0, 0, 1, 1, 1, 1, 1, 1, 2, 2, 2]\n",
            "'.' : ['1839년', '파우스트를', '읽었다.'] : [0, 0, 0, 0, 0, 0, 0, 1, 1, 1, 1, 1, 1, 2, 2, 2, 2]\n"
          ]
        }
      ],
      "source": [
        "word_tokens = []\n",
        "char_to_word = []\n",
        "prev_is_whitespace = True\n",
        "\n",
        "# 두번째 문장(string2)에 대해 띄어쓰기 영역 정보를 표시\n",
        "for c in string2:\n",
        "    if _is_whitespace(c):\n",
        "        prev_is_whitespace = True\n",
        "    else:\n",
        "        if prev_is_whitespace:\n",
        "            word_tokens.append(c)\n",
        "        else:\n",
        "            word_tokens[-1] += c\n",
        "        prev_is_whitespace = False    \n",
        "    char_to_word.append(len(word_tokens) - 1)\n",
        "    print(f'\\'{c}\\' : {word_tokens} : {char_to_word}')"
      ],
      "id": "d91652e4"
    },
    {
      "cell_type": "markdown",
      "metadata": {
        "id": "35b5ab16"
      },
      "source": [
        "* 위 기능을 함수로 만들기."
      ],
      "id": "35b5ab16"
    },
    {
      "cell_type": "code",
      "execution_count": 13,
      "metadata": {
        "id": "8530e51f"
      },
      "outputs": [],
      "source": [
        "def _tokenize_whitespace(string):\n",
        "    word_tokens = []\n",
        "    char_to_word = []\n",
        "    prev_is_whitespace = True\n",
        "\n",
        "    for c in string:\n",
        "        if _is_whitespace(c):\n",
        "            prev_is_whitespace = True\n",
        "        else:\n",
        "            if prev_is_whitespace:\n",
        "                word_tokens.append(c)\n",
        "            else:\n",
        "                word_tokens[-1] += c\n",
        "            prev_is_whitespace = False    \n",
        "        char_to_word.append(len(word_tokens) - 1)\n",
        "    \n",
        "    return word_tokens, char_to_word"
      ],
      "id": "8530e51f"
    },
    {
      "cell_type": "markdown",
      "metadata": {
        "id": "f11fe7f4"
      },
      "source": [
        "* 함수 결과 확인하기"
      ],
      "id": "f11fe7f4"
    },
    {
      "cell_type": "code",
      "execution_count": 14,
      "metadata": {
        "colab": {
          "base_uri": "https://localhost:8080/"
        },
        "id": "d8440181",
        "outputId": "8ab4f949-9b1f-4bae-ab8c-1feff149d32f"
      },
      "outputs": [
        {
          "output_type": "stream",
          "name": "stdout",
          "text": [
            "'1' : 0\n",
            "'8' : 0\n",
            "'3' : 0\n",
            "'9' : 0\n",
            "'년' : 0\n",
            "' ' : 0\n",
            "'파' : 1\n",
            "'우' : 1\n",
            "'스' : 1\n",
            "'트' : 1\n",
            "'를' : 1\n",
            "' ' : 1\n",
            "'읽' : 2\n",
            "'었' : 2\n",
            "'다' : 2\n",
            "'.' : 2\n"
          ]
        },
        {
          "output_type": "execute_result",
          "data": {
            "text/plain": [
              "(['1839년', '파우스트를', '읽었다.'], [0, 0, 0, 0, 0, 0, 1, 1, 1, 1, 1, 1, 2, 2, 2, 2])"
            ]
          },
          "metadata": {},
          "execution_count": 14
        }
      ],
      "source": [
        "# 첫번째 문장(string1)에 대해 띄어쓰기 영역 정보를 표시\n",
        "word_tokens, char_to_word = _tokenize_whitespace(string1)\n",
        "for c, i in zip(list(string1), char_to_word):\n",
        "    print(f'\\'{c}\\' : {i}')\n",
        "\n",
        "word_tokens, char_to_word"
      ],
      "id": "d8440181"
    },
    {
      "cell_type": "code",
      "execution_count": 15,
      "metadata": {
        "colab": {
          "base_uri": "https://localhost:8080/"
        },
        "id": "6ce6d6e1",
        "outputId": "378b42d7-a149-438e-a83f-dfd7f872e799"
      },
      "outputs": [
        {
          "output_type": "stream",
          "name": "stdout",
          "text": [
            "'1' : 0\n",
            "'8' : 0\n",
            "'3' : 0\n",
            "'9' : 0\n",
            "'년' : 0\n",
            "' ' : 0\n",
            "' ' : 0\n",
            "'파' : 1\n",
            "'우' : 1\n",
            "'스' : 1\n",
            "'트' : 1\n",
            "'를' : 1\n",
            "' ' : 1\n",
            "'읽' : 2\n",
            "'었' : 2\n",
            "'다' : 2\n",
            "'.' : 2\n"
          ]
        },
        {
          "output_type": "execute_result",
          "data": {
            "text/plain": [
              "(['1839년', '파우스트를', '읽었다.'],\n",
              " [0, 0, 0, 0, 0, 0, 0, 1, 1, 1, 1, 1, 1, 2, 2, 2, 2])"
            ]
          },
          "metadata": {},
          "execution_count": 15
        }
      ],
      "source": [
        "# 두번째 문장(string2)에 대해 띄어쓰기 영역 정보를 표시\n",
        "word_tokens, char_to_word = _tokenize_whitespace(string2)\n",
        "for c, i in zip(list(string2), char_to_word):\n",
        "    print(f'\\'{c}\\' : {i}')\n",
        "\n",
        "word_tokens, char_to_word"
      ],
      "id": "6ce6d6e1"
    },
    {
      "cell_type": "markdown",
      "metadata": {
        "id": "6a107e56"
      },
      "source": [
        "# KorQuAD 데이터셋 전처리 (2) Tokenize by Vocab\n",
        "***\n",
        "* Subword Segmentation 방식\n",
        "* 한국어 koNLPy의 형태소분석기를 사용\n"
      ],
      "id": "6a107e56"
    },
    {
      "cell_type": "code",
      "execution_count": 16,
      "metadata": {
        "colab": {
          "base_uri": "https://localhost:8080/"
        },
        "id": "96b7dd7c",
        "outputId": "727900a2-1efa-4f54-afb5-8d089a804746"
      },
      "outputs": [
        {
          "output_type": "execute_result",
          "data": {
            "text/plain": [
              "(['▁1839', '년', '▁', '파우스트', '를', '▁읽', '었다', '.'], [0, 2, 5])"
            ]
          },
          "metadata": {},
          "execution_count": 16
        }
      ],
      "source": [
        "# vocab loading\n",
        "vocab = spm.SentencePieceProcessor()\n",
        "vocab.load(f\"{model_dir}/ko_32000.model\")\n",
        "\n",
        "# word를 subword로 변경하면서 index 저장\n",
        "word_to_token = []\n",
        "context_tokens = []\n",
        "for (i, word) in enumerate(word_tokens):\n",
        "    word_to_token.append(len(context_tokens))\n",
        "    tokens = vocab.encode_as_pieces(word)  # SentencePiece를 사용해 Subword로 쪼갭니다.\n",
        "    for token in tokens:\n",
        "        context_tokens.append(token)\n",
        "\n",
        "context_tokens, word_to_token"
      ],
      "id": "96b7dd7c"
    },
    {
      "cell_type": "markdown",
      "metadata": {
        "id": "48c7255a"
      },
      "source": [
        "* SentencePiece를 활용해 단어를 subword 분절로 처리\n",
        "* 함수로 만들기"
      ],
      "id": "48c7255a"
    },
    {
      "cell_type": "code",
      "execution_count": 17,
      "metadata": {
        "id": "6cbae2e6"
      },
      "outputs": [],
      "source": [
        "def _tokenize_vocab(vocab, context_words):\n",
        "    word_to_token = []\n",
        "    context_tokens = []\n",
        "    for (i, word) in enumerate(context_words):\n",
        "        word_to_token.append(len(context_tokens))\n",
        "        tokens = vocab.encode_as_pieces(word)\n",
        "        for token in tokens:\n",
        "            context_tokens.append(token)\n",
        "    return context_tokens, word_to_token"
      ],
      "id": "6cbae2e6"
    },
    {
      "cell_type": "code",
      "execution_count": 18,
      "metadata": {
        "colab": {
          "base_uri": "https://localhost:8080/"
        },
        "id": "0a243a2f",
        "outputId": "75fa232f-55cf-4cf6-8035-1a09305843d7"
      },
      "outputs": [
        {
          "output_type": "stream",
          "name": "stdout",
          "text": [
            "['1839년', '파우스트를', '읽었다.']\n"
          ]
        }
      ],
      "source": [
        "print(word_tokens)    # 처리해야 할 word 단위 입력"
      ],
      "id": "0a243a2f"
    },
    {
      "cell_type": "code",
      "execution_count": 19,
      "metadata": {
        "colab": {
          "base_uri": "https://localhost:8080/"
        },
        "id": "23bac753",
        "outputId": "89a18c38-0130-4706-e199-099d4cdd613b"
      },
      "outputs": [
        {
          "output_type": "stream",
          "name": "stdout",
          "text": [
            "['1839년', '파우스트를', '읽었다.']\n"
          ]
        },
        {
          "output_type": "execute_result",
          "data": {
            "text/plain": [
              "(['▁1839', '년', '▁', '파우스트', '를', '▁읽', '었다', '.'], [0, 2, 5])"
            ]
          },
          "metadata": {},
          "execution_count": 19
        }
      ],
      "source": [
        "print(word_tokens)  # 처리해야 할 word 단위 입력\n",
        "\n",
        "context_tokens, word_to_token = _tokenize_vocab(vocab, word_tokens)\n",
        "context_tokens, word_to_token   # Subword 단위로 토큰화한 결과"
      ],
      "id": "23bac753"
    },
    {
      "cell_type": "markdown",
      "metadata": {
        "id": "e2e5f667"
      },
      "source": [
        "# KorQuAD 데이터셋 전처리 (3) Improve Span\n",
        "***\n",
        "* KorQuAd 데이터셋에는 context, question, answer가 있음\n",
        "* context안에서 질문, 정답을 찾는 데이터 셋\n",
        "* 전처리 과정에서 정답에 해당하는 context를 잘 찾아내야 함\n"
      ],
      "id": "e2e5f667"
    },
    {
      "cell_type": "code",
      "execution_count": 20,
      "metadata": {
        "colab": {
          "base_uri": "https://localhost:8080/"
        },
        "id": "96754ed0",
        "outputId": "a0bda56e-93ac-42f6-9d89-68e6c304f9f6"
      },
      "outputs": [
        {
          "output_type": "stream",
          "name": "stdout",
          "text": [
            "[context]  1839년 바그너는 괴테의 파우스트을 처음 읽고 그 내용에 마음이 끌려 이를 소재로 해서 하나의 교향곡을 쓰려는 뜻을 갖는다. 이 시기 바그너는 1838년에 빛 독촉으로 산전수전을 다 걲은 상황이라 좌절과 실망에 가득했으며 메피스토펠레스를 만나는 파우스트의 심경에 공감했다고 한다. 또한 파리에서 아브네크의 지휘로 파리 음악원 관현악단이 연주하는 베토벤의 교향곡 9번을 듣고 깊은 감명을 받았는데, 이것이 이듬해 1월에 파우스트의 서곡으로 쓰여진 이 작품에 조금이라도 영향을 끼쳤으리라는 것은 의심할 여지가 없다. 여기의 라단조 조성의 경우에도 그의 전기에 적혀 있는 것처럼 단순한 정신적 피로나 실의가 반영된 것이 아니라 베토벤의 합창교향곡 조성의 영향을 받은 것을 볼 수 있다. 그렇게 교향곡 작곡을 1839년부터 40년에 걸쳐 파리에서 착수했으나 1악장을 쓴 뒤에 중단했다. 또한 작품의 완성과 동시에 그는 이 서곡(1악장)을 파리 음악원의 연주회에서 연주할 파트보까지 준비하였으나, 실제로는 이루어지지는 않았다. 결국 초연은 4년 반이 지난 후에 드레스덴에서 연주되었고 재연도 이루어졌지만, 이후에 그대로 방치되고 말았다. 그 사이에 그는 리엔치와 방황하는 네덜란드인을 완성하고 탄호이저에도 착수하는 등 분주한 시간을 보냈는데, 그런 바쁜 생활이 이 곡을 잊게 한 것이 아닌가 하는 의견도 있다.\n",
            "[question]  바그너는 괴테의 파우스트를 읽고 무엇을 쓰고자 했는가?\n",
            "[answer]  교향곡\n",
            "[answer_start] index:  54 character:  교\n",
            "[answer_end]index:  56 character:  곡\n"
          ]
        }
      ],
      "source": [
        "context = train_json['data'][0]['paragraphs'][0]['context']\n",
        "question = train_json['data'][0]['paragraphs'][0]['qas'][0]['question']\n",
        "answer_text = train_json['data'][0]['paragraphs'][0]['qas'][0]['answers'][0]['text']\n",
        "answer_start = train_json['data'][0]['paragraphs'][0]['qas'][0]['answers'][0]['answer_start']\n",
        "answer_end = answer_start + len(answer_text) - 1\n",
        "\n",
        "print('[context] ', context)\n",
        "print('[question] ', question)\n",
        "print('[answer] ', answer_text)\n",
        "print('[answer_start] index: ', answer_start, 'character: ', context[answer_start])\n",
        "print('[answer_end]index: ', answer_end, 'character: ', context[answer_end])\n",
        "\n",
        "# answer_text에 해당하는 context 영역을 정확히 찾아내야 합니다. \n",
        "assert context[answer_start:answer_end + 1] == answer_text"
      ],
      "id": "96754ed0"
    },
    {
      "cell_type": "code",
      "execution_count": 21,
      "metadata": {
        "colab": {
          "base_uri": "https://localhost:8080/"
        },
        "id": "cf453f89",
        "outputId": "ce90e83b-f460-4a42-8d5d-59100de78647"
      },
      "outputs": [
        {
          "output_type": "stream",
          "name": "stdout",
          "text": [
            "['1839년', '바그너는', '괴테의', '파우스트을', '처음', '읽고', '그', '내용에', '마음이', '끌려', '이를', '소재로', '해서', '하나의', '교향곡을', '쓰려는', '뜻을', '갖는다.', '이', '시기']\n"
          ]
        },
        {
          "output_type": "execute_result",
          "data": {
            "text/plain": [
              "([0, 0, 0, 0, 0, 0, 1, 1, 1, 1, 1, 2, 2, 2, 2, 3, 3, 3, 3, 3],\n",
              " '1839년 바그너는 괴테의 파우스트을')"
            ]
          },
          "metadata": {},
          "execution_count": 21
        }
      ],
      "source": [
        "# context를 띄어쓰기(word) 단위로 토큰화한 결과를 살펴봅니다. \n",
        "word_tokens, char_to_word = _tokenize_whitespace(context)\n",
        "\n",
        "print( word_tokens[:20])\n",
        "\n",
        "char_to_word[:20], context[:20]"
      ],
      "id": "cf453f89"
    },
    {
      "cell_type": "code",
      "execution_count": 22,
      "metadata": {
        "colab": {
          "base_uri": "https://localhost:8080/"
        },
        "id": "0570e2f1",
        "outputId": "fc6a0d8d-1655-4d86-b68e-6783c5ced5fd"
      },
      "outputs": [
        {
          "output_type": "stream",
          "name": "stdout",
          "text": [
            "0 ['▁1839', '년']\n",
            "2 ['▁바그너', '는']\n",
            "4 ['▁괴테', '의']\n",
            "6 ['▁', '파우스트', '을']\n",
            "9 ['▁처음']\n",
            "10 ['▁읽고']\n",
            "11 ['▁그']\n",
            "12 ['▁내용에']\n",
            "13 ['▁마음이']\n",
            "14 ['▁끌려']\n",
            "15 ['▁이를']\n",
            "16 ['▁소재로']\n",
            "17 ['▁해서']\n",
            "18 ['▁하나의']\n",
            "19 ['▁교향곡', '을']\n",
            "21 ['▁쓰', '려는']\n",
            "23 ['▁뜻을']\n",
            "24 ['▁갖는다', '.']\n",
            "26 ['▁이']\n",
            "27 ['▁시기']\n"
          ]
        }
      ],
      "source": [
        "# 띄어쓰기(word) 단위로 쪼개진 context(word_tokens)를 Subword로 토큰화한 결과를 살펴봅니다. \n",
        "context_tokens, word_to_token = _tokenize_vocab(vocab, word_tokens)\n",
        "for i in range(min(20, len(word_to_token) - 1)):\n",
        "    print(word_to_token[i], context_tokens[word_to_token[i]:word_to_token[i + 1]])"
      ],
      "id": "0570e2f1"
    },
    {
      "cell_type": "code",
      "execution_count": 23,
      "metadata": {
        "colab": {
          "base_uri": "https://localhost:8080/"
        },
        "id": "9ad595c2",
        "outputId": "a6c5f7ae-1e90-43d5-9167-eb8c469f0fc3"
      },
      "outputs": [
        {
          "output_type": "execute_result",
          "data": {
            "text/plain": [
              "(14, 14, '교향곡', ['교향곡을'])"
            ]
          },
          "metadata": {},
          "execution_count": 23
        }
      ],
      "source": [
        "# answer_start와 answer_end로부터 word_start와 word_end를 구합니다. \n",
        "word_start = char_to_word[answer_start]\n",
        "word_end = char_to_word[answer_end]\n",
        "word_start, word_end, answer_text, word_tokens[word_start:word_end + 1]"
      ],
      "id": "9ad595c2"
    },
    {
      "cell_type": "code",
      "execution_count": 24,
      "metadata": {
        "colab": {
          "base_uri": "https://localhost:8080/"
        },
        "id": "6d21db77",
        "outputId": "6a5113c2-2ec3-4cb9-acfc-0302c6f8a077"
      },
      "outputs": [
        {
          "output_type": "execute_result",
          "data": {
            "text/plain": [
              "(19, 20, ['▁교향곡', '을'])"
            ]
          },
          "metadata": {},
          "execution_count": 24
        }
      ],
      "source": [
        "token_start = word_to_token[word_start]\n",
        "if word_end < len(word_to_token) - 1:\n",
        "    token_end = word_to_token[word_end + 1] - 1\n",
        "else:\n",
        "    token_end = len(context_tokens) - 1\n",
        "token_start, token_end, context_tokens[token_start:token_end + 1]"
      ],
      "id": "6d21db77"
    },
    {
      "cell_type": "code",
      "execution_count": 25,
      "metadata": {
        "colab": {
          "base_uri": "https://localhost:8080/",
          "height": 35
        },
        "id": "2c3eb577",
        "outputId": "60d8db2c-cf62-48bd-9811-cb08ce1a01aa"
      },
      "outputs": [
        {
          "output_type": "execute_result",
          "data": {
            "text/plain": [
              "'▁교향곡'"
            ],
            "application/vnd.google.colaboratory.intrinsic+json": {
              "type": "string"
            }
          },
          "metadata": {},
          "execution_count": 25
        }
      ],
      "source": [
        "# 실제 정답인 answer_text도 Subword 기준으로 토큰화해 둡니다. \n",
        "token_answer = \" \".join(vocab.encode_as_pieces(answer_text))\n",
        "token_answer"
      ],
      "id": "2c3eb577"
    },
    {
      "cell_type": "code",
      "execution_count": 26,
      "metadata": {
        "colab": {
          "base_uri": "https://localhost:8080/"
        },
        "id": "1507006d",
        "outputId": "4524d5cc-3119-4813-ebc9-d7bf9e32ffaf"
      },
      "outputs": [
        {
          "output_type": "stream",
          "name": "stdout",
          "text": [
            "X >> (19, 20) ▁교향곡 을\n",
            "O >> (19, 19) ▁교향곡\n",
            "X >> (20, 20) 을\n"
          ]
        }
      ],
      "source": [
        "# 정답이 될수 있는 new_start와 new_end의 경우를 순회탐색합니다. \n",
        "for new_start in range(token_start, token_end + 1):\n",
        "    for new_end in range(token_end, new_start - 1, -1):\n",
        "        text_span = \" \".join(context_tokens[new_start : (new_end + 1)])\n",
        "        if text_span == token_answer:   # 정답과 일치하는 경우\n",
        "            print(\"O >>\", (new_start, new_end), text_span)\n",
        "        else:\n",
        "            print(\"X >>\", (new_start, new_end), text_span)"
      ],
      "id": "1507006d"
    },
    {
      "cell_type": "markdown",
      "metadata": {
        "id": "054e8850"
      },
      "source": [
        "* 함수로 만들어 전처리과정에서 사용"
      ],
      "id": "054e8850"
    },
    {
      "cell_type": "code",
      "execution_count": 27,
      "metadata": {
        "id": "7d99fcf5"
      },
      "outputs": [],
      "source": [
        "# context_tokens에서 char_answer의 위치를 찾아 리턴하는 함수\n",
        "def _improve_span(vocab, context_tokens, token_start, token_end, char_answer):\n",
        "    token_answer = \" \".join(vocab.encode_as_pieces(char_answer))\n",
        "    for new_start in range(token_start, token_end + 1):\n",
        "        for new_end in range(token_end, new_start - 1, -1):\n",
        "            text_span = \" \".join(context_tokens[new_start : (new_end + 1)])\n",
        "            if text_span == token_answer:\n",
        "                return (new_start, new_end)\n",
        "    return (token_start, token_end)"
      ],
      "id": "7d99fcf5"
    },
    {
      "cell_type": "code",
      "execution_count": 28,
      "metadata": {
        "colab": {
          "base_uri": "https://localhost:8080/"
        },
        "id": "35145930",
        "outputId": "ecd0400c-5077-49e6-b03e-011c057c3e18"
      },
      "outputs": [
        {
          "output_type": "stream",
          "name": "stdout",
          "text": [
            "token_start: 19  token_end: 19\n"
          ]
        },
        {
          "output_type": "execute_result",
          "data": {
            "text/plain": [
              "['▁교향곡']"
            ]
          },
          "metadata": {},
          "execution_count": 28
        }
      ],
      "source": [
        "token_start, token_end = _improve_span(vocab, context_tokens, token_start, token_end, answer_text)\n",
        "print('token_start:', token_start, ' token_end:', token_end)\n",
        "context_tokens[token_start:token_end + 1]"
      ],
      "id": "35145930"
    },
    {
      "cell_type": "markdown",
      "metadata": {
        "id": "813f42f5"
      },
      "source": [
        "# KorQuAD 데이터셋 전처리 (4) 데이터셋 분리\n",
        "***\n"
      ],
      "id": "813f42f5"
    },
    {
      "cell_type": "code",
      "execution_count": 29,
      "metadata": {
        "id": "5c8f645d"
      },
      "outputs": [],
      "source": [
        "def dump_korquad(vocab, json_data, out_file):\n",
        "    with open(out_file, \"w\") as f:\n",
        "        for data in tqdm(json_data[\"data\"]):\n",
        "            title = data[\"title\"]\n",
        "            for paragraph in data[\"paragraphs\"]:\n",
        "                context = paragraph[\"context\"]\n",
        "                context_words, char_to_word = _tokenize_whitespace(context)\n",
        "\n",
        "                for qa in paragraph[\"qas\"]:\n",
        "                    assert len(qa[\"answers\"]) == 1\n",
        "                    qa_id = qa[\"id\"]\n",
        "                    question = qa[\"question\"]\n",
        "                    answer_text = qa[\"answers\"][0][\"text\"]\n",
        "                    answer_start = qa[\"answers\"][0][\"answer_start\"]\n",
        "                    answer_end = answer_start + len(answer_text) - 1\n",
        "\n",
        "                    assert answer_text == context[answer_start:answer_end + 1]\n",
        "\n",
        "                    word_start = char_to_word[answer_start]\n",
        "                    word_end = char_to_word[answer_end]\n",
        "\n",
        "                    word_answer = \" \".join(context_words[word_start:word_end + 1])\n",
        "                    char_answer = \" \".join(answer_text.strip().split())\n",
        "                    assert char_answer in word_answer\n",
        "\n",
        "                    context_tokens, word_to_token = _tokenize_vocab(vocab, context_words)\n",
        "\n",
        "                    token_start = word_to_token[word_start]\n",
        "                    if word_end < len(word_to_token) - 1:\n",
        "                        token_end = word_to_token[word_end + 1] - 1\n",
        "                    else:\n",
        "                        token_end = len(context_tokens) - 1\n",
        "\n",
        "                    token_start, token_end = _improve_span(vocab, context_tokens, token_start, token_end, char_answer)\n",
        "\n",
        "                    data = {\"qa_id\": qa_id, \"title\": title, \"question\": vocab.encode_as_pieces(question), \"context\": context_tokens, \"answer\": char_answer, \"token_start\": token_start, \"token_end\":token_end}\n",
        "                    f.write(json.dumps(data, ensure_ascii=False))\n",
        "                    f.write(\"\\n\")"
      ],
      "id": "5c8f645d"
    },
    {
      "cell_type": "code",
      "execution_count": 30,
      "metadata": {
        "colab": {
          "base_uri": "https://localhost:8080/",
          "height": 81,
          "referenced_widgets": [
            "c430d4f89b724ec68595e80a9e157ca7",
            "7a9c9e0ae2724b86aa4e4e57437cdca5",
            "d4e124c7adb241a5b89d363f72dd9ec1",
            "7479d21a5459447c80d8bfd5ba6c53d3",
            "8bba6dc40e5344039b65d65d1ac4d267",
            "f927a31542174079bbab7ae8e145f646",
            "b18dac45ff0044e6b3c6a267919174e4",
            "1008fe9cabac428fb59adc69814cdb76",
            "66196e026a2145dbba60fe221daee0b7",
            "4b7446f2850b4e6e8a31b59832ecbc92",
            "d250eb027b564e0b8e4263c179645244",
            "05503d3758504eeb97168db64b3f40af",
            "c1dcf0ae084a4277b0ecee9f9cb479d9",
            "09f09aaab4af4704815cf27ef59d13fb",
            "8cf36a2f59ea4e37be8aa3e2b396f863",
            "b61b48f562704575a46eb26a7378b673",
            "cd026c26c8d14c59ac065b41e67bf0a7",
            "466b7b5d9e7347e3abb86487767fbb9f",
            "f6a651c052924346810e628e1a9623e0",
            "b55edb9ef2c34d90bf758ee2659bc2cb",
            "e9b7cdcae3d84a54abd35048bfbe8946",
            "eb5440db95694937928834d458ded5dc"
          ]
        },
        "id": "d08760ca",
        "outputId": "8b2ef517-5ab3-434b-f861-b19b26fd761a"
      },
      "outputs": [
        {
          "output_type": "display_data",
          "data": {
            "text/plain": [
              "  0%|          | 0/1420 [00:00<?, ?it/s]"
            ],
            "application/vnd.jupyter.widget-view+json": {
              "version_major": 2,
              "version_minor": 0,
              "model_id": "c430d4f89b724ec68595e80a9e157ca7"
            }
          },
          "metadata": {}
        },
        {
          "output_type": "display_data",
          "data": {
            "text/plain": [
              "  0%|          | 0/140 [00:00<?, ?it/s]"
            ],
            "application/vnd.jupyter.widget-view+json": {
              "version_major": 2,
              "version_minor": 0,
              "model_id": "05503d3758504eeb97168db64b3f40af"
            }
          },
          "metadata": {}
        }
      ],
      "source": [
        "# 전처리를 수행하여 파일로 생성합니다. \n",
        "dump_korquad(vocab, train_json, f\"{data_dir}/korquad_train.json\")\n",
        "dump_korquad(vocab, dev_json, f\"{data_dir}/korquad_dev.json\")"
      ],
      "id": "d08760ca"
    },
    {
      "cell_type": "code",
      "execution_count": 31,
      "metadata": {
        "colab": {
          "base_uri": "https://localhost:8080/"
        },
        "id": "7ddc94cc",
        "outputId": "0cc40c89-8598-4935-f5db-5301487f378d"
      },
      "outputs": [
        {
          "output_type": "stream",
          "name": "stdout",
          "text": [
            "{\"qa_id\": \"6566495-0-0\", \"title\": \"파우스트_서곡\", \"question\": [\"▁바그너\", \"는\", \"▁괴테\", \"의\", \"▁\", \"파우스트\", \"를\", \"▁읽고\", \"▁무엇을\", \"▁쓰고\", \"자\", \"▁\", \"했\", \"는\", \"가\", \"?\"], \"context\": [\"▁1839\", \"년\", \"▁바그너\", \"는\", \"▁괴테\", \"의\", \"▁\", \"파우스트\", \"을\", \"▁처음\", \"▁읽고\", \"▁그\", \"▁내용에\", \"▁마음이\", \"▁끌려\", \"▁이를\", \"▁소재로\", \"▁해서\", \"▁하나의\", \"▁교향곡\", \"을\", \"▁쓰\", \"려는\", \"▁뜻을\", \"▁갖는다\", \".\", \"▁이\", \"▁시기\", \"▁바그너\", \"는\", \"▁1838\", \"년에\", \"▁빛\", \"▁독\", \"촉\", \"으로\", \"▁산\", \"전\", \"수\", \"전을\", \"▁다\", \"▁\", \"걲\", \"은\", \"▁상황이\", \"라\", \"▁좌절\", \"과\", \"▁실망\", \"에\", \"▁가득\", \"했으며\", \"▁메\", \"피스\", \"토\", \"펠\", \"레스\", \"를\", \"▁만나는\", \"▁\", \"파우스트\", \"의\", \"▁심\", \"경에\", \"▁공감\", \"했다고\", \"▁한다\", \".\", \"▁또한\", \"▁파리에서\", \"▁아브\", \"네\", \"크의\", \"▁지휘\", \"로\", \"▁파리\", \"▁음악원\", \"▁관현악단\", \"이\", \"▁연주하는\", \"▁베토벤\", \"의\", \"▁교향곡\", \"▁9\", \"번을\", \"▁듣고\", \"▁깊은\", \"▁감\", \"명을\", \"▁받았는데\", \",\", \"▁이것이\", \"▁이듬해\", \"▁1\", \"월에\", \"▁\", \"파우스트\", \"의\", \"▁서\", \"곡으로\", \"▁쓰여진\", \"▁이\", \"▁작품에\", \"▁조금\", \"이라도\", \"▁영향을\", \"▁끼\", \"쳤\", \"으리라\", \"는\", \"▁것은\", \"▁의심\", \"할\", \"▁여지가\", \"▁없다\", \".\", \"▁여기\", \"의\", \"▁라\", \"단\", \"조\", \"▁조성\", \"의\", \"▁경우에도\", \"▁그의\", \"▁전기\", \"에\", \"▁적혀\", \"▁있는\", \"▁것처럼\", \"▁단순한\", \"▁정신적\", \"▁피로\", \"나\", \"▁실\", \"의\", \"가\", \"▁반영\", \"된\", \"▁것이\", \"▁아니라\", \"▁베토벤\", \"의\", \"▁합창\", \"교\", \"향\", \"곡\", \"▁조성\", \"의\", \"▁영향을\", \"▁받은\", \"▁것을\", \"▁볼\", \"▁수\", \"▁있다\", \".\", \"▁그렇게\", \"▁교향곡\", \"▁작곡\", \"을\", \"▁1839\", \"년부터\", \"▁40\", \"년에\", \"▁걸쳐\", \"▁파리에서\", \"▁착수\", \"했으나\", \"▁1\", \"악장\", \"을\", \"▁쓴\", \"▁뒤에\", \"▁중단\", \"했다\", \".\", \"▁또한\", \"▁작품의\", \"▁완성\", \"과\", \"▁동시에\", \"▁그는\", \"▁이\", \"▁서\", \"곡\", \"(1\", \"악장\", \")\", \"을\", \"▁파리\", \"▁음악원\", \"의\", \"▁연주회\", \"에서\", \"▁연주\", \"할\", \"▁파트\", \"보\", \"까지\", \"▁준비\", \"하였으나\", \",\", \"▁실제로는\", \"▁이루어지지\", \"는\", \"▁않았다\", \".\", \"▁결국\", \"▁초연\", \"은\", \"▁4\", \"년\", \"▁반\", \"이\", \"▁지난\", \"▁후에\", \"▁드레스덴\", \"에서\", \"▁연주\", \"되었고\", \"▁재\", \"연\", \"도\", \"▁이루어졌\", \"지만\", \",\", \"▁이후에\", \"▁그대로\", \"▁방치\", \"되고\", \"▁말았다\", \".\", \"▁그\", \"▁사이에\", \"▁그는\", \"▁리\", \"엔\", \"치\", \"와\", \"▁방\", \"황\", \"하는\", \"▁네덜란드\", \"인\", \"을\", \"▁완성\", \"하고\", \"▁탄\", \"호\", \"이\", \"저\", \"에도\", \"▁착수\", \"하는\", \"▁등\", \"▁분\", \"주\", \"한\", \"▁시간을\", \"▁보\", \"냈는데\", \",\", \"▁그런\", \"▁바쁜\", \"▁생활\", \"이\", \"▁이\", \"▁곡을\", \"▁잊\", \"게\", \"▁한\", \"▁것이\", \"▁아닌\", \"가\", \"▁하는\", \"▁의견도\", \"▁있다\", \".\"], \"answer\": \"교향곡\", \"token_start\": 19, \"token_end\": 19}\n",
            "{\"qa_id\": \"6566495-0-1\", \"title\": \"파우스트_서곡\", \"question\": [\"▁바그너\", \"는\", \"▁교향곡\", \"▁작곡\", \"을\", \"▁어디\", \"까지\", \"▁쓴\", \"▁뒤에\", \"▁중단\", \"했\", \"는\", \"가\", \"?\"], \"context\": [\"▁1839\", \"년\", \"▁바그너\", \"는\", \"▁괴테\", \"의\", \"▁\", \"파우스트\", \"을\", \"▁처음\", \"▁읽고\", \"▁그\", \"▁내용에\", \"▁마음이\", \"▁끌려\", \"▁이를\", \"▁소재로\", \"▁해서\", \"▁하나의\", \"▁교향곡\", \"을\", \"▁쓰\", \"려는\", \"▁뜻을\", \"▁갖는다\", \".\", \"▁이\", \"▁시기\", \"▁바그너\", \"는\", \"▁1838\", \"년에\", \"▁빛\", \"▁독\", \"촉\", \"으로\", \"▁산\", \"전\", \"수\", \"전을\", \"▁다\", \"▁\", \"걲\", \"은\", \"▁상황이\", \"라\", \"▁좌절\", \"과\", \"▁실망\", \"에\", \"▁가득\", \"했으며\", \"▁메\", \"피스\", \"토\", \"펠\", \"레스\", \"를\", \"▁만나는\", \"▁\", \"파우스트\", \"의\", \"▁심\", \"경에\", \"▁공감\", \"했다고\", \"▁한다\", \".\", \"▁또한\", \"▁파리에서\", \"▁아브\", \"네\", \"크의\", \"▁지휘\", \"로\", \"▁파리\", \"▁음악원\", \"▁관현악단\", \"이\", \"▁연주하는\", \"▁베토벤\", \"의\", \"▁교향곡\", \"▁9\", \"번을\", \"▁듣고\", \"▁깊은\", \"▁감\", \"명을\", \"▁받았는데\", \",\", \"▁이것이\", \"▁이듬해\", \"▁1\", \"월에\", \"▁\", \"파우스트\", \"의\", \"▁서\", \"곡으로\", \"▁쓰여진\", \"▁이\", \"▁작품에\", \"▁조금\", \"이라도\", \"▁영향을\", \"▁끼\", \"쳤\", \"으리라\", \"는\", \"▁것은\", \"▁의심\", \"할\", \"▁여지가\", \"▁없다\", \".\", \"▁여기\", \"의\", \"▁라\", \"단\", \"조\", \"▁조성\", \"의\", \"▁경우에도\", \"▁그의\", \"▁전기\", \"에\", \"▁적혀\", \"▁있는\", \"▁것처럼\", \"▁단순한\", \"▁정신적\", \"▁피로\", \"나\", \"▁실\", \"의\", \"가\", \"▁반영\", \"된\", \"▁것이\", \"▁아니라\", \"▁베토벤\", \"의\", \"▁합창\", \"교\", \"향\", \"곡\", \"▁조성\", \"의\", \"▁영향을\", \"▁받은\", \"▁것을\", \"▁볼\", \"▁수\", \"▁있다\", \".\", \"▁그렇게\", \"▁교향곡\", \"▁작곡\", \"을\", \"▁1839\", \"년부터\", \"▁40\", \"년에\", \"▁걸쳐\", \"▁파리에서\", \"▁착수\", \"했으나\", \"▁1\", \"악장\", \"을\", \"▁쓴\", \"▁뒤에\", \"▁중단\", \"했다\", \".\", \"▁또한\", \"▁작품의\", \"▁완성\", \"과\", \"▁동시에\", \"▁그는\", \"▁이\", \"▁서\", \"곡\", \"(1\", \"악장\", \")\", \"을\", \"▁파리\", \"▁음악원\", \"의\", \"▁연주회\", \"에서\", \"▁연주\", \"할\", \"▁파트\", \"보\", \"까지\", \"▁준비\", \"하였으나\", \",\", \"▁실제로는\", \"▁이루어지지\", \"는\", \"▁않았다\", \".\", \"▁결국\", \"▁초연\", \"은\", \"▁4\", \"년\", \"▁반\", \"이\", \"▁지난\", \"▁후에\", \"▁드레스덴\", \"에서\", \"▁연주\", \"되었고\", \"▁재\", \"연\", \"도\", \"▁이루어졌\", \"지만\", \",\", \"▁이후에\", \"▁그대로\", \"▁방치\", \"되고\", \"▁말았다\", \".\", \"▁그\", \"▁사이에\", \"▁그는\", \"▁리\", \"엔\", \"치\", \"와\", \"▁방\", \"황\", \"하는\", \"▁네덜란드\", \"인\", \"을\", \"▁완성\", \"하고\", \"▁탄\", \"호\", \"이\", \"저\", \"에도\", \"▁착수\", \"하는\", \"▁등\", \"▁분\", \"주\", \"한\", \"▁시간을\", \"▁보\", \"냈는데\", \",\", \"▁그런\", \"▁바쁜\", \"▁생활\", \"이\", \"▁이\", \"▁곡을\", \"▁잊\", \"게\", \"▁한\", \"▁것이\", \"▁아닌\", \"가\", \"▁하는\", \"▁의견도\", \"▁있다\", \".\"], \"answer\": \"1악장\", \"token_start\": 168, \"token_end\": 169}\n",
            "{\"qa_id\": \"6566495-0-2\", \"title\": \"파우스트_서곡\", \"question\": [\"▁바그너\", \"가\", \"▁\", \"파우스트\", \"▁서\", \"곡을\", \"▁쓸\", \"▁때\", \"▁어떤\", \"▁곡\", \"의\", \"▁영향을\", \"▁받았\", \"는\", \"가\", \"?\"], \"context\": [\"▁1839\", \"년\", \"▁바그너\", \"는\", \"▁괴테\", \"의\", \"▁\", \"파우스트\", \"을\", \"▁처음\", \"▁읽고\", \"▁그\", \"▁내용에\", \"▁마음이\", \"▁끌려\", \"▁이를\", \"▁소재로\", \"▁해서\", \"▁하나의\", \"▁교향곡\", \"을\", \"▁쓰\", \"려는\", \"▁뜻을\", \"▁갖는다\", \".\", \"▁이\", \"▁시기\", \"▁바그너\", \"는\", \"▁1838\", \"년에\", \"▁빛\", \"▁독\", \"촉\", \"으로\", \"▁산\", \"전\", \"수\", \"전을\", \"▁다\", \"▁\", \"걲\", \"은\", \"▁상황이\", \"라\", \"▁좌절\", \"과\", \"▁실망\", \"에\", \"▁가득\", \"했으며\", \"▁메\", \"피스\", \"토\", \"펠\", \"레스\", \"를\", \"▁만나는\", \"▁\", \"파우스트\", \"의\", \"▁심\", \"경에\", \"▁공감\", \"했다고\", \"▁한다\", \".\", \"▁또한\", \"▁파리에서\", \"▁아브\", \"네\", \"크의\", \"▁지휘\", \"로\", \"▁파리\", \"▁음악원\", \"▁관현악단\", \"이\", \"▁연주하는\", \"▁베토벤\", \"의\", \"▁교향곡\", \"▁9\", \"번을\", \"▁듣고\", \"▁깊은\", \"▁감\", \"명을\", \"▁받았는데\", \",\", \"▁이것이\", \"▁이듬해\", \"▁1\", \"월에\", \"▁\", \"파우스트\", \"의\", \"▁서\", \"곡으로\", \"▁쓰여진\", \"▁이\", \"▁작품에\", \"▁조금\", \"이라도\", \"▁영향을\", \"▁끼\", \"쳤\", \"으리라\", \"는\", \"▁것은\", \"▁의심\", \"할\", \"▁여지가\", \"▁없다\", \".\", \"▁여기\", \"의\", \"▁라\", \"단\", \"조\", \"▁조성\", \"의\", \"▁경우에도\", \"▁그의\", \"▁전기\", \"에\", \"▁적혀\", \"▁있는\", \"▁것처럼\", \"▁단순한\", \"▁정신적\", \"▁피로\", \"나\", \"▁실\", \"의\", \"가\", \"▁반영\", \"된\", \"▁것이\", \"▁아니라\", \"▁베토벤\", \"의\", \"▁합창\", \"교\", \"향\", \"곡\", \"▁조성\", \"의\", \"▁영향을\", \"▁받은\", \"▁것을\", \"▁볼\", \"▁수\", \"▁있다\", \".\", \"▁그렇게\", \"▁교향곡\", \"▁작곡\", \"을\", \"▁1839\", \"년부터\", \"▁40\", \"년에\", \"▁걸쳐\", \"▁파리에서\", \"▁착수\", \"했으나\", \"▁1\", \"악장\", \"을\", \"▁쓴\", \"▁뒤에\", \"▁중단\", \"했다\", \".\", \"▁또한\", \"▁작품의\", \"▁완성\", \"과\", \"▁동시에\", \"▁그는\", \"▁이\", \"▁서\", \"곡\", \"(1\", \"악장\", \")\", \"을\", \"▁파리\", \"▁음악원\", \"의\", \"▁연주회\", \"에서\", \"▁연주\", \"할\", \"▁파트\", \"보\", \"까지\", \"▁준비\", \"하였으나\", \",\", \"▁실제로는\", \"▁이루어지지\", \"는\", \"▁않았다\", \".\", \"▁결국\", \"▁초연\", \"은\", \"▁4\", \"년\", \"▁반\", \"이\", \"▁지난\", \"▁후에\", \"▁드레스덴\", \"에서\", \"▁연주\", \"되었고\", \"▁재\", \"연\", \"도\", \"▁이루어졌\", \"지만\", \",\", \"▁이후에\", \"▁그대로\", \"▁방치\", \"되고\", \"▁말았다\", \".\", \"▁그\", \"▁사이에\", \"▁그는\", \"▁리\", \"엔\", \"치\", \"와\", \"▁방\", \"황\", \"하는\", \"▁네덜란드\", \"인\", \"을\", \"▁완성\", \"하고\", \"▁탄\", \"호\", \"이\", \"저\", \"에도\", \"▁착수\", \"하는\", \"▁등\", \"▁분\", \"주\", \"한\", \"▁시간을\", \"▁보\", \"냈는데\", \",\", \"▁그런\", \"▁바쁜\", \"▁생활\", \"이\", \"▁이\", \"▁곡을\", \"▁잊\", \"게\", \"▁한\", \"▁것이\", \"▁아닌\", \"가\", \"▁하는\", \"▁의견도\", \"▁있다\", \".\"], \"answer\": \"베토벤의 교향곡 9번\", \"token_start\": 80, \"token_end\": 84}\n",
            "{\"qa_id\": \"6566518-0-0\", \"title\": \"파우스트_서곡\", \"question\": [\"▁1839\", \"년\", \"▁바그너\", \"가\", \"▁교향곡\", \"의\", \"▁소재로\", \"▁쓰\", \"려고\", \"▁했던\", \"▁책은\", \"?\"], \"context\": [\"▁1839\", \"년\", \"▁바그너\", \"는\", \"▁괴테\", \"의\", \"▁\", \"파우스트\", \"을\", \"▁처음\", \"▁읽고\", \"▁그\", \"▁내용에\", \"▁마음이\", \"▁끌려\", \"▁이를\", \"▁소재로\", \"▁해서\", \"▁하나의\", \"▁교향곡\", \"을\", \"▁쓰\", \"려는\", \"▁뜻을\", \"▁갖는다\", \".\", \"▁이\", \"▁시기\", \"▁바그너\", \"는\", \"▁1838\", \"년에\", \"▁빛\", \"▁독\", \"촉\", \"으로\", \"▁산\", \"전\", \"수\", \"전을\", \"▁다\", \"▁\", \"걲\", \"은\", \"▁상황이\", \"라\", \"▁좌절\", \"과\", \"▁실망\", \"에\", \"▁가득\", \"했으며\", \"▁메\", \"피스\", \"토\", \"펠\", \"레스\", \"를\", \"▁만나는\", \"▁\", \"파우스트\", \"의\", \"▁심\", \"경에\", \"▁공감\", \"했다고\", \"▁한다\", \".\", \"▁또한\", \"▁파리에서\", \"▁아브\", \"네\", \"크의\", \"▁지휘\", \"로\", \"▁파리\", \"▁음악원\", \"▁관현악단\", \"이\", \"▁연주하는\", \"▁베토벤\", \"의\", \"▁교향곡\", \"▁9\", \"번을\", \"▁듣고\", \"▁깊은\", \"▁감\", \"명을\", \"▁받았는데\", \",\", \"▁이것이\", \"▁이듬해\", \"▁1\", \"월에\", \"▁\", \"파우스트\", \"의\", \"▁서\", \"곡으로\", \"▁쓰여진\", \"▁이\", \"▁작품에\", \"▁조금\", \"이라도\", \"▁영향을\", \"▁끼\", \"쳤\", \"으리라\", \"는\", \"▁것은\", \"▁의심\", \"할\", \"▁여지가\", \"▁없다\", \".\", \"▁여기\", \"의\", \"▁라\", \"단\", \"조\", \"▁조성\", \"의\", \"▁경우에도\", \"▁그의\", \"▁전기\", \"에\", \"▁적혀\", \"▁있는\", \"▁것처럼\", \"▁단순한\", \"▁정신적\", \"▁피로\", \"나\", \"▁실\", \"의\", \"가\", \"▁반영\", \"된\", \"▁것이\", \"▁아니라\", \"▁베토벤\", \"의\", \"▁합창\", \"교\", \"향\", \"곡\", \"▁조성\", \"의\", \"▁영향을\", \"▁받은\", \"▁것을\", \"▁볼\", \"▁수\", \"▁있다\", \".\", \"▁그렇게\", \"▁교향곡\", \"▁작곡\", \"을\", \"▁1839\", \"년부터\", \"▁40\", \"년에\", \"▁걸쳐\", \"▁파리에서\", \"▁착수\", \"했으나\", \"▁1\", \"악장\", \"을\", \"▁쓴\", \"▁뒤에\", \"▁중단\", \"했다\", \".\", \"▁또한\", \"▁작품의\", \"▁완성\", \"과\", \"▁동시에\", \"▁그는\", \"▁이\", \"▁서\", \"곡\", \"(1\", \"악장\", \")\", \"을\", \"▁파리\", \"▁음악원\", \"의\", \"▁연주회\", \"에서\", \"▁연주\", \"할\", \"▁파트\", \"보\", \"까지\", \"▁준비\", \"하였으나\", \",\", \"▁실제로는\", \"▁이루어지지\", \"는\", \"▁않았다\", \".\", \"▁결국\", \"▁초연\", \"은\", \"▁4\", \"년\", \"▁반\", \"이\", \"▁지난\", \"▁후에\", \"▁드레스덴\", \"에서\", \"▁연주\", \"되었고\", \"▁재\", \"연\", \"도\", \"▁이루어졌\", \"지만\", \",\", \"▁이후에\", \"▁그대로\", \"▁방치\", \"되고\", \"▁말았다\", \".\", \"▁그\", \"▁사이에\", \"▁그는\", \"▁리\", \"엔\", \"치\", \"와\", \"▁방\", \"황\", \"하는\", \"▁네덜란드\", \"인\", \"을\", \"▁완성\", \"하고\", \"▁탄\", \"호\", \"이\", \"저\", \"에도\", \"▁착수\", \"하는\", \"▁등\", \"▁분\", \"주\", \"한\", \"▁시간을\", \"▁보\", \"냈는데\", \",\", \"▁그런\", \"▁바쁜\", \"▁생활\", \"이\", \"▁이\", \"▁곡을\", \"▁잊\", \"게\", \"▁한\", \"▁것이\", \"▁아닌\", \"가\", \"▁하는\", \"▁의견도\", \"▁있다\", \".\"], \"answer\": \"파우스트\", \"token_start\": 6, \"token_end\": 7}\n",
            "{\"qa_id\": \"6566518-0-1\", \"title\": \"파우스트_서곡\", \"question\": [\"▁\", \"파우스트\", \"▁서\", \"곡\", \"의\", \"▁라\", \"단\", \"조\", \"▁조성\", \"이\", \"▁영향을\", \"▁받은\", \"▁베토벤\", \"의\", \"▁곡은\", \"?\"], \"context\": [\"▁1839\", \"년\", \"▁바그너\", \"는\", \"▁괴테\", \"의\", \"▁\", \"파우스트\", \"을\", \"▁처음\", \"▁읽고\", \"▁그\", \"▁내용에\", \"▁마음이\", \"▁끌려\", \"▁이를\", \"▁소재로\", \"▁해서\", \"▁하나의\", \"▁교향곡\", \"을\", \"▁쓰\", \"려는\", \"▁뜻을\", \"▁갖는다\", \".\", \"▁이\", \"▁시기\", \"▁바그너\", \"는\", \"▁1838\", \"년에\", \"▁빛\", \"▁독\", \"촉\", \"으로\", \"▁산\", \"전\", \"수\", \"전을\", \"▁다\", \"▁\", \"걲\", \"은\", \"▁상황이\", \"라\", \"▁좌절\", \"과\", \"▁실망\", \"에\", \"▁가득\", \"했으며\", \"▁메\", \"피스\", \"토\", \"펠\", \"레스\", \"를\", \"▁만나는\", \"▁\", \"파우스트\", \"의\", \"▁심\", \"경에\", \"▁공감\", \"했다고\", \"▁한다\", \".\", \"▁또한\", \"▁파리에서\", \"▁아브\", \"네\", \"크의\", \"▁지휘\", \"로\", \"▁파리\", \"▁음악원\", \"▁관현악단\", \"이\", \"▁연주하는\", \"▁베토벤\", \"의\", \"▁교향곡\", \"▁9\", \"번을\", \"▁듣고\", \"▁깊은\", \"▁감\", \"명을\", \"▁받았는데\", \",\", \"▁이것이\", \"▁이듬해\", \"▁1\", \"월에\", \"▁\", \"파우스트\", \"의\", \"▁서\", \"곡으로\", \"▁쓰여진\", \"▁이\", \"▁작품에\", \"▁조금\", \"이라도\", \"▁영향을\", \"▁끼\", \"쳤\", \"으리라\", \"는\", \"▁것은\", \"▁의심\", \"할\", \"▁여지가\", \"▁없다\", \".\", \"▁여기\", \"의\", \"▁라\", \"단\", \"조\", \"▁조성\", \"의\", \"▁경우에도\", \"▁그의\", \"▁전기\", \"에\", \"▁적혀\", \"▁있는\", \"▁것처럼\", \"▁단순한\", \"▁정신적\", \"▁피로\", \"나\", \"▁실\", \"의\", \"가\", \"▁반영\", \"된\", \"▁것이\", \"▁아니라\", \"▁베토벤\", \"의\", \"▁합창\", \"교\", \"향\", \"곡\", \"▁조성\", \"의\", \"▁영향을\", \"▁받은\", \"▁것을\", \"▁볼\", \"▁수\", \"▁있다\", \".\", \"▁그렇게\", \"▁교향곡\", \"▁작곡\", \"을\", \"▁1839\", \"년부터\", \"▁40\", \"년에\", \"▁걸쳐\", \"▁파리에서\", \"▁착수\", \"했으나\", \"▁1\", \"악장\", \"을\", \"▁쓴\", \"▁뒤에\", \"▁중단\", \"했다\", \".\", \"▁또한\", \"▁작품의\", \"▁완성\", \"과\", \"▁동시에\", \"▁그는\", \"▁이\", \"▁서\", \"곡\", \"(1\", \"악장\", \")\", \"을\", \"▁파리\", \"▁음악원\", \"의\", \"▁연주회\", \"에서\", \"▁연주\", \"할\", \"▁파트\", \"보\", \"까지\", \"▁준비\", \"하였으나\", \",\", \"▁실제로는\", \"▁이루어지지\", \"는\", \"▁않았다\", \".\", \"▁결국\", \"▁초연\", \"은\", \"▁4\", \"년\", \"▁반\", \"이\", \"▁지난\", \"▁후에\", \"▁드레스덴\", \"에서\", \"▁연주\", \"되었고\", \"▁재\", \"연\", \"도\", \"▁이루어졌\", \"지만\", \",\", \"▁이후에\", \"▁그대로\", \"▁방치\", \"되고\", \"▁말았다\", \".\", \"▁그\", \"▁사이에\", \"▁그는\", \"▁리\", \"엔\", \"치\", \"와\", \"▁방\", \"황\", \"하는\", \"▁네덜란드\", \"인\", \"을\", \"▁완성\", \"하고\", \"▁탄\", \"호\", \"이\", \"저\", \"에도\", \"▁착수\", \"하는\", \"▁등\", \"▁분\", \"주\", \"한\", \"▁시간을\", \"▁보\", \"냈는데\", \",\", \"▁그런\", \"▁바쁜\", \"▁생활\", \"이\", \"▁이\", \"▁곡을\", \"▁잊\", \"게\", \"▁한\", \"▁것이\", \"▁아닌\", \"가\", \"▁하는\", \"▁의견도\", \"▁있다\", \".\"], \"answer\": \"합창교향곡\", \"token_start\": 143, \"token_end\": 146}\n",
            "{\"qa_id\": \"5917067-0-0\", \"title\": \"파우스트_서곡\", \"question\": [\"▁바그너\", \"가\", \"▁\", \"파우스트\", \"를\", \"▁처음으로\", \"▁읽\", \"은\", \"▁\", \"년\", \"도\", \"는\", \"?\"], \"context\": [\"▁1839\", \"년\", \"▁바그너\", \"는\", \"▁괴테\", \"의\", \"▁\", \"파우스트\", \"을\", \"▁처음\", \"▁읽고\", \"▁그\", \"▁내용에\", \"▁마음이\", \"▁끌려\", \"▁이를\", \"▁소재로\", \"▁해서\", \"▁하나의\", \"▁교향곡\", \"을\", \"▁쓰\", \"려는\", \"▁뜻을\", \"▁갖는다\", \".\", \"▁이\", \"▁시기\", \"▁바그너\", \"는\", \"▁1838\", \"년에\", \"▁빛\", \"▁독\", \"촉\", \"으로\", \"▁산\", \"전\", \"수\", \"전을\", \"▁다\", \"▁\", \"걲\", \"은\", \"▁상황이\", \"라\", \"▁좌절\", \"과\", \"▁실망\", \"에\", \"▁가득\", \"했으며\", \"▁메\", \"피스\", \"토\", \"펠\", \"레스\", \"를\", \"▁만나는\", \"▁\", \"파우스트\", \"의\", \"▁심\", \"경에\", \"▁공감\", \"했다고\", \"▁한다\", \".\", \"▁또한\", \"▁파리에서\", \"▁아브\", \"네\", \"크의\", \"▁지휘\", \"로\", \"▁파리\", \"▁음악원\", \"▁관현악단\", \"이\", \"▁연주하는\", \"▁베토벤\", \"의\", \"▁교향곡\", \"▁9\", \"번을\", \"▁듣고\", \"▁깊은\", \"▁감\", \"명을\", \"▁받았는데\", \",\", \"▁이것이\", \"▁이듬해\", \"▁1\", \"월에\", \"▁\", \"파우스트\", \"의\", \"▁서\", \"곡으로\", \"▁쓰여진\", \"▁이\", \"▁작품에\", \"▁조금\", \"이라도\", \"▁영향을\", \"▁끼\", \"쳤\", \"으리라\", \"는\", \"▁것은\", \"▁의심\", \"할\", \"▁여지가\", \"▁없다\", \".\", \"▁여기\", \"의\", \"▁라\", \"단\", \"조\", \"▁조성\", \"의\", \"▁경우에도\", \"▁그의\", \"▁전기\", \"에\", \"▁적혀\", \"▁있는\", \"▁것처럼\", \"▁단순한\", \"▁정신적\", \"▁피로\", \"나\", \"▁실\", \"의\", \"가\", \"▁반영\", \"된\", \"▁것이\", \"▁아니라\", \"▁베토벤\", \"의\", \"▁합창\", \"교\", \"향\", \"곡\", \"▁조성\", \"의\", \"▁영향을\", \"▁받은\", \"▁것을\", \"▁볼\", \"▁수\", \"▁있다\", \".\", \"▁그렇게\", \"▁교향곡\", \"▁작곡\", \"을\", \"▁1839\", \"년부터\", \"▁40\", \"년에\", \"▁걸쳐\", \"▁파리에서\", \"▁착수\", \"했으나\", \"▁1\", \"악장\", \"을\", \"▁쓴\", \"▁뒤에\", \"▁중단\", \"했다\", \".\", \"▁또한\", \"▁작품의\", \"▁완성\", \"과\", \"▁동시에\", \"▁그는\", \"▁이\", \"▁서\", \"곡\", \"(1\", \"악장\", \")\", \"을\", \"▁파리\", \"▁음악원\", \"의\", \"▁연주회\", \"에서\", \"▁연주\", \"할\", \"▁파트\", \"보\", \"까지\", \"▁준비\", \"하였으나\", \",\", \"▁실제로는\", \"▁이루어지지\", \"는\", \"▁않았다\", \".\", \"▁결국\", \"▁초연\", \"은\", \"▁4\", \"년\", \"▁반\", \"이\", \"▁지난\", \"▁후에\", \"▁드레스덴\", \"에서\", \"▁연주\", \"되었고\", \"▁재\", \"연\", \"도\", \"▁이루어졌\", \"지만\", \",\", \"▁이후에\", \"▁그대로\", \"▁방치\", \"되고\", \"▁말았다\", \".\", \"▁그\", \"▁사이에\", \"▁그는\", \"▁리\", \"엔\", \"치\", \"와\", \"▁방\", \"황\", \"하는\", \"▁네덜란드\", \"인\", \"을\", \"▁완성\", \"하고\", \"▁탄\", \"호\", \"이\", \"저\", \"에도\", \"▁착수\", \"하는\", \"▁등\", \"▁분\", \"주\", \"한\", \"▁시간을\", \"▁보\", \"냈는데\", \",\", \"▁그런\", \"▁바쁜\", \"▁생활\", \"이\", \"▁이\", \"▁곡을\", \"▁잊\", \"게\", \"▁한\", \"▁것이\", \"▁아닌\", \"가\", \"▁하는\", \"▁의견도\", \"▁있다\", \".\"], \"answer\": \"1839\", \"token_start\": 0, \"token_end\": 0}\n",
            "{\"qa_id\": \"5917067-0-1\", \"title\": \"파우스트_서곡\", \"question\": [\"▁바그너\", \"가\", \"▁처음\", \"▁교향곡\", \"▁작곡\", \"을\", \"▁한\", \"▁장소\", \"는\", \"?\"], \"context\": [\"▁1839\", \"년\", \"▁바그너\", \"는\", \"▁괴테\", \"의\", \"▁\", \"파우스트\", \"을\", \"▁처음\", \"▁읽고\", \"▁그\", \"▁내용에\", \"▁마음이\", \"▁끌려\", \"▁이를\", \"▁소재로\", \"▁해서\", \"▁하나의\", \"▁교향곡\", \"을\", \"▁쓰\", \"려는\", \"▁뜻을\", \"▁갖는다\", \".\", \"▁이\", \"▁시기\", \"▁바그너\", \"는\", \"▁1838\", \"년에\", \"▁빛\", \"▁독\", \"촉\", \"으로\", \"▁산\", \"전\", \"수\", \"전을\", \"▁다\", \"▁\", \"걲\", \"은\", \"▁상황이\", \"라\", \"▁좌절\", \"과\", \"▁실망\", \"에\", \"▁가득\", \"했으며\", \"▁메\", \"피스\", \"토\", \"펠\", \"레스\", \"를\", \"▁만나는\", \"▁\", \"파우스트\", \"의\", \"▁심\", \"경에\", \"▁공감\", \"했다고\", \"▁한다\", \".\", \"▁또한\", \"▁파리에서\", \"▁아브\", \"네\", \"크의\", \"▁지휘\", \"로\", \"▁파리\", \"▁음악원\", \"▁관현악단\", \"이\", \"▁연주하는\", \"▁베토벤\", \"의\", \"▁교향곡\", \"▁9\", \"번을\", \"▁듣고\", \"▁깊은\", \"▁감\", \"명을\", \"▁받았는데\", \",\", \"▁이것이\", \"▁이듬해\", \"▁1\", \"월에\", \"▁\", \"파우스트\", \"의\", \"▁서\", \"곡으로\", \"▁쓰여진\", \"▁이\", \"▁작품에\", \"▁조금\", \"이라도\", \"▁영향을\", \"▁끼\", \"쳤\", \"으리라\", \"는\", \"▁것은\", \"▁의심\", \"할\", \"▁여지가\", \"▁없다\", \".\", \"▁여기\", \"의\", \"▁라\", \"단\", \"조\", \"▁조성\", \"의\", \"▁경우에도\", \"▁그의\", \"▁전기\", \"에\", \"▁적혀\", \"▁있는\", \"▁것처럼\", \"▁단순한\", \"▁정신적\", \"▁피로\", \"나\", \"▁실\", \"의\", \"가\", \"▁반영\", \"된\", \"▁것이\", \"▁아니라\", \"▁베토벤\", \"의\", \"▁합창\", \"교\", \"향\", \"곡\", \"▁조성\", \"의\", \"▁영향을\", \"▁받은\", \"▁것을\", \"▁볼\", \"▁수\", \"▁있다\", \".\", \"▁그렇게\", \"▁교향곡\", \"▁작곡\", \"을\", \"▁1839\", \"년부터\", \"▁40\", \"년에\", \"▁걸쳐\", \"▁파리에서\", \"▁착수\", \"했으나\", \"▁1\", \"악장\", \"을\", \"▁쓴\", \"▁뒤에\", \"▁중단\", \"했다\", \".\", \"▁또한\", \"▁작품의\", \"▁완성\", \"과\", \"▁동시에\", \"▁그는\", \"▁이\", \"▁서\", \"곡\", \"(1\", \"악장\", \")\", \"을\", \"▁파리\", \"▁음악원\", \"의\", \"▁연주회\", \"에서\", \"▁연주\", \"할\", \"▁파트\", \"보\", \"까지\", \"▁준비\", \"하였으나\", \",\", \"▁실제로는\", \"▁이루어지지\", \"는\", \"▁않았다\", \".\", \"▁결국\", \"▁초연\", \"은\", \"▁4\", \"년\", \"▁반\", \"이\", \"▁지난\", \"▁후에\", \"▁드레스덴\", \"에서\", \"▁연주\", \"되었고\", \"▁재\", \"연\", \"도\", \"▁이루어졌\", \"지만\", \",\", \"▁이후에\", \"▁그대로\", \"▁방치\", \"되고\", \"▁말았다\", \".\", \"▁그\", \"▁사이에\", \"▁그는\", \"▁리\", \"엔\", \"치\", \"와\", \"▁방\", \"황\", \"하는\", \"▁네덜란드\", \"인\", \"을\", \"▁완성\", \"하고\", \"▁탄\", \"호\", \"이\", \"저\", \"에도\", \"▁착수\", \"하는\", \"▁등\", \"▁분\", \"주\", \"한\", \"▁시간을\", \"▁보\", \"냈는데\", \",\", \"▁그런\", \"▁바쁜\", \"▁생활\", \"이\", \"▁이\", \"▁곡을\", \"▁잊\", \"게\", \"▁한\", \"▁것이\", \"▁아닌\", \"가\", \"▁하는\", \"▁의견도\", \"▁있다\", \".\"], \"answer\": \"파리\", \"token_start\": 165, \"token_end\": 165}\n",
            "{\"qa_id\": \"5917067-0-2\", \"title\": \"파우스트_서곡\", \"question\": [\"▁바그너\", \"의\", \"▁1\", \"악장\", \"의\", \"▁초연\", \"은\", \"▁어디서\", \"▁연주\", \"되었\", \"는\", \"가\", \"?\"], \"context\": [\"▁1839\", \"년\", \"▁바그너\", \"는\", \"▁괴테\", \"의\", \"▁\", \"파우스트\", \"을\", \"▁처음\", \"▁읽고\", \"▁그\", \"▁내용에\", \"▁마음이\", \"▁끌려\", \"▁이를\", \"▁소재로\", \"▁해서\", \"▁하나의\", \"▁교향곡\", \"을\", \"▁쓰\", \"려는\", \"▁뜻을\", \"▁갖는다\", \".\", \"▁이\", \"▁시기\", \"▁바그너\", \"는\", \"▁1838\", \"년에\", \"▁빛\", \"▁독\", \"촉\", \"으로\", \"▁산\", \"전\", \"수\", \"전을\", \"▁다\", \"▁\", \"걲\", \"은\", \"▁상황이\", \"라\", \"▁좌절\", \"과\", \"▁실망\", \"에\", \"▁가득\", \"했으며\", \"▁메\", \"피스\", \"토\", \"펠\", \"레스\", \"를\", \"▁만나는\", \"▁\", \"파우스트\", \"의\", \"▁심\", \"경에\", \"▁공감\", \"했다고\", \"▁한다\", \".\", \"▁또한\", \"▁파리에서\", \"▁아브\", \"네\", \"크의\", \"▁지휘\", \"로\", \"▁파리\", \"▁음악원\", \"▁관현악단\", \"이\", \"▁연주하는\", \"▁베토벤\", \"의\", \"▁교향곡\", \"▁9\", \"번을\", \"▁듣고\", \"▁깊은\", \"▁감\", \"명을\", \"▁받았는데\", \",\", \"▁이것이\", \"▁이듬해\", \"▁1\", \"월에\", \"▁\", \"파우스트\", \"의\", \"▁서\", \"곡으로\", \"▁쓰여진\", \"▁이\", \"▁작품에\", \"▁조금\", \"이라도\", \"▁영향을\", \"▁끼\", \"쳤\", \"으리라\", \"는\", \"▁것은\", \"▁의심\", \"할\", \"▁여지가\", \"▁없다\", \".\", \"▁여기\", \"의\", \"▁라\", \"단\", \"조\", \"▁조성\", \"의\", \"▁경우에도\", \"▁그의\", \"▁전기\", \"에\", \"▁적혀\", \"▁있는\", \"▁것처럼\", \"▁단순한\", \"▁정신적\", \"▁피로\", \"나\", \"▁실\", \"의\", \"가\", \"▁반영\", \"된\", \"▁것이\", \"▁아니라\", \"▁베토벤\", \"의\", \"▁합창\", \"교\", \"향\", \"곡\", \"▁조성\", \"의\", \"▁영향을\", \"▁받은\", \"▁것을\", \"▁볼\", \"▁수\", \"▁있다\", \".\", \"▁그렇게\", \"▁교향곡\", \"▁작곡\", \"을\", \"▁1839\", \"년부터\", \"▁40\", \"년에\", \"▁걸쳐\", \"▁파리에서\", \"▁착수\", \"했으나\", \"▁1\", \"악장\", \"을\", \"▁쓴\", \"▁뒤에\", \"▁중단\", \"했다\", \".\", \"▁또한\", \"▁작품의\", \"▁완성\", \"과\", \"▁동시에\", \"▁그는\", \"▁이\", \"▁서\", \"곡\", \"(1\", \"악장\", \")\", \"을\", \"▁파리\", \"▁음악원\", \"의\", \"▁연주회\", \"에서\", \"▁연주\", \"할\", \"▁파트\", \"보\", \"까지\", \"▁준비\", \"하였으나\", \",\", \"▁실제로는\", \"▁이루어지지\", \"는\", \"▁않았다\", \".\", \"▁결국\", \"▁초연\", \"은\", \"▁4\", \"년\", \"▁반\", \"이\", \"▁지난\", \"▁후에\", \"▁드레스덴\", \"에서\", \"▁연주\", \"되었고\", \"▁재\", \"연\", \"도\", \"▁이루어졌\", \"지만\", \",\", \"▁이후에\", \"▁그대로\", \"▁방치\", \"되고\", \"▁말았다\", \".\", \"▁그\", \"▁사이에\", \"▁그는\", \"▁리\", \"엔\", \"치\", \"와\", \"▁방\", \"황\", \"하는\", \"▁네덜란드\", \"인\", \"을\", \"▁완성\", \"하고\", \"▁탄\", \"호\", \"이\", \"저\", \"에도\", \"▁착수\", \"하는\", \"▁등\", \"▁분\", \"주\", \"한\", \"▁시간을\", \"▁보\", \"냈는데\", \",\", \"▁그런\", \"▁바쁜\", \"▁생활\", \"이\", \"▁이\", \"▁곡을\", \"▁잊\", \"게\", \"▁한\", \"▁것이\", \"▁아닌\", \"가\", \"▁하는\", \"▁의견도\", \"▁있다\", \".\"], \"answer\": \"드레스덴\", \"token_start\": 216, \"token_end\": 216}\n",
            "{\"qa_id\": \"6566495-1-0\", \"title\": \"파우스트_서곡\", \"question\": [\"▁바그너\", \"의\", \"▁작품을\", \"▁시인\", \"의\", \"▁피로\", \"▁쓰여\", \"졌다\", \"고\", \"▁극찬\", \"한\", \"▁것은\", \"▁누구\", \"인\", \"가\", \"?\"], \"context\": [\"▁한편\", \"▁1840\", \"년부터\", \"▁바그너\", \"와\", \"▁알고\", \"▁지내던\", \"▁리스트\", \"가\", \"▁잊\", \"혀\", \"져\", \"▁있던\", \"▁1\", \"악장\", \"을\", \"▁부활\", \"시켜\", \"▁1852\", \"년에\", \"▁바이마르\", \"에서\", \"▁연주\", \"했다\", \".\", \"▁이것을\", \"▁계기로\", \"▁바그너\", \"도\", \"▁이\", \"▁작품에\", \"▁다시\", \"▁관심을\", \"▁갖게\", \"▁되었고\", \",\", \"▁그\", \"▁해\", \"▁9\", \"월에는\", \"▁총\", \"보\", \"의\", \"▁반환\", \"을\", \"▁요구\", \"하여\", \"▁이를\", \"▁서\", \"곡으로\", \"▁간\", \"추\", \"린\", \"▁다음\", \"▁수정\", \"을\", \"▁했고\", \"▁브\", \"라이트\", \"코프\", \"흐\", \"▁&\", \"▁헤르\", \"텔\", \"▁출판사\", \"에서\", \"▁출판\", \"할\", \"▁개정\", \"판\", \"도\", \"▁준비\", \"했다\", \".\", \"▁1853\", \"년\", \"▁5\", \"월에는\", \"▁리스트\", \"가\", \"▁이\", \"▁작품이\", \"▁수정\", \"되었다\", \"는\", \"▁것을\", \"▁인정\", \"했지만\", \",\", \"▁끝내\", \"▁바그너\", \"의\", \"▁출판\", \"▁계획은\", \"▁무산\", \"되고\", \"▁말았다\", \".\", \"▁이후\", \"▁1855\", \"년에\", \"▁리스트\", \"가\", \"▁자신의\", \"▁작품\", \"▁\", \"파우스트\", \"▁교향곡\", \"을\", \"▁거의\", \"▁완성\", \"하여\", \"▁그\", \"▁사실을\", \"▁바그너\", \"에게\", \"▁알\", \"렸고\", \",\", \"▁바그너\", \"는\", \"▁다시\", \"▁개정된\", \"▁총\", \"보를\", \"▁리스트\", \"에게\", \"▁보내고\", \"▁브\", \"라이트\", \"코프\", \"흐\", \"▁&\", \"▁헤르\", \"텔\", \"▁출판사\", \"에는\", \"▁20\", \"루이\", \"의\", \"▁금\", \"을\", \"▁받고\", \"▁팔았다\", \".\", \"▁또한\", \"▁그의\", \"▁작품을\", \"▁“\", \"하나\", \"하나\", \"의\", \"▁음\", \"표\", \"가\", \"▁시인\", \"의\", \"▁피로\", \"▁쓰여\", \"졌다\", \"”\", \"며\", \"▁극찬\", \"했던\", \"▁한스\", \"▁폰\", \"▁\", \"뷜\", \"로\", \"가\", \"▁그것을\", \"▁피아노\", \"▁독주\", \"용으로\", \"▁편곡\", \"했는데\", \",\", \"▁리스트\", \"는\", \"▁그것을\", \"▁약간\", \"▁변형\", \"되었을\", \"▁뿐\", \"이라고\", \"▁지적했다\", \".\", \"▁이\", \"▁서\", \"곡\", \"의\", \"▁총\", \"보\", \"▁첫\", \"머리\", \"에는\", \"▁\", \"파우스트\", \"▁1\", \"부의\", \"▁내용\", \"▁중\", \"▁한\", \"▁구절\", \"을\", \"▁인용\", \"하고\", \"▁있다\", \".\"], \"answer\": \"한스 폰 뷜로\", \"token_start\": 164, \"token_end\": 168}\n",
            "{\"qa_id\": \"6566495-1-1\", \"title\": \"파우스트_서곡\", \"question\": [\"▁잊\", \"혀\", \"져\", \"▁있는\", \"▁\", \"파우스트\", \"▁서\", \"곡\", \"▁1\", \"악장\", \"을\", \"▁부활\", \"시킨\", \"▁것은\", \"▁누구\", \"인\", \"가\", \"?\"], \"context\": [\"▁한편\", \"▁1840\", \"년부터\", \"▁바그너\", \"와\", \"▁알고\", \"▁지내던\", \"▁리스트\", \"가\", \"▁잊\", \"혀\", \"져\", \"▁있던\", \"▁1\", \"악장\", \"을\", \"▁부활\", \"시켜\", \"▁1852\", \"년에\", \"▁바이마르\", \"에서\", \"▁연주\", \"했다\", \".\", \"▁이것을\", \"▁계기로\", \"▁바그너\", \"도\", \"▁이\", \"▁작품에\", \"▁다시\", \"▁관심을\", \"▁갖게\", \"▁되었고\", \",\", \"▁그\", \"▁해\", \"▁9\", \"월에는\", \"▁총\", \"보\", \"의\", \"▁반환\", \"을\", \"▁요구\", \"하여\", \"▁이를\", \"▁서\", \"곡으로\", \"▁간\", \"추\", \"린\", \"▁다음\", \"▁수정\", \"을\", \"▁했고\", \"▁브\", \"라이트\", \"코프\", \"흐\", \"▁&\", \"▁헤르\", \"텔\", \"▁출판사\", \"에서\", \"▁출판\", \"할\", \"▁개정\", \"판\", \"도\", \"▁준비\", \"했다\", \".\", \"▁1853\", \"년\", \"▁5\", \"월에는\", \"▁리스트\", \"가\", \"▁이\", \"▁작품이\", \"▁수정\", \"되었다\", \"는\", \"▁것을\", \"▁인정\", \"했지만\", \",\", \"▁끝내\", \"▁바그너\", \"의\", \"▁출판\", \"▁계획은\", \"▁무산\", \"되고\", \"▁말았다\", \".\", \"▁이후\", \"▁1855\", \"년에\", \"▁리스트\", \"가\", \"▁자신의\", \"▁작품\", \"▁\", \"파우스트\", \"▁교향곡\", \"을\", \"▁거의\", \"▁완성\", \"하여\", \"▁그\", \"▁사실을\", \"▁바그너\", \"에게\", \"▁알\", \"렸고\", \",\", \"▁바그너\", \"는\", \"▁다시\", \"▁개정된\", \"▁총\", \"보를\", \"▁리스트\", \"에게\", \"▁보내고\", \"▁브\", \"라이트\", \"코프\", \"흐\", \"▁&\", \"▁헤르\", \"텔\", \"▁출판사\", \"에는\", \"▁20\", \"루이\", \"의\", \"▁금\", \"을\", \"▁받고\", \"▁팔았다\", \".\", \"▁또한\", \"▁그의\", \"▁작품을\", \"▁“\", \"하나\", \"하나\", \"의\", \"▁음\", \"표\", \"가\", \"▁시인\", \"의\", \"▁피로\", \"▁쓰여\", \"졌다\", \"”\", \"며\", \"▁극찬\", \"했던\", \"▁한스\", \"▁폰\", \"▁\", \"뷜\", \"로\", \"가\", \"▁그것을\", \"▁피아노\", \"▁독주\", \"용으로\", \"▁편곡\", \"했는데\", \",\", \"▁리스트\", \"는\", \"▁그것을\", \"▁약간\", \"▁변형\", \"되었을\", \"▁뿐\", \"이라고\", \"▁지적했다\", \".\", \"▁이\", \"▁서\", \"곡\", \"의\", \"▁총\", \"보\", \"▁첫\", \"머리\", \"에는\", \"▁\", \"파우스트\", \"▁1\", \"부의\", \"▁내용\", \"▁중\", \"▁한\", \"▁구절\", \"을\", \"▁인용\", \"하고\", \"▁있다\", \".\"], \"answer\": \"리스트\", \"token_start\": 7, \"token_end\": 7}\n"
          ]
        }
      ],
      "source": [
        "def print_file(filename, count=10):\n",
        "    \"\"\"\n",
        "    파일 내용 출력\n",
        "    :param filename: 파일 이름\n",
        "    :param count: 출력 라인 수\n",
        "    \"\"\"\n",
        "    with open(filename) as f:\n",
        "        for i, line in enumerate(f):\n",
        "            if count <= i:\n",
        "                break\n",
        "            print(line.strip())\n",
        "\n",
        "print_file(f\"{data_dir}/korquad_train.json\")"
      ],
      "id": "7ddc94cc"
    },
    {
      "cell_type": "markdown",
      "metadata": {
        "id": "7ca7df50"
      },
      "source": [
        "# KorQuAD 데이터셋 전처리 (5) 데이터 분석 : Question\n",
        "***\n",
        "* 데이터셋 분석을 통해 이상치 등을 점검하기."
      ],
      "id": "7ca7df50"
    },
    {
      "cell_type": "code",
      "execution_count": 32,
      "metadata": {
        "colab": {
          "base_uri": "https://localhost:8080/"
        },
        "id": "3a338b8c",
        "outputId": "d23fa083-e9be-487d-df75-cf67b895870d"
      },
      "outputs": [
        {
          "output_type": "stream",
          "name": "stdout",
          "text": [
            "19 ['▁바그너', '는', '▁괴테', '의', '▁', '파우스트', '를', '▁읽고', '▁무엇을', '▁쓰고', '자', '▁', '했', '는', '가', '?']\n",
            "168 ['▁바그너', '는', '▁교향곡', '▁작곡', '을', '▁어디', '까지', '▁쓴', '▁뒤에', '▁중단', '했', '는', '가', '?']\n",
            "80 ['▁바그너', '가', '▁', '파우스트', '▁서', '곡을', '▁쓸', '▁때', '▁어떤', '▁곡', '의', '▁영향을', '▁받았', '는', '가', '?']\n",
            "6 ['▁1839', '년', '▁바그너', '가', '▁교향곡', '의', '▁소재로', '▁쓰', '려고', '▁했던', '▁책은', '?']\n",
            "143 ['▁', '파우스트', '▁서', '곡', '의', '▁라', '단', '조', '▁조성', '이', '▁영향을', '▁받은', '▁베토벤', '의', '▁곡은', '?']\n",
            "0 ['▁바그너', '가', '▁', '파우스트', '를', '▁처음으로', '▁읽', '은', '▁', '년', '도', '는', '?']\n",
            "165 ['▁바그너', '가', '▁처음', '▁교향곡', '▁작곡', '을', '▁한', '▁장소', '는', '?']\n",
            "216 ['▁바그너', '의', '▁1', '악장', '의', '▁초연', '은', '▁어디서', '▁연주', '되었', '는', '가', '?']\n",
            "164 ['▁바그너', '의', '▁작품을', '▁시인', '의', '▁피로', '▁쓰여', '졌다', '고', '▁극찬', '한', '▁것은', '▁누구', '인', '가', '?']\n",
            "7 ['▁잊', '혀', '져', '▁있는', '▁', '파우스트', '▁서', '곡', '▁1', '악장', '을', '▁부활', '시킨', '▁것은', '▁누구', '인', '가', '?']\n"
          ]
        }
      ],
      "source": [
        "questions = []\n",
        "contexts = []\n",
        "token_starts = []\n",
        "with open(f\"{data_dir}/korquad_train.json\") as f:\n",
        "    for i, line in enumerate(f):\n",
        "        data = json.loads(line)\n",
        "        questions.append(data[\"question\"])\n",
        "        contexts.append(data[\"context\"])\n",
        "        token_starts.append(data[\"token_start\"])\n",
        "        if i < 10:\n",
        "            print(data[\"token_start\"], data[\"question\"])"
      ],
      "id": "3a338b8c"
    },
    {
      "cell_type": "code",
      "execution_count": 33,
      "metadata": {
        "colab": {
          "base_uri": "https://localhost:8080/"
        },
        "id": "18b0f147",
        "outputId": "6face486-30f7-4aa6-82c1-e156bc57882d"
      },
      "outputs": [
        {
          "output_type": "execute_result",
          "data": {
            "text/plain": [
              "[16, 14, 16, 12, 16, 13, 10, 13, 16, 18]"
            ]
          },
          "metadata": {},
          "execution_count": 33
        }
      ],
      "source": [
        "# token count\n",
        "train_question_counts = [len(question) for question in questions]\n",
        "train_question_counts[:10]"
      ],
      "id": "18b0f147"
    },
    {
      "cell_type": "code",
      "execution_count": 34,
      "metadata": {
        "colab": {
          "base_uri": "https://localhost:8080/",
          "height": 295
        },
        "id": "621812ff",
        "outputId": "6258a223-1e22-4145-b067-f5aaa8d770b4"
      },
      "outputs": [
        {
          "output_type": "display_data",
          "data": {
            "text/plain": [
              "<Figure size 576x288 with 1 Axes>"
            ],
            "image/png": "[encoded data removed]"
          },
          "metadata": {
            "needs_background": "light"
          }
        }
      ],
      "source": [
        "# 그래프에 대한 이미지 사이즈 선언\n",
        "# figsize: (가로, 세로) 형태의 튜플로 입력\n",
        "plt.figure(figsize=(8, 4))\n",
        "# histogram 선언\n",
        "# bins: 히스토그램 값들에 대한 버켓 범위, \n",
        "# range: x축 값의 범위\n",
        "# facecolor: 그래프 색상\n",
        "# label: 그래프에 대한 라벨\n",
        "plt.hist(train_question_counts, bins=100, range=[0, 100], facecolor='b', label='train')\n",
        "# 그래프 제목\n",
        "plt.title('Count of question')\n",
        "# 그래프 x 축 라벨\n",
        "plt.xlabel('Number of question')\n",
        "# 그래프 y 축 라벨\n",
        "plt.ylabel('Count of question')\n",
        "plt.show()"
      ],
      "id": "621812ff"
    },
    {
      "cell_type": "code",
      "execution_count": 35,
      "metadata": {
        "colab": {
          "base_uri": "https://localhost:8080/"
        },
        "id": "d8fe672e",
        "outputId": "ba1dec83-2e51-4c3f-c506-e116239cec59"
      },
      "outputs": [
        {
          "output_type": "stream",
          "name": "stdout",
          "text": [
            "question 길이 최대:      58\n",
            "question 길이 최소:       3\n",
            "question 길이 평균:      15.25\n",
            "question 길이 표준편차:    5.50\n",
            "question 25/100분위:    11.00\n",
            "question 50/100분위:    14.00\n",
            "question 75/100분위:    18.00\n",
            "question IQR:           7.00\n",
            "question MAX/100분위:   28.50\n"
          ]
        }
      ],
      "source": [
        "# 데이터 길이\n",
        "print(f\"question 길이 최대:    {np.max(train_question_counts):4d}\")\n",
        "print(f\"question 길이 최소:    {np.min(train_question_counts):4d}\")\n",
        "print(f\"question 길이 평균:    {np.mean(train_question_counts):7.2f}\")\n",
        "print(f\"question 길이 표준편차: {np.std(train_question_counts):7.2f}\")\n",
        "# https://ko.wikipedia.org/wiki/%EB%B0%B1%EB%B6%84%EC%9C%84%EC%88%98\n",
        "# 백분위수(Percentile)는 크기가 있는 값들로 이뤄진 자료를 순서대로 나열했을 때 백분율로 나타낸 특정 위치의 값을 이르는 용어이다.\n",
        "# 일반적으로 크기가 작은 것부터 나열하여 가장 작은 것을 0, 가장 큰 것을 100으로 한다.\n",
        "# 100개의 값을 가진 어떤 자료의 20 백분위수는 그 자료의 값들 중 20번째로 작은 값을 뜻한다. 50 백분위수는 중앙값과 같다.\n",
        "percentile25 = np.percentile(train_question_counts, 25)\n",
        "percentile50 = np.percentile(train_question_counts, 50)\n",
        "percentile75 = np.percentile(train_question_counts, 75)\n",
        "percentileIQR = percentile75 - percentile25\n",
        "percentileMAX = percentile75 + percentileIQR * 1.5\n",
        "print(f\"question 25/100분위:  {percentile25:7.2f}\")\n",
        "print(f\"question 50/100분위:  {percentile50:7.2f}\")\n",
        "print(f\"question 75/100분위:  {percentile75:7.2f}\")\n",
        "print(f\"question IQR:        {percentileIQR:7.2f}\")\n",
        "print(f\"question MAX/100분위: {percentileMAX:7.2f}\")"
      ],
      "id": "d8fe672e"
    },
    {
      "cell_type": "code",
      "execution_count": 36,
      "metadata": {
        "colab": {
          "base_uri": "https://localhost:8080/",
          "height": 374
        },
        "id": "65610cca",
        "outputId": "2312a8ff-f8dd-4e35-aa0a-492107329227"
      },
      "outputs": [
        {
          "output_type": "display_data",
          "data": {
            "text/plain": [
              "<Figure size 288x432 with 1 Axes>"
            ],
            "image/png": "[encoded data removed]"
          },
          "metadata": {
            "needs_background": "light"
          }
        }
      ],
      "source": [
        "plt.figure(figsize=(4, 6))\n",
        "# 박스플롯 생성\n",
        "# 첫번째 파라메터: 여러 분포에 대한 데이터 리스트를\n",
        "# labels: 입력한 데이터에 대한 라벨\n",
        "# showmeans: 평균값을 표현\n",
        "# 참고: https://leebaro.tistory.com/entry/%EB%B0%95%EC%8A%A4-%ED%94%8C%EB%A1%AFbox-plot-%EC%84%A4%EB%AA%85\n",
        "plt.boxplot(train_question_counts, labels=['token counts'], showmeans=True)\n",
        "plt.show()"
      ],
      "id": "65610cca"
    },
    {
      "cell_type": "markdown",
      "metadata": {
        "id": "c4a3f730"
      },
      "source": [
        "# KorQuAD 데이터셋 전처리 (6) 데이터 분석 : Context\n",
        "***\n",
        "* context 항목도 동일하게 분석하기.\n"
      ],
      "id": "c4a3f730"
    },
    {
      "cell_type": "code",
      "execution_count": 37,
      "metadata": {
        "colab": {
          "base_uri": "https://localhost:8080/"
        },
        "id": "ecf1ab4e",
        "outputId": "89ab2a14-dbb5-4ba2-8199-80bc5ae13c19"
      },
      "outputs": [
        {
          "output_type": "execute_result",
          "data": {
            "text/plain": [
              "[278, 278, 278, 278, 278, 278, 278, 278, 209, 209]"
            ]
          },
          "metadata": {},
          "execution_count": 37
        }
      ],
      "source": [
        "# token count\n",
        "train_context_counts = [len(context) for context in contexts]\n",
        "train_context_counts[:10]"
      ],
      "id": "ecf1ab4e"
    },
    {
      "cell_type": "code",
      "execution_count": 38,
      "metadata": {
        "colab": {
          "base_uri": "https://localhost:8080/",
          "height": 295
        },
        "id": "2ae59033",
        "outputId": "16328f71-68ec-4292-dea7-4c70820a9c2b"
      },
      "outputs": [
        {
          "output_type": "display_data",
          "data": {
            "text/plain": [
              "<Figure size 576x288 with 1 Axes>"
            ],
            "image/png": "[encoded data removed]"
          },
          "metadata": {
            "needs_background": "light"
          }
        }
      ],
      "source": [
        "# 그래프에 대한 이미지 사이즈 선언\n",
        "# figsize: (가로, 세로) 형태의 튜플로 입력\n",
        "plt.figure(figsize=(8, 4))\n",
        "# histogram 선언\n",
        "# bins: 히스토그램 값들에 대한 버켓 범위, \n",
        "# range: x축 값의 범위\n",
        "# facecolor: 그래프 색상\n",
        "# label: 그래프에 대한 라벨\n",
        "plt.hist(train_context_counts, bins=900, range=[100, 1000], facecolor='r', label='train')\n",
        "# 그래프 제목\n",
        "plt.title('Count of context')\n",
        "# 그래프 x 축 라벨\n",
        "plt.xlabel('Number of context')\n",
        "# 그래프 y 축 라벨\n",
        "plt.ylabel('Count of context')\n",
        "plt.show()"
      ],
      "id": "2ae59033"
    },
    {
      "cell_type": "code",
      "execution_count": 39,
      "metadata": {
        "colab": {
          "base_uri": "https://localhost:8080/"
        },
        "id": "9932bafc",
        "outputId": "26db152a-4b17-4815-e5ba-a579411c07a5"
      },
      "outputs": [
        {
          "output_type": "stream",
          "name": "stdout",
          "text": [
            "context 길이 최대:    4816\n",
            "context 길이 최소:     108\n",
            "context 길이 평균:     222.84\n",
            "context 길이 표준편차:   97.68\n",
            "context 25/100분위:   169.00\n",
            "context 50/100분위:   199.00\n",
            "context 75/100분위:   248.00\n",
            "context IQR:          79.00\n",
            "context MAX/100분위:  366.50\n"
          ]
        }
      ],
      "source": [
        "# 데이터 길이\n",
        "print(f\"context 길이 최대:    {np.max(train_context_counts):4d}\")\n",
        "print(f\"context 길이 최소:    {np.min(train_context_counts):4d}\")\n",
        "print(f\"context 길이 평균:    {np.mean(train_context_counts):7.2f}\")\n",
        "print(f\"context 길이 표준편차: {np.std(train_context_counts):7.2f}\")\n",
        "# https://ko.wikipedia.org/wiki/%EB%B0%B1%EB%B6%84%EC%9C%84%EC%88%98\n",
        "# 백분위수(Percentile)는 크기가 있는 값들로 이뤄진 자료를 순서대로 나열했을 때 백분율로 나타낸 특정 위치의 값을 이르는 용어이다.\n",
        "# 일반적으로 크기가 작은 것부터 나열하여 가장 작은 것을 0, 가장 큰 것을 100으로 한다.\n",
        "# 100개의 값을 가진 어떤 자료의 20 백분위수는 그 자료의 값들 중 20번째로 작은 값을 뜻한다. 50 백분위수는 중앙값과 같다.\n",
        "percentile25 = np.percentile(train_context_counts, 25)\n",
        "percentile50 = np.percentile(train_context_counts, 50)\n",
        "percentile75 = np.percentile(train_context_counts, 75)\n",
        "percentileIQR = percentile75 - percentile25\n",
        "percentileMAX = percentile75 + percentileIQR * 1.5\n",
        "print(f\"context 25/100분위:  {percentile25:7.2f}\")\n",
        "print(f\"context 50/100분위:  {percentile50:7.2f}\")\n",
        "print(f\"context 75/100분위:  {percentile75:7.2f}\")\n",
        "print(f\"context IQR:        {percentileIQR:7.2f}\")\n",
        "print(f\"context MAX/100분위: {percentileMAX:7.2f}\")"
      ],
      "id": "9932bafc"
    },
    {
      "cell_type": "code",
      "execution_count": 40,
      "metadata": {
        "colab": {
          "base_uri": "https://localhost:8080/",
          "height": 375
        },
        "id": "1cf1462d",
        "outputId": "6b1ff8dc-11c2-4d4a-8a63-eaa75cd92960"
      },
      "outputs": [
        {
          "output_type": "display_data",
          "data": {
            "text/plain": [
              "<Figure size 288x432 with 1 Axes>"
            ],
            "image/png": "[encoded data removed]"
          },
          "metadata": {
            "needs_background": "light"
          }
        }
      ],
      "source": [
        "plt.figure(figsize=(4, 6))\n",
        "# 박스플롯 생성\n",
        "# 첫번째 파라메터: 여러 분포에 대한 데이터 리스트를\n",
        "# labels: 입력한 데이터에 대한 라벨\n",
        "# showmeans: 평균값을 표현\n",
        "# 참고: https://leebaro.tistory.com/entry/%EB%B0%95%EC%8A%A4-%ED%94%8C%EB%A1%AFbox-plot-%EC%84%A4%EB%AA%85\n",
        "plt.boxplot(train_context_counts, labels=['token counts'], showmeans=True)\n",
        "plt.show()"
      ],
      "id": "1cf1462d"
    },
    {
      "cell_type": "markdown",
      "metadata": {
        "id": "b5d9b7cb"
      },
      "source": [
        "# KorQuAD 데이터셋 전처리 (7) 데이터 분석 : Answer\n",
        "***\n",
        "* 동일한 방법으로 answer 항목에 대해서도 분석하기."
      ],
      "id": "b5d9b7cb"
    },
    {
      "cell_type": "code",
      "execution_count": 41,
      "metadata": {
        "colab": {
          "base_uri": "https://localhost:8080/"
        },
        "id": "3ebfe5b2",
        "outputId": "abdc1e6f-61c7-4a00-80a4-2a187f087720"
      },
      "outputs": [
        {
          "output_type": "execute_result",
          "data": {
            "text/plain": [
              "[19, 168, 80, 6, 143, 0, 165, 216, 164, 7]"
            ]
          },
          "metadata": {},
          "execution_count": 41
        }
      ],
      "source": [
        "# token count\n",
        "train_answer_starts = token_starts\n",
        "train_answer_starts[:10]"
      ],
      "id": "3ebfe5b2"
    },
    {
      "cell_type": "code",
      "execution_count": 42,
      "metadata": {
        "colab": {
          "base_uri": "https://localhost:8080/",
          "height": 295
        },
        "id": "713338d8",
        "outputId": "adb66abc-5b5e-49ae-ed0a-0be02c9783b2"
      },
      "outputs": [
        {
          "output_type": "display_data",
          "data": {
            "text/plain": [
              "<Figure size 576x288 with 1 Axes>"
            ],
            "image/png": "[encoded data removed]"
          },
          "metadata": {
            "needs_background": "light"
          }
        }
      ],
      "source": [
        "# 그래프에 대한 이미지 사이즈 선언\n",
        "# figsize: (가로, 세로) 형태의 튜플로 입력\n",
        "plt.figure(figsize=(8, 4))\n",
        "# histogram 선언\n",
        "# bins: 히스토그램 값들에 대한 버켓 범위, \n",
        "# range: x축 값의 범위\n",
        "# facecolor: 그래프 색상\n",
        "# label: 그래프에 대한 라벨\n",
        "plt.hist(train_answer_starts, bins=500, range=[0, 500], facecolor='g', label='train')\n",
        "# 그래프 제목\n",
        "plt.title('Count of answer')\n",
        "# 그래프 x 축 라벨\n",
        "plt.xlabel('Number of answer')\n",
        "# 그래프 y 축 라벨\n",
        "plt.ylabel('Count of answer')\n",
        "plt.show()"
      ],
      "id": "713338d8"
    },
    {
      "cell_type": "code",
      "execution_count": 43,
      "metadata": {
        "colab": {
          "base_uri": "https://localhost:8080/"
        },
        "id": "cc7b24b1",
        "outputId": "7cb6f01d-fe0d-44a6-b275-4395651706b4"
      },
      "outputs": [
        {
          "output_type": "stream",
          "name": "stdout",
          "text": [
            "answer 위치 최대:    1124\n",
            "answer 위치 최소:       0\n",
            "answer 위치 평균:      89.01\n",
            "answer 위치 표준편차:   78.21\n",
            "answer 25/100분위:    25.00\n",
            "answer 50/100분위:    74.00\n",
            "answer 75/100분위:   134.00\n",
            "answer IQR:         109.00\n",
            "answer MAX/100분위:  297.50\n"
          ]
        }
      ],
      "source": [
        "# 데이터 길이\n",
        "print(f\"answer 위치 최대:    {np.max(train_answer_starts):4d}\")\n",
        "print(f\"answer 위치 최소:    {np.min(train_answer_starts):4d}\")\n",
        "print(f\"answer 위치 평균:    {np.mean(train_answer_starts):7.2f}\")\n",
        "print(f\"answer 위치 표준편차: {np.std(train_answer_starts):7.2f}\")\n",
        "# https://ko.wikipedia.org/wiki/%EB%B0%B1%EB%B6%84%EC%9C%84%EC%88%98\n",
        "# 백분위수(Percentile)는 크기가 있는 값들로 이뤄진 자료를 순서대로 나열했을 때 백분율로 나타낸 특정 위치의 값을 이르는 용어이다.\n",
        "# 일반적으로 크기가 작은 것부터 나열하여 가장 작은 것을 0, 가장 큰 것을 100으로 한다.\n",
        "# 100개의 값을 가진 어떤 자료의 20 백분위수는 그 자료의 값들 중 20번째로 작은 값을 뜻한다. 50 백분위수는 중앙값과 같다.\n",
        "percentile25 = np.percentile(train_answer_starts, 25)\n",
        "percentile50 = np.percentile(train_answer_starts, 50)\n",
        "percentile75 = np.percentile(train_answer_starts, 75)\n",
        "percentileIQR = percentile75 - percentile25\n",
        "percentileMAX = percentile75 + percentileIQR * 1.5\n",
        "print(f\"answer 25/100분위:  {percentile25:7.2f}\")\n",
        "print(f\"answer 50/100분위:  {percentile50:7.2f}\")\n",
        "print(f\"answer 75/100분위:  {percentile75:7.2f}\")\n",
        "print(f\"answer IQR:        {percentileIQR:7.2f}\")\n",
        "print(f\"answer MAX/100분위: {percentileMAX:7.2f}\")"
      ],
      "id": "cc7b24b1"
    },
    {
      "cell_type": "code",
      "execution_count": 44,
      "metadata": {
        "colab": {
          "base_uri": "https://localhost:8080/",
          "height": 374
        },
        "id": "e91d3f2f",
        "outputId": "db88f62e-d276-4d24-f1ef-6a7548804968"
      },
      "outputs": [
        {
          "output_type": "display_data",
          "data": {
            "text/plain": [
              "<Figure size 288x432 with 1 Axes>"
            ],
            "image/png": "[encoded data removed]"
          },
          "metadata": {
            "needs_background": "light"
          }
        }
      ],
      "source": [
        "plt.figure(figsize=(4, 6))\n",
        "# 박스플롯 생성\n",
        "# 첫번째 파라메터: 여러 분포에 대한 데이터 리스트를\n",
        "# labels: 입력한 데이터에 대한 라벨\n",
        "# showmeans: 평균값을 표현\n",
        "# 참고: https://leebaro.tistory.com/entry/%EB%B0%95%EC%8A%A4-%ED%94%8C%EB%A1%AFbox-plot-%EC%84%A4%EB%AA%85\n",
        "plt.boxplot(train_answer_starts, labels=['token counts'], showmeans=True)\n",
        "plt.show()"
      ],
      "id": "e91d3f2f"
    },
    {
      "cell_type": "markdown",
      "metadata": {
        "id": "cf90c4cb"
      },
      "source": [
        "# KorQuAD 데이터셋 전처리 (8) 데이터 분석 : Word Cloud\n",
        "***"
      ],
      "id": "cf90c4cb"
    },
    {
      "cell_type": "code",
      "execution_count": 45,
      "metadata": {
        "colab": {
          "base_uri": "https://localhost:8080/",
          "height": 252,
          "referenced_widgets": [
            "b50ef2e4d2304c25ad9dc099398b0b75",
            "307a5398768f42509a420ae8dd4527c0",
            "3120af83cfe84d6dbfff460b304f4f3b",
            "476b1333c7c242199642fcac66cfe81e",
            "74391f89c8c040d397f277646a77a9eb",
            "9d389af9b5a14c1c943795dedee21a1a",
            "4646a0ce8a6141b1b96d04faaedad17e",
            "20ffa1b605a64aa4aef6107ffcb0970f",
            "ff0cdc535b8740178749ae29c307d718",
            "58a5d6295643447486efad514010129d",
            "f3b674a19dbb4960b81e447946af1841"
          ]
        },
        "id": "d4fdf994",
        "outputId": "9c4851cb-459b-4e86-c32c-f25eb68b11a9"
      },
      "outputs": [
        {
          "output_type": "display_data",
          "data": {
            "text/plain": [
              "  0%|          | 0/1420 [00:00<?, ?it/s]"
            ],
            "application/vnd.jupyter.widget-view+json": {
              "version_major": 2,
              "version_minor": 0,
              "model_id": "b50ef2e4d2304c25ad9dc099398b0b75"
            }
          },
          "metadata": {}
        },
        {
          "output_type": "execute_result",
          "data": {
            "text/plain": [
              "['파우스트_서곡',\n",
              " '1839년 바그너는 괴테의 파우스트을 처음 읽고 그 내용에 마음이 끌려 이를 소재로 해서 하나의 교향곡을 쓰려는 뜻을 갖는다. 이 시기 바그너는 1838년에 빛 독촉으로 산전수전을 다 걲은 상황이라 좌절과 실망에 가득했으며 메피스토펠레스를 만나는 파우스트의 심경에 공감했다고 한다. 또한 파리에서 아브네크의 지휘로 파리 음악원 관현악단이 연주하는 베토벤의 교향곡 9번을 듣고 깊은 감명을 받았는데, 이것이 이듬해 1월에 파우스트의 서곡으로 쓰여진 이 작품에 조금이라도 영향을 끼쳤으리라는 것은 의심할 여지가 없다. 여기의 라단조 조성의 경우에도 그의 전기에 적혀 있는 것처럼 단순한 정신적 피로나 실의가 반영된 것이 아니라 베토벤의 합창교향곡 조성의 영향을 받은 것을 볼 수 있다. 그렇게 교향곡 작곡을 1839년부터 40년에 걸쳐 파리에서 착수했으나 1악장을 쓴 뒤에 중단했다. 또한 작품의 완성과 동시에 그는 이 서곡(1악장)을 파리 음악원의 연주회에서 연주할 파트보까지 준비하였으나, 실제로는 이루어지지는 않았다. 결국 초연은 4년 반이 지난 후에 드레스덴에서 연주되었고 재연도 이루어졌지만, 이후에 그대로 방치되고 말았다. 그 사이에 그는 리엔치와 방황하는 네덜란드인을 완성하고 탄호이저에도 착수하는 등 분주한 시간을 보냈는데, 그런 바쁜 생활이 이 곡을 잊게 한 것이 아닌가 하는 의견도 있다.',\n",
              " '바그너는 괴테의 파우스트를 읽고 무엇을 쓰고자 했는가?',\n",
              " '바그너는 교향곡 작곡을 어디까지 쓴 뒤에 중단했는가?',\n",
              " '바그너가 파우스트 서곡을 쓸 때 어떤 곡의 영향을 받았는가?',\n",
              " '1839년 바그너가 교향곡의 소재로 쓰려고 했던 책은?',\n",
              " '파우스트 서곡의 라단조 조성이 영향을 받은 베토벤의 곡은?',\n",
              " '바그너가 파우스트를 처음으로 읽은 년도는?',\n",
              " '바그너가 처음 교향곡 작곡을 한 장소는?',\n",
              " '바그너의 1악장의 초연은 어디서 연주되었는가?']"
            ]
          },
          "metadata": {},
          "execution_count": 45
        }
      ],
      "source": [
        "# train documents\n",
        "documents = []\n",
        "\n",
        "# 전체 데이터에서 title, context, question 문장을 모두 추출합니다. \n",
        "for data in tqdm(train_json[\"data\"]):\n",
        "    title = data[\"title\"]\n",
        "    documents.append(title)\n",
        "    for paragraph in data[\"paragraphs\"]:\n",
        "        context = paragraph[\"context\"]\n",
        "        documents.append(context)\n",
        "\n",
        "        for qa in paragraph[\"qas\"]:\n",
        "            assert len(qa[\"answers\"]) == 1\n",
        "            question = qa[\"question\"]\n",
        "            documents.append(question)\n",
        "\n",
        "documents[:10]   # 그중 맨 앞 10개만 확인해 봅니다."
      ],
      "id": "d4fdf994"
    },
    {
      "cell_type": "code",
      "execution_count": 46,
      "metadata": {
        "colab": {
          "base_uri": "https://localhost:8080/",
          "height": 163
        },
        "id": "a5cf84c4",
        "outputId": "4507f038-2b7c-40d2-8f14-deb1a34a9552"
      },
      "outputs": [
        {
          "output_type": "execute_result",
          "data": {
            "text/plain": [
              "'파우스트_서곡 1839년 바그너는 괴테의 파우스트을 처음 읽고 그 내용에 마음이 끌려 이를 소재로 해서 하나의 교향곡을 쓰려는 뜻을 갖는다. 이 시기 바그너는 1838년에 빛 독촉으로 산전수전을 다 걲은 상황이라 좌절과 실망에 가득했으며 메피스토펠레스를 만나는 파우스트의 심경에 공감했다고 한다. 또한 파리에서 아브네크의 지휘로 파리 음악원 관현악단이 연주하는 베토벤의 교향곡 9번을 듣고 깊은 감명을 받았는데, 이것이 이듬해 1월에 파우스트의 서곡으로 쓰여진 이 작품에 조금이라도 영향을 끼쳤으리라는 것은 의심할 여지가 없다. 여기의 라단조 조성의 경우에도 그의 전기에 적혀 있는 것처럼 단순한 정신적 피로나 실의가 반영된 것이 아니라 베토벤의 합창교향곡 조성의 영향을 받은 것을 볼 수 있다. 그렇게 교향곡 작곡을 1839년부터 40년에 걸쳐 파리에서 착수했으나 1악장을 쓴 뒤에 중단했다. 또한 작품의 완성과 동시에 그는 이 서곡(1악장)을 파리 음악원의 연주회에서 연주할 파트보까지 준비하였으나, 실제로는 이루어지지는 않았다. 결국 초연은 4년 반이 지난 후에 드레스덴에서 연주되었고 재연도 이루어졌지만, 이후에 그대로 방치되고 말았다. 그 사이에 그는 리엔치와 방황하는 네덜란드인을 완성하고 탄호이저에도 착수하는 등 분주한 시간을 보냈는데, 그런 바쁜 생활이 이 곡을 잊게 한 것이 아닌가 하는 의견도 있다. 바그너는 괴테의 파우스트를 읽고 무엇을 쓰고자 했는가? 바그너는 교향곡 작곡을 어디까지 쓴 뒤에 중단했는가? 바그너가 파우스트 서곡을 쓸 때 어떤 곡의 영향을 받았는가? 1839년 바그너가 교향곡의 소재로 쓰려고 했던 책은? 파우스트 서곡의 라단조 조성이 영향을 받은 베토벤의 곡은? 바그너가 파우스트를 처음으로 읽은 년도는? 바그너가 처음 교향곡 작곡을 한 장소는? 바그너의 1악장의 초연은 어디서 연주되었는가?'"
            ],
            "application/vnd.google.colaboratory.intrinsic+json": {
              "type": "string"
            }
          },
          "metadata": {},
          "execution_count": 46
        }
      ],
      "source": [
        "# documents를 전부 이어 하나의 문장으로 만들면 이렇게 보입니다. \n",
        "\" \".join(documents[:10])"
      ],
      "id": "a5cf84c4"
    },
    {
      "cell_type": "code",
      "execution_count": 47,
      "metadata": {
        "colab": {
          "base_uri": "https://localhost:8080/",
          "height": 575
        },
        "id": "09727f88",
        "outputId": "40c5594c-6d5c-4446-cd0b-776fc5715acd"
      },
      "outputs": [
        {
          "output_type": "display_data",
          "data": {
            "text/plain": [
              "<Figure size 720x720 with 1 Axes>"
            ],
            "image/png": "[encoded data removed]"
          },
          "metadata": {
            "needs_background": "light"
          }
        }
      ],
      "source": [
        "# WordCloud로 \" \".join(documents)를 처리해 봅니다. \n",
        "wordcloud = WordCloud(width=800, height=800, font_path='/content/drive/MyDrive/data/HANCOM GOTHIC REGULAR.TTF').generate(\" \".join(documents))\n",
        "plt.figure(figsize=(10, 10))\n",
        "# image 출력, interpolation 이미지 시각화 옵션\n",
        "plt.imshow(wordcloud, interpolation='bilinear')\n",
        "plt.axis('off')\n",
        "plt.show()"
      ],
      "id": "09727f88"
    },
    {
      "cell_type": "markdown",
      "metadata": {
        "id": "b3c778eb"
      },
      "source": [
        "# KorQuAD 데이터셋 전처리 (9) 데이터 로드\n",
        "***\n",
        "* 데이터셋을 메모리에 로드하기."
      ],
      "id": "b3c778eb"
    },
    {
      "cell_type": "code",
      "execution_count": 48,
      "metadata": {
        "id": "abbe80b6"
      },
      "outputs": [],
      "source": [
        "train_json = os.path.join(data_dir, \"korquad_train.json\")\n",
        "dev_json = os.path.join(data_dir, \"korquad_dev.json\")"
      ],
      "id": "abbe80b6"
    },
    {
      "cell_type": "code",
      "execution_count": 49,
      "metadata": {
        "colab": {
          "base_uri": "https://localhost:8080/"
        },
        "id": "042f1119",
        "outputId": "3c6b9df6-a1e3-4337-d28f-27c4a4afb684"
      },
      "outputs": [
        {
          "output_type": "execute_result",
          "data": {
            "text/plain": [
              "{'max_query_length': 64, 'max_seq_length': 384}"
            ]
          },
          "metadata": {},
          "execution_count": 49
        }
      ],
      "source": [
        "class Config(dict):\n",
        "    \"\"\"\n",
        "    json을 config 형태로 사용하기 위한 Class\n",
        "    :param dict: config dictionary\n",
        "    \"\"\"\n",
        "    __getattr__ = dict.__getitem__\n",
        "    __setattr__ = dict.__setitem__\n",
        "\n",
        "\n",
        "args = Config({\n",
        "    'max_seq_length': 384,\n",
        "    'max_query_length': 64,\n",
        "})\n",
        "args"
      ],
      "id": "042f1119"
    },
    {
      "cell_type": "code",
      "execution_count": 50,
      "metadata": {
        "id": "e74e9d46"
      },
      "outputs": [],
      "source": [
        "# 생성한 데이터셋 파일을 메모리에 로딩하는 함수\n",
        "def load_data(args, filename):\n",
        "    inputs, segments, labels_start, labels_end = [], [], [], []\n",
        "\n",
        "    n_discard = 0\n",
        "    with open(filename, \"r\") as f:\n",
        "        for i, line in enumerate(tqdm(f, desc=f\"Loading ...\")):\n",
        "            data = json.loads(line)\n",
        "            token_start = data.get(\"token_start\")\n",
        "            token_end = data.get(\"token_end\")\n",
        "            question = data[\"question\"][:args.max_query_length]\n",
        "            context = data[\"context\"]\n",
        "            answer_tokens = \" \".join(context[token_start:token_end + 1])\n",
        "            context_len = args.max_seq_length - len(question) - 3\n",
        "\n",
        "            if token_end >= context_len:\n",
        "                # 최대 길이내에 token이 들어가지 않은 경우 처리하지 않음\n",
        "                n_discard += 1\n",
        "                continue\n",
        "            context = context[:context_len]\n",
        "            assert len(question) + len(context) <= args.max_seq_length - 3\n",
        "\n",
        "            tokens = ['[CLS]'] + question + ['[SEP]'] + context + ['[SEP]']\n",
        "            ids = [vocab.piece_to_id(token) for token in tokens]\n",
        "            ids += [0] * (args.max_seq_length - len(ids))\n",
        "            inputs.append(ids)\n",
        "            segs = [0] * (len(question) + 2) + [1] * (len(context) + 1)\n",
        "            segs += [0] * (args.max_seq_length - len(segs))\n",
        "            segments.append(segs)\n",
        "            token_start += (len(question) + 2)\n",
        "            labels_start.append(token_start)\n",
        "            token_end += (len(question) + 2)\n",
        "            labels_end.append(token_end)\n",
        "    print(f'n_discard: {n_discard}')\n",
        "\n",
        "    return (np.array(inputs), np.array(segments)), (np.array(labels_start), np.array(labels_end))"
      ],
      "id": "e74e9d46"
    },
    {
      "cell_type": "code",
      "execution_count": 51,
      "metadata": {
        "colab": {
          "base_uri": "https://localhost:8080/",
          "height": 556,
          "referenced_widgets": [
            "c71eac7fe93947799c0037b47c5ed7f1",
            "2c6ae61297234870b8ad9c52adb2f8d5",
            "717bcbc8911b4610accc1cf400a6e64b",
            "a1bd854d9e38422da1c3727807de5f16",
            "614211d96f504fcba38cbabb0370f04f",
            "8bc035d555ac4b96b88d70ffd1bfb113",
            "f14d976b35e74d1ab0091ec4d2a74edc",
            "cc6edd2ae26d4c51af0d184bccbd93cb",
            "c4bf45b457244c4293e2f702d07e31aa",
            "ce01ba4f39a542e4bdf82e6b0602f051",
            "9fe52815e3184e2b935471f4f8d9e88c",
            "c468bbc2b6494ca8b26fef06fc56bfaa",
            "928aad2b4f6e4ff8b9427d89501c81e4",
            "129e6f3ab08d48f684dbf88d8a7642db",
            "2a34f037c16449aaabce079b71a134f8",
            "ff97d17e4d524c258fb1a9317644e84c",
            "317f77e50e314c6486734eb072208af7",
            "c182b30bbfad43dabd36e58b85425abc",
            "84b1df39f9e3455a9cbb27b836ba8f4f",
            "775da07de6e44ca3bed508664af60fa1",
            "89e6ce9f54374225bbecaa95f56568ab",
            "1fc0c47da23848848929525502e6cbe8"
          ]
        },
        "id": "68b7888b",
        "outputId": "1ae960e9-21a9-4d17-ac46-509229dc6f94"
      },
      "outputs": [
        {
          "output_type": "display_data",
          "data": {
            "text/plain": [
              "Loading ...: 0it [00:00, ?it/s]"
            ],
            "application/vnd.jupyter.widget-view+json": {
              "version_major": 2,
              "version_minor": 0,
              "model_id": "c71eac7fe93947799c0037b47c5ed7f1"
            }
          },
          "metadata": {}
        },
        {
          "output_type": "stream",
          "name": "stdout",
          "text": [
            "n_discard: 430\n",
            "train_inputs: (59977, 384)\n",
            "train_inputs: (59977, 384)\n",
            "train_labels: (59977,)\n",
            "train_labels: (59977,)\n"
          ]
        },
        {
          "output_type": "display_data",
          "data": {
            "text/plain": [
              "Loading ...: 0it [00:00, ?it/s]"
            ],
            "application/vnd.jupyter.widget-view+json": {
              "version_major": 2,
              "version_minor": 0,
              "model_id": "c468bbc2b6494ca8b26fef06fc56bfaa"
            }
          },
          "metadata": {}
        },
        {
          "output_type": "stream",
          "name": "stdout",
          "text": [
            "n_discard: 78\n",
            "dev_inputs: (5696, 384)\n",
            "dev_inputs: (5696, 384)\n",
            "dev_labels: (5696,)\n",
            "dev_labels: (5696,)\n"
          ]
        },
        {
          "output_type": "execute_result",
          "data": {
            "text/plain": [
              "((array([[    5, 15798,    10, ...,     0,     0,     0],\n",
              "         [    5, 15798,    10, ...,     0,     0,     0],\n",
              "         [    5, 15798,    19, ...,     0,     0,     0],\n",
              "         ...,\n",
              "         [    5, 21666,    19, ...,     0,     0,     0],\n",
              "         [    5,   964, 16865, ...,     0,     0,     0],\n",
              "         [    5,   365,    15, ...,     0,     0,     0]]),\n",
              "  array([[0, 0, 0, ..., 0, 0, 0],\n",
              "         [0, 0, 0, ..., 0, 0, 0],\n",
              "         [0, 0, 0, ..., 0, 0, 0],\n",
              "         ...,\n",
              "         [0, 0, 0, ..., 0, 0, 0],\n",
              "         [0, 0, 0, ..., 0, 0, 0],\n",
              "         [0, 0, 0, ..., 0, 0, 0]])),\n",
              " (array([ 37, 184,  98, ...,  74, 190,  35]),\n",
              "  array([ 37, 185, 102, ...,  75, 191,  44])))"
            ]
          },
          "metadata": {},
          "execution_count": 51
        }
      ],
      "source": [
        "# train data load\n",
        "train_inputs, train_labels = load_data(args, train_json)\n",
        "print(f\"train_inputs: {train_inputs[0].shape}\")\n",
        "print(f\"train_inputs: {train_inputs[1].shape}\")\n",
        "print(f\"train_labels: {train_labels[0].shape}\")\n",
        "print(f\"train_labels: {train_labels[1].shape}\")\n",
        "\n",
        "# dev data load\n",
        "dev_inputs, dev_labels = load_data(args, dev_json)\n",
        "print(f\"dev_inputs: {dev_inputs[0].shape}\")\n",
        "print(f\"dev_inputs: {dev_inputs[1].shape}\")\n",
        "print(f\"dev_labels: {dev_labels[0].shape}\")\n",
        "print(f\"dev_labels: {dev_labels[1].shape}\")\n",
        "\n",
        "train_inputs[:10], train_labels[:10]"
      ],
      "id": "68b7888b"
    },
    {
      "cell_type": "markdown",
      "metadata": {
        "id": "f6a8ed01"
      },
      "source": [
        "* 데이터 확인"
      ],
      "id": "f6a8ed01"
    },
    {
      "cell_type": "code",
      "execution_count": 52,
      "metadata": {
        "colab": {
          "base_uri": "https://localhost:8080/"
        },
        "id": "620c9d14",
        "outputId": "37f23299-7630-4a6a-e573-320a1d387cf8"
      },
      "outputs": [
        {
          "output_type": "execute_result",
          "data": {
            "text/plain": [
              "array([    5, 22070,    15, 15798,    19,  6874,     9,  8376,  1687,\n",
              "        3692,  3683,  6905,  1910,     4, 22070,    15, 15798,    10,\n",
              "       28935,     9,    11, 29566,    16,   626, 14604,    38, 14028,\n",
              "       11773, 13829,   384,  8376,  3021,  1239,  6874,    16,  1687,\n",
              "        5958,  2694,  5061,     7,    30,  1613, 15798,    10, 28065,\n",
              "          75,  4415,  1816,  4978,    27,   347,   145,   107,  2703,\n",
              "         263,    11,     1,    18,  5853,    99,  9677,    24, 11969,\n",
              "          13,  7595,   437,  1019,  5907,   257,  3794,  1972,    20,\n",
              "       11278,    11, 29566,     9,   612, 12631, 13214,  1732,    76,\n",
              "           7,   110,  8802, 17581,   354,  9648,  2060,    21,  1682,\n",
              "       22110, 18164,    17, 21076, 14980,     9,  6874,    81, 11325,\n",
              "        4239,  3597,  1010,  1035, 17670,     8,  2447,  1306,    35,\n",
              "         443,    11, 29566,     9,   315, 12729, 14457,    30,  7938,\n",
              "        3742, 10766,   634,  9971, 17590, 19424,    10,   285,  4080,\n",
              "          61, 17573,   483,     7,  7588,     9,   473,   338,   147,\n",
              "        1924,     9, 11016,   136,  1034,    13, 11672,    40,  3436,\n",
              "        5217,  7898, 11684,    57,   830,     9,    19,  3319,    86,\n",
              "         220,   464, 14980,     9, 20515,   412,   991,   684,  1924,\n",
              "           9,   634,   920,   144,   430,    34,    25,     7,  4210,\n",
              "        6874,  2150,    16, 22070,   298,  1159,    75,  1098,  8802,\n",
              "        7490,   805,    35, 18678,    16,  1657,  1970,  2272,    53,\n",
              "           7,   110,  6559,  2178,    24,   756,    82,    30,   315,\n",
              "         684,  3772, 18678,    12,    16,  1682, 22110,     9, 22469,\n",
              "          22,  1757,    61,  8817,   194,   164,  1693,   749,     8,\n",
              "        6739, 12202,    10,   494,     7,   502, 12181,    18,    46,\n",
              "          15,   374,    17,  1680,   708, 26344,    22,  1757,   432,\n",
              "         465,   351,    32, 18563,   710,     8,  2585,  1384, 16071,\n",
              "         265,  3360,     7,    38,   747,    82,   383,   678,   200,\n",
              "          26,   590,  1281,    41,  1172,    31,    16,  2178,    43,\n",
              "        3044,   156,    17,   647,   468,  7490,    41,    84,   758,\n",
              "          92,    33,  3401,   369, 18319,     8,  2582, 29798,  1102,\n",
              "          17,    30,  4573, 11170,   139,    58,   220,   773,    19,\n",
              "         211, 23824,    25,     7,     4,     0,     0,     0,     0,\n",
              "           0,     0,     0,     0,     0,     0,     0,     0,     0,\n",
              "           0,     0,     0,     0,     0,     0,     0,     0,     0,\n",
              "           0,     0,     0,     0,     0,     0,     0,     0,     0,\n",
              "           0,     0,     0,     0,     0,     0,     0,     0,     0,\n",
              "           0,     0,     0,     0,     0,     0,     0,     0,     0,\n",
              "           0,     0,     0,     0,     0,     0,     0,     0,     0,\n",
              "           0,     0,     0,     0,     0,     0,     0,     0,     0,\n",
              "           0,     0,     0,     0,     0,     0,     0,     0,     0,\n",
              "           0,     0,     0,     0,     0,     0,     0,     0,     0,\n",
              "           0,     0,     0,     0,     0,     0])"
            ]
          },
          "metadata": {},
          "execution_count": 52
        }
      ],
      "source": [
        "# Question과 Context가 포함된 입력데이터 1번째\n",
        "train_inputs[0][3]"
      ],
      "id": "620c9d14"
    },
    {
      "cell_type": "code",
      "execution_count": 53,
      "metadata": {
        "colab": {
          "base_uri": "https://localhost:8080/"
        },
        "id": "5c29575b",
        "outputId": "f0c1d485-c975-495e-d716-1822ff68768e"
      },
      "outputs": [
        {
          "output_type": "execute_result",
          "data": {
            "text/plain": [
              "array([0, 0, 0, 0, 0, 0, 0, 0, 0, 0, 0, 0, 0, 0, 0, 0, 0, 0, 1, 1, 1, 1,\n",
              "       1, 1, 1, 1, 1, 1, 1, 1, 1, 1, 1, 1, 1, 1, 1, 1, 1, 1, 1, 1, 1, 1,\n",
              "       1, 1, 1, 1, 1, 1, 1, 1, 1, 1, 1, 1, 1, 1, 1, 1, 1, 1, 1, 1, 1, 1,\n",
              "       1, 1, 1, 1, 1, 1, 1, 1, 1, 1, 1, 1, 1, 1, 1, 1, 1, 1, 1, 1, 1, 1,\n",
              "       1, 1, 1, 1, 1, 1, 1, 1, 1, 1, 1, 1, 1, 1, 1, 1, 1, 1, 1, 1, 1, 1,\n",
              "       1, 1, 1, 1, 1, 1, 1, 1, 1, 1, 1, 1, 1, 1, 1, 1, 1, 1, 1, 1, 1, 1,\n",
              "       1, 1, 1, 1, 1, 1, 1, 1, 1, 1, 1, 1, 1, 1, 1, 1, 1, 1, 1, 1, 1, 1,\n",
              "       1, 1, 1, 1, 1, 1, 1, 1, 1, 1, 1, 1, 1, 1, 1, 1, 1, 1, 1, 1, 1, 1,\n",
              "       1, 1, 1, 1, 1, 1, 1, 1, 1, 1, 1, 1, 1, 1, 1, 1, 1, 1, 1, 1, 1, 1,\n",
              "       1, 1, 1, 1, 1, 1, 1, 1, 1, 1, 1, 1, 1, 1, 1, 1, 1, 1, 1, 1, 1, 1,\n",
              "       1, 1, 1, 1, 1, 1, 1, 1, 1, 1, 1, 1, 1, 1, 1, 1, 1, 1, 1, 1, 1, 1,\n",
              "       1, 1, 1, 1, 1, 1, 1, 1, 1, 1, 1, 1, 1, 1, 1, 1, 1, 1, 1, 1, 1, 1,\n",
              "       1, 1, 1, 1, 1, 1, 1, 1, 1, 1, 1, 1, 1, 1, 1, 1, 1, 1, 1, 1, 1, 1,\n",
              "       1, 1, 1, 1, 1, 1, 1, 1, 1, 1, 1, 0, 0, 0, 0, 0, 0, 0, 0, 0, 0, 0,\n",
              "       0, 0, 0, 0, 0, 0, 0, 0, 0, 0, 0, 0, 0, 0, 0, 0, 0, 0, 0, 0, 0, 0,\n",
              "       0, 0, 0, 0, 0, 0, 0, 0, 0, 0, 0, 0, 0, 0, 0, 0, 0, 0, 0, 0, 0, 0,\n",
              "       0, 0, 0, 0, 0, 0, 0, 0, 0, 0, 0, 0, 0, 0, 0, 0, 0, 0, 0, 0, 0, 0,\n",
              "       0, 0, 0, 0, 0, 0, 0, 0, 0, 0])"
            ]
          },
          "metadata": {},
          "execution_count": 53
        }
      ],
      "source": [
        "# Question을 0으로, Context를 1로 구분해 준 Segment 데이터 1번째\n",
        "train_inputs[1][0]"
      ],
      "id": "5c29575b"
    },
    {
      "cell_type": "code",
      "execution_count": 54,
      "metadata": {
        "colab": {
          "base_uri": "https://localhost:8080/"
        },
        "id": "14289b9e",
        "outputId": "f83f4e35-599d-4cf8-bbd0-cd5a35edba40"
      },
      "outputs": [
        {
          "output_type": "execute_result",
          "data": {
            "text/plain": [
              "(37, 37)"
            ]
          },
          "metadata": {},
          "execution_count": 54
        }
      ],
      "source": [
        "# Answer위치의 시작점과 끝점 라벨 1번째\n",
        "train_labels[0][0], train_labels[1][0]"
      ],
      "id": "14289b9e"
    },
    {
      "cell_type": "markdown",
      "metadata": {
        "id": "57e7ba78"
      },
      "source": [
        "# BERT, BERT pretrained model 학습 진행"
      ],
      "id": "57e7ba78"
    },
    {
      "cell_type": "code",
      "execution_count": 55,
      "metadata": {
        "id": "6a4289aa"
      },
      "outputs": [],
      "source": [
        "# 유틸리티 함수들\n",
        "\n",
        "def get_pad_mask(tokens, i_pad=0):\n",
        "    \"\"\"\n",
        "    pad mask 계산하는 함수\n",
        "    :param tokens: tokens (bs, n_seq)\n",
        "    :param i_pad: id of pad\n",
        "    :return mask: pad mask (pad: 1, other: 0)\n",
        "    \"\"\"\n",
        "    mask = tf.cast(tf.math.equal(tokens, i_pad), tf.float32)\n",
        "    mask = tf.expand_dims(mask, axis=1)\n",
        "    return mask\n",
        "\n",
        "\n",
        "def get_ahead_mask(tokens, i_pad=0):\n",
        "    \"\"\"\n",
        "    ahead mask 계산하는 함수\n",
        "    :param tokens: tokens (bs, n_seq)\n",
        "    :param i_pad: id of pad\n",
        "    :return mask: ahead and pad mask (ahead or pad: 1, other: 0)\n",
        "    \"\"\"\n",
        "    n_seq = tf.shape(tokens)[1]\n",
        "    ahead_mask = 1 - tf.linalg.band_part(tf.ones((n_seq, n_seq)), -1, 0)\n",
        "    ahead_mask = tf.expand_dims(ahead_mask, axis=0)\n",
        "    pad_mask = get_pad_mask(tokens, i_pad)\n",
        "    mask = tf.maximum(ahead_mask, pad_mask)\n",
        "    return mask\n",
        "\n",
        "\n",
        "@tf.function(experimental_relax_shapes=True)\n",
        "def gelu(x):\n",
        "    \"\"\"\n",
        "    gelu activation 함수\n",
        "    :param x: 입력 값\n",
        "    :return: gelu activation result\n",
        "    \"\"\"\n",
        "    return 0.5 * x * (1 + K.tanh(x * 0.7978845608 * (1 + 0.044715 * x * x)))\n",
        "\n",
        "\n",
        "def kernel_initializer(stddev=0.02):\n",
        "    \"\"\"\n",
        "    parameter initializer 생성\n",
        "    :param stddev: 생성할 랜덤 변수의 표준편차\n",
        "    \"\"\"\n",
        "    return tf.keras.initializers.TruncatedNormal(stddev=stddev)\n",
        "\n",
        "\n",
        "def bias_initializer():\n",
        "    \"\"\"\n",
        "    bias initializer 생성\n",
        "    \"\"\"\n",
        "    return tf.zeros_initializer\n",
        "\n",
        "\n",
        "class Config(dict):\n",
        "    \"\"\"\n",
        "    json을 config 형태로 사용하기 위한 Class\n",
        "    :param dict: config dictionary\n",
        "    \"\"\"\n",
        "    __getattr__ = dict.__getitem__\n",
        "    __setattr__ = dict.__setitem__\n",
        "\n",
        "    @classmethod\n",
        "    def load(cls, file):\n",
        "        \"\"\"\n",
        "        file에서 Config를 생성 함\n",
        "        :param file: filename\n",
        "        \"\"\"\n",
        "        with open(file, 'r') as f:\n",
        "            config = json.loads(f.read())\n",
        "            return Config(config)"
      ],
      "id": "6a4289aa"
    },
    {
      "cell_type": "code",
      "execution_count": 56,
      "metadata": {
        "id": "2d8f4ee1"
      },
      "outputs": [],
      "source": [
        "# mode == \"embedding\" 일 경우 Token Embedding Layer 로 사용되는 layer 클래스입니다. \n",
        "\n",
        "class SharedEmbedding(tf.keras.layers.Layer):\n",
        "    \"\"\"\n",
        "    Weighed Shared Embedding Class\n",
        "    \"\"\"\n",
        "    def __init__(self, config, name=\"weight_shared_embedding\"):\n",
        "        \"\"\"\n",
        "        생성자\n",
        "        :param config: Config 객체\n",
        "        :param name: layer name\n",
        "        \"\"\"\n",
        "        super().__init__(name=name)\n",
        "\n",
        "        self.n_vocab = config.n_vocab\n",
        "        self.d_model = config.d_model\n",
        "    \n",
        "    def build(self, input_shape):\n",
        "        \"\"\"\n",
        "        shared weight 생성\n",
        "        :param input_shape: Tensor Shape (not used)\n",
        "        \"\"\"\n",
        "        with tf.name_scope(\"shared_embedding_weight\"):\n",
        "            self.shared_weights = self.add_weight(\n",
        "                \"weights\",\n",
        "                shape=[self.n_vocab, self.d_model],\n",
        "                initializer=kernel_initializer()\n",
        "            )\n",
        "\n",
        "    def call(self, inputs, mode=\"embedding\"):\n",
        "        \"\"\"\n",
        "        layer 실행\n",
        "        :param inputs: 입력\n",
        "        :param mode: 실행 모드\n",
        "        :return: embedding or linear 실행 결과\n",
        "        \"\"\"\n",
        "        # mode가 embedding일 경우 embedding lookup 실행\n",
        "        if mode == \"embedding\":\n",
        "            return self._embedding(inputs)\n",
        "        # mode가 linear일 경우 linear 실행\n",
        "        elif mode == \"linear\":\n",
        "            return self._linear(inputs)\n",
        "        # mode가 기타일 경우 오류 발생\n",
        "        else:\n",
        "            raise ValueError(f\"mode {mode} is not valid.\")\n",
        "    \n",
        "    def _embedding(self, inputs):\n",
        "        \"\"\"\n",
        "        embedding lookup\n",
        "        :param inputs: 입력\n",
        "        \"\"\"\n",
        "        embed = tf.gather(self.shared_weights, tf.cast(inputs, tf.int32))\n",
        "        return embed\n",
        "\n",
        "    def _linear(self, inputs):  # (bs, n_seq, d_model)\n",
        "        \"\"\"\n",
        "        linear 실행\n",
        "        :param inputs: 입력\n",
        "        \"\"\"\n",
        "        n_batch = tf.shape(inputs)[0]\n",
        "        n_seq = tf.shape(inputs)[1]\n",
        "        inputs = tf.reshape(inputs, [-1, self.d_model])  # (bs * n_seq, d_model)\n",
        "        outputs = tf.matmul(inputs, self.shared_weights, transpose_b=True)\n",
        "        outputs = tf.reshape(outputs, [n_batch, n_seq, self.n_vocab])  # (bs, n_seq, n_vocab)\n",
        "        return outputs"
      ],
      "id": "2d8f4ee1"
    },
    {
      "cell_type": "code",
      "execution_count": 57,
      "metadata": {
        "id": "13f74270"
      },
      "outputs": [],
      "source": [
        "class PositionalEmbedding(tf.keras.layers.Layer):\n",
        "    \"\"\"\n",
        "    Positional Embedding Class\n",
        "    \"\"\"\n",
        "    def __init__(self, config, name=\"position_embedding\"):\n",
        "        \"\"\"\n",
        "        생성자\n",
        "        :param config: Config 객체\n",
        "        :param name: layer name\n",
        "        \"\"\"\n",
        "        super().__init__(name=name)\n",
        "        \n",
        "        self.embedding = tf.keras.layers.Embedding(config.n_seq, config.d_model, embeddings_initializer=kernel_initializer())\n",
        "\n",
        "    def call(self, inputs):\n",
        "        \"\"\"\n",
        "        layer 실행\n",
        "        :param inputs: 입력\n",
        "        :return embed: positional embedding lookup 결과\n",
        "        \"\"\"\n",
        "        position = tf.cast(tf.math.cumsum(tf.ones_like(inputs), axis=1, exclusive=True), tf.int32)\n",
        "        embed = self.embedding(position)\n",
        "        return embed"
      ],
      "id": "13f74270"
    },
    {
      "cell_type": "code",
      "execution_count": 58,
      "metadata": {
        "id": "897a54e6"
      },
      "outputs": [],
      "source": [
        "class ScaleDotProductAttention(tf.keras.layers.Layer):\n",
        "    \"\"\"\n",
        "    Scale Dot Product Attention Class\n",
        "    \"\"\"\n",
        "    def __init__(self, name=\"scale_dot_product_attention\"):\n",
        "        \"\"\"\n",
        "        생성자\n",
        "        :param name: layer name\n",
        "        \"\"\"\n",
        "        super().__init__(name=name)\n",
        "\n",
        "    def call(self, Q, K, V, attn_mask):\n",
        "        \"\"\"\n",
        "        layer 실행\n",
        "        :param Q: Q value\n",
        "        :param K: K value\n",
        "        :param V: V value\n",
        "        :param attn_mask: 실행 모드\n",
        "        :return attn_out: attention 실행 결과\n",
        "        \"\"\"\n",
        "        attn_score = tf.matmul(Q, K, transpose_b=True)\n",
        "        scale = tf.math.sqrt(tf.cast(tf.shape(K)[-1], tf.float32))\n",
        "        attn_scale = tf.math.divide(attn_score, scale)\n",
        "        attn_scale -= 1.e9 * attn_mask\n",
        "        attn_prob = tf.nn.softmax(attn_scale, axis=-1)\n",
        "        attn_out = tf.matmul(attn_prob, V)\n",
        "        return attn_out"
      ],
      "id": "897a54e6"
    },
    {
      "cell_type": "code",
      "execution_count": 59,
      "metadata": {
        "id": "c05e2f8d"
      },
      "outputs": [],
      "source": [
        "class MultiHeadAttention(tf.keras.layers.Layer):\n",
        "    \"\"\"\n",
        "    Multi Head Attention Class\n",
        "    \"\"\"\n",
        "    def __init__(self, config, name=\"multi_head_attention\"):\n",
        "        \"\"\"\n",
        "        생성자\n",
        "        :param config: Config 객체\n",
        "        :param name: layer name\n",
        "        \"\"\"\n",
        "        super().__init__(name=name)\n",
        "\n",
        "        self.d_model = config.d_model\n",
        "        self.n_head = config.n_head\n",
        "        self.d_head = config.d_head\n",
        "\n",
        "        # Q, K, V input dense layer\n",
        "        self.W_Q = tf.keras.layers.Dense(config.n_head * config.d_head, kernel_initializer=kernel_initializer(), bias_initializer=bias_initializer())\n",
        "        self.W_K = tf.keras.layers.Dense(config.n_head * config.d_head, kernel_initializer=kernel_initializer(), bias_initializer=bias_initializer())\n",
        "        self.W_V = tf.keras.layers.Dense(config.n_head * config.d_head, kernel_initializer=kernel_initializer(), bias_initializer=bias_initializer())\n",
        "        # Scale Dot Product Attention class\n",
        "        self.attention = ScaleDotProductAttention(name=\"self_attention\")\n",
        "        # output dense layer\n",
        "        self.W_O = tf.keras.layers.Dense(config.d_model, kernel_initializer=kernel_initializer(), bias_initializer=bias_initializer())\n",
        "\n",
        "    def call(self, Q, K, V, attn_mask):\n",
        "        \"\"\"\n",
        "        layer 실행\n",
        "        :param Q: Q value\n",
        "        :param K: K value\n",
        "        :param V: V value\n",
        "        :param attn_mask: 실행 모드\n",
        "        :return attn_out: attention 실행 결과\n",
        "        \"\"\"\n",
        "        # reshape Q, K, V, attn_mask\n",
        "        batch_size = tf.shape(Q)[0]\n",
        "        Q_m = tf.transpose(tf.reshape(self.W_Q(Q), [batch_size, -1, self.n_head, self.d_head]), [0, 2, 1, 3])  # (bs, n_head, Q_len, d_head)\n",
        "        K_m = tf.transpose(tf.reshape(self.W_K(K), [batch_size, -1, self.n_head, self.d_head]), [0, 2, 1, 3])  # (bs, n_head, K_len, d_head)\n",
        "        V_m = tf.transpose(tf.reshape(self.W_V(V), [batch_size, -1, self.n_head, self.d_head]), [0, 2, 1, 3])  # (bs, n_head, K_len, d_head)\n",
        "        attn_mask_m = tf.expand_dims(attn_mask, axis=1)\n",
        "        # Scale Dot Product Attention with multi head Q, K, V, attn_mask\n",
        "        attn_out = self.attention(Q_m, K_m, V_m, attn_mask_m)  # (bs, n_head, Q_len, d_head)\n",
        "        # transpose and liner\n",
        "        attn_out_m = tf.transpose(attn_out, perm=[0, 2, 1, 3])  # (bs, Q_len, n_head, d_head)\n",
        "        attn_out = tf.reshape(attn_out_m, [batch_size, -1, config.n_head * config.d_head])  # (bs, Q_len, d_model)\n",
        "        attn_out = self.W_O(attn_out) # (bs, Q_len, d_model)\n",
        "\n",
        "        return attn_out"
      ],
      "id": "c05e2f8d"
    },
    {
      "cell_type": "code",
      "execution_count": 60,
      "metadata": {
        "id": "ccd1bd4b"
      },
      "outputs": [],
      "source": [
        "class PositionWiseFeedForward(tf.keras.layers.Layer):\n",
        "    \"\"\"\n",
        "    Position Wise Feed Forward Class\n",
        "    \"\"\"\n",
        "    def __init__(self, config, name=\"feed_forward\"):\n",
        "        \"\"\"\n",
        "        생성자\n",
        "        :param config: Config 객체\n",
        "        :param name: layer name\n",
        "        \"\"\"\n",
        "        super().__init__(name=name)\n",
        "\n",
        "        self.W_1 = tf.keras.layers.Dense(config.d_ff, activation=gelu, kernel_initializer=kernel_initializer(), bias_initializer=bias_initializer())\n",
        "        self.W_2 = tf.keras.layers.Dense(config.d_model, kernel_initializer=kernel_initializer(), bias_initializer=bias_initializer())\n",
        "\n",
        "    def call(self, inputs):\n",
        "        \"\"\"\n",
        "        layer 실행\n",
        "        :param inputs: inputs\n",
        "        :return ff_val: feed forward 실행 결과\n",
        "        \"\"\"\n",
        "        ff_val = self.W_2(self.W_1(inputs))\n",
        "        return ff_val"
      ],
      "id": "ccd1bd4b"
    },
    {
      "cell_type": "code",
      "execution_count": 61,
      "metadata": {
        "id": "bff5ac39"
      },
      "outputs": [],
      "source": [
        "class EncoderLayer(tf.keras.layers.Layer):\n",
        "    \"\"\"\n",
        "    Encoder Layer Class\n",
        "    \"\"\"\n",
        "    def __init__(self, config, name=\"encoder_layer\"):\n",
        "        \"\"\"\n",
        "        생성자\n",
        "        :param config: Config 객체\n",
        "        :param name: layer name\n",
        "        \"\"\"\n",
        "        super().__init__(name=name)\n",
        "\n",
        "        self.self_attention = MultiHeadAttention(config)\n",
        "        self.norm1 = tf.keras.layers.LayerNormalization(epsilon=config.layernorm_epsilon)\n",
        "\n",
        "        self.ffn = PositionWiseFeedForward(config)\n",
        "        self.norm2 = tf.keras.layers.LayerNormalization(epsilon=config.layernorm_epsilon)\n",
        "\n",
        "        self.dropout = tf.keras.layers.Dropout(config.dropout)\n",
        " \n",
        "    def call(self, enc_embed, self_mask):\n",
        "        \"\"\"\n",
        "        layer 실행\n",
        "        :param enc_embed: enc_embed 또는 이전 EncoderLayer의 출력\n",
        "        :param self_mask: enc_tokens의 pad mask\n",
        "        :return enc_out: EncoderLayer 실행 결과\n",
        "        \"\"\"\n",
        "        self_attn_val = self.self_attention(enc_embed, enc_embed, enc_embed, self_mask)\n",
        "        norm1_val = self.norm1(enc_embed + self.dropout(self_attn_val))\n",
        "\n",
        "        ffn_val = self.ffn(norm1_val)\n",
        "        enc_out = self.norm2(norm1_val + self.dropout(ffn_val))\n",
        "\n",
        "        return enc_out"
      ],
      "id": "bff5ac39"
    },
    {
      "cell_type": "code",
      "execution_count": 62,
      "metadata": {
        "id": "cae7df4d"
      },
      "outputs": [],
      "source": [
        "class BERT(tf.keras.layers.Layer):\n",
        "    \"\"\"\n",
        "    BERT Class\n",
        "    \"\"\"\n",
        "    def __init__(self, config, name=\"bert\"):\n",
        "        \"\"\"\n",
        "        생성자\n",
        "        :param config: Config 객체\n",
        "        :param name: layer name\n",
        "        \"\"\"\n",
        "        super().__init__(name=name)\n",
        "\n",
        "        self.i_pad = config.i_pad\n",
        "        self.embedding = SharedEmbedding(config)\n",
        "        self.position = PositionalEmbedding(config)\n",
        "        self.segment = tf.keras.layers.Embedding(2, config.d_model, embeddings_initializer=kernel_initializer())\n",
        "        self.norm = tf.keras.layers.LayerNormalization(epsilon=config.layernorm_epsilon)\n",
        "        \n",
        "        self.encoder_layers = [EncoderLayer(config, name=f\"encoder_layer_{i}\") for i in range(config.n_layer)]\n",
        "\n",
        "        self.dropout = tf.keras.layers.Dropout(config.dropout)\n",
        "\n",
        "    def call(self, enc_tokens, segments):\n",
        "        \"\"\"\n",
        "        layer 실행\n",
        "        :param enc_tokens: encoder tokens\n",
        "        :param segments: token segments\n",
        "        :return logits_cls: CLS 결과 logits\n",
        "        :return logits_lm: LM 결과 logits\n",
        "        \"\"\"\n",
        "        enc_self_mask = get_pad_mask(enc_tokens, self.i_pad)\n",
        "\n",
        "        enc_embed = self.get_embedding(enc_tokens, segments)\n",
        "\n",
        "        enc_out = self.dropout(enc_embed)\n",
        "        for encoder_layer in self.encoder_layers:\n",
        "            enc_out = encoder_layer(enc_out, enc_self_mask)\n",
        "\n",
        "        logits_cls = enc_out[:,0]\n",
        "        logits_lm = enc_out\n",
        "        return logits_cls, logits_lm\n",
        "    \n",
        "    def get_embedding(self, tokens, segments):\n",
        "        \"\"\"\n",
        "        token embedding, position embedding lookup\n",
        "        :param tokens: 입력 tokens\n",
        "        :param segments: 입력 segments\n",
        "        :return embed: embedding 결과\n",
        "        \"\"\"\n",
        "        embed = self.embedding(tokens) + self.position(tokens) + self.segment(segments)\n",
        "        embed = self.norm(embed)\n",
        "        return embed"
      ],
      "id": "cae7df4d"
    },
    {
      "cell_type": "markdown",
      "metadata": {
        "id": "97c81c94"
      },
      "source": [
        "# BERT 레이어를 구성"
      ],
      "id": "97c81c94"
    },
    {
      "cell_type": "code",
      "execution_count": 63,
      "metadata": {
        "id": "5b889271"
      },
      "outputs": [],
      "source": [
        "class BERT4KorQuAD(tf.keras.Model):\n",
        "    def __init__(self, config):\n",
        "        super().__init__(name='BERT4KorQuAD')\n",
        "\n",
        "        self.bert = BERT(config)\n",
        "        self.dense = tf.keras.layers.Dense(2)\n",
        "    \n",
        "    def call(self, enc_tokens, segments):\n",
        "        logits_cls, logits_lm = self.bert(enc_tokens, segments)\n",
        "\n",
        "        hidden = self.dense(logits_lm) # (bs, n_seq, 2)\n",
        "        start_logits, end_logits = tf.split(hidden, 2, axis=-1)  # (bs, n_seq, 1), (bs, n_seq, 1)\n",
        "\n",
        "        start_logits = tf.squeeze(start_logits, axis=-1)\n",
        "        start_outputs = tf.keras.layers.Softmax(name=\"start\")(start_logits)\n",
        "\n",
        "        end_logits = tf.squeeze(end_logits, axis=-1)\n",
        "        end_outputs = tf.keras.layers.Softmax(name=\"end\")(end_logits)\n",
        "\n",
        "        return start_outputs, end_outputs"
      ],
      "id": "5b889271"
    },
    {
      "cell_type": "code",
      "execution_count": 64,
      "metadata": {
        "colab": {
          "base_uri": "https://localhost:8080/"
        },
        "id": "295b3f7c",
        "outputId": "e7427936-ba92-4f2c-dd36-c6b4c5e7d712",
        "scrolled": false
      },
      "outputs": [
        {
          "output_type": "execute_result",
          "data": {
            "text/plain": [
              "{'d_ff': 1024,\n",
              " 'd_head': 64,\n",
              " 'd_model': 512,\n",
              " 'dropout': 0.1,\n",
              " 'i_pad': 0,\n",
              " 'layernorm_epsilon': 0.001,\n",
              " 'n_head': 8,\n",
              " 'n_layer': 6,\n",
              " 'n_seq': 384,\n",
              " 'n_vocab': 32007}"
            ]
          },
          "metadata": {},
          "execution_count": 64
        }
      ],
      "source": [
        "config = Config({\"d_model\": 512, \"n_head\": 8, \"d_head\": 64, \"dropout\": 0.1, \"d_ff\": 1024, \"layernorm_epsilon\": 0.001, \"n_layer\": 6, \"n_seq\": 384, \"n_vocab\": 0, \"i_pad\": 0})\n",
        "config.n_vocab = len(vocab)\n",
        "config.i_pad = vocab.pad_id()\n",
        "config"
      ],
      "id": "295b3f7c"
    },
    {
      "cell_type": "code",
      "execution_count": 65,
      "metadata": {
        "id": "f1c60b7e",
        "scrolled": false
      },
      "outputs": [],
      "source": [
        "bert_batch_size = 32 \n",
        "\n",
        "train_dataset = tf.data.Dataset.from_tensor_slices((train_inputs, train_labels)).shuffle(10000).batch(bert_batch_size)\n",
        "dev_dataset = tf.data.Dataset.from_tensor_slices((dev_inputs, dev_labels)).batch(bert_batch_size)"
      ],
      "id": "f1c60b7e"
    },
    {
      "cell_type": "code",
      "execution_count": 66,
      "metadata": {
        "id": "7072a42a"
      },
      "outputs": [],
      "source": [
        "model = BERT4KorQuAD(config)"
      ],
      "id": "7072a42a"
    },
    {
      "cell_type": "code",
      "execution_count": 67,
      "metadata": {
        "id": "35afff2e"
      },
      "outputs": [],
      "source": [
        "def train_epoch(model, dataset, loss_fn, acc_fn, optimizer):\n",
        "    metric_start_loss = tf.keras.metrics.Mean(name='start_loss')\n",
        "    metric_end_loss = tf.keras.metrics.Mean(name='end_loss')\n",
        "    metric_start_acc = tf.keras.metrics.Mean(name='start_acc')\n",
        "    metric_end_acc = tf.keras.metrics.Mean(name='end_acc')\n",
        "\n",
        "    p_bar = tqdm(dataset)\n",
        "    for batch, ((enc_tokens, segments), (start_labels, end_labels)) in enumerate(p_bar):\n",
        "        with tf.GradientTape() as tape:\n",
        "            start_outputs, end_outputs = model(enc_tokens, segments)\n",
        "\n",
        "            start_loss = loss_fn(start_labels, start_outputs)\n",
        "            end_loss = loss_fn(end_labels, end_outputs)\n",
        "            loss = start_loss + end_loss\n",
        "\n",
        "            start_acc = acc_fn(start_labels, start_outputs)\n",
        "            end_acc = acc_fn(end_labels, end_outputs)\n",
        "        gradients = tape.gradient(loss, model.trainable_variables)\n",
        "        optimizer.apply_gradients(zip(gradients, model.trainable_variables))\n",
        "\n",
        "        metric_start_loss(start_loss)\n",
        "        metric_end_loss(end_loss)\n",
        "        metric_start_acc(start_acc)\n",
        "        metric_end_acc(end_acc)\n",
        "        if batch % 10 == 9:\n",
        "            p_bar.set_description(f'loss: {metric_start_loss.result():0.4f}, {metric_end_loss.result():0.4f}, acc: {metric_start_acc.result():0.4f}, {metric_end_acc.result():0.4f}')\n",
        "    p_bar.close()\n",
        "\n",
        "    return metric_start_loss.result(), metric_end_loss.result(), metric_start_acc.result(), metric_end_acc.result()"
      ],
      "id": "35afff2e"
    },
    {
      "cell_type": "code",
      "execution_count": 68,
      "metadata": {
        "id": "4zCatE6YYPGG"
      },
      "outputs": [],
      "source": [
        "def eval_epoch(model, dataset, loss_fn, acc_fn):\n",
        "    metric_start_loss = tf.keras.metrics.Mean(name='start_loss')\n",
        "    metric_end_loss = tf.keras.metrics.Mean(name='end_loss')\n",
        "    metric_start_acc = tf.keras.metrics.Mean(name='start_acc')\n",
        "    metric_end_acc = tf.keras.metrics.Mean(name='end_acc')\n",
        "\n",
        "    for batch, ((enc_tokens, segments), (start_labels, end_labels)) in enumerate(dataset):\n",
        "        start_outputs, end_outputs = model(enc_tokens, segments)\n",
        "\n",
        "        start_loss = loss_fn(start_labels, start_outputs)\n",
        "        end_loss = loss_fn(end_labels, end_outputs)\n",
        "\n",
        "        start_acc = acc_fn(start_labels, start_outputs)\n",
        "        end_acc = acc_fn(end_labels, end_outputs)\n",
        "\n",
        "        metric_start_loss(start_loss)\n",
        "        metric_end_loss(end_loss)\n",
        "        metric_start_acc(start_acc)\n",
        "        metric_end_acc(end_acc)\n",
        "\n",
        "    return metric_start_loss.result(), metric_end_loss.result(), metric_start_acc.result(), metric_end_acc.result()"
      ],
      "id": "4zCatE6YYPGG"
    },
    {
      "cell_type": "code",
      "execution_count": 1,
      "metadata": {
        "colab": {
          "base_uri": "https://localhost:8080/",
          "height": 246
        },
        "id": "GCzg7AYGYQgh",
        "outputId": "b53d9681-089b-4fb7-97c7-fa84c739023b"
      },
      "outputs": [
        {
          "output_type": "error",
          "ename": "NameError",
          "evalue": "ignored",
          "traceback": [
            "\u001b[0;31m---------------------------------------------------------------------------\u001b[0m",
            "\u001b[0;31mNameError\u001b[0m                                 Traceback (most recent call last)",
            "\u001b[0;32m<ipython-input-1-87d5abb13158>\u001b[0m in \u001b[0;36m<module>\u001b[0;34m()\u001b[0m\n\u001b[0;32m----> 1\u001b[0;31m \u001b[0mloss_fn\u001b[0m \u001b[0;34m=\u001b[0m \u001b[0mtf\u001b[0m\u001b[0;34m.\u001b[0m\u001b[0mkeras\u001b[0m\u001b[0;34m.\u001b[0m\u001b[0mlosses\u001b[0m\u001b[0;34m.\u001b[0m\u001b[0msparse_categorical_crossentropy\u001b[0m\u001b[0;34m\u001b[0m\u001b[0;34m\u001b[0m\u001b[0m\n\u001b[0m\u001b[1;32m      2\u001b[0m \u001b[0macc_fn\u001b[0m \u001b[0;34m=\u001b[0m \u001b[0mtf\u001b[0m\u001b[0;34m.\u001b[0m\u001b[0mkeras\u001b[0m\u001b[0;34m.\u001b[0m\u001b[0mmetrics\u001b[0m\u001b[0;34m.\u001b[0m\u001b[0msparse_categorical_accuracy\u001b[0m\u001b[0;34m\u001b[0m\u001b[0;34m\u001b[0m\u001b[0m\n\u001b[1;32m      3\u001b[0m \u001b[0;34m\u001b[0m\u001b[0m\n\u001b[1;32m      4\u001b[0m \u001b[0moptimizer\u001b[0m \u001b[0;34m=\u001b[0m \u001b[0mtf\u001b[0m\u001b[0;34m.\u001b[0m\u001b[0mkeras\u001b[0m\u001b[0;34m.\u001b[0m\u001b[0moptimizers\u001b[0m\u001b[0;34m.\u001b[0m\u001b[0mAdam\u001b[0m\u001b[0;34m(\u001b[0m\u001b[0mlearning_rate\u001b[0m\u001b[0;34m=\u001b[0m\u001b[0;36m5e-4\u001b[0m\u001b[0;34m)\u001b[0m\u001b[0;34m\u001b[0m\u001b[0;34m\u001b[0m\u001b[0m\n\u001b[1;32m      5\u001b[0m \u001b[0;34m\u001b[0m\u001b[0m\n",
            "\u001b[0;31mNameError\u001b[0m: name 'tf' is not defined"
          ]
        }
      ],
      "source": [
        "loss_fn = tf.keras.losses.sparse_categorical_crossentropy\n",
        "acc_fn = tf.keras.metrics.sparse_categorical_accuracy\n",
        "\n",
        "optimizer = tf.keras.optimizers.Adam(learning_rate=5e-4)\n",
        "\n",
        "best_acc = .0\n",
        "patience = 0\n",
        "for epoch in range(1):\n",
        "    train_epoch(model, train_dataset, loss_fn, acc_fn, optimizer)\n",
        "    start_loss, end_loss, start_acc, end_acc = eval_epoch(model, dev_dataset, loss_fn, acc_fn)\n",
        "    print(f'eval {epoch} >> loss: {start_loss:0.4f}, {end_loss:0.4f}, acc: {start_acc:0.4f}, {end_acc:0.4f}')\n",
        "    acc = start_acc + end_acc\n",
        "    if best_acc < acc:\n",
        "        patience = 0\n",
        "        best_acc = acc\n",
        "        model.save_weights(os.path.join(data_dir, \"korquad_bert_none_pretrain.hdf5\"))\n",
        "        print(f'save best model')\n",
        "    else:\n",
        "        patience += 1\n",
        "    if 2 <= patience:\n",
        "        print(f'early stopping')\n",
        "        break"
      ],
      "id": "GCzg7AYGYQgh"
    },
    {
      "cell_type": "markdown",
      "metadata": {
        "id": "Hf64knWceADb"
      },
      "source": [
        "# BERT inference"
      ],
      "id": "Hf64knWceADb"
    },
    {
      "cell_type": "code",
      "execution_count": null,
      "metadata": {
        "id": "TWLrcWyAd_Hy"
      },
      "outputs": [],
      "source": [
        "def do_predict(model, question, context):\n",
        "    \"\"\"\n",
        "    입력에 대한 답변 생성하는 함수\n",
        "    :param model: model\n",
        "    :param question: 입력 문자열\n",
        "    :param context: 입력 문자열\n",
        "    \"\"\"\n",
        "    q_tokens = vocab.encode_as_pieces(question)[:args.max_query_length]\n",
        "    c_tokens = vocab.encode_as_pieces(context)[:args.max_seq_length - len(q_tokens) - 3]\n",
        "    tokens = ['[CLS]'] + q_tokens + ['[SEP]'] + c_tokens + ['[SEP]']\n",
        "    token_ids = [vocab.piece_to_id(token) for token in tokens]\n",
        "    segments = [0] * (len(q_tokens) + 2) + [1] * (len(c_tokens) + 1)\n",
        "\n",
        "    y_start, y_end = model(np.array([token_ids]), np.array([segments]))\n",
        "    # print(y_start, y_end)\n",
        "    y_start_idx = K.argmax(y_start, axis=-1)[0].numpy()\n",
        "    y_end_idx = K.argmax(y_end, axis=-1)[0].numpy()\n",
        "    answer_tokens = tokens[y_start_idx:y_end_idx + 1]\n",
        "\n",
        "    return vocab.decode_pieces(answer_tokens)"
      ],
      "id": "TWLrcWyAd_Hy"
    },
    {
      "cell_type": "code",
      "execution_count": null,
      "metadata": {
        "id": "LljKwh9ReGdl"
      },
      "outputs": [],
      "source": [
        "dev_json = os.path.join(data_dir, \"korquad_dev.json\")\n",
        "\n",
        "with open(dev_json) as f:\n",
        "    for i, line in enumerate(f):\n",
        "        data = json.loads(line)\n",
        "        question = vocab.decode_pieces(data['question'])\n",
        "        context = vocab.decode_pieces(data['context'])\n",
        "        answer = data['answer']\n",
        "        answer_predict = do_predict(model, question, context)\n",
        "        if answer in answer_predict:\n",
        "            print(i)\n",
        "            print(\"질문 : \", question)\n",
        "            print(\"지문 : \", context)\n",
        "            print(\"정답 : \", answer)\n",
        "            print(\"예측 : \", answer_predict, \"\\n\")\n",
        "        if 100 < i:\n",
        "            break"
      ],
      "id": "LljKwh9ReGdl"
    },
    {
      "cell_type": "markdown",
      "metadata": {
        "id": "5v4LCbXteiO1"
      },
      "source": [
        "* 질문과 지문에 대한 문장 자체를 예측하였다.\n"
      ],
      "id": "5v4LCbXteiO1"
    },
    {
      "cell_type": "markdown",
      "metadata": {
        "id": "6969bb74"
      },
      "source": [
        "# STEP 1. pretrained model 로딩하기\n",
        "***\n",
        "pretrained model을 로드하여 model을 생성하는 코드는 아래와 같습니다. model 구조는 이전 스텝과 동일합니다."
      ],
      "id": "6969bb74"
    },
    {
      "cell_type": "code",
      "execution_count": null,
      "metadata": {
        "id": "5GHC2i3DYUJo"
      },
      "outputs": [],
      "source": [
        "checkpoint_file = os.path.join(model_dir, 'bert_pretrain_32000.hdf5')\n",
        "\n",
        "model = BERT4KorQuAD(config)\n",
        "\n",
        "if os.path.exists(checkpoint_file):\n",
        "    #  pretrained model 을 로드하기 위해 먼저 모델이 생성되어 있어야 한다.\n",
        "    enc_tokens = np.random.randint(0, len(vocab), (4, 10))\n",
        "    segments = np.random.randint(0, 2, (4, 10))\n",
        "    model(enc_tokens, segments)\n",
        "    \n",
        "    # checkpoint 파일로부터 필요한 layer를 불러온다. \n",
        "    model.load_weights(os.path.join(model_dir, \"bert_pretrain_32000.hdf5\"), by_name=True)\n",
        "\n",
        "    model.summary()\n",
        "else:\n",
        "    print('NO Pretrained Model')"
      ],
      "id": "5GHC2i3DYUJo"
    },
    {
      "cell_type": "markdown",
      "metadata": {
        "id": "f332c106"
      },
      "source": [
        "# STEP 2. pretrained model finetune 하기\n",
        "***\n",
        "학습을 진행하는 코드도 이전 스텝과 동일합니다. 단지 학습해야 할 모델이 랜덤 초기화된 것이 아니라 pretrained model을 로드한 것일 뿐입니다.\n"
      ],
      "id": "f332c106"
    },
    {
      "cell_type": "code",
      "execution_count": null,
      "metadata": {
        "id": "5n_c5P-idIo7"
      },
      "outputs": [],
      "source": [
        "loss_fn = tf.keras.losses.sparse_categorical_crossentropy\n",
        "acc_fn = tf.keras.metrics.sparse_categorical_accuracy\n",
        "\n",
        "optimizer = tf.keras.optimizers.Adam(learning_rate=5e-4)\n",
        "\n",
        "# 학습과정 시각화\n",
        "pre_start_loss_list = []\n",
        "pre_end_loss_list = []\n",
        "pre_start_acc_list = []\n",
        "pre_end_acc_list = []\n",
        "\n",
        "pre_val_start_loss_list = []\n",
        "pre_val_end_loss_list = []\n",
        "pre_val_start_acc_list = []\n",
        "pre_val_end_acc_list = []\n",
        "\n",
        "best_acc = .0\n",
        "patience = 0\n",
        "for epoch in range(10):\n",
        "    # train set 학습\n",
        "    train_epoch(model, train_dataset, loss_fn, acc_fn, optimizer)\n",
        "    start_loss, end_loss, start_acc, end_acc = eval_epoch(model, train_dataset, loss_fn, acc_fn)\n",
        "    print(f'eval {epoch} >> loss: {start_loss:0.4f}, {end_loss:0.4f}, acc: {start_acc:0.4f}, {end_acc:0.4f}')\n",
        "    \n",
        "    # 학습과정 시각화\n",
        "    pre_start_loss_list.append(start_loss)\n",
        "    pre_end_loss_list.append(end_loss)\n",
        "    pre_start_acc_list.append(start_acc)\n",
        "    pre_end_acc_list.append(end_acc)\n",
        "    \n",
        "    # validation set 학습\n",
        "    train_epoch(model, train_dataset, loss_fn, acc_fn, optimizer)\n",
        "    start_loss, end_loss, start_acc, end_acc = eval_epoch(model, dev_dataset, loss_fn, acc_fn)\n",
        "    print(f'eval {epoch} >> loss: {start_loss:0.4f}, {end_loss:0.4f}, acc: {start_acc:0.4f}, {end_acc:0.4f}')\n",
        "    \n",
        "    # 학습과정 시각화\n",
        "    pre_val_start_loss_list.append(start_loss)\n",
        "    pre_val_end_loss_list.append(end_loss)\n",
        "    pre_val_start_acc_list.append(start_acc)\n",
        "    pre_val_end_acc_list.append(end_acc)\n",
        "    \n",
        "    acc = start_acc + end_acc\n",
        "    if best_acc < acc:\n",
        "        patience = 0\n",
        "        best_acc = acc\n",
        "        model.save_weights(os.path.join(data_dir, \"korquad_bert_none_pretrain.hdf5\"))\n",
        "        print(f'save best model')\n",
        "    else:\n",
        "        patience += 1\n",
        "    if 5 <= patience:\n",
        "        print(f'early stopping')\n",
        "        break"
      ],
      "id": "5n_c5P-idIo7"
    },
    {
      "cell_type": "code",
      "execution_count": null,
      "metadata": {
        "id": "pfQxYLo9e19_"
      },
      "outputs": [],
      "source": [
        ""
      ],
      "id": "pfQxYLo9e19_"
    },
    {
      "cell_type": "markdown",
      "metadata": {
        "id": "1406cb0f"
      },
      "source": [
        "# STEP 3. Inference 수행하기\n",
        "***\n",
        "finetune 학습이 완료된 model을 활용하여 실제 퀴즈 풀이 결과를 확인해 봅니다."
      ],
      "id": "1406cb0f"
    },
    {
      "cell_type": "code",
      "execution_count": null,
      "metadata": {
        "id": "kmsc_eh2fCWm"
      },
      "outputs": [],
      "source": [
        "dev_json = os.path.join(data_dir, \"korquad_dev.json\")\n",
        "\n",
        "with open(dev_json) as f:\n",
        "    for i, line in enumerate(f):\n",
        "        data = json.loads(line)\n",
        "        question = vocab.decode_pieces(data['question'])\n",
        "        context = vocab.decode_pieces(data['context'])\n",
        "        answer = data['answer']\n",
        "        answer_predict = do_predict(model, question, context)\n",
        "        if answer in answer_predict:\n",
        "            print(i)\n",
        "            print(\"질문 : \", question)\n",
        "            print(\"지문 : \", context)\n",
        "            print(\"정답 : \", answer)\n",
        "            print(\"예측 : \", answer_predict, \"\\n\")\n",
        "        if 100 < i:\n",
        "            break"
      ],
      "id": "kmsc_eh2fCWm"
    },
    {
      "cell_type": "markdown",
      "metadata": {
        "id": "387558db"
      },
      "source": [
        "# STEP 4. 학습 경과 시각화 비교 분석\n",
        "***\n",
        "pretrained model 사용 여부에 따라 학습 수행 경과가 어떻게 달라지는지를 시각화를 포함하여 비교 분석을 진행해 봅니다.\n",
        "\n"
      ],
      "id": "387558db"
    },
    {
      "cell_type": "markdown",
      "metadata": {
        "id": "2QJZwEGogGUE"
      },
      "source": [
        "* non-pretrained model"
      ],
      "id": "2QJZwEGogGUE"
    },
    {
      "cell_type": "code",
      "execution_count": null,
      "metadata": {
        "id": "60f9106c"
      },
      "outputs": [],
      "source": [
        "len(start_loss_list), len(end_loss_list), len(start_acc_list), len(end_acc_list)\n",
        "len(val_start_loss_list), len(val_end_loss_list), len(val_start_acc_list), len(val_end_acc"
      ],
      "id": "60f9106c"
    },
    {
      "cell_type": "code",
      "execution_count": null,
      "metadata": {
        "id": "4rGSNk_7f9P_"
      },
      "outputs": [],
      "source": [
        "epochs_range = range(len(start_loss_list))\n",
        "\n",
        "plt.figure(figsize=(16, 8))\n",
        "plt.subplot(2, 2, 1)\n",
        "plt.plot(epochs_range, start_loss_list, label='start_loss')\n",
        "plt.plot(epochs_range, val_start_loss_list, label='val_start_loss')\n",
        "plt.legend(loc='lower right')\n",
        "plt.title('Training and Validation Start Loss')\n",
        "\n",
        "plt.subplot(2, 2, 2)\n",
        "plt.plot(epochs_range, end_loss_list, label='end_loss')\n",
        "plt.plot(epochs_range, val_end_loss_list, label='val_end_loss')\n",
        "plt.legend(loc='upper right')\n",
        "plt.title('Training and Validation End Loss')\n",
        "\n",
        "plt.subplot(2, 2, 3)\n",
        "plt.plot(epochs_range, start_acc_list, label='start_acc')\n",
        "plt.plot(epochs_range, val_start_acc_list, label='val_start_acc')\n",
        "plt.legend(loc='lower right')\n",
        "plt.title('Training and Validation Start Accuracy')\n",
        "\n",
        "plt.subplot(2, 2, 4)\n",
        "plt.plot(epochs_range, end_acc_list, label='end_acc')\n",
        "plt.plot(epochs_range, val_end_acc_list, label='val_end_ac')\n",
        "plt.legend(loc='upper right')\n",
        "plt.title('Training and Validation End Accuracy')\n",
        "\n",
        "plt.show()"
      ],
      "id": "4rGSNk_7f9P_"
    },
    {
      "cell_type": "markdown",
      "metadata": {
        "id": "bTplYmUYgMBG"
      },
      "source": [
        "* pretrained model"
      ],
      "id": "bTplYmUYgMBG"
    },
    {
      "cell_type": "code",
      "execution_count": null,
      "metadata": {
        "id": "bhKsxKQ5f_0o"
      },
      "outputs": [],
      "source": [
        "epochs_range = range(len(pre_start_loss_list))\n",
        "\n",
        "plt.figure(figsize=(16, 8))\n",
        "plt.subplot(2, 2, 1)\n",
        "plt.plot(epochs_range, pre_start_loss_list, label='start_loss')\n",
        "plt.plot(epochs_range, pre_val_start_loss_list, label='val_start_loss')\n",
        "plt.legend(loc='lower right')\n",
        "plt.title('Pretrained Training and Validation Start Loss')\n",
        "\n",
        "plt.subplot(2, 2, 2)\n",
        "plt.plot(epochs_range, pre_end_loss_list, label='end_loss')\n",
        "plt.plot(epochs_range, pre_val_end_loss_list, label='val_end_loss')\n",
        "plt.legend(loc='upper right')\n",
        "plt.title('Pretrained Training and Validation End Loss')\n",
        "\n",
        "plt.subplot(2, 2, 3)\n",
        "plt.plot(epochs_range, pre_start_acc_list, label='start_acc')\n",
        "plt.plot(epochs_range, pre_val_start_acc_list, label='val_start_acc')\n",
        "plt.legend(loc='lower right')\n",
        "plt.title('Pretrained Training and Validation Start Accuracy')\n",
        "\n",
        "plt.subplot(2, 2, 4)\n",
        "plt.plot(epochs_range, pre_end_acc_list, label='end_acc')\n",
        "plt.plot(epochs_range, pre_val_end_acc_list, label='val_end_ac')\n",
        "plt.legend(loc='upper right')\n",
        "plt.title('Pretrained Training and Validation End Accuracy')\n",
        "\n",
        "plt.show()"
      ],
      "id": "bhKsxKQ5f_0o"
    },
    {
      "cell_type": "code",
      "execution_count": null,
      "metadata": {
        "id": "bc7eN-2EgaSy"
      },
      "outputs": [],
      "source": [
        "print(max(val_end_acc_list), max(pre_val_end_acc_list))"
      ],
      "id": "bc7eN-2EgaSy"
    },
    {
      "cell_type": "code",
      "execution_count": 2,
      "metadata": {
        "id": "y51BwLh_gdko",
        "colab": {
          "base_uri": "https://localhost:8080/",
          "height": 173
        },
        "outputId": "b28862e2-01ff-45d8-8db6-6e0b3da9c55a"
      },
      "outputs": [
        {
          "output_type": "error",
          "ename": "NameError",
          "evalue": "ignored",
          "traceback": [
            "\u001b[0;31m---------------------------------------------------------------------------\u001b[0m",
            "\u001b[0;31mNameError\u001b[0m                                 Traceback (most recent call last)",
            "\u001b[0;32m<ipython-input-2-532359eedaf9>\u001b[0m in \u001b[0;36m<module>\u001b[0;34m()\u001b[0m\n\u001b[0;32m----> 1\u001b[0;31m \u001b[0mprint\u001b[0m\u001b[0;34m(\u001b[0m\u001b[0mmax\u001b[0m\u001b[0;34m(\u001b[0m\u001b[0mval_end_loss_list\u001b[0m\u001b[0;34m)\u001b[0m\u001b[0;34m,\u001b[0m \u001b[0mmax\u001b[0m\u001b[0;34m(\u001b[0m\u001b[0mpre_val_end_loss_list\u001b[0m\u001b[0;34m)\u001b[0m\u001b[0;34m)\u001b[0m\u001b[0;34m\u001b[0m\u001b[0;34m\u001b[0m\u001b[0m\n\u001b[0m",
            "\u001b[0;31mNameError\u001b[0m: name 'val_end_loss_list' is not defined"
          ]
        }
      ],
      "source": [
        "print(max(val_end_loss_list), max(pre_val_end_loss_list))"
      ],
      "id": "y51BwLh_gdko"
    },
    {
      "cell_type": "markdown",
      "source": [
        "#회고\n",
        "\n",
        "학습시간이 오래걸리는 실습이였다. 결국 학습시키는 도중에 GPU를 사용할수 있는 용량을 초과하여 에러가 떴다. 코랩 프로로 돌리지 않았기때문인지도...\n",
        "주피터 노트북으로 실행을 하였을때도 똑같은 오류가 생겨서 구글코랩으로 시도하였는데 아쉽다. 다음 실습에서는 좀 더 원활한 구동환경이 되길 바란다.\n",
        "\n"
      ],
      "metadata": {
        "id": "JFP8LwqSrYcs"
      },
      "id": "JFP8LwqSrYcs"
    }
  ],
  "metadata": {
    "accelerator": "GPU",
    "colab": {
      "collapsed_sections": [],
      "name": "[E-13] 프로젝트_신준호.ipynb",
      "provenance": []
    },
    "gpuClass": "standard",
    "kernelspec": {
      "display_name": "Python 3 (ipykernel)",
      "language": "python",
      "name": "python3"
    },
    "language_info": {
      "codemirror_mode": {
        "name": "ipython",
        "version": 3
      },
      "file_extension": ".py",
      "mimetype": "text/x-python",
      "name": "python",
      "nbconvert_exporter": "python",
      "pygments_lexer": "ipython3",
      "version": "3.9.7"
    },
    "widgets": {
      "application/vnd.jupyter.widget-state+json": {
        "c430d4f89b724ec68595e80a9e157ca7": {
          "model_module": "@jupyter-widgets/controls",
          "model_name": "HBoxModel",
          "model_module_version": "1.5.0",
          "state": {
            "_dom_classes": [],
            "_model_module": "@jupyter-widgets/controls",
            "_model_module_version": "1.5.0",
            "_model_name": "HBoxModel",
            "_view_count": null,
            "_view_module": "@jupyter-widgets/controls",
            "_view_module_version": "1.5.0",
            "_view_name": "HBoxView",
            "box_style": "",
            "children": [
              "IPY_MODEL_7a9c9e0ae2724b86aa4e4e57437cdca5",
              "IPY_MODEL_d4e124c7adb241a5b89d363f72dd9ec1",
              "IPY_MODEL_7479d21a5459447c80d8bfd5ba6c53d3"
            ],
            "layout": "IPY_MODEL_8bba6dc40e5344039b65d65d1ac4d267"
          }
        },
        "7a9c9e0ae2724b86aa4e4e57437cdca5": {
          "model_module": "@jupyter-widgets/controls",
          "model_name": "HTMLModel",
          "model_module_version": "1.5.0",
          "state": {
            "_dom_classes": [],
            "_model_module": "@jupyter-widgets/controls",
            "_model_module_version": "1.5.0",
            "_model_name": "HTMLModel",
            "_view_count": null,
            "_view_module": "@jupyter-widgets/controls",
            "_view_module_version": "1.5.0",
            "_view_name": "HTMLView",
            "description": "",
            "description_tooltip": null,
            "layout": "IPY_MODEL_f927a31542174079bbab7ae8e145f646",
            "placeholder": "​",
            "style": "IPY_MODEL_b18dac45ff0044e6b3c6a267919174e4",
            "value": "100%"
          }
        },
        "d4e124c7adb241a5b89d363f72dd9ec1": {
          "model_module": "@jupyter-widgets/controls",
          "model_name": "FloatProgressModel",
          "model_module_version": "1.5.0",
          "state": {
            "_dom_classes": [],
            "_model_module": "@jupyter-widgets/controls",
            "_model_module_version": "1.5.0",
            "_model_name": "FloatProgressModel",
            "_view_count": null,
            "_view_module": "@jupyter-widgets/controls",
            "_view_module_version": "1.5.0",
            "_view_name": "ProgressView",
            "bar_style": "success",
            "description": "",
            "description_tooltip": null,
            "layout": "IPY_MODEL_1008fe9cabac428fb59adc69814cdb76",
            "max": 1420,
            "min": 0,
            "orientation": "horizontal",
            "style": "IPY_MODEL_66196e026a2145dbba60fe221daee0b7",
            "value": 1420
          }
        },
        "7479d21a5459447c80d8bfd5ba6c53d3": {
          "model_module": "@jupyter-widgets/controls",
          "model_name": "HTMLModel",
          "model_module_version": "1.5.0",
          "state": {
            "_dom_classes": [],
            "_model_module": "@jupyter-widgets/controls",
            "_model_module_version": "1.5.0",
            "_model_name": "HTMLModel",
            "_view_count": null,
            "_view_module": "@jupyter-widgets/controls",
            "_view_module_version": "1.5.0",
            "_view_name": "HTMLView",
            "description": "",
            "description_tooltip": null,
            "layout": "IPY_MODEL_4b7446f2850b4e6e8a31b59832ecbc92",
            "placeholder": "​",
            "style": "IPY_MODEL_d250eb027b564e0b8e4263c179645244",
            "value": " 1420/1420 [00:50&lt;00:00, 20.62it/s]"
          }
        },
        "8bba6dc40e5344039b65d65d1ac4d267": {
          "model_module": "@jupyter-widgets/base",
          "model_name": "LayoutModel",
          "model_module_version": "1.2.0",
          "state": {
            "_model_module": "@jupyter-widgets/base",
            "_model_module_version": "1.2.0",
            "_model_name": "LayoutModel",
            "_view_count": null,
            "_view_module": "@jupyter-widgets/base",
            "_view_module_version": "1.2.0",
            "_view_name": "LayoutView",
            "align_content": null,
            "align_items": null,
            "align_self": null,
            "border": null,
            "bottom": null,
            "display": null,
            "flex": null,
            "flex_flow": null,
            "grid_area": null,
            "grid_auto_columns": null,
            "grid_auto_flow": null,
            "grid_auto_rows": null,
            "grid_column": null,
            "grid_gap": null,
            "grid_row": null,
            "grid_template_areas": null,
            "grid_template_columns": null,
            "grid_template_rows": null,
            "height": null,
            "justify_content": null,
            "justify_items": null,
            "left": null,
            "margin": null,
            "max_height": null,
            "max_width": null,
            "min_height": null,
            "min_width": null,
            "object_fit": null,
            "object_position": null,
            "order": null,
            "overflow": null,
            "overflow_x": null,
            "overflow_y": null,
            "padding": null,
            "right": null,
            "top": null,
            "visibility": null,
            "width": null
          }
        },
        "f927a31542174079bbab7ae8e145f646": {
          "model_module": "@jupyter-widgets/base",
          "model_name": "LayoutModel",
          "model_module_version": "1.2.0",
          "state": {
            "_model_module": "@jupyter-widgets/base",
            "_model_module_version": "1.2.0",
            "_model_name": "LayoutModel",
            "_view_count": null,
            "_view_module": "@jupyter-widgets/base",
            "_view_module_version": "1.2.0",
            "_view_name": "LayoutView",
            "align_content": null,
            "align_items": null,
            "align_self": null,
            "border": null,
            "bottom": null,
            "display": null,
            "flex": null,
            "flex_flow": null,
            "grid_area": null,
            "grid_auto_columns": null,
            "grid_auto_flow": null,
            "grid_auto_rows": null,
            "grid_column": null,
            "grid_gap": null,
            "grid_row": null,
            "grid_template_areas": null,
            "grid_template_columns": null,
            "grid_template_rows": null,
            "height": null,
            "justify_content": null,
            "justify_items": null,
            "left": null,
            "margin": null,
            "max_height": null,
            "max_width": null,
            "min_height": null,
            "min_width": null,
            "object_fit": null,
            "object_position": null,
            "order": null,
            "overflow": null,
            "overflow_x": null,
            "overflow_y": null,
            "padding": null,
            "right": null,
            "top": null,
            "visibility": null,
            "width": null
          }
        },
        "b18dac45ff0044e6b3c6a267919174e4": {
          "model_module": "@jupyter-widgets/controls",
          "model_name": "DescriptionStyleModel",
          "model_module_version": "1.5.0",
          "state": {
            "_model_module": "@jupyter-widgets/controls",
            "_model_module_version": "1.5.0",
            "_model_name": "DescriptionStyleModel",
            "_view_count": null,
            "_view_module": "@jupyter-widgets/base",
            "_view_module_version": "1.2.0",
            "_view_name": "StyleView",
            "description_width": ""
          }
        },
        "1008fe9cabac428fb59adc69814cdb76": {
          "model_module": "@jupyter-widgets/base",
          "model_name": "LayoutModel",
          "model_module_version": "1.2.0",
          "state": {
            "_model_module": "@jupyter-widgets/base",
            "_model_module_version": "1.2.0",
            "_model_name": "LayoutModel",
            "_view_count": null,
            "_view_module": "@jupyter-widgets/base",
            "_view_module_version": "1.2.0",
            "_view_name": "LayoutView",
            "align_content": null,
            "align_items": null,
            "align_self": null,
            "border": null,
            "bottom": null,
            "display": null,
            "flex": null,
            "flex_flow": null,
            "grid_area": null,
            "grid_auto_columns": null,
            "grid_auto_flow": null,
            "grid_auto_rows": null,
            "grid_column": null,
            "grid_gap": null,
            "grid_row": null,
            "grid_template_areas": null,
            "grid_template_columns": null,
            "grid_template_rows": null,
            "height": null,
            "justify_content": null,
            "justify_items": null,
            "left": null,
            "margin": null,
            "max_height": null,
            "max_width": null,
            "min_height": null,
            "min_width": null,
            "object_fit": null,
            "object_position": null,
            "order": null,
            "overflow": null,
            "overflow_x": null,
            "overflow_y": null,
            "padding": null,
            "right": null,
            "top": null,
            "visibility": null,
            "width": null
          }
        },
        "66196e026a2145dbba60fe221daee0b7": {
          "model_module": "@jupyter-widgets/controls",
          "model_name": "ProgressStyleModel",
          "model_module_version": "1.5.0",
          "state": {
            "_model_module": "@jupyter-widgets/controls",
            "_model_module_version": "1.5.0",
            "_model_name": "ProgressStyleModel",
            "_view_count": null,
            "_view_module": "@jupyter-widgets/base",
            "_view_module_version": "1.2.0",
            "_view_name": "StyleView",
            "bar_color": null,
            "description_width": ""
          }
        },
        "4b7446f2850b4e6e8a31b59832ecbc92": {
          "model_module": "@jupyter-widgets/base",
          "model_name": "LayoutModel",
          "model_module_version": "1.2.0",
          "state": {
            "_model_module": "@jupyter-widgets/base",
            "_model_module_version": "1.2.0",
            "_model_name": "LayoutModel",
            "_view_count": null,
            "_view_module": "@jupyter-widgets/base",
            "_view_module_version": "1.2.0",
            "_view_name": "LayoutView",
            "align_content": null,
            "align_items": null,
            "align_self": null,
            "border": null,
            "bottom": null,
            "display": null,
            "flex": null,
            "flex_flow": null,
            "grid_area": null,
            "grid_auto_columns": null,
            "grid_auto_flow": null,
            "grid_auto_rows": null,
            "grid_column": null,
            "grid_gap": null,
            "grid_row": null,
            "grid_template_areas": null,
            "grid_template_columns": null,
            "grid_template_rows": null,
            "height": null,
            "justify_content": null,
            "justify_items": null,
            "left": null,
            "margin": null,
            "max_height": null,
            "max_width": null,
            "min_height": null,
            "min_width": null,
            "object_fit": null,
            "object_position": null,
            "order": null,
            "overflow": null,
            "overflow_x": null,
            "overflow_y": null,
            "padding": null,
            "right": null,
            "top": null,
            "visibility": null,
            "width": null
          }
        },
        "d250eb027b564e0b8e4263c179645244": {
          "model_module": "@jupyter-widgets/controls",
          "model_name": "DescriptionStyleModel",
          "model_module_version": "1.5.0",
          "state": {
            "_model_module": "@jupyter-widgets/controls",
            "_model_module_version": "1.5.0",
            "_model_name": "DescriptionStyleModel",
            "_view_count": null,
            "_view_module": "@jupyter-widgets/base",
            "_view_module_version": "1.2.0",
            "_view_name": "StyleView",
            "description_width": ""
          }
        },
        "05503d3758504eeb97168db64b3f40af": {
          "model_module": "@jupyter-widgets/controls",
          "model_name": "HBoxModel",
          "model_module_version": "1.5.0",
          "state": {
            "_dom_classes": [],
            "_model_module": "@jupyter-widgets/controls",
            "_model_module_version": "1.5.0",
            "_model_name": "HBoxModel",
            "_view_count": null,
            "_view_module": "@jupyter-widgets/controls",
            "_view_module_version": "1.5.0",
            "_view_name": "HBoxView",
            "box_style": "",
            "children": [
              "IPY_MODEL_c1dcf0ae084a4277b0ecee9f9cb479d9",
              "IPY_MODEL_09f09aaab4af4704815cf27ef59d13fb",
              "IPY_MODEL_8cf36a2f59ea4e37be8aa3e2b396f863"
            ],
            "layout": "IPY_MODEL_b61b48f562704575a46eb26a7378b673"
          }
        },
        "c1dcf0ae084a4277b0ecee9f9cb479d9": {
          "model_module": "@jupyter-widgets/controls",
          "model_name": "HTMLModel",
          "model_module_version": "1.5.0",
          "state": {
            "_dom_classes": [],
            "_model_module": "@jupyter-widgets/controls",
            "_model_module_version": "1.5.0",
            "_model_name": "HTMLModel",
            "_view_count": null,
            "_view_module": "@jupyter-widgets/controls",
            "_view_module_version": "1.5.0",
            "_view_name": "HTMLView",
            "description": "",
            "description_tooltip": null,
            "layout": "IPY_MODEL_cd026c26c8d14c59ac065b41e67bf0a7",
            "placeholder": "​",
            "style": "IPY_MODEL_466b7b5d9e7347e3abb86487767fbb9f",
            "value": "100%"
          }
        },
        "09f09aaab4af4704815cf27ef59d13fb": {
          "model_module": "@jupyter-widgets/controls",
          "model_name": "FloatProgressModel",
          "model_module_version": "1.5.0",
          "state": {
            "_dom_classes": [],
            "_model_module": "@jupyter-widgets/controls",
            "_model_module_version": "1.5.0",
            "_model_name": "FloatProgressModel",
            "_view_count": null,
            "_view_module": "@jupyter-widgets/controls",
            "_view_module_version": "1.5.0",
            "_view_name": "ProgressView",
            "bar_style": "success",
            "description": "",
            "description_tooltip": null,
            "layout": "IPY_MODEL_f6a651c052924346810e628e1a9623e0",
            "max": 140,
            "min": 0,
            "orientation": "horizontal",
            "style": "IPY_MODEL_b55edb9ef2c34d90bf758ee2659bc2cb",
            "value": 140
          }
        },
        "8cf36a2f59ea4e37be8aa3e2b396f863": {
          "model_module": "@jupyter-widgets/controls",
          "model_name": "HTMLModel",
          "model_module_version": "1.5.0",
          "state": {
            "_dom_classes": [],
            "_model_module": "@jupyter-widgets/controls",
            "_model_module_version": "1.5.0",
            "_model_name": "HTMLModel",
            "_view_count": null,
            "_view_module": "@jupyter-widgets/controls",
            "_view_module_version": "1.5.0",
            "_view_name": "HTMLView",
            "description": "",
            "description_tooltip": null,
            "layout": "IPY_MODEL_e9b7cdcae3d84a54abd35048bfbe8946",
            "placeholder": "​",
            "style": "IPY_MODEL_eb5440db95694937928834d458ded5dc",
            "value": " 140/140 [00:03&lt;00:00, 39.37it/s]"
          }
        },
        "b61b48f562704575a46eb26a7378b673": {
          "model_module": "@jupyter-widgets/base",
          "model_name": "LayoutModel",
          "model_module_version": "1.2.0",
          "state": {
            "_model_module": "@jupyter-widgets/base",
            "_model_module_version": "1.2.0",
            "_model_name": "LayoutModel",
            "_view_count": null,
            "_view_module": "@jupyter-widgets/base",
            "_view_module_version": "1.2.0",
            "_view_name": "LayoutView",
            "align_content": null,
            "align_items": null,
            "align_self": null,
            "border": null,
            "bottom": null,
            "display": null,
            "flex": null,
            "flex_flow": null,
            "grid_area": null,
            "grid_auto_columns": null,
            "grid_auto_flow": null,
            "grid_auto_rows": null,
            "grid_column": null,
            "grid_gap": null,
            "grid_row": null,
            "grid_template_areas": null,
            "grid_template_columns": null,
            "grid_template_rows": null,
            "height": null,
            "justify_content": null,
            "justify_items": null,
            "left": null,
            "margin": null,
            "max_height": null,
            "max_width": null,
            "min_height": null,
            "min_width": null,
            "object_fit": null,
            "object_position": null,
            "order": null,
            "overflow": null,
            "overflow_x": null,
            "overflow_y": null,
            "padding": null,
            "right": null,
            "top": null,
            "visibility": null,
            "width": null
          }
        },
        "cd026c26c8d14c59ac065b41e67bf0a7": {
          "model_module": "@jupyter-widgets/base",
          "model_name": "LayoutModel",
          "model_module_version": "1.2.0",
          "state": {
            "_model_module": "@jupyter-widgets/base",
            "_model_module_version": "1.2.0",
            "_model_name": "LayoutModel",
            "_view_count": null,
            "_view_module": "@jupyter-widgets/base",
            "_view_module_version": "1.2.0",
            "_view_name": "LayoutView",
            "align_content": null,
            "align_items": null,
            "align_self": null,
            "border": null,
            "bottom": null,
            "display": null,
            "flex": null,
            "flex_flow": null,
            "grid_area": null,
            "grid_auto_columns": null,
            "grid_auto_flow": null,
            "grid_auto_rows": null,
            "grid_column": null,
            "grid_gap": null,
            "grid_row": null,
            "grid_template_areas": null,
            "grid_template_columns": null,
            "grid_template_rows": null,
            "height": null,
            "justify_content": null,
            "justify_items": null,
            "left": null,
            "margin": null,
            "max_height": null,
            "max_width": null,
            "min_height": null,
            "min_width": null,
            "object_fit": null,
            "object_position": null,
            "order": null,
            "overflow": null,
            "overflow_x": null,
            "overflow_y": null,
            "padding": null,
            "right": null,
            "top": null,
            "visibility": null,
            "width": null
          }
        },
        "466b7b5d9e7347e3abb86487767fbb9f": {
          "model_module": "@jupyter-widgets/controls",
          "model_name": "DescriptionStyleModel",
          "model_module_version": "1.5.0",
          "state": {
            "_model_module": "@jupyter-widgets/controls",
            "_model_module_version": "1.5.0",
            "_model_name": "DescriptionStyleModel",
            "_view_count": null,
            "_view_module": "@jupyter-widgets/base",
            "_view_module_version": "1.2.0",
            "_view_name": "StyleView",
            "description_width": ""
          }
        },
        "f6a651c052924346810e628e1a9623e0": {
          "model_module": "@jupyter-widgets/base",
          "model_name": "LayoutModel",
          "model_module_version": "1.2.0",
          "state": {
            "_model_module": "@jupyter-widgets/base",
            "_model_module_version": "1.2.0",
            "_model_name": "LayoutModel",
            "_view_count": null,
            "_view_module": "@jupyter-widgets/base",
            "_view_module_version": "1.2.0",
            "_view_name": "LayoutView",
            "align_content": null,
            "align_items": null,
            "align_self": null,
            "border": null,
            "bottom": null,
            "display": null,
            "flex": null,
            "flex_flow": null,
            "grid_area": null,
            "grid_auto_columns": null,
            "grid_auto_flow": null,
            "grid_auto_rows": null,
            "grid_column": null,
            "grid_gap": null,
            "grid_row": null,
            "grid_template_areas": null,
            "grid_template_columns": null,
            "grid_template_rows": null,
            "height": null,
            "justify_content": null,
            "justify_items": null,
            "left": null,
            "margin": null,
            "max_height": null,
            "max_width": null,
            "min_height": null,
            "min_width": null,
            "object_fit": null,
            "object_position": null,
            "order": null,
            "overflow": null,
            "overflow_x": null,
            "overflow_y": null,
            "padding": null,
            "right": null,
            "top": null,
            "visibility": null,
            "width": null
          }
        },
        "b55edb9ef2c34d90bf758ee2659bc2cb": {
          "model_module": "@jupyter-widgets/controls",
          "model_name": "ProgressStyleModel",
          "model_module_version": "1.5.0",
          "state": {
            "_model_module": "@jupyter-widgets/controls",
            "_model_module_version": "1.5.0",
            "_model_name": "ProgressStyleModel",
            "_view_count": null,
            "_view_module": "@jupyter-widgets/base",
            "_view_module_version": "1.2.0",
            "_view_name": "StyleView",
            "bar_color": null,
            "description_width": ""
          }
        },
        "e9b7cdcae3d84a54abd35048bfbe8946": {
          "model_module": "@jupyter-widgets/base",
          "model_name": "LayoutModel",
          "model_module_version": "1.2.0",
          "state": {
            "_model_module": "@jupyter-widgets/base",
            "_model_module_version": "1.2.0",
            "_model_name": "LayoutModel",
            "_view_count": null,
            "_view_module": "@jupyter-widgets/base",
            "_view_module_version": "1.2.0",
            "_view_name": "LayoutView",
            "align_content": null,
            "align_items": null,
            "align_self": null,
            "border": null,
            "bottom": null,
            "display": null,
            "flex": null,
            "flex_flow": null,
            "grid_area": null,
            "grid_auto_columns": null,
            "grid_auto_flow": null,
            "grid_auto_rows": null,
            "grid_column": null,
            "grid_gap": null,
            "grid_row": null,
            "grid_template_areas": null,
            "grid_template_columns": null,
            "grid_template_rows": null,
            "height": null,
            "justify_content": null,
            "justify_items": null,
            "left": null,
            "margin": null,
            "max_height": null,
            "max_width": null,
            "min_height": null,
            "min_width": null,
            "object_fit": null,
            "object_position": null,
            "order": null,
            "overflow": null,
            "overflow_x": null,
            "overflow_y": null,
            "padding": null,
            "right": null,
            "top": null,
            "visibility": null,
            "width": null
          }
        },
        "eb5440db95694937928834d458ded5dc": {
          "model_module": "@jupyter-widgets/controls",
          "model_name": "DescriptionStyleModel",
          "model_module_version": "1.5.0",
          "state": {
            "_model_module": "@jupyter-widgets/controls",
            "_model_module_version": "1.5.0",
            "_model_name": "DescriptionStyleModel",
            "_view_count": null,
            "_view_module": "@jupyter-widgets/base",
            "_view_module_version": "1.2.0",
            "_view_name": "StyleView",
            "description_width": ""
          }
        },
        "b50ef2e4d2304c25ad9dc099398b0b75": {
          "model_module": "@jupyter-widgets/controls",
          "model_name": "HBoxModel",
          "model_module_version": "1.5.0",
          "state": {
            "_dom_classes": [],
            "_model_module": "@jupyter-widgets/controls",
            "_model_module_version": "1.5.0",
            "_model_name": "HBoxModel",
            "_view_count": null,
            "_view_module": "@jupyter-widgets/controls",
            "_view_module_version": "1.5.0",
            "_view_name": "HBoxView",
            "box_style": "",
            "children": [
              "IPY_MODEL_307a5398768f42509a420ae8dd4527c0",
              "IPY_MODEL_3120af83cfe84d6dbfff460b304f4f3b",
              "IPY_MODEL_476b1333c7c242199642fcac66cfe81e"
            ],
            "layout": "IPY_MODEL_74391f89c8c040d397f277646a77a9eb"
          }
        },
        "307a5398768f42509a420ae8dd4527c0": {
          "model_module": "@jupyter-widgets/controls",
          "model_name": "HTMLModel",
          "model_module_version": "1.5.0",
          "state": {
            "_dom_classes": [],
            "_model_module": "@jupyter-widgets/controls",
            "_model_module_version": "1.5.0",
            "_model_name": "HTMLModel",
            "_view_count": null,
            "_view_module": "@jupyter-widgets/controls",
            "_view_module_version": "1.5.0",
            "_view_name": "HTMLView",
            "description": "",
            "description_tooltip": null,
            "layout": "IPY_MODEL_9d389af9b5a14c1c943795dedee21a1a",
            "placeholder": "​",
            "style": "IPY_MODEL_4646a0ce8a6141b1b96d04faaedad17e",
            "value": "100%"
          }
        },
        "3120af83cfe84d6dbfff460b304f4f3b": {
          "model_module": "@jupyter-widgets/controls",
          "model_name": "FloatProgressModel",
          "model_module_version": "1.5.0",
          "state": {
            "_dom_classes": [],
            "_model_module": "@jupyter-widgets/controls",
            "_model_module_version": "1.5.0",
            "_model_name": "FloatProgressModel",
            "_view_count": null,
            "_view_module": "@jupyter-widgets/controls",
            "_view_module_version": "1.5.0",
            "_view_name": "ProgressView",
            "bar_style": "success",
            "description": "",
            "description_tooltip": null,
            "layout": "IPY_MODEL_20ffa1b605a64aa4aef6107ffcb0970f",
            "max": 1420,
            "min": 0,
            "orientation": "horizontal",
            "style": "IPY_MODEL_ff0cdc535b8740178749ae29c307d718",
            "value": 1420
          }
        },
        "476b1333c7c242199642fcac66cfe81e": {
          "model_module": "@jupyter-widgets/controls",
          "model_name": "HTMLModel",
          "model_module_version": "1.5.0",
          "state": {
            "_dom_classes": [],
            "_model_module": "@jupyter-widgets/controls",
            "_model_module_version": "1.5.0",
            "_model_name": "HTMLModel",
            "_view_count": null,
            "_view_module": "@jupyter-widgets/controls",
            "_view_module_version": "1.5.0",
            "_view_name": "HTMLView",
            "description": "",
            "description_tooltip": null,
            "layout": "IPY_MODEL_58a5d6295643447486efad514010129d",
            "placeholder": "​",
            "style": "IPY_MODEL_f3b674a19dbb4960b81e447946af1841",
            "value": " 1420/1420 [00:00&lt;00:00, 10837.81it/s]"
          }
        },
        "74391f89c8c040d397f277646a77a9eb": {
          "model_module": "@jupyter-widgets/base",
          "model_name": "LayoutModel",
          "model_module_version": "1.2.0",
          "state": {
            "_model_module": "@jupyter-widgets/base",
            "_model_module_version": "1.2.0",
            "_model_name": "LayoutModel",
            "_view_count": null,
            "_view_module": "@jupyter-widgets/base",
            "_view_module_version": "1.2.0",
            "_view_name": "LayoutView",
            "align_content": null,
            "align_items": null,
            "align_self": null,
            "border": null,
            "bottom": null,
            "display": null,
            "flex": null,
            "flex_flow": null,
            "grid_area": null,
            "grid_auto_columns": null,
            "grid_auto_flow": null,
            "grid_auto_rows": null,
            "grid_column": null,
            "grid_gap": null,
            "grid_row": null,
            "grid_template_areas": null,
            "grid_template_columns": null,
            "grid_template_rows": null,
            "height": null,
            "justify_content": null,
            "justify_items": null,
            "left": null,
            "margin": null,
            "max_height": null,
            "max_width": null,
            "min_height": null,
            "min_width": null,
            "object_fit": null,
            "object_position": null,
            "order": null,
            "overflow": null,
            "overflow_x": null,
            "overflow_y": null,
            "padding": null,
            "right": null,
            "top": null,
            "visibility": null,
            "width": null
          }
        },
        "9d389af9b5a14c1c943795dedee21a1a": {
          "model_module": "@jupyter-widgets/base",
          "model_name": "LayoutModel",
          "model_module_version": "1.2.0",
          "state": {
            "_model_module": "@jupyter-widgets/base",
            "_model_module_version": "1.2.0",
            "_model_name": "LayoutModel",
            "_view_count": null,
            "_view_module": "@jupyter-widgets/base",
            "_view_module_version": "1.2.0",
            "_view_name": "LayoutView",
            "align_content": null,
            "align_items": null,
            "align_self": null,
            "border": null,
            "bottom": null,
            "display": null,
            "flex": null,
            "flex_flow": null,
            "grid_area": null,
            "grid_auto_columns": null,
            "grid_auto_flow": null,
            "grid_auto_rows": null,
            "grid_column": null,
            "grid_gap": null,
            "grid_row": null,
            "grid_template_areas": null,
            "grid_template_columns": null,
            "grid_template_rows": null,
            "height": null,
            "justify_content": null,
            "justify_items": null,
            "left": null,
            "margin": null,
            "max_height": null,
            "max_width": null,
            "min_height": null,
            "min_width": null,
            "object_fit": null,
            "object_position": null,
            "order": null,
            "overflow": null,
            "overflow_x": null,
            "overflow_y": null,
            "padding": null,
            "right": null,
            "top": null,
            "visibility": null,
            "width": null
          }
        },
        "4646a0ce8a6141b1b96d04faaedad17e": {
          "model_module": "@jupyter-widgets/controls",
          "model_name": "DescriptionStyleModel",
          "model_module_version": "1.5.0",
          "state": {
            "_model_module": "@jupyter-widgets/controls",
            "_model_module_version": "1.5.0",
            "_model_name": "DescriptionStyleModel",
            "_view_count": null,
            "_view_module": "@jupyter-widgets/base",
            "_view_module_version": "1.2.0",
            "_view_name": "StyleView",
            "description_width": ""
          }
        },
        "20ffa1b605a64aa4aef6107ffcb0970f": {
          "model_module": "@jupyter-widgets/base",
          "model_name": "LayoutModel",
          "model_module_version": "1.2.0",
          "state": {
            "_model_module": "@jupyter-widgets/base",
            "_model_module_version": "1.2.0",
            "_model_name": "LayoutModel",
            "_view_count": null,
            "_view_module": "@jupyter-widgets/base",
            "_view_module_version": "1.2.0",
            "_view_name": "LayoutView",
            "align_content": null,
            "align_items": null,
            "align_self": null,
            "border": null,
            "bottom": null,
            "display": null,
            "flex": null,
            "flex_flow": null,
            "grid_area": null,
            "grid_auto_columns": null,
            "grid_auto_flow": null,
            "grid_auto_rows": null,
            "grid_column": null,
            "grid_gap": null,
            "grid_row": null,
            "grid_template_areas": null,
            "grid_template_columns": null,
            "grid_template_rows": null,
            "height": null,
            "justify_content": null,
            "justify_items": null,
            "left": null,
            "margin": null,
            "max_height": null,
            "max_width": null,
            "min_height": null,
            "min_width": null,
            "object_fit": null,
            "object_position": null,
            "order": null,
            "overflow": null,
            "overflow_x": null,
            "overflow_y": null,
            "padding": null,
            "right": null,
            "top": null,
            "visibility": null,
            "width": null
          }
        },
        "ff0cdc535b8740178749ae29c307d718": {
          "model_module": "@jupyter-widgets/controls",
          "model_name": "ProgressStyleModel",
          "model_module_version": "1.5.0",
          "state": {
            "_model_module": "@jupyter-widgets/controls",
            "_model_module_version": "1.5.0",
            "_model_name": "ProgressStyleModel",
            "_view_count": null,
            "_view_module": "@jupyter-widgets/base",
            "_view_module_version": "1.2.0",
            "_view_name": "StyleView",
            "bar_color": null,
            "description_width": ""
          }
        },
        "58a5d6295643447486efad514010129d": {
          "model_module": "@jupyter-widgets/base",
          "model_name": "LayoutModel",
          "model_module_version": "1.2.0",
          "state": {
            "_model_module": "@jupyter-widgets/base",
            "_model_module_version": "1.2.0",
            "_model_name": "LayoutModel",
            "_view_count": null,
            "_view_module": "@jupyter-widgets/base",
            "_view_module_version": "1.2.0",
            "_view_name": "LayoutView",
            "align_content": null,
            "align_items": null,
            "align_self": null,
            "border": null,
            "bottom": null,
            "display": null,
            "flex": null,
            "flex_flow": null,
            "grid_area": null,
            "grid_auto_columns": null,
            "grid_auto_flow": null,
            "grid_auto_rows": null,
            "grid_column": null,
            "grid_gap": null,
            "grid_row": null,
            "grid_template_areas": null,
            "grid_template_columns": null,
            "grid_template_rows": null,
            "height": null,
            "justify_content": null,
            "justify_items": null,
            "left": null,
            "margin": null,
            "max_height": null,
            "max_width": null,
            "min_height": null,
            "min_width": null,
            "object_fit": null,
            "object_position": null,
            "order": null,
            "overflow": null,
            "overflow_x": null,
            "overflow_y": null,
            "padding": null,
            "right": null,
            "top": null,
            "visibility": null,
            "width": null
          }
        },
        "f3b674a19dbb4960b81e447946af1841": {
          "model_module": "@jupyter-widgets/controls",
          "model_name": "DescriptionStyleModel",
          "model_module_version": "1.5.0",
          "state": {
            "_model_module": "@jupyter-widgets/controls",
            "_model_module_version": "1.5.0",
            "_model_name": "DescriptionStyleModel",
            "_view_count": null,
            "_view_module": "@jupyter-widgets/base",
            "_view_module_version": "1.2.0",
            "_view_name": "StyleView",
            "description_width": ""
          }
        },
        "c71eac7fe93947799c0037b47c5ed7f1": {
          "model_module": "@jupyter-widgets/controls",
          "model_name": "HBoxModel",
          "model_module_version": "1.5.0",
          "state": {
            "_dom_classes": [],
            "_model_module": "@jupyter-widgets/controls",
            "_model_module_version": "1.5.0",
            "_model_name": "HBoxModel",
            "_view_count": null,
            "_view_module": "@jupyter-widgets/controls",
            "_view_module_version": "1.5.0",
            "_view_name": "HBoxView",
            "box_style": "",
            "children": [
              "IPY_MODEL_2c6ae61297234870b8ad9c52adb2f8d5",
              "IPY_MODEL_717bcbc8911b4610accc1cf400a6e64b",
              "IPY_MODEL_a1bd854d9e38422da1c3727807de5f16"
            ],
            "layout": "IPY_MODEL_614211d96f504fcba38cbabb0370f04f"
          }
        },
        "2c6ae61297234870b8ad9c52adb2f8d5": {
          "model_module": "@jupyter-widgets/controls",
          "model_name": "HTMLModel",
          "model_module_version": "1.5.0",
          "state": {
            "_dom_classes": [],
            "_model_module": "@jupyter-widgets/controls",
            "_model_module_version": "1.5.0",
            "_model_name": "HTMLModel",
            "_view_count": null,
            "_view_module": "@jupyter-widgets/controls",
            "_view_module_version": "1.5.0",
            "_view_name": "HTMLView",
            "description": "",
            "description_tooltip": null,
            "layout": "IPY_MODEL_8bc035d555ac4b96b88d70ffd1bfb113",
            "placeholder": "​",
            "style": "IPY_MODEL_f14d976b35e74d1ab0091ec4d2a74edc",
            "value": "Loading ...: "
          }
        },
        "717bcbc8911b4610accc1cf400a6e64b": {
          "model_module": "@jupyter-widgets/controls",
          "model_name": "FloatProgressModel",
          "model_module_version": "1.5.0",
          "state": {
            "_dom_classes": [],
            "_model_module": "@jupyter-widgets/controls",
            "_model_module_version": "1.5.0",
            "_model_name": "FloatProgressModel",
            "_view_count": null,
            "_view_module": "@jupyter-widgets/controls",
            "_view_module_version": "1.5.0",
            "_view_name": "ProgressView",
            "bar_style": "success",
            "description": "",
            "description_tooltip": null,
            "layout": "IPY_MODEL_cc6edd2ae26d4c51af0d184bccbd93cb",
            "max": 1,
            "min": 0,
            "orientation": "horizontal",
            "style": "IPY_MODEL_c4bf45b457244c4293e2f702d07e31aa",
            "value": 1
          }
        },
        "a1bd854d9e38422da1c3727807de5f16": {
          "model_module": "@jupyter-widgets/controls",
          "model_name": "HTMLModel",
          "model_module_version": "1.5.0",
          "state": {
            "_dom_classes": [],
            "_model_module": "@jupyter-widgets/controls",
            "_model_module_version": "1.5.0",
            "_model_name": "HTMLModel",
            "_view_count": null,
            "_view_module": "@jupyter-widgets/controls",
            "_view_module_version": "1.5.0",
            "_view_name": "HTMLView",
            "description": "",
            "description_tooltip": null,
            "layout": "IPY_MODEL_ce01ba4f39a542e4bdf82e6b0602f051",
            "placeholder": "​",
            "style": "IPY_MODEL_9fe52815e3184e2b935471f4f8d9e88c",
            "value": " 60407/? [00:25&lt;00:00, 2619.89it/s]"
          }
        },
        "614211d96f504fcba38cbabb0370f04f": {
          "model_module": "@jupyter-widgets/base",
          "model_name": "LayoutModel",
          "model_module_version": "1.2.0",
          "state": {
            "_model_module": "@jupyter-widgets/base",
            "_model_module_version": "1.2.0",
            "_model_name": "LayoutModel",
            "_view_count": null,
            "_view_module": "@jupyter-widgets/base",
            "_view_module_version": "1.2.0",
            "_view_name": "LayoutView",
            "align_content": null,
            "align_items": null,
            "align_self": null,
            "border": null,
            "bottom": null,
            "display": null,
            "flex": null,
            "flex_flow": null,
            "grid_area": null,
            "grid_auto_columns": null,
            "grid_auto_flow": null,
            "grid_auto_rows": null,
            "grid_column": null,
            "grid_gap": null,
            "grid_row": null,
            "grid_template_areas": null,
            "grid_template_columns": null,
            "grid_template_rows": null,
            "height": null,
            "justify_content": null,
            "justify_items": null,
            "left": null,
            "margin": null,
            "max_height": null,
            "max_width": null,
            "min_height": null,
            "min_width": null,
            "object_fit": null,
            "object_position": null,
            "order": null,
            "overflow": null,
            "overflow_x": null,
            "overflow_y": null,
            "padding": null,
            "right": null,
            "top": null,
            "visibility": null,
            "width": null
          }
        },
        "8bc035d555ac4b96b88d70ffd1bfb113": {
          "model_module": "@jupyter-widgets/base",
          "model_name": "LayoutModel",
          "model_module_version": "1.2.0",
          "state": {
            "_model_module": "@jupyter-widgets/base",
            "_model_module_version": "1.2.0",
            "_model_name": "LayoutModel",
            "_view_count": null,
            "_view_module": "@jupyter-widgets/base",
            "_view_module_version": "1.2.0",
            "_view_name": "LayoutView",
            "align_content": null,
            "align_items": null,
            "align_self": null,
            "border": null,
            "bottom": null,
            "display": null,
            "flex": null,
            "flex_flow": null,
            "grid_area": null,
            "grid_auto_columns": null,
            "grid_auto_flow": null,
            "grid_auto_rows": null,
            "grid_column": null,
            "grid_gap": null,
            "grid_row": null,
            "grid_template_areas": null,
            "grid_template_columns": null,
            "grid_template_rows": null,
            "height": null,
            "justify_content": null,
            "justify_items": null,
            "left": null,
            "margin": null,
            "max_height": null,
            "max_width": null,
            "min_height": null,
            "min_width": null,
            "object_fit": null,
            "object_position": null,
            "order": null,
            "overflow": null,
            "overflow_x": null,
            "overflow_y": null,
            "padding": null,
            "right": null,
            "top": null,
            "visibility": null,
            "width": null
          }
        },
        "f14d976b35e74d1ab0091ec4d2a74edc": {
          "model_module": "@jupyter-widgets/controls",
          "model_name": "DescriptionStyleModel",
          "model_module_version": "1.5.0",
          "state": {
            "_model_module": "@jupyter-widgets/controls",
            "_model_module_version": "1.5.0",
            "_model_name": "DescriptionStyleModel",
            "_view_count": null,
            "_view_module": "@jupyter-widgets/base",
            "_view_module_version": "1.2.0",
            "_view_name": "StyleView",
            "description_width": ""
          }
        },
        "cc6edd2ae26d4c51af0d184bccbd93cb": {
          "model_module": "@jupyter-widgets/base",
          "model_name": "LayoutModel",
          "model_module_version": "1.2.0",
          "state": {
            "_model_module": "@jupyter-widgets/base",
            "_model_module_version": "1.2.0",
            "_model_name": "LayoutModel",
            "_view_count": null,
            "_view_module": "@jupyter-widgets/base",
            "_view_module_version": "1.2.0",
            "_view_name": "LayoutView",
            "align_content": null,
            "align_items": null,
            "align_self": null,
            "border": null,
            "bottom": null,
            "display": null,
            "flex": null,
            "flex_flow": null,
            "grid_area": null,
            "grid_auto_columns": null,
            "grid_auto_flow": null,
            "grid_auto_rows": null,
            "grid_column": null,
            "grid_gap": null,
            "grid_row": null,
            "grid_template_areas": null,
            "grid_template_columns": null,
            "grid_template_rows": null,
            "height": null,
            "justify_content": null,
            "justify_items": null,
            "left": null,
            "margin": null,
            "max_height": null,
            "max_width": null,
            "min_height": null,
            "min_width": null,
            "object_fit": null,
            "object_position": null,
            "order": null,
            "overflow": null,
            "overflow_x": null,
            "overflow_y": null,
            "padding": null,
            "right": null,
            "top": null,
            "visibility": null,
            "width": "20px"
          }
        },
        "c4bf45b457244c4293e2f702d07e31aa": {
          "model_module": "@jupyter-widgets/controls",
          "model_name": "ProgressStyleModel",
          "model_module_version": "1.5.0",
          "state": {
            "_model_module": "@jupyter-widgets/controls",
            "_model_module_version": "1.5.0",
            "_model_name": "ProgressStyleModel",
            "_view_count": null,
            "_view_module": "@jupyter-widgets/base",
            "_view_module_version": "1.2.0",
            "_view_name": "StyleView",
            "bar_color": null,
            "description_width": ""
          }
        },
        "ce01ba4f39a542e4bdf82e6b0602f051": {
          "model_module": "@jupyter-widgets/base",
          "model_name": "LayoutModel",
          "model_module_version": "1.2.0",
          "state": {
            "_model_module": "@jupyter-widgets/base",
            "_model_module_version": "1.2.0",
            "_model_name": "LayoutModel",
            "_view_count": null,
            "_view_module": "@jupyter-widgets/base",
            "_view_module_version": "1.2.0",
            "_view_name": "LayoutView",
            "align_content": null,
            "align_items": null,
            "align_self": null,
            "border": null,
            "bottom": null,
            "display": null,
            "flex": null,
            "flex_flow": null,
            "grid_area": null,
            "grid_auto_columns": null,
            "grid_auto_flow": null,
            "grid_auto_rows": null,
            "grid_column": null,
            "grid_gap": null,
            "grid_row": null,
            "grid_template_areas": null,
            "grid_template_columns": null,
            "grid_template_rows": null,
            "height": null,
            "justify_content": null,
            "justify_items": null,
            "left": null,
            "margin": null,
            "max_height": null,
            "max_width": null,
            "min_height": null,
            "min_width": null,
            "object_fit": null,
            "object_position": null,
            "order": null,
            "overflow": null,
            "overflow_x": null,
            "overflow_y": null,
            "padding": null,
            "right": null,
            "top": null,
            "visibility": null,
            "width": null
          }
        },
        "9fe52815e3184e2b935471f4f8d9e88c": {
          "model_module": "@jupyter-widgets/controls",
          "model_name": "DescriptionStyleModel",
          "model_module_version": "1.5.0",
          "state": {
            "_model_module": "@jupyter-widgets/controls",
            "_model_module_version": "1.5.0",
            "_model_name": "DescriptionStyleModel",
            "_view_count": null,
            "_view_module": "@jupyter-widgets/base",
            "_view_module_version": "1.2.0",
            "_view_name": "StyleView",
            "description_width": ""
          }
        },
        "c468bbc2b6494ca8b26fef06fc56bfaa": {
          "model_module": "@jupyter-widgets/controls",
          "model_name": "HBoxModel",
          "model_module_version": "1.5.0",
          "state": {
            "_dom_classes": [],
            "_model_module": "@jupyter-widgets/controls",
            "_model_module_version": "1.5.0",
            "_model_name": "HBoxModel",
            "_view_count": null,
            "_view_module": "@jupyter-widgets/controls",
            "_view_module_version": "1.5.0",
            "_view_name": "HBoxView",
            "box_style": "",
            "children": [
              "IPY_MODEL_928aad2b4f6e4ff8b9427d89501c81e4",
              "IPY_MODEL_129e6f3ab08d48f684dbf88d8a7642db",
              "IPY_MODEL_2a34f037c16449aaabce079b71a134f8"
            ],
            "layout": "IPY_MODEL_ff97d17e4d524c258fb1a9317644e84c"
          }
        },
        "928aad2b4f6e4ff8b9427d89501c81e4": {
          "model_module": "@jupyter-widgets/controls",
          "model_name": "HTMLModel",
          "model_module_version": "1.5.0",
          "state": {
            "_dom_classes": [],
            "_model_module": "@jupyter-widgets/controls",
            "_model_module_version": "1.5.0",
            "_model_name": "HTMLModel",
            "_view_count": null,
            "_view_module": "@jupyter-widgets/controls",
            "_view_module_version": "1.5.0",
            "_view_name": "HTMLView",
            "description": "",
            "description_tooltip": null,
            "layout": "IPY_MODEL_317f77e50e314c6486734eb072208af7",
            "placeholder": "​",
            "style": "IPY_MODEL_c182b30bbfad43dabd36e58b85425abc",
            "value": "Loading ...: "
          }
        },
        "129e6f3ab08d48f684dbf88d8a7642db": {
          "model_module": "@jupyter-widgets/controls",
          "model_name": "FloatProgressModel",
          "model_module_version": "1.5.0",
          "state": {
            "_dom_classes": [],
            "_model_module": "@jupyter-widgets/controls",
            "_model_module_version": "1.5.0",
            "_model_name": "FloatProgressModel",
            "_view_count": null,
            "_view_module": "@jupyter-widgets/controls",
            "_view_module_version": "1.5.0",
            "_view_name": "ProgressView",
            "bar_style": "success",
            "description": "",
            "description_tooltip": null,
            "layout": "IPY_MODEL_84b1df39f9e3455a9cbb27b836ba8f4f",
            "max": 1,
            "min": 0,
            "orientation": "horizontal",
            "style": "IPY_MODEL_775da07de6e44ca3bed508664af60fa1",
            "value": 1
          }
        },
        "2a34f037c16449aaabce079b71a134f8": {
          "model_module": "@jupyter-widgets/controls",
          "model_name": "HTMLModel",
          "model_module_version": "1.5.0",
          "state": {
            "_dom_classes": [],
            "_model_module": "@jupyter-widgets/controls",
            "_model_module_version": "1.5.0",
            "_model_name": "HTMLModel",
            "_view_count": null,
            "_view_module": "@jupyter-widgets/controls",
            "_view_module_version": "1.5.0",
            "_view_name": "HTMLView",
            "description": "",
            "description_tooltip": null,
            "layout": "IPY_MODEL_89e6ce9f54374225bbecaa95f56568ab",
            "placeholder": "​",
            "style": "IPY_MODEL_1fc0c47da23848848929525502e6cbe8",
            "value": " 5774/? [00:01&lt;00:00, 3192.78it/s]"
          }
        },
        "ff97d17e4d524c258fb1a9317644e84c": {
          "model_module": "@jupyter-widgets/base",
          "model_name": "LayoutModel",
          "model_module_version": "1.2.0",
          "state": {
            "_model_module": "@jupyter-widgets/base",
            "_model_module_version": "1.2.0",
            "_model_name": "LayoutModel",
            "_view_count": null,
            "_view_module": "@jupyter-widgets/base",
            "_view_module_version": "1.2.0",
            "_view_name": "LayoutView",
            "align_content": null,
            "align_items": null,
            "align_self": null,
            "border": null,
            "bottom": null,
            "display": null,
            "flex": null,
            "flex_flow": null,
            "grid_area": null,
            "grid_auto_columns": null,
            "grid_auto_flow": null,
            "grid_auto_rows": null,
            "grid_column": null,
            "grid_gap": null,
            "grid_row": null,
            "grid_template_areas": null,
            "grid_template_columns": null,
            "grid_template_rows": null,
            "height": null,
            "justify_content": null,
            "justify_items": null,
            "left": null,
            "margin": null,
            "max_height": null,
            "max_width": null,
            "min_height": null,
            "min_width": null,
            "object_fit": null,
            "object_position": null,
            "order": null,
            "overflow": null,
            "overflow_x": null,
            "overflow_y": null,
            "padding": null,
            "right": null,
            "top": null,
            "visibility": null,
            "width": null
          }
        },
        "317f77e50e314c6486734eb072208af7": {
          "model_module": "@jupyter-widgets/base",
          "model_name": "LayoutModel",
          "model_module_version": "1.2.0",
          "state": {
            "_model_module": "@jupyter-widgets/base",
            "_model_module_version": "1.2.0",
            "_model_name": "LayoutModel",
            "_view_count": null,
            "_view_module": "@jupyter-widgets/base",
            "_view_module_version": "1.2.0",
            "_view_name": "LayoutView",
            "align_content": null,
            "align_items": null,
            "align_self": null,
            "border": null,
            "bottom": null,
            "display": null,
            "flex": null,
            "flex_flow": null,
            "grid_area": null,
            "grid_auto_columns": null,
            "grid_auto_flow": null,
            "grid_auto_rows": null,
            "grid_column": null,
            "grid_gap": null,
            "grid_row": null,
            "grid_template_areas": null,
            "grid_template_columns": null,
            "grid_template_rows": null,
            "height": null,
            "justify_content": null,
            "justify_items": null,
            "left": null,
            "margin": null,
            "max_height": null,
            "max_width": null,
            "min_height": null,
            "min_width": null,
            "object_fit": null,
            "object_position": null,
            "order": null,
            "overflow": null,
            "overflow_x": null,
            "overflow_y": null,
            "padding": null,
            "right": null,
            "top": null,
            "visibility": null,
            "width": null
          }
        },
        "c182b30bbfad43dabd36e58b85425abc": {
          "model_module": "@jupyter-widgets/controls",
          "model_name": "DescriptionStyleModel",
          "model_module_version": "1.5.0",
          "state": {
            "_model_module": "@jupyter-widgets/controls",
            "_model_module_version": "1.5.0",
            "_model_name": "DescriptionStyleModel",
            "_view_count": null,
            "_view_module": "@jupyter-widgets/base",
            "_view_module_version": "1.2.0",
            "_view_name": "StyleView",
            "description_width": ""
          }
        },
        "84b1df39f9e3455a9cbb27b836ba8f4f": {
          "model_module": "@jupyter-widgets/base",
          "model_name": "LayoutModel",
          "model_module_version": "1.2.0",
          "state": {
            "_model_module": "@jupyter-widgets/base",
            "_model_module_version": "1.2.0",
            "_model_name": "LayoutModel",
            "_view_count": null,
            "_view_module": "@jupyter-widgets/base",
            "_view_module_version": "1.2.0",
            "_view_name": "LayoutView",
            "align_content": null,
            "align_items": null,
            "align_self": null,
            "border": null,
            "bottom": null,
            "display": null,
            "flex": null,
            "flex_flow": null,
            "grid_area": null,
            "grid_auto_columns": null,
            "grid_auto_flow": null,
            "grid_auto_rows": null,
            "grid_column": null,
            "grid_gap": null,
            "grid_row": null,
            "grid_template_areas": null,
            "grid_template_columns": null,
            "grid_template_rows": null,
            "height": null,
            "justify_content": null,
            "justify_items": null,
            "left": null,
            "margin": null,
            "max_height": null,
            "max_width": null,
            "min_height": null,
            "min_width": null,
            "object_fit": null,
            "object_position": null,
            "order": null,
            "overflow": null,
            "overflow_x": null,
            "overflow_y": null,
            "padding": null,
            "right": null,
            "top": null,
            "visibility": null,
            "width": "20px"
          }
        },
        "775da07de6e44ca3bed508664af60fa1": {
          "model_module": "@jupyter-widgets/controls",
          "model_name": "ProgressStyleModel",
          "model_module_version": "1.5.0",
          "state": {
            "_model_module": "@jupyter-widgets/controls",
            "_model_module_version": "1.5.0",
            "_model_name": "ProgressStyleModel",
            "_view_count": null,
            "_view_module": "@jupyter-widgets/base",
            "_view_module_version": "1.2.0",
            "_view_name": "StyleView",
            "bar_color": null,
            "description_width": ""
          }
        },
        "89e6ce9f54374225bbecaa95f56568ab": {
          "model_module": "@jupyter-widgets/base",
          "model_name": "LayoutModel",
          "model_module_version": "1.2.0",
          "state": {
            "_model_module": "@jupyter-widgets/base",
            "_model_module_version": "1.2.0",
            "_model_name": "LayoutModel",
            "_view_count": null,
            "_view_module": "@jupyter-widgets/base",
            "_view_module_version": "1.2.0",
            "_view_name": "LayoutView",
            "align_content": null,
            "align_items": null,
            "align_self": null,
            "border": null,
            "bottom": null,
            "display": null,
            "flex": null,
            "flex_flow": null,
            "grid_area": null,
            "grid_auto_columns": null,
            "grid_auto_flow": null,
            "grid_auto_rows": null,
            "grid_column": null,
            "grid_gap": null,
            "grid_row": null,
            "grid_template_areas": null,
            "grid_template_columns": null,
            "grid_template_rows": null,
            "height": null,
            "justify_content": null,
            "justify_items": null,
            "left": null,
            "margin": null,
            "max_height": null,
            "max_width": null,
            "min_height": null,
            "min_width": null,
            "object_fit": null,
            "object_position": null,
            "order": null,
            "overflow": null,
            "overflow_x": null,
            "overflow_y": null,
            "padding": null,
            "right": null,
            "top": null,
            "visibility": null,
            "width": null
          }
        },
        "1fc0c47da23848848929525502e6cbe8": {
          "model_module": "@jupyter-widgets/controls",
          "model_name": "DescriptionStyleModel",
          "model_module_version": "1.5.0",
          "state": {
            "_model_module": "@jupyter-widgets/controls",
            "_model_module_version": "1.5.0",
            "_model_name": "DescriptionStyleModel",
            "_view_count": null,
            "_view_module": "@jupyter-widgets/base",
            "_view_module_version": "1.2.0",
            "_view_name": "StyleView",
            "description_width": ""
          }
        }
      }
    }
  },
  "nbformat": 4,
  "nbformat_minor": 5
}
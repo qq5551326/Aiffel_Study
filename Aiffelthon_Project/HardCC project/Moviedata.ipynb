{
  "nbformat": 4,
  "nbformat_minor": 0,
  "metadata": {
    "colab": {
      "provenance": [],
      "collapsed_sections": []
    },
    "kernelspec": {
      "name": "python3",
      "display_name": "Python 3"
    },
    "language_info": {
      "name": "python"
    }
  },
  "cells": [
    {
      "cell_type": "code",
      "execution_count": null,
      "metadata": {
        "id": "Z71H6mLk4gU2"
      },
      "outputs": [],
      "source": [
        "from google.colab import drive\n",
        "drive.mount('/content/drive')"
      ]
    },
    {
      "cell_type": "code",
      "source": [
        "#@title <font size=\"5\">← ឵឵<i>Upgrade FFmpeg to v5.0</font> { vertical-output: true }\n",
        "import os, uuid, re, IPython\n",
        "import ipywidgets as widgets\n",
        "import time\n",
        "\n",
        "from glob import glob\n",
        "from google.colab import output, drive\n",
        "\n",
        "from IPython.display import clear_output\n",
        "import os, sys, urllib.request\n",
        "HOME = os.path.expanduser(\"~\")\n",
        "pathDoneCMD = f'{HOME}/doneCMD.sh'\n",
        "if not os.path.exists(f\"{HOME}/.ipython/ttmg.py\"):\n",
        "    hCode = \"https://raw.githubusercontent.com/yunooooo/gcct/master/res/ttmg.py\"\n",
        "    urllib.request.urlretrieve(hCode, f\"{HOME}/.ipython/ttmg.py\")\n",
        "\n",
        "from ttmg import (\n",
        "    loadingAn,\n",
        "    textAn,\n",
        ")\n",
        "\n",
        "loadingAn(name=\"lds\")\n",
        "textAn(\"Cloning Repositories...\", ty='twg')\n",
        "!git clone https://github.com/XniceCraft/ffmpeg-colab.git\n",
        "!chmod 755 ./ffmpeg-colab/install\n",
        "textAn(\"Installing FFmpeg...\", ty='twg')\n",
        "!./ffmpeg-colab/install\n",
        "clear_output()\n",
        "print('Installation finished!')\n",
        "!rm -fr /content/ffmpeg-colab\n",
        "!ffmpeg -version"
      ],
      "metadata": {
        "id": "LaBDBTD54kNR"
      },
      "execution_count": null,
      "outputs": []
    },
    {
      "cell_type": "code",
      "source": [
        "import subprocess\n",
        "import time\n",
        "import os"
      ],
      "metadata": {
        "id": "7iTpGGrR4kfC"
      },
      "execution_count": null,
      "outputs": []
    },
    {
      "cell_type": "code",
      "source": [
        "import xml.etree.ElementTree as ET"
      ],
      "metadata": {
        "id": "e4q5H9fc4-Pg"
      },
      "execution_count": null,
      "outputs": []
    },
    {
      "cell_type": "code",
      "source": [
        "def xmlMove(filelist, destination):\n",
        "  for file in filelist:\n",
        "    file_source = os.listdir(file)\n",
        "    for source in file_source:\n",
        "      path, exe = os.path.splitext(source)\n",
        "      if exe == \".xml\":\n",
        "        temp = file + \"/\" + source\n",
        "        shutil.move(temp, destination)"
      ],
      "metadata": {
        "id": "qO55yHeU4kv3"
      },
      "execution_count": null,
      "outputs": []
    },
    {
      "cell_type": "code",
      "source": [
        "def resizemovie(root, change):\n",
        "  for dic in os.listdir(root):\n",
        "    temp = dic\n",
        "    dic = root + \"/\" + temp\n",
        "    dic2 = change + \"/\" + temp\n",
        "    path ,exe = os.path.splitext(dic)\n",
        "    if exe == \".mp4\":\n",
        "       \n",
        "       command = f\"ffmpeg -i {dic} -vf scale=224*224 {dic2}\"\n",
        "       print(command)\n",
        "       os.system(command)\n",
        "    \n",
        "    \n",
        "    "
      ],
      "metadata": {
        "id": "0aEDByBj4k8H"
      },
      "execution_count": null,
      "outputs": []
    },
    {
      "cell_type": "code",
      "source": [
        "def find(root):\n",
        "  action_frame = list()\n",
        "  for book in root.findall('object'):\n",
        "    name = book.find('objectname').text\n",
        "    #print(name)\n",
        "    for child in book.findall('action'):\n",
        "        action = child.find('actionname').text\n",
        "        #print(action)\n",
        "        if action == 'punching' or action == 'kicking' or action == 'pushing':\n",
        "          for time in child.findall('frame'):\n",
        "              start = time.find('start').text\n",
        "              end = time.find('end').text\n",
        "              action_frame.append(start)\n",
        "              action_frame.append(end)\n",
        "\n",
        "  return action_frame"
      ],
      "metadata": {
        "id": "_p7CAsOV4lmw"
      },
      "execution_count": null,
      "outputs": []
    },
    {
      "cell_type": "code",
      "source": [
        "def find1(root):\n",
        "  action_frame = list()\n",
        "  for book in root.findall('object'):\n",
        "    name = book.find('objectname').text\n",
        "    #print(name)\n",
        "    for child in book.findall('action'):\n",
        "        action = child.find('actionname').text\n",
        "        print(action)\n",
        "        if action == 'stop and go' or action == 'around' or action == 'running':\n",
        "          for time in child.findall('frame'):\n",
        "              start = time.find('start').text\n",
        "              end = time.find('end').text\n",
        "              action_frame.append(start)\n",
        "              action_frame.append(end)\n",
        "          break\n",
        "\n",
        "  return action_frame"
      ],
      "metadata": {
        "id": "kIY9wubh5CIx"
      },
      "execution_count": null,
      "outputs": []
    },
    {
      "cell_type": "code",
      "source": [
        "def show_time_assult(temp,input_path,output_path):\n",
        "  time_len = int(len(temp)/2)\n",
        "  for i in range(time_len):\n",
        "    input_movie = f\"/content/drive/MyDrive/cctv/assult/final_final/downsize/{input_path}\"\n",
        "    output_movie = f\"{output_path}/{os.path.splitext(input_path)[0]}{i}.mp4\"\n",
        "    start = int(temp[i*2])\n",
        "    end = int(temp[i*2+1])\n",
        "    #start = int(start / 30)\n",
        "    #end = int(end / 30)\n",
        "    dur = round((end - start)/30, 2)\n",
        "    start_time = round(start/30, 2)\n",
        "    if dur > 1.5:\n",
        "      command = f\"ffmpeg -i {input_movie} -ss {start_time} -t {dur} {output_movie}\"\n",
        "      os.system(command)\n",
        "    "
      ],
      "metadata": {
        "id": "2oKIFgsr5CVL"
      },
      "execution_count": null,
      "outputs": []
    },
    {
      "cell_type": "code",
      "source": [
        "def show_time_normal(temp,input_path,output_path):\n",
        "  time_len = int(len(temp)/2)\n",
        "  for i in range(time_len):\n",
        "    input_movie = f\"/content/drive/MyDrive/cctv/normal/downsize/{input_path}\"\n",
        "    output_movie = f\"{output_path}/{os.path.splitext(input_path)[0]}{i}.mp4\"\n",
        "    start = int(temp[i*2])\n",
        "    end = int(temp[i*2+1])\n",
        "    #start = int(start / 30)\n",
        "    #end = int(end / 30)\n",
        "    dur = round((end - start)/30, 2)\n",
        "    start_time = round(start/30, 2)\n",
        "    if dur > 1.5:\n",
        "      command = f\"ffmpeg -i {input_movie} -ss {start_time} -t {dur} {output_movie}\"\n",
        "      os.system(command)\n",
        "    "
      ],
      "metadata": {
        "id": "Qx-gQSTn5CgM"
      },
      "execution_count": null,
      "outputs": []
    },
    {
      "cell_type": "code",
      "source": [
        "def show_time5(temp,input_path,output_path):\n",
        "  end = int(temp)\n",
        "  dur = round(end/30, 2)\n",
        "  count = int(round(dur/10, 0))\n",
        "  rest = round(dur%10, 2)\n",
        "  input_movie = f'/content/drive/MyDrive/cctv/assult/downsize_final/{input_path}'\n",
        "  for i in range(count):\n",
        "    output_movie = f'{output_path}/{os.path.splitext(input_path)[0]}{i}.mp4'\n",
        "    if i == count -1:\n",
        "      dur_time = 10 + rest\n",
        "      #print(output_movie)\n",
        "      #print(dur_time)\n",
        "      command = f\"ffmpeg -i {input_movie} -ss {10*i} -t {dur_time} {output_movie}\"\n",
        "      os.system(command)\n",
        "    else:\n",
        "      #print(output_movie)\n",
        "      command = f\"ffmpeg -i {input_movie} -ss {10*i} -t {10} {output_movie}\"\n",
        "      os.system(command)\n",
        " # time_len = len(temp)\n",
        " # for i in range(time_len):\n",
        " #   input_movie = f\"/content/drive/MyDrive/cctv/assult/downsize1/{input_path}\"\n",
        " #   output_movie = f\"{output_path}/{os.path.splitext(input_path)[0]}{i}.mp4\"\n",
        "    #if dur > 2:\n",
        "    #  command = f\"ffmpeg -i {input_movie} -ss {start} -t {dur} {output_movie}\"\n",
        "    #  os.system(command)\n",
        "    "
      ],
      "metadata": {
        "id": "nd2l8bcs5L3W"
      },
      "execution_count": null,
      "outputs": []
    }
  ]
}
{
 "cells": [
  {
   "cell_type": "markdown",
   "id": "04826ae6",
   "metadata": {},
   "source": [
    "# 8-1. 들어가며  \n",
    "학습 목표  \n",
    "***\n",
    "* 데이터를 배열로 저장하는 것에 대해 이해하고 list, NumPy의 사용법을 학습합니다.\n",
    "* 구조화된 데이터를 저장하는 것을 이해하고 dictionary와 Pandas 사용법을 학습합니다.\n",
    "* 이미지 데이터를 NumPy 배열로 저장하는 것을 이해하고 그 사용법을 학습합니다.\n",
    "* 학습한 자료 구조를 활용해서 통계 데이터를 어떻게 계산하는지 학습합니다.\n",
    "\n"
   ]
  },
  {
   "cell_type": "markdown",
   "id": "3183344a",
   "metadata": {},
   "source": [
    "# 목차\n",
    "***\n",
    "**1.배열은 가까이에~ 기본 통계 데이터를 계산해 볼까?**\n",
    "\n",
    "* 평균 계산하기\n",
    "* 배열을 활용한 평균, 표준편차, 중앙값 계산  \n",
    "\n",
    "**2.끝판왕 등장! NumPy로 이 모든 걸 한방에!**\n",
    "\n",
    "* NumPy 소개\n",
    "* NumPy 주요 기능\n",
    "* NumPy로 기본 통계 데이터 계산해 보기\n",
    "\n",
    "**3.데이터의 행렬 변환**\n",
    "\n",
    "* 데이터의 행렬 변환\n",
    "* 이미지의 행렬 변환  \n",
    "\n",
    "**4.구조화된 데이터란?**\n",
    "\n",
    "* 구조화된 데이터란?\n",
    "* 딕셔너리(dictionary)를 활용한 간단한 판타지 게임 logic 설계  \n",
    "\n",
    "**5.구조화된 데이터와 Pandas**\n",
    "\n",
    "* Series\n",
    "* DataFrame\n",
    "\n",
    "**6.Pandas와 함께 EDA 시작하기**"
   ]
  },
  {
   "cell_type": "markdown",
   "id": "55fc8f5d",
   "metadata": {},
   "source": [
    "# 8-2. 배열은 가까이에~ 기본 통계 데이터를 계산해 볼까? (1) 평균 계산하기\n",
    "배열에 대해 생각해 보기 전에, 간단한 예로 숫자로 구성된 데이터부터 시작해 봅시다. 숫자들의 평균, 분산, 표준편차, 중앙값 등 기본 통계 데이터에 대해 생각해 보는 거예요.\n",
    "\n",
    "아, 표준편차, 중앙값은 헷갈린다고요? 네, 그럴 수 있죠. 😅 일단 평균부터 계산해 봅시다."
   ]
  },
  {
   "cell_type": "markdown",
   "id": "6e05e2fa",
   "metadata": {},
   "source": [
    "# 평균 계산하기  \n",
    "***\n",
    "평균을 계산하기 위해 사용자로부터 숫자들을 입력받아 보겠습니다. 아래는 상세 알고리즘입니다.\n",
    "\n",
    "1. 평균은 숫자들의 합을 총 숫자의 개수로 나눈 값이죠. 일단 숫자들의 합을 total, 숫자의 개수는 count로 변수명을 정하고 0으로 초깃값을 할당합니다.\n",
    "사용자가 입력하는 숫자는 input 함수를 사용해 받습니다. 숫자를 입력하지 않으면 종료합니다.\n",
    "2. while 문으로 조건 지정 반복문을 설정합니다. 숫자를 입력하지 않으면 종료한다고 했으니, 조건은 input 함수에서 받은 값이 \"\"이 되면 False가 되어서 while 문을 빠져나오게 코딩하면 되겠네요.\n",
    "3. while 문의 조건이 True면 count와 total이 갱신됩니다. 반복문이 실행될 때마다 count를 1씩 증가시키기 위해 증감 연산자를 사용하고, total에는 input으로 받은 숫자를 더해 줍니다. input 함수가 return하는 값의 자료형은 문자열 str이니 float로 타입을 변환해 주는 것 잊지 마세요!\n",
    "4. 혹시라도 사용자가 숫자가 아닌 엉뚱한 문자열을 입력하면 어떻게 할까요? 사용자로부터 숫자가 아닌 것을 입력받을 때는 예외 처리를 해줍시다.\n",
    "아래는 완성 코드입니다."
   ]
  },
  {
   "cell_type": "code",
   "execution_count": 5,
   "id": "9a4fc37c",
   "metadata": {},
   "outputs": [
    {
     "name": "stdout",
     "output_type": "stream",
     "text": [
      "Enter a number : (<Enter Key> to quit)3\n",
      "Enter a number : (<Enter Key>) to key)2\n",
      "Enter a number : (<Enter Key>) to key)1\n",
      "Enter a number : (<Enter Key>) to key)\n",
      "\n",
      " average is 2.0\n"
     ]
    }
   ],
   "source": [
    "total = 0\n",
    "count = 0\n",
    "numbers = input(\"Enter a number : (<Enter Key> to quit)\")\n",
    "while numbers != \"\" :\n",
    "    try:\n",
    "        x = float(numbers)\n",
    "        count = count + 1\n",
    "        total = total + x\n",
    "    except ValueError:\n",
    "        print('Not a number! Ignored..')\n",
    "    numbers = input(\"Enter a number : (<Enter Key>) to key)\")\n",
    "\n",
    "avg = total / count\n",
    "print(\"\\n average is\", avg)    "
   ]
  },
  {
   "cell_type": "markdown",
   "id": "3fe2b4c9",
   "metadata": {},
   "source": [
    "# 8-3. 배열은 가까이에~ 기본 통계 데이터를 계산해 볼까? (2) 배열을 활용한 평균, 표준편차, 중앙값 계산  \n",
    "프로그램을 좀 확장해 보겠습니다. 이번에는 평균뿐 아니라 표준편차와 중앙값도 계산하는 겁니다."
   ]
  },
  {
   "cell_type": "markdown",
   "id": "7127b7a8",
   "metadata": {},
   "source": [
    "# 1) 배열의 의미\n",
    "***\n",
    "# 2) 사용자가 입력한 숫자들을 배열로 만들기\n",
    "코드를 실행시킨 후 숫자를 입력해야 코드가 작동됩니다! 숫자를 입력한 후 코드 실행을 완료하려면 입력 숫자란이 비어있는 상태로 엔터키를 누르세요.\n",
    "\n",
    "이번에는 사용자의 입력으로 받은 숫자를 배열로 표현해 보겠습니다. 배열을 표현하기 위해서 파이썬의 기본 컨테이너 자료형인 리스트(list) 를 사용하겠습니다."
   ]
  },
  {
   "cell_type": "code",
   "execution_count": 6,
   "id": "e4f1cec5",
   "metadata": {
    "scrolled": false
   },
   "outputs": [
    {
     "name": "stdout",
     "output_type": "stream",
     "text": [
      "Enter a number (<Enter key> to quit)3\n",
      "Enter a number (<Enter key> to quit)2\n",
      "Enter a number (<Enter key> to quit)1\n",
      "Enter a number (<Enter key> to quit)\n",
      "X : [3.0, 2.0, 1.0]\n"
     ]
    }
   ],
   "source": [
    "# 2개 이상의 숫자를 입력받아 리스트에 저장하는 함수\n",
    "def numbers():\n",
    "    X = []     # x에 빈 리스트를 할당합니다.\n",
    "    while True:\n",
    "        number = input(\"Enter a number (<Enter key> to quit)\")\n",
    "        while number != \"\":\n",
    "            try:\n",
    "                x = float(number)\n",
    "                X.append(x)         # float형으로 변환한 숫자 입력을 리스트에 추가합니다.\n",
    "            except ValueError:\n",
    "                print('>>> NOT a number! Ignored..')\n",
    "            number = input(\"Enter a number (<Enter key> to quit)\")\n",
    "        if len(X) > 1:           # 저장된 숫자가 2개 이상일 때만 리턴\n",
    "            return X\n",
    "\n",
    "X = numbers()\n",
    "\n",
    "print('X :', X)"
   ]
  },
  {
   "cell_type": "markdown",
   "id": "8282757d",
   "metadata": {},
   "source": [
    "# list, array의 다른점\n"
   ]
  },
  {
   "cell_type": "code",
   "execution_count": 7,
   "id": "59cc3d75",
   "metadata": {},
   "outputs": [
    {
     "name": "stdout",
     "output_type": "stream",
     "text": [
      "<class 'list'>\n",
      "[1, 2, 3, '4']\n",
      "[1, 5, 2, 3, '4']\n",
      "<class 'array.array'>\n",
      "array('i', [1, 2, 3])\n",
      "array('i', [1, 5, 2, 3])\n"
     ]
    }
   ],
   "source": [
    "import array as arr\n",
    "\n",
    "my_list =[1, 2, 3]  # 이것은 파이썬 built - in list 입니다.\n",
    "print(type(my_list))\n",
    "\n",
    "my_list.append('4')  #  my_list의 끝에 character '4'를 추가합니다.\n",
    "print(my_list)\n",
    "\n",
    "my_list.insert(1, 5)    # my_list의 두번째 자리에 5를 끼워넣습니다.\n",
    "print(my_list)\n",
    "\n",
    "myarray = arr.array('i', [1, 2, 3])  # 이것은 array입니다. import array를 해야 쓸 수 있습니다.\n",
    "print(type(myarray))\n",
    "\n",
    "# 아래 라인의 주석을 풀고 실행하면 에러가 남\n",
    "# myarray.append('4')    # myarray의 끝에 character '4' 를 추가함\n",
    "print(myarray)\n",
    "\n",
    "myarray.insert(1,5)      # myarray의 두번째 자리에 5를 끼워 넣음\n",
    "print(myarray)"
   ]
  },
  {
   "cell_type": "markdown",
   "id": "d550fd16",
   "metadata": {},
   "source": [
    "위 코드는 파이썬에서 built-in 으로 제공하는 list가 array와 다른 점을 몇 가지 보여 줍니다.\n",
    "\n",
    "* list는 별도의 import가 필요 없지만 array를 사용하기 위해서는 **import** 해주어야 합니다. 파이썬에서 array는 built-in이 아닙니다.\n",
    "* list 안의 element 사이에 **다른 타입의 자료형이 허용** 됩니다. 숫자로만 이루어진 list에 문자열 element를 추가할 수 있습니다. 그러나 array는 처음부터 element의 유형을 지정해서 생성하며, 지정되지 않은 다른 타입의 element 추가가 허용되지 않습니다. 이러한 array의 특성은 다음에 나오는 NumPy에도 동일하게 적용됩니다.  \n",
    "\n",
    "array는 element들이 연속된 메모리 공간에 배치되며, 모든 element들이 동일한 크기와 타입을 가져야 합니다. 그러므로 위에서 `myarray.append('4')`는 허용되지 않습니다.\n",
    "\n",
    "그렇다면 파이썬 built-in 리스트는 array가 아닌 것 같습니다. 중간에 element를 insert할 수 있는 것도 array보다는 list 자료구조의 특성입니다. 그래서 파이썬의 리스트는 좀 묘합니다. 자료구조상 linked list의 기능을 모두 가지고 있지만 실제로는 array로 구현되어 있다고 합니다. linked list와 다르게 파이썬 리스트는 element들이 연속된 메모리 공간에 배치되도록 구현되어 있기 때문입니다. 그렇게 보면 파이썬의 리스트는 list와 array의 장점을 모두 취한 형태라고 볼 수 있겠습니다."
   ]
  },
  {
   "cell_type": "markdown",
   "id": "70da09e3",
   "metadata": {},
   "source": [
    "# 3) 리스트를 활용한 시그마의 표현\n",
    "다시 아까 입력받은 숫자 배열로 돌아가 봅시다. 지난 스텝에서 다룬 시그마는 입력으로 받은 숫자의 합을 계속 total이라는 변수에 할당하였죠? 이제 배열이 있으니, 배열을 이용해서 시그마를 표현해 보고자 합니다. 시그마를 배열을 통해 계산하려면 `for`문을 사용해야 합니다. 리스트는 원소의 값과 순서를 알고 있으니까요."
   ]
  },
  {
   "cell_type": "code",
   "execution_count": 8,
   "id": "b2f7cf66",
   "metadata": {},
   "outputs": [
    {
     "name": "stdout",
     "output_type": "stream",
     "text": [
      "sum of X:  6.0\n",
      "2.0\n"
     ]
    }
   ],
   "source": [
    "total = 0.0\n",
    "for i in range(len(X)):\n",
    "    total = total + X[i]\n",
    "mean = total / len(X)\n",
    "\n",
    "print('sum of X: ', total)\n",
    "print(mean)"
   ]
  },
  {
   "cell_type": "markdown",
   "id": "d3ff2994",
   "metadata": {},
   "source": [
    "# 4) 중앙값\n",
    "***\n",
    "중앙값(median)은 주어진 숫자를 크기 순서대로 배치할 때 가장 중앙에 위치하는 숫자입니다.\n",
    "\n",
    "중앙이라는 위치는 그 숫자의 총합이 홀수이냐 짝수이냐에 따라 달라집니다. 예를 들어,\n",
    "\n",
    "* 만약 숫자가 1, 3, 3, 6, 7, 8, 9 라면, 중앙값은 6입니다.\n",
    "* 만약 숫자가 1, 3, 3, 7, 8, 9 라면, 중앙값은 (3 + 7) / 2 = 5입니다.  \n",
    "\n",
    "즉 위의 예시를 일반화해보면 다음과 같습니다. 총개수 n인 숫자를 순서대로 배열했을 때,\n",
    "\n",
    "* n이 홀수이면 n/2을 반올림한 순서의 값이 중앙값입니다.\n",
    "    - 위에서는 7/2 = 3.5 의 반올림이니까 4번째 숫자의 값입니다.\n",
    "* n이 짝수라면 n/2번째 값과 ((n/2) + 1) 번째 값의 평균이 됩니다.\n",
    "    - 위에서는 6/2 = 3, ((6/2) + 1) = 4 이므로 3번째 값과 4번째 값의 평균이 중앙값입니다."
   ]
  },
  {
   "cell_type": "code",
   "execution_count": 19,
   "id": "4e189ec3",
   "metadata": {},
   "outputs": [
    {
     "name": "stdout",
     "output_type": "stream",
     "text": [
      "X : [2.0, 3.0]\n"
     ]
    },
    {
     "data": {
      "text/plain": [
       "2.5"
      ]
     },
     "execution_count": 19,
     "metadata": {},
     "output_type": "execute_result"
    }
   ],
   "source": [
    "def median(nums):              # nums : 리스트를 지정하는 매개변수\n",
    "    nums.sort()                 # sort()로 리스트를 순서대로 정렬\n",
    "    size = len(nums)\n",
    "    p = size // 2                 \n",
    "    if size % 2 == 0:         # 리스트의 개수가 짝수일때\n",
    "        pr = p                          # 4번째 값, size가 6이라면 \n",
    "        pl = p-1                      # 3번째 값\n",
    "        mid = float((nums[pl]+nums[pr])/2)\n",
    "    else:                         # 리스트의 개수가 홀수일때\n",
    "        mid = nums[p]\n",
    "    return mid\n",
    "print('X :', X)\n",
    "median(X)                       # 매개변수의 값으로 X를 사용함"
   ]
  },
  {
   "cell_type": "markdown",
   "id": "9bb0913d",
   "metadata": {},
   "source": [
    "`nums`는 중앙값을 구할 리스트를 지정하는 매개변수입니다.\n",
    "\n",
    "리스트를 오름차순으로 정렬하기 위해 sort()를 사용하였고, 리스트의 개수가 홀수일 때와 짝수일 때의 경우를 `if`와 `else`구문을 이용해 구현합니다.\n",
    "\n",
    "홀짝 판별은 나머지 연산자인 `%` 로 2로 나눌 때의 값이 0이면 짝수, 0이 아니라면 홀수로 나누는 방식으로 구현할 수 있습니다.\n",
    "\n",
    "만약 짝수 개의 리스트라면, 리스트 길이의 절반을 기준으로 나뉘는 `pr`과 `pl`을 기준 인덱스로 하여 해당하는 두 값을 구합니다. 이때 두 값의 평균이 중앙값이 됩니다.\n",
    "\n",
    "만약 홀수 개의 리스트라면, 인덱스로 `//`(몫 연산자)를 사용해서 길이를 2로 나누어 사용합니다. 이때, 인덱스의 위치에 저장된 값이 중앙값이 됩니다."
   ]
  },
  {
   "cell_type": "markdown",
   "id": "8441cef1",
   "metadata": {},
   "source": [
    "# 5)표준편차와 평균\n"
   ]
  },
  {
   "cell_type": "code",
   "execution_count": 9,
   "id": "398342a1",
   "metadata": {},
   "outputs": [
    {
     "data": {
      "text/plain": [
       "2.0"
      ]
     },
     "execution_count": 9,
     "metadata": {},
     "output_type": "execute_result"
    }
   ],
   "source": [
    "def means(nums):\n",
    "    total = 0.0\n",
    "    for i in range(len(nums)):\n",
    "        total = total + nums[i]\n",
    "    return total / len(nums)\n",
    "\n",
    "means(X)"
   ]
  },
  {
   "cell_type": "markdown",
   "id": "10a74eb9",
   "metadata": {},
   "source": [
    "중앙값과 동일하게 매개변수 nums은 리스트를 받고. 평균은 리스트의 합을 배열의 총 길이로 나눠주면 됩니다.\n",
    "\n",
    "다음은 표준편차를 구하는 코드입니다."
   ]
  },
  {
   "cell_type": "code",
   "execution_count": 24,
   "id": "70b142af",
   "metadata": {},
   "outputs": [
    {
     "data": {
      "text/plain": [
       "0.5"
      ]
     },
     "execution_count": 24,
     "metadata": {},
     "output_type": "execute_result"
    }
   ],
   "source": [
    "avg = means(X)\n",
    "\n",
    "def std_dev(nums, avg):\n",
    "    texp = 0.0\n",
    "    for i in range(len(nums)):\n",
    "        texp = texp + (nums[i] - avg)**2         # 각 숫자와 평균값의 차이의 제곱을 계속 더한 후 \n",
    "    return (texp/len(nums))**0.5            #그 총합을 숫자개수로 나눈 값의 제곱근을 리턴합니다.\n",
    "\n",
    "std_dev(X, avg)"
   ]
  },
  {
   "cell_type": "markdown",
   "id": "ec95cb46",
   "metadata": {},
   "source": [
    "우선 매개변수로 숫자의 배열과 평균값을 받습니다.  \n",
    "\n",
    "각 숫자와 평균값의 차이를 구한 뒤 제곱하고, for문을 이용해 그 총합을 더합니다.  \n",
    "\n",
    "그리고 구한 총합을 숫자의 개수로 나누고, 그 제곱근을 계산해 표준편차를 구합니다."
   ]
  },
  {
   "cell_type": "markdown",
   "id": "92a9268b",
   "metadata": {},
   "source": [
    "# 6) 전체 코드: main()함수\n",
    "***\n",
    "위에 구현한 코드를 순서대로 사용해 보겠습니다.\n",
    "\n",
    "* 우리가 구현하고자 하는 값은 사용자가 입력한 숫자들에 대한 평균값, 중앙값, 표준편차입니다.\n",
    "* 우선 사용자가 입력한 숫자를 배열(리스트)로 만듭니다.\n",
    "* 각 숫자의 평균값과 중앙값을 구합니다.\n",
    "* 각 숫자의 표준편차를 구합니다.  \n",
    "\n",
    "각 함수들은 다 구현했죠? main함수로 구현해 보면 다음과 같습니다."
   ]
  },
  {
   "cell_type": "code",
   "execution_count": 28,
   "id": "2e14bdf9",
   "metadata": {},
   "outputs": [
    {
     "name": "stdout",
     "output_type": "stream",
     "text": [
      "당신이 입력한 숫자 [2.0, 3.0]의\n",
      "중앙값은 2.5, 평균은 2.5, 표준편차는 0.5입니다.\n"
     ]
    }
   ],
   "source": [
    "med = median(X)\n",
    "avg = means(X)\n",
    "std = std_dev(X, avg)\n",
    "\n",
    "print(\"당신이 입력한 숫자 {}의\".format(X))\n",
    "print(\"중앙값은 {}, 평균은 {}, 표준편차는 {}입니다.\".format(med, avg, std))"
   ]
  },
  {
   "cell_type": "code",
   "execution_count": 11,
   "id": "03f58a41",
   "metadata": {},
   "outputs": [
    {
     "name": "stdout",
     "output_type": "stream",
     "text": [
      "Enter a number (<Enter key> to quit)3\n",
      "Enter a number (<Enter key> to quit)2\n",
      "Enter a number (<Enter key> to quit)1\n",
      "Enter a number (<Enter key> to quit)\n",
      "당신이 입력한 숫자[1.0, 2.0, 3.0]의 \n",
      "중앙값은2.0, 평균은2.0, 표준편차는0.816496580927726입니다.\n"
     ]
    }
   ],
   "source": [
    "def numbers():\n",
    "    X=[]\n",
    "    while True:\n",
    "        number = input(\"Enter a number (<Enter key> to quit)\")\n",
    "        while number !=\"\" :\n",
    "            try:\n",
    "                x = float(number)\n",
    "                X.append(x)\n",
    "            except ValueError:\n",
    "                print('>>> NOT a number (<Enter key> to quit)')\n",
    "            number = input(\"Enter a number (<Enter key> to quit)\")\n",
    "        if len(X) > 1:\n",
    "            return X\n",
    "        \n",
    "def median(nums): \n",
    "    nums.sort()\n",
    "    size = len(nums)\n",
    "    p = size // 2\n",
    "    if size % 2 == 0:\n",
    "        pr = p\n",
    "        pl = p-1\n",
    "        mid = float((nums[pl]+nums[pr])/2)\n",
    "    else:\n",
    "        mid = nums[p]\n",
    "    return mid\n",
    "\n",
    "def means(nums):\n",
    "    total = 0.0\n",
    "    for i in range(len(nums)):\n",
    "        total = total + nums[i]\n",
    "    return total / len(nums)\n",
    "\n",
    "def std_dev(nums, avg):\n",
    "   texp = 0.0\n",
    "   for i in range(len(nums)):\n",
    "       texp = texp + (nums[i] - avg) ** 2\n",
    "   return (texp/len(nums)) ** 0.5\n",
    "\n",
    "def main():\n",
    "    X = numbers()\n",
    "    med = median(X)\n",
    "    avg = means(X)\n",
    "    std = std_dev(X, avg)\n",
    "    print(\"당신이 입력한 숫자{}의 \".format(X))\n",
    "    print(\"중앙값은{}, 평균은{}, 표준편차는{}입니다.\".format(med, avg, std))\n",
    "\n",
    "if __name__ == '__main__':\n",
    "    main()        "
   ]
  },
  {
   "cell_type": "markdown",
   "id": "4105b5a6",
   "metadata": {},
   "source": [
    "## 8-4. 끝판왕 등장! NumPy로 이 모든 걸 한방에! (1) NumPy 소개\n",
    "***\n",
    "\n",
    "NumPy는 Numerical Python의 줄임말로, 과학 계산용 고성능 컴퓨팅과 데이터 분석에 필요한 파이썬 패키지입니다.\n",
    "\n",
    "파이썬 기본 패키지 관리자인 `pip`안에는 NumPy가 없으므로 새로 설치를 하셔야 해요. conda를 사용하신다면 기본적으로 포함되어 있기도 하지만 그렇지 않은 경우도 있으니 `conda list | grep numpy`로 설치 여부를 먼저 확인해 주세요!"
   ]
  },
  {
   "cell_type": "code",
   "execution_count": 33,
   "id": "030f6d56",
   "metadata": {},
   "outputs": [],
   "source": [
    "# pip install numpy"
   ]
  },
  {
   "cell_type": "markdown",
   "id": "9615651a",
   "metadata": {},
   "source": [
    "잠깐 파이썬 패키지 관리자에 대해 설명하자면, `pip`은 \"package installer for python\"의 약자로 파이썬 전용 패키지 설치 소프트웨어입니다. 파이썬을 설치하면 자동으로 설치됩니다.\n",
    "\n",
    "NumPy의 몇가지 장점  \n",
    "* 빠르고 메모리를 효율적으로 사용하여 벡터의 산술 연산과 브로드캐스팅 연산을 지원하는 다차원 배열 ndarray 데이터 타입을 지원한다.\n",
    "* 반복문을 작성할 필요 없이 전체 데이터 배열에 대해 빠른 연산을 제공하는 다양한 표준 수학 함수를 제공한다.\n",
    "* 배열 데이터를 디스크에 쓰거나 읽을 수 있다. (즉 파일로 저장한다는 뜻입니다)\n",
    "* 선형대수, 난수발생기, 푸리에 변환 가능, C/C++ 포트란으로 쓰여진 코드를 통합한다."
   ]
  }
 ],
 "metadata": {
  "kernelspec": {
   "display_name": "Python 3 (ipykernel)",
   "language": "python",
   "name": "python3"
  },
  "language_info": {
   "codemirror_mode": {
    "name": "ipython",
    "version": 3
   },
   "file_extension": ".py",
   "mimetype": "text/x-python",
   "name": "python",
   "nbconvert_exporter": "python",
   "pygments_lexer": "ipython3",
   "version": "3.9.7"
  }
 },
 "nbformat": 4,
 "nbformat_minor": 5
}

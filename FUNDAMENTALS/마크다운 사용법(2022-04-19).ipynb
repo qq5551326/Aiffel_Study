{
 "cells": [
  {
   "cell_type": "markdown",
   "id": "35285e06",
   "metadata": {},
   "source": [
    "# This is a H1"
   ]
  },
  {
   "cell_type": "markdown",
   "id": "ac89741d",
   "metadata": {},
   "source": [
    "## This is a H2"
   ]
  },
  {
   "cell_type": "markdown",
   "id": "bbd318f0",
   "metadata": {},
   "source": [
    "### This is a H3"
   ]
  },
  {
   "cell_type": "markdown",
   "id": "ec2faeed",
   "metadata": {},
   "source": [
    "#### This is a H4\n"
   ]
  },
  {
   "cell_type": "markdown",
   "id": "1cfe5d7f",
   "metadata": {},
   "source": [
    "##### This is a H5"
   ]
  },
  {
   "cell_type": "markdown",
   "id": "43775705",
   "metadata": {},
   "source": [
    "###### This is a H6"
   ]
  },
  {
   "cell_type": "markdown",
   "id": "d7e56b9c",
   "metadata": {},
   "source": [
    "1. 첫번째\n",
    "2. 두번째\n",
    "3. 세번째"
   ]
  },
  {
   "cell_type": "markdown",
   "id": "c20e81ee",
   "metadata": {},
   "source": [
    "1. 첫번째\n",
    "3. 세번째\n",
    "4. 네번째\n",
    "2. 두번째"
   ]
  },
  {
   "cell_type": "markdown",
   "id": "50909e9f",
   "metadata": {},
   "source": [
    "- 빨강\n",
    " - 녹색\n",
    "   - 파랑\n",
    "     - 노랑"
   ]
  },
  {
   "cell_type": "markdown",
   "id": "b3723d0b",
   "metadata": {},
   "source": [
    "+ 빨강\n",
    " + 녹색\n",
    "   + 파랑\n",
    "     + 노랑"
   ]
  },
  {
   "cell_type": "markdown",
   "id": "abfc4349",
   "metadata": {},
   "source": [
    "* 빨강\n",
    " - 녹색\n",
    "   + 파랑\n",
    "     + 노랑"
   ]
  },
  {
   "cell_type": "markdown",
   "id": "0649b2f0",
   "metadata": {},
   "source": [
    "---\n",
    "---\n",
    "---\n",
    "---\n",
    "---\n",
    "---\n",
    "****\n"
   ]
  },
  {
   "cell_type": "markdown",
   "id": "66587bb7",
   "metadata": {},
   "source": [
    "********************************************"
   ]
  },
  {
   "cell_type": "markdown",
   "id": "e1547bc7",
   "metadata": {},
   "source": [
    "[구글](http://google.com)\n",
    "\n",
    "[네이버](http://naver.com)"
   ]
  },
  {
   "cell_type": "markdown",
   "id": "6c4c9526",
   "metadata": {},
   "source": [
    "single asterisks  \n",
    "*single asterisks*  \n",
    "_single underscores_  \n",
    "**double asterisks**  \n",
    "__double underscores__  \n",
    "~~cancelline~~"
   ]
  },
  {
   "cell_type": "markdown",
   "id": "74ff91b9",
   "metadata": {},
   "source": [
    "```\n",
    "print(\"hello Markdown\")\n",
    "```"
   ]
  },
  {
   "cell_type": "markdown",
   "id": "177f6b27",
   "metadata": {},
   "source": [
    "```\n",
    "print('안녕하세요')\n",
    "```"
   ]
  },
  {
   "cell_type": "markdown",
   "id": "e6194875",
   "metadata": {},
   "source": [
    "- 줄 바꿈을 하기 위해서는 문장 마지막에서 2칸이상을 띄어쓰기해야 한다.\n",
    "이렇게\n",
    "- 줄 바꿈을 하기 위해서는 문장 마지막에서 2칸이상을 띄어쓰기해야 한다.  \n",
    "이렇게"
   ]
  },
  {
   "cell_type": "markdown",
   "id": "f6a0cde2",
   "metadata": {},
   "source": []
  }
 ],
 "metadata": {
  "kernelspec": {
   "display_name": "Python 3 (ipykernel)",
   "language": "python",
   "name": "python3"
  },
  "language_info": {
   "codemirror_mode": {
    "name": "ipython",
    "version": 3
   },
   "file_extension": ".py",
   "mimetype": "text/x-python",
   "name": "python",
   "nbconvert_exporter": "python",
   "pygments_lexer": "ipython3",
   "version": "3.9.7"
  }
 },
 "nbformat": 4,
 "nbformat_minor": 5
}

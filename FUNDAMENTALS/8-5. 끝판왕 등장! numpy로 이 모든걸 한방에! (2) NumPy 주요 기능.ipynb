{
 "cells": [
  {
   "cell_type": "markdown",
   "id": "6ec47f58",
   "metadata": {},
   "source": [
    "우선 NumPy를 사용하기 위해 `ndarray` 객체를 만들어야 합니다. `ndarray` 객체를 이용하면 파이썬에서 사용하는 대규모 데이터 집합을 n차원 배열로 담을 수 있습니다. `ndarray`를 그냥 array라고 부르기도 합니다."
   ]
  },
  {
   "cell_type": "markdown",
   "id": "518c5651",
   "metadata": {},
   "source": [
    "# 1) `ndarray` 만들기\n",
    "***\n",
    "\n",
    "`ndarray` 객체는 `arange()`와 `array([])`로 만들 수 있습니다."
   ]
  },
  {
   "cell_type": "code",
   "execution_count": 2,
   "id": "21f18f80",
   "metadata": {
    "scrolled": false
   },
   "outputs": [
    {
     "name": "stdout",
     "output_type": "stream",
     "text": [
      "[0 1 2 3 4]\n",
      "<class 'numpy.ndarray'>\n",
      "--------------------------\n",
      "[0 1 2 3 4]\n",
      "<class 'numpy.ndarray'>\n",
      "--------------------------\n",
      "['0' '1' '2' '3' '4']\n",
      "<class 'numpy.ndarray'>\n",
      "--------------------------\n",
      "[0 1 2 3 4]\n",
      "<class 'numpy.ndarray'>\n"
     ]
    }
   ],
   "source": [
    "import numpy as np\n",
    "\n",
    "# 아래 A와 B는 결과적으로 같은 ndarray 객체를 생성함.\n",
    "A = np.arange(5)\n",
    "B = np.array([0,1,2,3,4])   # 파이썬 리스트를 numpy ndarray로 변환\n",
    "\n",
    "# 하지만 C는 좀 다를 것임.\n",
    "C = np.array([0,1,2,3,'4'])\n",
    "\n",
    "# D도 A, B와 같은 결과를 내겠지만, B의 방법을 권합니다. \n",
    "D = np.ndarray((5,), np.int64, np.array([0,1,2,3,4]))\n",
    "\n",
    "print(A)\n",
    "print(type(A))\n",
    "print(\"--------------------------\")\n",
    "print(B)\n",
    "print(type(B))\n",
    "print(\"--------------------------\")\n",
    "print(C)\n",
    "print(type(C))\n",
    "print(\"--------------------------\")\n",
    "print(D)\n",
    "print(type(D))"
   ]
  },
  {
   "cell_type": "markdown",
   "id": "777644c4",
   "metadata": {},
   "source": [
    "C의 경우 놀랍게도 '4'가 하나 들어갔을 뿐인데 0, 1, 2, 3이 모두 문자열로 바뀌었습니다. 왜일까요?\n",
    "\n",
    "`numpy.ndarray`도 array이므로 모든 element의 type이 동일해야 합니다. 여기서 파이썬의 유연함이 드러납니다. 문자열을 모두 숫자로 바꿀 수는 없지만 숫자는 모두 문자열로 바꿔 줄 수 있습니다. 그래서 숫자만 있던 `ndarray`에 문자열이 들어가면 모든 숫자를 문자열로 해석해서 array의 요건을 맞춰줍니다. 만약 우리의 의도가 이런 게 아니었다면 오히려 예상치 못할 부작용이 생길 수 있으니 유의해야겠지요?"
   ]
  },
  {
   "cell_type": "markdown",
   "id": "706ba5ac",
   "metadata": {},
   "source": [
    "# 2) 크기 (size, shape, ndim)\n",
    "***\n",
    "* ndarray.size\n",
    "* ndarray.shape\n",
    "* ndarray.ndim\n",
    "* reshape()  \n",
    "\n",
    "`size, shape, ndim` 는 각각 행렬 내 원소의 개수, 행렬의 모양, 행렬의 축(axis)의 개수를 의미합니다. `reshape()` 메서드는 행렬의 모양을 바꿔줍니다. 주의할 점은 모양을 바꾸기 전후 행렬의 총 원소 개수(size)가 맞아야 한다는 거에요."
   ]
  },
  {
   "cell_type": "code",
   "execution_count": 38,
   "id": "34ec6d9b",
   "metadata": {},
   "outputs": [
    {
     "name": "stdout",
     "output_type": "stream",
     "text": [
      "행렬의 모양:  (5, 2, 1)\n",
      "행렬의 축 개수:  3\n",
      "행렬 내 원소의 개수:  10\n",
      "[[[0]\n",
      "  [1]]\n",
      "\n",
      " [[2]\n",
      "  [3]]\n",
      "\n",
      " [[4]\n",
      "  [5]]\n",
      "\n",
      " [[6]\n",
      "  [7]]\n",
      "\n",
      " [[8]\n",
      "  [9]]]\n"
     ]
    }
   ],
   "source": [
    "\n",
    "A = np.arange(10).reshape(5,2,1)     # 길이 10의 1차원 행렬을 2X5 2차원 행렬로 바꿔봅니다.\n",
    "\n",
    "print(\"행렬의 모양: \",A.shape)\n",
    "print(\"행렬의 축 개수: \",A.ndim)\n",
    "print(\"행렬 내 원소의 개수: \",A.size)\n",
    "print(A)\n"
   ]
  },
  {
   "cell_type": "markdown",
   "id": "8e73484f",
   "metadata": {},
   "source": [
    "원소 10개의 ndarray를 2 X 5행렬로 reshape 해주었습니다.\n",
    "\n",
    "2X5 행렬은 원소 10개와 행렬의 모양이 맞지만, 3 X 3으로 reshape하면 모양과 원소의 개수가 맞지 않죠? 그래서 아래 코드는 에러가 납니다."
   ]
  },
  {
   "cell_type": "code",
   "execution_count": 5,
   "id": "ead1f7f3",
   "metadata": {
    "scrolled": true
   },
   "outputs": [
    {
     "name": "stdout",
     "output_type": "stream",
     "text": [
      "A:  [0 1 2 3 4 5 6 7 8 9]\n",
      "B: [[0 1 2 3 4]\n",
      " [5 6 7 8 9]]\n"
     ]
    },
    {
     "ename": "ValueError",
     "evalue": "cannot reshape array of size 10 into shape (3,3)",
     "output_type": "error",
     "traceback": [
      "\u001b[0;31m---------------------------------------------------------------------------\u001b[0m",
      "\u001b[0;31mValueError\u001b[0m                                Traceback (most recent call last)",
      "\u001b[0;32m/tmp/ipykernel_49/4002086574.py\u001b[0m in \u001b[0;36m<module>\u001b[0;34m\u001b[0m\n\u001b[1;32m      3\u001b[0m \u001b[0mB\u001b[0m \u001b[0;34m=\u001b[0m \u001b[0mnp\u001b[0m\u001b[0;34m.\u001b[0m\u001b[0marange\u001b[0m\u001b[0;34m(\u001b[0m\u001b[0;36m10\u001b[0m\u001b[0;34m)\u001b[0m\u001b[0;34m.\u001b[0m\u001b[0mreshape\u001b[0m\u001b[0;34m(\u001b[0m\u001b[0;36m2\u001b[0m\u001b[0;34m,\u001b[0m\u001b[0;36m5\u001b[0m\u001b[0;34m)\u001b[0m\u001b[0;34m\u001b[0m\u001b[0;34m\u001b[0m\u001b[0m\n\u001b[1;32m      4\u001b[0m \u001b[0mprint\u001b[0m\u001b[0;34m(\u001b[0m\u001b[0;34m'B:'\u001b[0m\u001b[0;34m,\u001b[0m \u001b[0mB\u001b[0m\u001b[0;34m)\u001b[0m\u001b[0;34m\u001b[0m\u001b[0;34m\u001b[0m\u001b[0m\n\u001b[0;32m----> 5\u001b[0;31m \u001b[0mC\u001b[0m \u001b[0;34m=\u001b[0m \u001b[0mnp\u001b[0m\u001b[0;34m.\u001b[0m\u001b[0marange\u001b[0m\u001b[0;34m(\u001b[0m\u001b[0;36m10\u001b[0m\u001b[0;34m)\u001b[0m\u001b[0;34m.\u001b[0m\u001b[0mreshape\u001b[0m\u001b[0;34m(\u001b[0m\u001b[0;36m3\u001b[0m\u001b[0;34m,\u001b[0m\u001b[0;36m3\u001b[0m\u001b[0;34m)\u001b[0m       \u001b[0;31m# 이 줄에서 에러가 날 것입니다.\u001b[0m\u001b[0;34m\u001b[0m\u001b[0;34m\u001b[0m\u001b[0m\n\u001b[0m\u001b[1;32m      6\u001b[0m \u001b[0mprint\u001b[0m\u001b[0;34m(\u001b[0m\u001b[0;34m'C:'\u001b[0m\u001b[0;34m,\u001b[0m \u001b[0mC\u001b[0m\u001b[0;34m)\u001b[0m\u001b[0;34m\u001b[0m\u001b[0;34m\u001b[0m\u001b[0m\n",
      "\u001b[0;31mValueError\u001b[0m: cannot reshape array of size 10 into shape (3,3)"
     ]
    }
   ],
   "source": [
    "A = np.arange(10)\n",
    "print('A: ', A)\n",
    "B = np.arange(10).reshape(2,5)\n",
    "print('B:', B)\n",
    "C = np.arange(10).reshape(3,3)       # 이 줄에서 에러가 날 것입니다.\n",
    "print('C:', C)"
   ]
  },
  {
   "cell_type": "markdown",
   "id": "5fd9aad1",
   "metadata": {},
   "source": [
    "# 3) type\n",
    "***\n",
    "NumPy 라이브러리 내부의 자료형들은 파이썬 내장함수와 동일합니다. 그러나 살짝 헷갈리는 기능이 있을 수 있어요. 바로 내장함수 type()과 dtype()메서드입니다.  \n",
    "\n",
    "* NumPy: `numpy.array.dtype`\n",
    "* 파이썬: `type()`"
   ]
  },
  {
   "cell_type": "code",
   "execution_count": 16,
   "id": "7576c67b",
   "metadata": {},
   "outputs": [
    {
     "name": "stdout",
     "output_type": "stream",
     "text": [
      "[[0 1 2]\n",
      " [3 4 5]]\n",
      "int64\n",
      "<class 'numpy.ndarray'>\n",
      "-----------------------------\n",
      "[0 1 2 3 4 5]\n",
      "int64\n",
      "<class 'numpy.ndarray'>\n",
      "-----------------------------\n",
      "['0' '1' '2' '3' '4' '5']\n",
      "<U21\n",
      "<class 'numpy.ndarray'>\n",
      "-------------------------------------\n",
      "[0 1 2 3 list([4, 5]) 6]\n",
      "object\n",
      "<class 'numpy.ndarray'>\n",
      "----------------------------------------\n"
     ]
    },
    {
     "name": "stderr",
     "output_type": "stream",
     "text": [
      "/tmp/ipykernel_48/4021498952.py:19: VisibleDeprecationWarning: Creating an ndarray from ragged nested sequences (which is a list-or-tuple of lists-or-tuples-or ndarrays with different lengths or shapes) is deprecated. If you meant to do this, you must specify 'dtype=object' when creating the ndarray.\n",
      "  D = np.array([0,1,2,3,[4,5],6])     # 이런 ndarray도 만들어 질까요?\n"
     ]
    }
   ],
   "source": [
    "A = np.arange(6).reshape(2,3)\n",
    "print(A)\n",
    "print(A.dtype)\n",
    "print(type(A))\n",
    "print(\"-----------------------------\")\n",
    "\n",
    "B = np.array([0,1,2,3,4,5])\n",
    "print(B)\n",
    "print(B.dtype)\n",
    "print(type(B))\n",
    "print(\"-----------------------------\")\n",
    "\n",
    "C = np.array([0,1,2,3,'4',5])\n",
    "print(C)\n",
    "print(C.dtype)\n",
    "print(type(C))\n",
    "print(\"-------------------------------------\")\n",
    "\n",
    "D = np.array([0,1,2,3,[4,5],6])     # 이런 ndarray도 만들어 질까요?\n",
    "print(D)\n",
    "print(D.dtype)\n",
    "print(type(D))\n",
    "print(\"----------------------------------------\")"
   ]
  },
  {
   "cell_type": "markdown",
   "id": "a6b53f7c",
   "metadata": {},
   "source": [
    "차이가 느껴지시나요? NumPy의 원소는 꼭 동일한 데이터 type이어야 합니다. NumPy의 메서드인 `dtype`은 NumPy ndarray의 \"원소\"의 데이터 타입을 반환해요.\n",
    "\n",
    "반면에 파이썬 내장함수인 `type(A)`을 이용하면 행렬 A의 자료형이 반환됩니다.\n",
    "\n",
    "여기서 재미있는 것은 D의 경우입니다. 이번에는 원소 하나를 `list` 객체로 바꿔 보았습니다. 위의 설명대로라면 NumPy의 원소는 꼭 동일한 데이터 type이어야 하므로 이번만큼은 에러가 날줄 알았는데, 떡하니 정상적으로 ndarray가 만들어집니다. 대신 `D.dtype`은 `object`를 리턴했습니다. 파이썬의 최상위 클래스는 바로 `object`입니다. 그러므로 Numpy는 `dtype`을 `object`로 지정해서라도 행렬 내 `dtype`을 일치시킬 수 있게 됩니다. 다행인 점은 이제 이런 상황을 방지하기 위해서 이런 기능을 deprecate 시켰다는 점이에요.\n",
    "\n",
    "deprecate 라는 것은 이제 더 이상 관리하지 않는 기능을 뜻합니다. 메서드를 deprecate 할 예정일 때는 기능은 성공적으로 실행시키고 error가 아닌 warning 문구로 경고만 해주는데요. 그 기능을 더 이상 못쓰는 것은 아니지만 이제부터 관리를 하지 않을 테니 오류가 날 확률이 높다는 뜻입니다. 일반적으로 어떻게 코드를 수정해야 하는지 알려주니 메시지를 잘 읽어보는 것이 좋습니다. 여기서는 '... you must specify 'dtype=object' when creating the ndarray.' 라고 말해 주었네요. 코드를 작성하는 사람이 `dtype`을 직접 입력하여 오류를 방지하려는 의도이겠죠? 그럼 다시 작성해 볼게요."
   ]
  },
  {
   "cell_type": "code",
   "execution_count": 17,
   "id": "67518d2a",
   "metadata": {},
   "outputs": [
    {
     "name": "stdout",
     "output_type": "stream",
     "text": [
      "[0 1 2 3 list([4, 5]) 6]\n",
      "object\n",
      "<class 'numpy.ndarray'>\n"
     ]
    }
   ],
   "source": [
    "D = np.array([0,1,2,3,[4,5],6], dtype=object) # warning 메시지를 보고 이렇게 바꿔봅니다.\n",
    "print(D)\n",
    "print(D.dtype)\n",
    "print(type(D))"
   ]
  },
  {
   "cell_type": "code",
   "execution_count": 8,
   "id": "b9d71959",
   "metadata": {
    "scrolled": true
   },
   "outputs": [
    {
     "name": "stdout",
     "output_type": "stream",
     "text": [
      "0\n",
      "<class 'numpy.str_'>\n",
      "4\n",
      "<class 'numpy.str_'>\n",
      "-----------------------------------------\n",
      "0\n",
      "<class 'int'>\n",
      "[4, 5]\n",
      "<class 'list'>\n"
     ]
    }
   ],
   "source": [
    "C = np.array([0,1,2,3,'4',5])\n",
    "print(C[0])\n",
    "print(type(C[0]))\n",
    "print(C[4])\n",
    "print(type(C[4]))\n",
    "print(\"-----------------------------------------\")\n",
    "\n",
    "D = np.array([0,1,2,3,[4,5],6],dtype= object)\n",
    "print(D[0])\n",
    "print(type(D[0]))\n",
    "print(D[4])\n",
    "print(type(D[4]))"
   ]
  },
  {
   "cell_type": "markdown",
   "id": "33916fde",
   "metadata": {},
   "source": [
    "# 4) 특수 행렬\n",
    "***\n",
    "**NumPy는 수학적으로 의미가 있는 행렬들을 함수로 제공하고 있습니다. 다음은 그 예시입니다.**\n",
    "\n",
    "* 단위행렬\n",
    "* 0 행렬\n",
    "* 1 행렬"
   ]
  },
  {
   "cell_type": "code",
   "execution_count": 9,
   "id": "d72e42b2",
   "metadata": {
    "scrolled": true
   },
   "outputs": [
    {
     "data": {
      "text/plain": [
       "array([[1., 0., 0.],\n",
       "       [0., 1., 0.],\n",
       "       [0., 0., 1.]])"
      ]
     },
     "execution_count": 9,
     "metadata": {},
     "output_type": "execute_result"
    }
   ],
   "source": [
    "# 단위행렬\n",
    "np.eye(3)\n"
   ]
  },
  {
   "cell_type": "code",
   "execution_count": 10,
   "id": "45b32528",
   "metadata": {},
   "outputs": [
    {
     "data": {
      "text/plain": [
       "array([[0., 0., 0.],\n",
       "       [0., 0., 0.]])"
      ]
     },
     "execution_count": 10,
     "metadata": {},
     "output_type": "execute_result"
    }
   ],
   "source": [
    "# 0행렬\n",
    "np.zeros([2,3])\n"
   ]
  },
  {
   "cell_type": "code",
   "execution_count": 11,
   "id": "f8877d82",
   "metadata": {},
   "outputs": [
    {
     "data": {
      "text/plain": [
       "array([[1., 1., 1.],\n",
       "       [1., 1., 1.],\n",
       "       [1., 1., 1.]])"
      ]
     },
     "execution_count": 11,
     "metadata": {},
     "output_type": "execute_result"
    }
   ],
   "source": [
    "# 1행렬\n",
    "np.ones([3,3])"
   ]
  },
  {
   "cell_type": "markdown",
   "id": "4a1a5a4b",
   "metadata": {},
   "source": [
    "# 5)브로드캐스트\n",
    "***\n",
    "NumPy의 강력한 연산 기능 중 하나인 브로드캐스트(broadcast) 연산이에요. ndarray 객체에 상수 연산을 하면 각각의 원소에 어떻게 연산이 적용되는지 확인해 보세요."
   ]
  },
  {
   "cell_type": "code",
   "execution_count": 12,
   "id": "be65780b",
   "metadata": {
    "scrolled": false
   },
   "outputs": [
    {
     "data": {
      "text/plain": [
       "array([[0, 1, 2],\n",
       "       [3, 4, 5],\n",
       "       [6, 7, 8]])"
      ]
     },
     "execution_count": 12,
     "metadata": {},
     "output_type": "execute_result"
    }
   ],
   "source": [
    "A = np.arange(9).reshape(3,3)\n",
    "A"
   ]
  },
  {
   "cell_type": "code",
   "execution_count": 13,
   "id": "7cc30a98",
   "metadata": {},
   "outputs": [
    {
     "data": {
      "text/plain": [
       "array([[ 0,  2,  4],\n",
       "       [ 6,  8, 10],\n",
       "       [12, 14, 16]])"
      ]
     },
     "execution_count": 13,
     "metadata": {},
     "output_type": "execute_result"
    }
   ],
   "source": [
    "# ndarray A에 2를 상수배 했을 때,\n",
    "A*2"
   ]
  },
  {
   "cell_type": "code",
   "execution_count": 14,
   "id": "9c1d559f",
   "metadata": {},
   "outputs": [
    {
     "data": {
      "text/plain": [
       "array([[ 2,  3,  4],\n",
       "       [ 5,  6,  7],\n",
       "       [ 8,  9, 10]])"
      ]
     },
     "execution_count": 14,
     "metadata": {},
     "output_type": "execute_result"
    }
   ],
   "source": [
    "# ndarray A에 2를 더했을 때,\n",
    "A + 2"
   ]
  },
  {
   "cell_type": "code",
   "execution_count": 15,
   "id": "7531d3e7",
   "metadata": {},
   "outputs": [
    {
     "name": "stdout",
     "output_type": "stream",
     "text": [
      "A: [[0 1 2]\n",
      " [3 4 5]\n",
      " [6 7 8]]\n",
      "B: [1 2 3]\n",
      "\n",
      "A+B: [[ 1  3  5]\n",
      " [ 4  6  8]\n",
      " [ 7  9 11]]\n"
     ]
    }
   ],
   "source": [
    "# 3 X 3 행렬에 1 X 3 행렬을 더했을 때\n",
    "A = np.arange(9).reshape(3,3)\n",
    "B = np.array([1,2,3])\n",
    "print(\"A:\",A)\n",
    "print(\"B:\",B)\n",
    "print(\"\\nA+B:\", A+B)"
   ]
  },
  {
   "cell_type": "code",
   "execution_count": 16,
   "id": "93382ba1",
   "metadata": {},
   "outputs": [
    {
     "name": "stdout",
     "output_type": "stream",
     "text": [
      "A: [[0 1 2]\n",
      " [3 4 5]\n",
      " [6 7 8]]\n",
      "C: [[1]\n",
      " [2]\n",
      " [3]]\n",
      "\n",
      "A+C: [[ 1  2  3]\n",
      " [ 5  6  7]\n",
      " [ 9 10 11]]\n"
     ]
    }
   ],
   "source": [
    "# 3 X 3 행렬에 3 X 1 행렬을 더했을 떄\n",
    "A = np.arange(9).reshape(3,3)\n",
    "C = np.array([[1],[2],[3]])\n",
    "print(\"A:\",A)\n",
    "print(\"C:\",C)\n",
    "print(\"\\nA+C:\",A+C)"
   ]
  },
  {
   "cell_type": "code",
   "execution_count": 17,
   "id": "4f96169f",
   "metadata": {
    "scrolled": true
   },
   "outputs": [
    {
     "name": "stdout",
     "output_type": "stream",
     "text": [
      "A: [[0 1 2]\n",
      " [3 4 5]\n",
      " [6 7 8]]\n",
      "D: [1 2]\n"
     ]
    },
    {
     "ename": "ValueError",
     "evalue": "operands could not be broadcast together with shapes (3,3) (2,) ",
     "output_type": "error",
     "traceback": [
      "\u001b[0;31m---------------------------------------------------------------------------\u001b[0m",
      "\u001b[0;31mValueError\u001b[0m                                Traceback (most recent call last)",
      "\u001b[0;32m/tmp/ipykernel_49/144577448.py\u001b[0m in \u001b[0;36m<module>\u001b[0;34m\u001b[0m\n\u001b[1;32m      5\u001b[0m \u001b[0mprint\u001b[0m\u001b[0;34m(\u001b[0m\u001b[0;34m\"A:\"\u001b[0m\u001b[0;34m,\u001b[0m\u001b[0mA\u001b[0m\u001b[0;34m)\u001b[0m\u001b[0;34m\u001b[0m\u001b[0;34m\u001b[0m\u001b[0m\n\u001b[1;32m      6\u001b[0m \u001b[0mprint\u001b[0m\u001b[0;34m(\u001b[0m\u001b[0;34m\"D:\"\u001b[0m\u001b[0;34m,\u001b[0m\u001b[0mD\u001b[0m\u001b[0;34m)\u001b[0m\u001b[0;34m\u001b[0m\u001b[0;34m\u001b[0m\u001b[0m\n\u001b[0;32m----> 7\u001b[0;31m \u001b[0mprint\u001b[0m\u001b[0;34m(\u001b[0m\u001b[0;34m\"\\nA+D\"\u001b[0m\u001b[0;34m,\u001b[0m\u001b[0mA\u001b[0m\u001b[0;34m+\u001b[0m\u001b[0mD\u001b[0m\u001b[0;34m)\u001b[0m\u001b[0;34m\u001b[0m\u001b[0;34m\u001b[0m\u001b[0m\n\u001b[0m",
      "\u001b[0;31mValueError\u001b[0m: operands could not be broadcast together with shapes (3,3) (2,) "
     ]
    }
   ],
   "source": [
    "# 3 X 3 행렬에 1 X 2 행렬을 더하는 것은 허용되지 않습니다.\n",
    "A = np.arange(9).reshape(3,3)\n",
    "D = np.array([1,2])\n",
    "\n",
    "print(\"A:\",A)\n",
    "print(\"D:\",D)\n",
    "print(\"\\nA+D\",A+D)"
   ]
  },
  {
   "cell_type": "markdown",
   "id": "cad2788c",
   "metadata": {},
   "source": [
    "이렇게 ndarray와 상수, 또는 서로 크기가 다른 ndarray끼리 산술연산이 가능한 기능을 브로드캐스팅이라고 합니다. Numpy가 파이썬 내장 리스트와 구별되는 큰 특징 중의 하나입니다. 둘 사이에 어떤 차이가 나는지 다음 코드를 통해 비교해 보시기 바랍니다."
   ]
  },
  {
   "cell_type": "code",
   "execution_count": 18,
   "id": "2996876f",
   "metadata": {
    "scrolled": true
   },
   "outputs": [
    {
     "name": "stdout",
     "output_type": "stream",
     "text": [
      "[1, 2, 3, 4]\n"
     ]
    },
    {
     "ename": "TypeError",
     "evalue": "can only concatenate list (not \"int\") to list",
     "output_type": "error",
     "traceback": [
      "\u001b[0;31m---------------------------------------------------------------------------\u001b[0m",
      "\u001b[0;31mTypeError\u001b[0m                                 Traceback (most recent call last)",
      "\u001b[0;32m/tmp/ipykernel_49/2734827986.py\u001b[0m in \u001b[0;36m<module>\u001b[0;34m\u001b[0m\n\u001b[1;32m      1\u001b[0m \u001b[0mprint\u001b[0m\u001b[0;34m(\u001b[0m\u001b[0;34m[\u001b[0m\u001b[0;36m1\u001b[0m\u001b[0;34m,\u001b[0m\u001b[0;36m2\u001b[0m\u001b[0;34m]\u001b[0m\u001b[0;34m+\u001b[0m\u001b[0;34m[\u001b[0m\u001b[0;36m3\u001b[0m\u001b[0;34m,\u001b[0m\u001b[0;36m4\u001b[0m\u001b[0;34m]\u001b[0m\u001b[0;34m)\u001b[0m\u001b[0;34m\u001b[0m\u001b[0;34m\u001b[0m\u001b[0m\n\u001b[0;32m----> 2\u001b[0;31m \u001b[0mprint\u001b[0m\u001b[0;34m(\u001b[0m\u001b[0;34m[\u001b[0m\u001b[0;36m1\u001b[0m\u001b[0;34m,\u001b[0m\u001b[0;36m2\u001b[0m\u001b[0;34m]\u001b[0m\u001b[0;34m+\u001b[0m\u001b[0;36m3\u001b[0m\u001b[0;34m)\u001b[0m\u001b[0;34m\u001b[0m\u001b[0;34m\u001b[0m\u001b[0m\n\u001b[0m",
      "\u001b[0;31mTypeError\u001b[0m: can only concatenate list (not \"int\") to list"
     ]
    }
   ],
   "source": [
    "print([1,2]+[3,4])\n",
    "print([1,2]+3)\n"
   ]
  },
  {
   "cell_type": "code",
   "execution_count": 19,
   "id": "0efdc75f",
   "metadata": {
    "scrolled": true
   },
   "outputs": [
    {
     "name": "stdout",
     "output_type": "stream",
     "text": [
      "[4 6]\n",
      "[4 5]\n"
     ]
    }
   ],
   "source": [
    "print(np.array([1,2])+np.array([3,4]))\n",
    "print(np.array([1,2])+3)"
   ]
  },
  {
   "cell_type": "markdown",
   "id": "e25d8c08",
   "metadata": {},
   "source": [
    "# 6)슬라이스와 인덱싱\n",
    "***\n",
    "NumPy도 파이썬 내장 리스트와 비슷한 슬라이스와 인덱싱 연산을 제공합니다. 몇 가지 예제를 통해 연습해 볼게요."
   ]
  },
  {
   "cell_type": "code",
   "execution_count": 39,
   "id": "0decebc8",
   "metadata": {
    "scrolled": false
   },
   "outputs": [
    {
     "name": "stdout",
     "output_type": "stream",
     "text": [
      "A: [[0 1 2]\n",
      " [3 4 5]\n",
      " [6 7 8]]\n",
      "B: [0 1 2]\n"
     ]
    }
   ],
   "source": [
    "# 3 X 3 행렬의 첫번째 행을 구해 봅시다.\n",
    "A = np.arange(9).reshape(3,3)\n",
    "print(\"A:\", A)\n",
    "B = A[0]\n",
    "print(\"B:\", B)\n"
   ]
  },
  {
   "cell_type": "code",
   "execution_count": 21,
   "id": "5eb85d17",
   "metadata": {
    "scrolled": true
   },
   "outputs": [
    {
     "name": "stdout",
     "output_type": "stream",
     "text": [
      "1\n",
      "1\n"
     ]
    }
   ],
   "source": [
    "# 0, 1을 인덱싱 하면 A의 첫번쨰 행에서 두번째 값을 참조합니다.\n",
    "# 아래 두 결과는 정확히 같습니다.\n",
    "print(A[0,1])\n",
    "print(B[1])"
   ]
  },
  {
   "cell_type": "code",
   "execution_count": 40,
   "id": "5ba4a000",
   "metadata": {
    "scrolled": true
   },
   "outputs": [
    {
     "data": {
      "text/plain": [
       "array([[0, 1, 2],\n",
       "       [3, 4, 5]])"
      ]
     },
     "execution_count": 40,
     "metadata": {},
     "output_type": "execute_result"
    }
   ],
   "source": [
    "# 슬라이싱도 비슷합니다.\n",
    "A[:-1]\n",
    "#A[0:3]\n",
    "\n"
   ]
  },
  {
   "cell_type": "markdown",
   "id": "e7454539",
   "metadata": {},
   "source": [
    "아래 그림은 NumPy 기본 인덱싱 배열입니다. 배열은 리스트와 기본적으로 비슷합니다.\n",
    "\n",
    "그러면 이 배열에서 맨 오른쪽 열을 슬라이싱 하고 싶을 땐 어떻게 해야 할까요?"
   ]
  },
  {
   "attachments": {
    "f-11-5.1.png": {
     "image/png": "[encoded data removed]"
    }
   },
   "cell_type": "markdown",
   "id": "cc339ca9",
   "metadata": {},
   "source": [
    "![f-11-5.1.png](attachment:f-11-5.1.png)"
   ]
  },
  {
   "attachments": {
    "f-11-5.2.png": {
     "image/png": "[encoded data removed]"
    }
   },
   "cell_type": "markdown",
   "id": "3e8b6a1e",
   "metadata": {},
   "source": [
    "![f-11-5.2.png](attachment:f-11-5.2.png)"
   ]
  },
  {
   "cell_type": "code",
   "execution_count": 23,
   "id": "3501f65a",
   "metadata": {
    "scrolled": true
   },
   "outputs": [
    {
     "name": "stdout",
     "output_type": "stream",
     "text": [
      "[[2]\n",
      " [5]\n",
      " [8]]\n",
      "--------------------------\n",
      "[[1 2]\n",
      " [4 5]\n",
      " [7 8]]\n",
      "--------------------------\n",
      "[[0 1 2]\n",
      " [3 4 5]\n",
      " [6 7 8]]\n",
      "--------------------------\n",
      "[[2]\n",
      " [5]\n",
      " [8]]\n",
      "--------------------------\n",
      "[[1 2]\n",
      " [4 5]\n",
      " [7 8]]\n",
      "--------------------------\n",
      "[[0 1 2]\n",
      " [3 4 5]\n",
      " [6 7 8]]\n"
     ]
    }
   ],
   "source": [
    "# 이 슬라이싱의 결과는\n",
    "print(A[:,2:])\n",
    "print(\"--------------------------\")\n",
    "print(A[:,1:])\n",
    "print(\"--------------------------\")\n",
    "print(A[:,:])\n",
    "print(\"--------------------------\")\n",
    "# 이 슬라이싱의 결과와 동일합니다.\n",
    "\n",
    "print(A[:, -1:])\n",
    "print(\"--------------------------\")\n",
    "print(A[:,-2:])\n",
    "print(\"--------------------------\")\n",
    "print(A[:,-3:])"
   ]
  },
  {
   "cell_type": "code",
   "execution_count": 24,
   "id": "c90149bb",
   "metadata": {},
   "outputs": [
    {
     "data": {
      "text/plain": [
       "array([3, 4])"
      ]
     },
     "execution_count": 24,
     "metadata": {},
     "output_type": "execute_result"
    }
   ],
   "source": [
    "A[1,:2]"
   ]
  },
  {
   "cell_type": "code",
   "execution_count": 25,
   "id": "ea989762",
   "metadata": {
    "scrolled": true
   },
   "outputs": [
    {
     "data": {
      "text/plain": [
       "array([[1, 2],\n",
       "       [4, 5]])"
      ]
     },
     "execution_count": 25,
     "metadata": {},
     "output_type": "execute_result"
    }
   ],
   "source": [
    "A[:2, 1:]"
   ]
  },
  {
   "cell_type": "code",
   "execution_count": 26,
   "id": "72b6a73c",
   "metadata": {
    "scrolled": false
   },
   "outputs": [
    {
     "data": {
      "text/plain": [
       "array([2, 5, 8])"
      ]
     },
     "execution_count": 26,
     "metadata": {},
     "output_type": "execute_result"
    }
   ],
   "source": [
    "A[:,-1]"
   ]
  },
  {
   "cell_type": "code",
   "execution_count": 42,
   "id": "0ae8bb37",
   "metadata": {
    "scrolled": false
   },
   "outputs": [
    {
     "data": {
      "text/plain": [
       "array([[2],\n",
       "       [5],\n",
       "       [8]])"
      ]
     },
     "execution_count": 42,
     "metadata": {},
     "output_type": "execute_result"
    }
   ],
   "source": [
    "A[:,-1:]"
   ]
  },
  {
   "cell_type": "markdown",
   "id": "ef6e3dac",
   "metadata": {},
   "source": [
    "# 7) random\n",
    "***\n",
    "NumPy에서도 다양한 의사 난수를 지원합니다. 앞으로 많이 쓰일 기능이니 익혀두세요. 아래는 주로 많이 쓰이는 것들이지만, `np.random` 패키지 안에는 이보다 훨씬 많은 기능이 내장되어 있습니다.  \n",
    "* np.random.randint()\n",
    "* np.random.choice()\n",
    "* np.random.permutation()\n",
    "* np.random.normal()\n",
    "* np.random.uniform()\n"
   ]
  },
  {
   "cell_type": "code",
   "execution_count": 36,
   "id": "71d936d8",
   "metadata": {
    "scrolled": true
   },
   "outputs": [
    {
     "name": "stdout",
     "output_type": "stream",
     "text": [
      "0.24737548388965724\n",
      "8\n",
      "7\n"
     ]
    }
   ],
   "source": [
    "# 의사 난수를 생성하는 예제입니다. 여러번 실행해 보세요.\n",
    "\n",
    "print(np.random.random())  # 0에서 1사이의 실수형 난수 하나를 생성\n",
    "\n",
    "print(np.random.randint(0,10))  # 0~9 사이 1개 정수형 난수 하나를 생성\n",
    "\n",
    "print(np.random.choice([0,1,2,3,4,5,6,7,8,9])) # 리스트에 주어진 값 중 하나를 랜덤하게 골라줌"
   ]
  },
  {
   "cell_type": "code",
   "execution_count": 39,
   "id": "aa2309f5",
   "metadata": {},
   "outputs": [
    {
     "name": "stdout",
     "output_type": "stream",
     "text": [
      "[ 0.08244894 -1.02557376 -0.91143202  0.21978659 -0.72242512]\n",
      "[ 0.69385127 -0.63869572  0.80268935 -0.67889139  0.08112222]\n"
     ]
    }
   ],
   "source": [
    "# 아래 기능들은 어떤 분포를 따르는 변수를 임의로 표본추출해 줍니다. \n",
    "\n",
    "# 이것은 정규분포를 따릅니다.\n",
    "print(np.random.normal(loc=0, scale=1, size=5))    # 평균(loc), 표준편차(scale), 추출개수(size)를 조절해 보세요.\n",
    "\n",
    "# 이것은 균등분포를 따릅니다. \n",
    "print(np.random.uniform(low=-1, high=1, size=5))  # 최소(low), 최대(high), 추출개수(size)를 조절해 보세요."
   ]
  },
  {
   "cell_type": "markdown",
   "id": "dfa8d532",
   "metadata": {},
   "source": [
    "# 8) 전치행렬\n",
    "***\n",
    "행렬의 행과 열을 맞바꾸기, 행렬의 축을 서로 바꾸기 등에 사용되는 꼭 알아야 할 기능으로 아래와 같은 것들이 있습니다.\n",
    "\n",
    "* arr.T: 행렬의 행과 열 맞바꾸기\n",
    "* np.transpose: 축을 기준으로 행렬의 행과 열 바꾸기\n"
   ]
  },
  {
   "cell_type": "code",
   "execution_count": 43,
   "id": "df6f89ea",
   "metadata": {
    "scrolled": true
   },
   "outputs": [
    {
     "name": "stdout",
     "output_type": "stream",
     "text": [
      "A:  [[[ 0  1  2  3]\n",
      "  [ 4  5  6  7]\n",
      "  [ 8  9 10 11]]\n",
      "\n",
      " [[12 13 14 15]\n",
      "  [16 17 18 19]\n",
      "  [20 21 22 23]]]\n",
      "A의 전치행렬:  [[[ 0 12]\n",
      "  [ 4 16]\n",
      "  [ 8 20]]\n",
      "\n",
      " [[ 1 13]\n",
      "  [ 5 17]\n",
      "  [ 9 21]]\n",
      "\n",
      " [[ 2 14]\n",
      "  [ 6 18]\n",
      "  [10 22]]\n",
      "\n",
      " [[ 3 15]\n",
      "  [ 7 19]\n",
      "  [11 23]]]\n",
      "A의 전치행렬의 shape: (4, 3, 2)\n"
     ]
    }
   ],
   "source": [
    "A = np.arange(24).reshape(2,3,4)\n",
    "\n",
    "print(\"A: \",A)\n",
    "print(\"A의 전치행렬: \", A.T)\n",
    "print(\"A의 전치행렬의 shape:\", A.T.shape)  # A의 전치행렬은 (4,3,2)의 shape를 가진 행렬"
   ]
  },
  {
   "cell_type": "code",
   "execution_count": 45,
   "id": "84c27294",
   "metadata": {
    "scrolled": true
   },
   "outputs": [
    {
     "name": "stdout",
     "output_type": "stream",
     "text": [
      "A: [[[ 0  1  2  3]\n",
      "  [ 4  5  6  7]\n",
      "  [ 8  9 10 11]]\n",
      "\n",
      " [[12 13 14 15]\n",
      "  [16 17 18 19]\n",
      "  [20 21 22 23]]]\n",
      "B: [[[ 0  4  8]\n",
      "  [12 16 20]]\n",
      "\n",
      " [[ 1  5  9]\n",
      "  [13 17 21]]\n",
      "\n",
      " [[ 2  6 10]\n",
      "  [14 18 22]]\n",
      "\n",
      " [[ 3  7 11]\n",
      "  [15 19 23]]]\n",
      "B.shape: (4, 2, 3)\n"
     ]
    }
   ],
   "source": [
    "# np.transpose는 행렬의 축을 어떻게 변환해 줄지 임의로 지정해 줄 수 있는 일반적인 행렬 전치 함수입니다. \n",
    "# np.transpose(A, (2,1,0)) 은 A.T와 정확히 같습니다.\n",
    "\n",
    "B = np.transpose(A, (2,0,1))\n",
    "print(\"A:\", A)             # A는 (2,3,4)의 shape를 가진 행렬입니다. \n",
    "print(\"B:\", B)             # B는 A의 3, 1, 2번째 축을 자신의 1, 2, 3번째 축으로 가진 행렬입니다.\n",
    "print(\"B.shape:\", B.shape)  # B는 (4,2,3)의 shape를 가진 행렬입니다."
   ]
  },
  {
   "cell_type": "markdown",
   "id": "d1e402a0",
   "metadata": {},
   "source": [
    "# 8-6. 끝판왕 등장! NumPy로 이 모든 걸 한방에! (3) NumPy로 기본 통계 데이터 계산해 보기\n",
    "***\n",
    "이어서 NumPy의 주요 기능 중 하나인 통계 데이터 계산 기능을 이용해 보도록 하겠습니다.\n",
    "\n",
    "NumPy에서는 많은 통계 관련 수식을 함수로 제공해 줍니다. NumPy에서 제공하는 함수들을 이용해서 위에서 계산한 평균, 표준편차, 중앙값을 계산하면 아래와 같이 나타낼 수 있어요."
   ]
  },
  {
   "cell_type": "code",
   "execution_count": null,
   "id": "80a8d3b8",
   "metadata": {},
   "outputs": [],
   "source": [
    "import numpy as np\n",
    "\n",
    "def numbers():\n",
    "    X = []\n",
    "    number = input(\"Enter a number (<Enter key> to quit)\") \n",
    "    # 하지만 2개 이상의 숫자를 받아야 한다는 제약조건을 제외하였습니다.\n",
    "    while number != \"\":\n",
    "        try:\n",
    "            x = float(number)\n",
    "            X.append(x)\n",
    "        except ValueError:\n",
    "            print('>>> NOT a number! Ignored..')\n",
    "        number = input(\"Enter a number (<Enter key> to quit)\")\n",
    "    return X\n",
    "\n",
    "def main():\n",
    "    nums = numbers()       # 이것은 파이썬 리스트입니다. \n",
    "    num = np.array(nums)   # 리스트를 Numpy ndarray로 변환합니다.\n",
    "    print(\"합\", num.sum())\n",
    "    print(\"평균값\",num.mean())\n",
    "    print(\"표준편차\",num.std())\n",
    "    print(\"중앙값\",np.median(num))   # num.median() 이 아님에 유의해 주세요.\n",
    "\n",
    "main()"
   ]
  },
  {
   "cell_type": "markdown",
   "id": "1e331277",
   "metadata": {},
   "source": [
    "# 8-7. 데이터의 행렬 변환 (1)  \n",
    "***\n",
    "앞서 보신 것처럼 기본 수학 계산에서 배열 형태의 데이터 타입은 굉장히 유용합니다. 배열 형태의 데이터를 다루기 위해 list를 활용하는 것보다는 NumPy의 ndarray를 활용하면 더 쉽게 코딩을 할 수 있음을 확인했습니다.\n",
    "\n",
    "기본적인 수학 계산과 함께 영상, 이미지, 텍스트, 소리 등 다양한 형태의 데이터 데이터를 숫자, 혹은 행렬 형태로 표현하기도 합니다. 컴퓨터는 0과 1의 2진수로 이루어진 산술 연산만 가능하기 때문에 복잡한 데이터를 숫자로 표현한 뒤 계산하기 때문이죠.\n"
   ]
  },
  {
   "cell_type": "markdown",
   "id": "0a04b61b",
   "metadata": {},
   "source": [
    "Q1. 소리 데이터의 경우 NumPy로 어떻게 표현하나요?  \n",
    "\n",
    "1차원 array로 표현한다. CD음원파일의 경우, 44.1kHz의 샘플링 레이트로 -32767 ~ 32768의 정수 값을 갖는다."
   ]
  },
  {
   "cell_type": "markdown",
   "id": "6551cbdb",
   "metadata": {},
   "source": [
    "Q2. 흑백 이미지의 경우 NumPy로 어떻게 표현 하나요?  \n",
    "\n",
    "이미지 사이즈의 세로X 가로 형태의 행렬(2차원 ndarray)로 나타내고, 각 원소는 픽셀별로 명도(grayscale)를 0~255 의 숫자로 환산하여 표시한다. 0은 검정, 255는 흰색이다."
   ]
  },
  {
   "cell_type": "markdown",
   "id": "295d9f3d",
   "metadata": {},
   "source": [
    "Q3. 컬러 이미지의 경우 NumPy로 어떻게 표현 하나요?  \n",
    "\n",
    "이미지 사이즈의 세로 X 가로x3 형태의 3차원 행렬이다. 3은 Red, Green, Blue계열의 3 색을 의미한다."
   ]
  },
  {
   "cell_type": "markdown",
   "id": "d5972783",
   "metadata": {},
   "source": [
    "Q4. 자연어(블로그에서는 Language로 표기)의 경우 NumPy로 어떻게 표현 하나요?  \n",
    "\n",
    "임베딩(Embedding)이라는 과정을 거쳐 ndarray로 표현될 수 있다. 블로그의 예시에서는 71,290개의 단어가 들어있는 (문장들로 이루어진) 데이터셋이 있을때, 이를 단어별로 나누고 0 - 71,289로 넘버링했다. 이를 토큰화 과정이라고 한다. 이 토큰을 50차원의 word2vec embedding 을 통해 [batch_size, sequence_length, embedding_size]의 ndarray로 표현할 수 있다."
   ]
  },
  {
   "cell_type": "markdown",
   "id": "9c82fd30",
   "metadata": {},
   "source": [
    "# 8-8. 데이터의 행렬 변환 (2) 이미지의 행렬 변환\n",
    "이전 스텝에서 데이터를 행렬로 변환할 수 있다고 했죠? 이번에는 이미지 데이터를 어떻게 NumPy로 표현하는지 연습해 보도록 하겠습니다.\n",
    "\n",
    "1) 픽셀과 이미지\n",
    "***\n",
    "디지털로 표현되는 이미지는 수많은 점으로 구성되어 있습니다. 이 점들을 픽셀이라고 불러요.\n",
    "\n",
    "아래 이미지는 동일한 사이즈의 이미지에 대해 픽셀이 1 X 1 (1개)일 때부터 100 X 100 (10,000개)일 때 이미지의 해상도를 나타내고 있습니다.\n"
   ]
  },
  {
   "attachments": {
    "f-11-7.1.max-800x600.png": {
     "image/png": "[encoded data removed]"
    }
   },
   "cell_type": "markdown",
   "id": "fe4e011e",
   "metadata": {},
   "source": [
    "![f-11-7.1.max-800x600.png](attachment:f-11-7.1.max-800x600.png)"
   ]
  },
  {
   "cell_type": "markdown",
   "id": "0f11fa4c",
   "metadata": {},
   "source": [
    "이미지와 픽셀의 관계에 관한 기본적인 사실만 나열하면 다음과 같습니다.\n",
    "\n",
    "* 이미지는 수많은 점(픽셀)들로 구성되어 있습니다.\n",
    "* 각각의 픽셀은 R, G, B 값 3개 요소의 튜플로 색상이 표시됩니다. (Red, Green, Blue의 값이에요)\n",
    "   - 흰색(W) : (255,255,255)\n",
    "   - 검정색(B) : (0, 0, 0)\n",
    "   - 빨간색(R) : (255, 0, 0)\n",
    "   - 파란색(B) : (0, 0, 255)\n",
    "   - 녹색(G) : (0, 128, 0)\n",
    "   - 노란색(Y) : (255, 255, 0)\n",
    "   - 보라색(P) : (128, 0, 128)\n",
    "   - 회색(Gray) : (128, 128, 128)  \n",
    "   \n",
    "   \n",
    "* 흑백의 경우에는 Gray 스케일로 나타내는데, 0~255 범위의 숫자 1개의 튜플 값이에요.  \n",
    "\n",
    "\n",
    "* Color는 투명도를 포함하는 A(alpha)를 포함해 RGBA 4개로 표시하기도 합니다.\n",
    "\n",
    "\n",
    "* 아래 그림처럼 Image의 좌표는 보통 왼쪽 위를 (0, 0)으로 표시하고, 오른쪽과 아래로 내려갈수록 좌표가 증가합니다."
   ]
  },
  {
   "attachments": {
    "f-11-7.2.png": {
     "image/png": "[encoded data removed]"
    }
   },
   "cell_type": "markdown",
   "id": "f1df918d",
   "metadata": {},
   "source": [
    "![f-11-7.2.png](attachment:f-11-7.2.png)"
   ]
  },
  {
   "cell_type": "markdown",
   "id": "d00a2622",
   "metadata": {},
   "source": [
    "# 2) 이미지와 관련된 파이썬 라이브러리\n",
    "***\n",
    "* matplotlib\n",
    "* PIL  \n",
    "\n",
    "이미지 데이터를 처리하기 위해 추가로 matplotlib과 PIL 라이브러리를 이용할 거예요. 이 두 라이브러리는 이미지 파일을 열고, 자르고, 복사하고, rgb 색상 값을 가져오는 등 이미지 파일과 관련된 몇 가지 작업을 수행합니다. 이렇게 처리한 파일을 NumPy를 이용해 행렬로 빠르게 연산해서 이미지를 더 빠르게 작업하는 거예요."
   ]
  },
  {
   "cell_type": "code",
   "execution_count": 44,
   "id": "b7992825",
   "metadata": {},
   "outputs": [
    {
     "name": "stdout",
     "output_type": "stream",
     "text": [
      "# matplotlib : 3.4.3\n",
      "# PIL: 8.3.2\n"
     ]
    }
   ],
   "source": [
    "import matplotlib as mpl\n",
    "import PIL\n",
    "\n",
    "print( f'# matplotlib : {mpl.__version__}')\n",
    "print( f'# PIL: {PIL.__version__}')"
   ]
  },
  {
   "cell_type": "markdown",
   "id": "594679d3",
   "metadata": {},
   "source": [
    "# 3) 간단한 이미지 조작\n",
    "***\n",
    "몇 가지 예제를 하면서 연습해 볼게요.\n",
    "\n",
    "**이미지 조작에 쓰이는 메서드**\n",
    "\n",
    "* open : Image.open()\n",
    "* size : Image.size\n",
    "* filename : Image.filename\n",
    "* crop : Image.crop((x0, y0, xt, yt))\n",
    "* resize : Image.resize((w,h))\n",
    "* save : Image.save()\n",
    "\n",
    "1. open\n",
    "\n",
    "`newyork.jpg` 자유의 여신상 파일을 예제로 연습해 봅시다.\n",
    "\n",
    "클라우드에서는 위 사진을 다운로드할 필요 없습니다.   \n",
    "Cloud Shell에서 다음과 같은 명령어를 입력하면 ~/aiffel/data_represent/image 디렉터리에 이미지가 준비됩니다.    \n"
   ]
  },
  {
   "cell_type": "code",
   "execution_count": 45,
   "id": "89a5b3fd",
   "metadata": {},
   "outputs": [],
   "source": [
    "# $ mkdir -p ~/aiffel/data_represent/image    \n",
    "# $ ln -s ~/data/newyork.jpg ~/aiffel/data_represent/image"
   ]
  },
  {
   "cell_type": "code",
   "execution_count": 46,
   "id": "23bc6d5b",
   "metadata": {
    "scrolled": true
   },
   "outputs": [
    {
     "name": "stdout",
     "output_type": "stream",
     "text": [
      "/aiffel/aiffel/data_represent/image/newyork.jpg\n",
      "<class 'PIL.JpegImagePlugin.JpegImageFile'>\n"
     ]
    },
    {
     "data": {
      "image/png": "[encoded data removed]",
      "text/plain": [
       "<PIL.JpegImagePlugin.JpegImageFile image mode=RGB size=212x300 at 0x7F70384E6820>"
      ]
     },
     "execution_count": 46,
     "metadata": {},
     "output_type": "execute_result"
    }
   ],
   "source": [
    "from PIL import Image, ImageColor\n",
    "import os\n",
    "img_path = os.getenv(\"HOME\") + \"/aiffel/data_represent/image/newyork.jpg\"\n",
    "img = Image.open(img_path)\n",
    "print(img_path)\n",
    "print(type(img))\n",
    "img"
   ]
  },
  {
   "cell_type": "markdown",
   "id": "c153be6c",
   "metadata": {},
   "source": [
    "Pillow의 Image.open()이라는 메서드를 통해 이미지 파일을 open 하였습니다. 이렇게 해서 얻어진 오브젝트 img는 PIL.JpegImagePlugin.JpegImageFile 라는 타입을 가지고 있습니다.\n",
    "\n",
    "# 2.Size"
   ]
  },
  {
   "cell_type": "code",
   "execution_count": 47,
   "id": "e3ff7ee8",
   "metadata": {
    "scrolled": true
   },
   "outputs": [
    {
     "data": {
      "text/plain": [
       "(212, 300)"
      ]
     },
     "execution_count": 47,
     "metadata": {},
     "output_type": "execute_result"
    }
   ],
   "source": [
    "img.size"
   ]
  },
  {
   "cell_type": "markdown",
   "id": "5ffeaa7d",
   "metadata": {},
   "source": [
    "img.size를 입력하면 이미지 사이즈의 가로X세로가 각각 튜플 값으로 반환됩니다. 아래 코드처럼 많이 사용해요."
   ]
  },
  {
   "cell_type": "code",
   "execution_count": 48,
   "id": "c97b6b49",
   "metadata": {},
   "outputs": [
    {
     "name": "stdout",
     "output_type": "stream",
     "text": [
      "212 300\n"
     ]
    }
   ],
   "source": [
    "W, H =img.size\n",
    "print(W,H)"
   ]
  },
  {
   "cell_type": "code",
   "execution_count": 49,
   "id": "f4e73b85",
   "metadata": {},
   "outputs": [
    {
     "name": "stdout",
     "output_type": "stream",
     "text": [
      "JPEG\n",
      "(212, 300)\n",
      "RGB\n"
     ]
    }
   ],
   "source": [
    "print(img.format)\n",
    "print(img.size)\n",
    "print(img.mode)"
   ]
  },
  {
   "cell_type": "markdown",
   "id": "3bc2b154",
   "metadata": {},
   "source": [
    "# 3. 이미지 자르기\n",
    "이미지를 자를 때에는 `.crop()` 메서드를 이용합니다. 인자로 튜플값을 받고, 가로 세로의 시작점과 가로, 세로의 종료점 총 4개를 입력해 줍니다."
   ]
  },
  {
   "cell_type": "code",
   "execution_count": 52,
   "id": "14c2de9f",
   "metadata": {
    "scrolled": true
   },
   "outputs": [
    {
     "data": {
      "image/png": "[encoded data removed]",
      "text/plain": [
       "<PIL.Image.Image image mode=RGB size=70x70 at 0x7F70116B3EE0>"
      ]
     },
     "execution_count": 52,
     "metadata": {},
     "output_type": "execute_result"
    }
   ],
   "source": [
    "img.crop((30,30,100,100))"
   ]
  },
  {
   "cell_type": "markdown",
   "id": "7ad12dcf",
   "metadata": {},
   "source": [
    "# 4. 저장\n",
    "자른 이미지를 저장해 보도록 하겠습니다. 저장은 `.save()` 메서드를 사용하고, 매개변수로 파일 이름을 넣어 줍니다."
   ]
  },
  {
   "cell_type": "code",
   "execution_count": 48,
   "id": "75a26688",
   "metadata": {},
   "outputs": [
    {
     "name": "stdout",
     "output_type": "stream",
     "text": [
      "저장 완료!\n"
     ]
    }
   ],
   "source": [
    "# 새로운 이미지 파일명\n",
    "cropped_img_path = os. getenv(\"HOME\") + \"/aiffel/data_represent/image/cropped_img.jpg\"\n",
    "img.crop((30,30,100,100)).save(cropped_img_path)\n",
    "print(\"저장 완료!\")"
   ]
  },
  {
   "cell_type": "markdown",
   "id": "69cdc794",
   "metadata": {},
   "source": [
    "이미지가 잘 저장됐는지 확인해 봅시다! 아래 명령어를 실행했을 때 이미지의 경로가 나오면 성공입니다."
   ]
  },
  {
   "cell_type": "code",
   "execution_count": 49,
   "id": "36a02d9b",
   "metadata": {},
   "outputs": [
    {
     "name": "stdout",
     "output_type": "stream",
     "text": [
      "/aiffel/aiffel/data_represent/image/cropped_img.jpg\r\n"
     ]
    }
   ],
   "source": [
    "!ls ~/aiffel/data_represent/image/cropped_img.jpg"
   ]
  },
  {
   "cell_type": "markdown",
   "id": "b833486f",
   "metadata": {},
   "source": [
    "# 5.행렬로 변환\n",
    "이미지 파일을 행렬로 변환해 보도록 하겠습니다.\n"
   ]
  },
  {
   "cell_type": "code",
   "execution_count": 50,
   "id": "fbe69606",
   "metadata": {},
   "outputs": [
    {
     "name": "stdout",
     "output_type": "stream",
     "text": [
      "<class 'PIL.JpegImagePlugin.JpegImageFile'>\n",
      "<class 'numpy.ndarray'>\n",
      "(300, 212, 3)\n",
      "3\n"
     ]
    }
   ],
   "source": [
    "import numpy as np\n",
    "img_arr = np.array(img)\n",
    "print(type(img))\n",
    "print(type(img_arr))\n",
    "print(img_arr.shape)\n",
    "print(img_arr.ndim)\n"
   ]
  },
  {
   "cell_type": "markdown",
   "id": "968c3fa8",
   "metadata": {},
   "source": [
    "💡 여기서 잠깐!\n",
    "\n",
    "img_arr = np.array(img)가 정상동작했습니다. 의아합니다. img는 파이썬 리스트 타입이 아니라 PIL.JpegImagePlugin.JpegImageFile 라는 타입을 가지고 있습니다.\n",
    "어떻게 np.array(img)가 정상동작한 걸까요?"
   ]
  },
  {
   "cell_type": "markdown",
   "id": "59c3f4f5",
   "metadata": {},
   "source": [
    "`PIL.JpegImagePlugin.JpegImageFile`는 `PIL.Image.Image` 라는 클래스를 상속받은 타입입니다. 이 PIL.Image.Image 클래스는 리스트를 상속받지 않았지만 __array_interface__라는 속성이 정의되어 있습니다. 이 덕분에 Pillow 라이브러리는 손쉽게 이미지를 Numpy ndarray로 변환 가능합니다.\n",
    "\n",
    "컬러(RGB) 이미지 파일이니, 변환된 행렬은 `Height X Width X RGB Channel`의 모양이고 차원 역시 3차원입니다."
   ]
  },
  {
   "cell_type": "code",
   "execution_count": 51,
   "id": "d43d5b27",
   "metadata": {},
   "outputs": [
    {
     "data": {
      "text/plain": [
       "array([[[133, 180, 250],\n",
       "        [133, 180, 250],\n",
       "        [133, 180, 250],\n",
       "        ...,\n",
       "        [133, 180, 250],\n",
       "        [133, 180, 250],\n",
       "        [133, 180, 250]],\n",
       "\n",
       "       [[133, 180, 250],\n",
       "        [133, 180, 250],\n",
       "        [133, 180, 250],\n",
       "        ...,\n",
       "        [133, 180, 250],\n",
       "        [133, 180, 250],\n",
       "        [133, 180, 250]],\n",
       "\n",
       "       [[133, 180, 250],\n",
       "        [133, 180, 250],\n",
       "        [133, 180, 250],\n",
       "        ...,\n",
       "        [133, 180, 250],\n",
       "        [133, 180, 250],\n",
       "        [133, 180, 250]],\n",
       "\n",
       "       ...,\n",
       "\n",
       "       [[164, 199, 255],\n",
       "        [164, 199, 255],\n",
       "        [164, 199, 255],\n",
       "        ...,\n",
       "        [164, 199, 255],\n",
       "        [164, 199, 255],\n",
       "        [164, 199, 255]],\n",
       "\n",
       "       [[164, 199, 255],\n",
       "        [164, 199, 255],\n",
       "        [164, 199, 255],\n",
       "        ...,\n",
       "        [164, 199, 255],\n",
       "        [164, 199, 255],\n",
       "        [164, 199, 255]],\n",
       "\n",
       "       [[164, 199, 255],\n",
       "        [164, 199, 255],\n",
       "        [164, 199, 255],\n",
       "        ...,\n",
       "        [164, 199, 255],\n",
       "        [164, 199, 255],\n",
       "        [164, 199, 255]]], dtype=uint8)"
      ]
     },
     "execution_count": 51,
     "metadata": {},
     "output_type": "execute_result"
    }
   ],
   "source": [
    "img_arr"
   ]
  },
  {
   "cell_type": "markdown",
   "id": "a5f6685f",
   "metadata": {},
   "source": [
    "# 6. 흑백 모드\n",
    "파일을 열 때 흑백 모드로 사진을 열 수도 있습니다. Image.open().convert('L')로 모드를 조정할 수 있습니다.\n",
    "\n",
    "Pillow의 이미지 처리 옵션에 대한 더 상세한 정보는 아래 링크에서 Modes 항목을 참고해 주세요."
   ]
  },
  {
   "cell_type": "code",
   "execution_count": 54,
   "id": "02675f21",
   "metadata": {},
   "outputs": [
    {
     "data": {
      "image/png": "[encoded data removed]",
      "text/plain": [
       "<PIL.Image.Image image mode=L size=212x300 at 0x7F70116B3E50>"
      ]
     },
     "execution_count": 54,
     "metadata": {},
     "output_type": "execute_result"
    }
   ],
   "source": [
    "img_g = Image.open(img_path).convert('L')\n",
    "img_g"
   ]
  },
  {
   "cell_type": "code",
   "execution_count": 55,
   "id": "cc3dd979",
   "metadata": {},
   "outputs": [
    {
     "name": "stdout",
     "output_type": "stream",
     "text": [
      "<class 'numpy.ndarray'>\n",
      "(300, 212)\n",
      "2\n"
     ]
    }
   ],
   "source": [
    "img_g_arr = np.array(img_g)\n",
    "print(type(img_g_arr))\n",
    "print(img_g_arr.shape)\n",
    "print(img_g_arr.ndim)"
   ]
  },
  {
   "cell_type": "markdown",
   "id": "119323ff",
   "metadata": {},
   "source": [
    "흑백이므로 반환된 행렬은 `Height X Width`, 차원은 2차원입니다."
   ]
  },
  {
   "cell_type": "code",
   "execution_count": 54,
   "id": "b14b856b",
   "metadata": {
    "scrolled": true
   },
   "outputs": [
    {
     "data": {
      "text/plain": [
       "array([[174, 174, 174, ..., 174, 174, 174],\n",
       "       [174, 174, 174, ..., 174, 174, 174],\n",
       "       [174, 174, 174, ..., 174, 174, 174],\n",
       "       ...,\n",
       "       [195, 195, 195, ..., 195, 195, 195],\n",
       "       [195, 195, 195, ..., 195, 195, 195],\n",
       "       [195, 195, 195, ..., 195, 195, 195]], dtype=uint8)"
      ]
     },
     "execution_count": 54,
     "metadata": {},
     "output_type": "execute_result"
    }
   ],
   "source": [
    "img_g_arr"
   ]
  },
  {
   "cell_type": "markdown",
   "id": "67db6015",
   "metadata": {},
   "source": [
    "# 7. get color\n",
    "색상 값은 3개 원소의 튜플로, 각각의 원소는 R, G, B 값을 의미한다고 그랬죠? `getcolor()`는 각 색상이 RGB 값으로 어떻게 표현되는지를 반환합니다."
   ]
  },
  {
   "cell_type": "code",
   "execution_count": 56,
   "id": "14af7ccd",
   "metadata": {},
   "outputs": [
    {
     "name": "stdout",
     "output_type": "stream",
     "text": [
      "(255, 0, 0)\n",
      "(255, 0, 0, 255)\n",
      "(255, 255, 0)\n"
     ]
    }
   ],
   "source": [
    "red = ImageColor.getcolor('RED','RGB')\n",
    "reda = ImageColor.getcolor('red','RGBA')\n",
    "yellow = ImageColor.getcolor('yellow','RGB')\n",
    "print(red)\n",
    "print(reda)\n",
    "print(yellow)"
   ]
  },
  {
   "cell_type": "markdown",
   "id": "2afecfcf",
   "metadata": {},
   "source": [
    "딥러닝에서 위와 같은 이미지 조작은 Data augmentation를 할 때 많이 사용됩니다. Data augmentation은 말 그대로 데이터를 증강하는 것으로 딥러닝에서 데이터의 개수를 늘릴 때 사용되는 기법입니다. 추후 노드 상세 내용을 학습할 예정이오니 지금은 참고 링크만 방문해 보세요."
   ]
  },
  {
   "cell_type": "markdown",
   "id": "d12a37b9",
   "metadata": {},
   "source": [
    "# 8-9. 구조화된 데이터란?\n",
    "일반적으로 데이터를 변수에 저장해서 프로그래밍을 하는데요, 숫자나 텍스트 같은 데이터는 number나 string 형태로 데이터를 저장합니다. 한 번에 연속열(Sequence)을 저장할 때는 배열(array)이라는 자료 구조를 사용했습니다. 배열에는 대표적으로 리스트, 튜플이 있고, 좀 더 간편하게 선형대수를 표현하기 위한 배열로 NumPy의 ndarray를 사용했어요.\n",
    "\n",
    "그럼 이런 형태의 데이터는 어떨까요? 국제전화 국가 번호 데이터를 저장한다고 해 볼게요."
   ]
  },
  {
   "cell_type": "markdown",
   "id": "2ed91b97",
   "metadata": {},
   "source": [
    "Country_PhoneNumber\n",
    "- Korea: 82\n",
    "- America: 1\n",
    "- Swiss: 41\n",
    "- Italy: 39\n",
    "- Japan: 81\n",
    "- China: 86\n",
    "- Rusia: 7\n",
    "\n",
    "이런 형태의 데이터는 어떻게 저장하면 좋을까요? 위 데이터에서 한국 국가번호 값 82를 찾기 위해서 데이터에 번호를 매겨서 인덱스 형태로 찾는 게 좋을까요, 아니면 한국을 쳤을 때 나오는 게 좋을까요? 한국이란 단어로 찾는 게 좋겠죠? 이렇게 어떤 데이터의 값을 찾을 때 인덱스가 아닌 \"한국\", \"미국\" 등의 키(key)를 사용해 데이터에 접근하는 데이터 구조를 해시(hash)라고 합니다.\n",
    "\n",
    "Hash란 Key와 Value로 구성되어 있는 자료 구조로 두 개의 열만 갖지만 수많은 행을 가지는 구조체입니다."
   ]
  },
  {
   "attachments": {
    "f-11-8.1.max-800x600.png": {
     "image/png": "[encoded data removed]"
    }
   },
   "cell_type": "markdown",
   "id": "b9197286",
   "metadata": {},
   "source": [
    "![f-11-8.1.max-800x600.png](attachment:f-11-8.1.max-800x600.png)"
   ]
  },
  {
   "cell_type": "markdown",
   "id": "3b7a3407",
   "metadata": {},
   "source": [
    "해시는 다른 프로그래밍 언어에서는 매핑(mapping), 연관배열(associative array) 등으로 불리고 파이썬에서는 \"딕셔너리(dictionary)\" 또는 dict로 알려져 있습니다. 파이썬 딕셔너리는 중괄호{}를 이용하고 키 : 값의 형태로 각각 나타냅니다."
   ]
  },
  {
   "cell_type": "code",
   "execution_count": 58,
   "id": "e38d19ec",
   "metadata": {},
   "outputs": [
    {
     "data": {
      "text/plain": [
       "82"
      ]
     },
     "execution_count": 58,
     "metadata": {},
     "output_type": "execute_result"
    }
   ],
   "source": [
    "# 파이썬 dict 로 표현한 전화번호부입니다. \n",
    "Country_PhoneNumber = {'Korea': 82, 'America': 1, 'Swiss': 41, 'Italy': 39, 'Japan': 81, 'China': 86, 'Rusia': 7}\n",
    "Country_PhoneNumber['Korea']  # 키를 가지고 값을 조회할 수 있습니다.\n",
    "# Country_PhoneNumber['Swiss']"
   ]
  },
  {
   "cell_type": "markdown",
   "id": "cd58f60e",
   "metadata": {},
   "source": [
    "# 8-10. 딕셔너리(dictionary)를 활용한 간단한 판타지 게임 logic 설계\n",
    "\n",
    "딕셔너리를 이용해 몇 가지 예제를 풀어볼게요.\n",
    "\n",
    "당신은 게임회사에 취직해 판타지 게임을 위한 로직을 만들고 있습니다."
   ]
  },
  {
   "attachments": {
    "f-11-9.1.max-800x600.png": {
     "image/png": "[encoded data removed]"
    }
   },
   "cell_type": "markdown",
   "id": "c0a7ba86",
   "metadata": {},
   "source": [
    "![f-11-9.1.max-800x600.png](attachment:f-11-9.1.max-800x600.png)"
   ]
  },
  {
   "cell_type": "markdown",
   "id": "594c6e69",
   "metadata": {},
   "source": [
    "플레이어가 보물 상자를 얻었을 때, 보물 상자 안에 있는 물품과 각 물품을 통해 얻은 은화를 보여주는 프로그램을 만든다고 해 볼게요.\n",
    "\n",
    "보물 상자에 다음과 같은 물건이 들어 있을 때, 각 물품은 게임 세계의 돈인 은화로 거래될 수 있습니다.  \n",
    "\n",
    "* 물품을 보여주는 함수\n"
   ]
  },
  {
   "cell_type": "code",
   "execution_count": 73,
   "id": "13258c60",
   "metadata": {},
   "outputs": [
    {
     "name": "stdout",
     "output_type": "stream",
     "text": [
      "Congraturation!! you got a treasure box\n",
      "you have rope 2pcs\n",
      "you have apple 10pcs\n",
      "you have torch 6pcs\n",
      "you have gold coin 50pcs\n",
      "you have knife 1pcs\n",
      "you have arrow 30pcs\n"
     ]
    }
   ],
   "source": [
    "treasure_box = {'rope':2, \n",
    "                'apple':10, \n",
    "                'torch': 6, \n",
    "                'gold coin': 50, \n",
    "                'knife': 1, \n",
    "                'arrow': 30}\n",
    "\n",
    "def display_stuff(treasure_box):\n",
    "    print(\"Congraturation!! you got a treasure box\")\n",
    "    for k, v in treasure_box.items():\n",
    "        print(\"you have {} {}pcs\".format(k, v))\n",
    "display_stuff(treasure_box)"
   ]
  },
  {
   "cell_type": "markdown",
   "id": "582e6bae",
   "metadata": {},
   "source": [
    "* 물품을 통해 얻을 은화를 보여주는 함수"
   ]
  },
  {
   "cell_type": "code",
   "execution_count": 74,
   "id": "d81193f3",
   "metadata": {},
   "outputs": [
    {
     "name": "stdout",
     "output_type": "stream",
     "text": [
      "rope : 1coins/pcs * 2pcs = 2 coins\n",
      "apple : 2coins/pcs * 10pcs = 20 coins\n",
      "torch : 2coins/pcs * 6pcs = 12 coins\n",
      "gold coin : 5coins/pcs * 50pcs = 250 coins\n",
      "knife : 30coins/pcs * 1pcs = 30 coins\n",
      "arrow : 1coins/pcs * 30pcs = 30 coins\n",
      "total_coin :  344\n"
     ]
    }
   ],
   "source": [
    "coin_per_treasure = {'rope':1,\n",
    "        'apple':2,\n",
    "        'torch': 2,\n",
    "        'gold coin': 5, \n",
    "        'knife': 30,\n",
    "        'arrow': 1}\n",
    "\n",
    "def total_silver(treasure_box, coin_per_treasure):\n",
    "    total_coin = 0\n",
    "    for treasure in treasure_box:\n",
    "        coin = coin_per_treasure[treasure] * treasure_box[treasure]\n",
    "        print(\"{} : {}coins/pcs * {}pcs = {} coins\".format(\n",
    "          treasure, coin_per_treasure[treasure], treasure_box[treasure], coin))\n",
    "        total_coin += coin\n",
    "    print('total_coin : ', total_coin)\n",
    "total_silver(treasure_box, coin_per_treasure)"
   ]
  },
  {
   "cell_type": "markdown",
   "id": "10e19cff",
   "metadata": {},
   "source": [
    "보물 상자 안의 물품과 개수와 은화를 각각의 딕셔너리 형태로 저장하고, 동일한 단어를 키로 사용해서 각각의 데이터 값을 매칭했습니다.\n",
    "\n",
    "데이터를 하나의 변수에 저장할 수도 있습니다. \"딕셔너리의 딕셔너리\" 형태에요."
   ]
  },
  {
   "cell_type": "code",
   "execution_count": 75,
   "id": "c240f883",
   "metadata": {},
   "outputs": [
    {
     "data": {
      "text/plain": [
       "{'coin': 1, 'pcs': 2}"
      ]
     },
     "execution_count": 75,
     "metadata": {},
     "output_type": "execute_result"
    }
   ],
   "source": [
    "treasure_box = {'rope': {'coin': 1, 'pcs': 2},\n",
    "                'apple': {'coin': 2, 'pcs': 10},\n",
    "                'torch': {'coin': 2, 'pcs': 6},\n",
    "                'gold coin': {'coin': 5, 'pcs': 50},\n",
    "                'knife': {'coin': 30, 'pcs': 1},\n",
    "               \t'arrow': {'coin': 1, 'pcs': 30}\n",
    "               }\n",
    "treasure_box['rope']"
   ]
  },
  {
   "cell_type": "markdown",
   "id": "1589b60e",
   "metadata": {},
   "source": [
    "이전 스텝에서 구조화된 데이터란?하고 던진 질문에 대한 답변을 드릴 때가 된 것 같습니다.\n",
    "\n",
    "위의 코드에서 treasure_box 에 포함된 5개의 데이터는 내부적으로 coin과 pcs라는 내부 구조를 가집니다. 이렇게 **데이터 내부에 자체적인 서브 구조를 가지는 데이터를 구조화된 데이터** 라고 하겠습니다.\n",
    "\n",
    "이런 데이터는 나중에 살펴보겠지만, 테이블(table) 형태로 전개됩니다. 위의 treasure_box 데이터는 5개의 행(row), 2개의 열(column)을 가진 데이터가 될 것입니다.\n",
    "\n",
    "이런 경우엔 위에 작성했던 display_stuff()와 total_silver() 함수를 어떻게 작성하면 될까요? 직접 코딩해보세요."
   ]
  },
  {
   "cell_type": "code",
   "execution_count": 76,
   "id": "20ef9ccd",
   "metadata": {
    "scrolled": true
   },
   "outputs": [
    {
     "name": "stdout",
     "output_type": "stream",
     "text": [
      "Congraturation!! you got a treasure box!!\n",
      "You have rope 2 pcs\n",
      "You have apple 10 pcs\n",
      "You have torch 6 pcs\n",
      "You have gold coin 50 pcs\n",
      "You have knife 1 pcs\n",
      "You have arrow 30 pcs\n"
     ]
    }
   ],
   "source": [
    "def display_stuff(treasure_box):\n",
    "    ## type your code\n",
    "    print(\"Congraturation!! you got a treasure box!!\")\n",
    "    for treasure in treasure_box:\n",
    "        print('You have {} {} pcs'.format(treasure, treasure_box[treasure]['pcs']))\n",
    "  \n",
    "\n",
    "display_stuff(treasure_box)"
   ]
  },
  {
   "cell_type": "code",
   "execution_count": 77,
   "id": "d296aac7",
   "metadata": {
    "scrolled": true
   },
   "outputs": [
    {
     "name": "stdout",
     "output_type": "stream",
     "text": [
      "rope : 1coins/pcs * 2pcs = 2 coins\n",
      "apple : 2coins/pcs * 10pcs = 20 coins\n",
      "torch : 2coins/pcs * 6pcs = 12 coins\n",
      "gold coin : 5coins/pcs * 50pcs = 250 coins\n",
      "knife : 30coins/pcs * 1pcs = 30 coins\n",
      "arrow : 1coins/pcs * 30pcs = 30 coins\n",
      "total_coin :  344\n"
     ]
    }
   ],
   "source": [
    "def total_silver(treasure_box, coin_per_treasure):\n",
    "    ## type your code\n",
    "    total_coin = 0\n",
    "    for treasure in treasure_box:\n",
    "        coin = coin_per_treasure[treasure] * treasure_box[treasure]['pcs']\n",
    "        print(\"{} : {}coins/pcs * {}pcs = {} coins\".format(\n",
    "          treasure, coin_per_treasure[treasure], treasure_box[treasure]['pcs'], coin))\n",
    "        total_coin += coin\n",
    "    print('total_coin : ', total_coin)\n",
    "  \n",
    "total_silver(treasure_box, coin_per_treasure)"
   ]
  },
  {
   "cell_type": "markdown",
   "id": "bac4acfe",
   "metadata": {},
   "source": [
    "구조화된 데이터로 구성하니 함수가 훨씬 간단해지지 않았나요? 다음 노드에서는 pandas를 사용해 구조화된 데이터를 다뤄볼 예정입니다."
   ]
  },
  {
   "cell_type": "markdown",
   "id": "67b7e801",
   "metadata": {},
   "source": [
    "# 8-11. 구조화된 데이터와 pandas (1) Series\n",
    "\n",
    "구조화된 데이터를 키(key)와 값(value)으로만 나타내기에는 너무 제한적이에요. 표 형태로 나타내는 것이 보기에도 편합니다. 구조화된 데이터를 효과적으로 표현하기 위해 pandas라는 파이썬 라이브러리는 __Series__와 __DataFrame__이라는 자료 구조를 제공해요. 이 데이터 타입을 활용하면 구조화된 데이터를 더 쉽게 다룰 수 있습니다.\n",
    "\n",
    "pandas의 특징을 나열하면 다음과 같습니다.  \n",
    "\n",
    "* NumPy기반에서 개발되어 NumPy를 사용하는 애플리케이션에서 쉽게 사용 가능\n",
    "* 축의 이름에 따라 데이터를 정렬할 수 있는 자료 구조\n",
    "* 다양한 방식으로 인덱싱(indexing)하여 데이터를 다룰 수 있는 기능\n",
    "* 통합된 시계열 기능과 시계열 데이터와 비시계열 데이터를 함께 다룰 수 있는 통합 자료 구조\n",
    "* 누락된 데이터 처리 기능\n",
    "* 데이터베이스처럼 데이터를 합치고 관계 연산을 수행하는 기능  \n",
    "\n",
    "pandas는 NumPy와 동일하게 pip을 이용해서 설치할 수 있어요.\n",
    "\n",
    "물론 우리 LMS 클라우드에서는 이미 설치되어 있으니 아래 설치 명령어는 참고용으로만 봐주세요!\n",
    "\n",
    "$ pip install pandas "
   ]
  },
  {
   "cell_type": "markdown",
   "id": "7bba104a",
   "metadata": {},
   "source": [
    "# (1) Series\n",
    "***\n",
    "구조화 데이터를 표현하는 데 중요한 개념인 Series의 인덱스(Index)와 Name에 대해 알아봅시다. pandas에는 다양한 기능이 있는데요, 다른 기능들도 pandas 공식 문서를 참고하며 연습해 보세요.\n",
    "\n",
    "Series는 일련의 객체를 담을 수 있는, 1차원 배열과 비슷한 자료 구조입니다. 따라서 배열 형태인 리스트, 튜플, 딕셔너리를 통해서 만들거나 NumPy 자료형(정수형, 실수형 등)으로도 만들 수 있습니다."
   ]
  },
  {
   "cell_type": "code",
   "execution_count": 78,
   "id": "6a3ea50f",
   "metadata": {},
   "outputs": [
    {
     "data": {
      "text/plain": [
       "0    a\n",
       "1    b\n",
       "2    c\n",
       "3    3\n",
       "dtype: object"
      ]
     },
     "execution_count": 78,
     "metadata": {},
     "output_type": "execute_result"
    }
   ],
   "source": [
    "import pandas as pd\n",
    "ser = pd.Series(['a','b','c',3])\n",
    "\n",
    "ser"
   ]
  },
  {
   "cell_type": "markdown",
   "id": "cbbf4354",
   "metadata": {},
   "source": [
    "**Series의 인덱스(Index)**  \n",
    "ser라는 Series 객체를 만들었습니다. pandas의 Series에는 index와 value가 있습니다. 위에서 보면 index는 순서를 나타낸 숫자이고 value는 배열로 표현된 실제 데이터의 값입니다.\n",
    "\n",
    "Series 객체의 values를 호출하면 array 형태로 반환됨을 확인할 수 있습니다."
   ]
  },
  {
   "cell_type": "code",
   "execution_count": 79,
   "id": "046ab615",
   "metadata": {},
   "outputs": [
    {
     "data": {
      "text/plain": [
       "array(['a', 'b', 'c', 3], dtype=object)"
      ]
     },
     "execution_count": 79,
     "metadata": {},
     "output_type": "execute_result"
    }
   ],
   "source": [
    "ser.values"
   ]
  },
  {
   "cell_type": "markdown",
   "id": "7034e9af",
   "metadata": {},
   "source": [
    "인덱스는 `RangeIndex`가 반환됩니다. 정수형 인덱스라고 생각하면 돼요."
   ]
  },
  {
   "cell_type": "code",
   "execution_count": 65,
   "id": "58081ea8",
   "metadata": {},
   "outputs": [
    {
     "data": {
      "text/plain": [
       "RangeIndex(start=0, stop=4, step=1)"
      ]
     },
     "execution_count": 65,
     "metadata": {},
     "output_type": "execute_result"
    }
   ],
   "source": [
    "ser.index"
   ]
  },
  {
   "cell_type": "markdown",
   "id": "c86d3182",
   "metadata": {},
   "source": [
    "배열과 굉장히 유사하죠?\n",
    "\n",
    "Series가 구조화된 데이터를 표현할 수 있는 이유는 인덱스에 다른 값을 넣을 수 있기 때문이에요. Series 객체를 만들 때 인자로 넣어주거나 '='와 같은 할당 연산자(Assignment Operators)를 이용해서 인덱스의 값을 지정할 수 있어요.\n",
    "\n",
    "**인덱스 설정 : Series의 인자로 넣어주는 방법**"
   ]
  },
  {
   "cell_type": "code",
   "execution_count": 82,
   "id": "2ade81d7",
   "metadata": {
    "scrolled": true
   },
   "outputs": [
    {
     "data": {
      "text/plain": [
       "i    a\n",
       "j    b\n",
       "k    c\n",
       "h    3\n",
       "dtype: object"
      ]
     },
     "execution_count": 82,
     "metadata": {},
     "output_type": "execute_result"
    }
   ],
   "source": [
    "ser2 = pd.Series(['a','b','c',3], index=['i','j','k','h'])\n",
    "ser2"
   ]
  },
  {
   "cell_type": "markdown",
   "id": "cdfe864d",
   "metadata": {},
   "source": [
    "**인덱스 설정: 할당 연산자**"
   ]
  },
  {
   "cell_type": "code",
   "execution_count": 84,
   "id": "c0e81d9c",
   "metadata": {},
   "outputs": [
    {
     "data": {
      "text/plain": [
       "Jhon     a\n",
       "Steve    b\n",
       "Jack     c\n",
       "Bob      3\n",
       "dtype: object"
      ]
     },
     "execution_count": 84,
     "metadata": {},
     "output_type": "execute_result"
    }
   ],
   "source": [
    "ser2.index = ['Jhon','Steve','Jack','Bob']\n",
    "ser2"
   ]
  },
  {
   "cell_type": "markdown",
   "id": "918907ad",
   "metadata": {},
   "source": [
    "index를 조회하면 방금 전 `RangeIndex`가 아닌 `Index` 타입의 객체가 표시됩니다.\n"
   ]
  },
  {
   "cell_type": "code",
   "execution_count": 68,
   "id": "12b5f1d8",
   "metadata": {},
   "outputs": [
    {
     "data": {
      "text/plain": [
       "Index(['Jhon', 'Steve', 'Jack', 'Bob'], dtype='object')"
      ]
     },
     "execution_count": 68,
     "metadata": {},
     "output_type": "execute_result"
    }
   ],
   "source": [
    "ser2.index"
   ]
  },
  {
   "cell_type": "markdown",
   "id": "e9a3d51b",
   "metadata": {},
   "source": [
    "Series에서 인덱스는 기본적으로 정수 형태로 설정되고, 사용자가 원하면 값을 할당할 수 있습니다. 따라서 파이썬 딕셔너리 타입의 데이터를 `Series` 객체로 손쉽게 나타낼 수 있어요.\n",
    "\n"
   ]
  },
  {
   "cell_type": "code",
   "execution_count": 69,
   "id": "0ad78808",
   "metadata": {
    "scrolled": true
   },
   "outputs": [
    {
     "data": {
      "text/plain": [
       "Korea      82\n",
       "America     1\n",
       "Swiss      41\n",
       "Italy      39\n",
       "Japan      81\n",
       "China      86\n",
       "Rusia       7\n",
       "dtype: int64"
      ]
     },
     "execution_count": 69,
     "metadata": {},
     "output_type": "execute_result"
    }
   ],
   "source": [
    "Country_PhoneNumber = {'Korea':82, 'America':1,'Swiss':41,'Italy':39,'Japan':81,'China':86,'Rusia':7}\n",
    "ser3 = pd.Series(Country_PhoneNumber)\n",
    "ser3"
   ]
  },
  {
   "cell_type": "markdown",
   "id": "15174641",
   "metadata": {},
   "source": [
    "파이썬 딕셔너리를 사용해 초기화한 Series에서는 딕셔너리의 키가 인덱스로 설정됩니다.\n",
    "\n",
    "Series의 인덱스를 다른 값으로 변경 가능하다는 것은 Series의 인덱스가 list의 인덱스이면서, 딕셔너리의 키와 같은 기능으로 작용할 수 있다는 것을 의미합니다. 기본 인덱스인 \"0부터 시작하는 정수 형태\"에서는 리스트와 유사하고, \"값이 할당된\" 인덱스에서는 딕셔너리와 유사합니다. 따라서 유연하게 데이터에 접근할 수 있어요.\n",
    "\n",
    "비단 기본 인덱스뿐 아니라 값이 할당된 인덱스 형태에 대해서 슬라이싱(slicing) 기능을 지원하기도 하기도 하는 등의 특징이 있으니 연습해 두세요."
   ]
  },
  {
   "cell_type": "code",
   "execution_count": 77,
   "id": "06db64d8",
   "metadata": {},
   "outputs": [
    {
     "data": {
      "text/plain": [
       "82"
      ]
     },
     "execution_count": 77,
     "metadata": {},
     "output_type": "execute_result"
    }
   ],
   "source": [
    "ser3['Korea']"
   ]
  },
  {
   "cell_type": "code",
   "execution_count": 80,
   "id": "fc432126",
   "metadata": {},
   "outputs": [
    {
     "data": {
      "text/plain": [
       "Italy    39\n",
       "Japan    81\n",
       "China    86\n",
       "Rusia     7\n",
       "dtype: int64"
      ]
     },
     "execution_count": 80,
     "metadata": {},
     "output_type": "execute_result"
    }
   ],
   "source": [
    "ser3['Italy':]"
   ]
  },
  {
   "cell_type": "markdown",
   "id": "f5641979",
   "metadata": {},
   "source": [
    "**Series의 Name**  \n",
    "\n",
    "Series 객체와 Series 인덱스는 모두 name 속성이 있습니다. 이 속성은 pandas의 DataFrame에서 매우 중요해요."
   ]
  },
  {
   "cell_type": "code",
   "execution_count": 81,
   "id": "1407f3b4",
   "metadata": {},
   "outputs": [
    {
     "data": {
      "text/plain": [
       "Country_Name\n",
       "Korea      82\n",
       "America     1\n",
       "Swiss      41\n",
       "Italy      39\n",
       "Japan      81\n",
       "China      86\n",
       "Rusia       7\n",
       "Name: Country_PhoneNumber, dtype: int64"
      ]
     },
     "execution_count": 81,
     "metadata": {},
     "output_type": "execute_result"
    }
   ],
   "source": [
    "ser3.name = 'Country_PhoneNumber'\n",
    "ser3.index.name = 'Country_Name'\n",
    "ser3"
   ]
  },
  {
   "cell_type": "markdown",
   "id": "19599137",
   "metadata": {},
   "source": [
    "`Series` 객체의 `name` 속성을 이용해서 `Series` 객체의 이름을 설정하고,`Series` 인덱스의` name `속성을 이용해 인덱스 이름을 설정했습니다.\n",
    "\n",
    "사실 pandas의 DataFrame은 Series의 연속입니다. 다음 스텝에서 자세히 설명할게요."
   ]
  },
  {
   "cell_type": "markdown",
   "id": "d227c985",
   "metadata": {},
   "source": [
    "# 8-12. 구조화된 데이터와 pandas (2) DataFrame\n",
    "\n",
    "**(2) DataFrame**\n",
    "***\n",
    "DataFrame은 표(table)와 같은 자료 구조입니다. Series는 한 개의 인덱스 컬럼과 값 컬럼, 딕셔너리는 키 컬럼과 값 컬럼과 같이 2개의 컬럼만 존재하는데 비해, DataFrame은 여러 개의 컬럼을 나타낼 수 있습니다. 그래서 csv 파일이나 excel 파일을 DataFrame으로 변환하는 경우가 많아요.\n",
    "\n",
    "조금 헷갈릴 수 있으니 직접 Series와 DataFrame을 비교해 볼게요.\n",
    "\n",
    "**Series로 변환**"
   ]
  },
  {
   "cell_type": "code",
   "execution_count": 85,
   "id": "31600ec9",
   "metadata": {},
   "outputs": [
    {
     "data": {
      "text/plain": [
       "Region      [Korea, America, Chaina, Canada, Italy]\n",
       "Sales                      [300, 200, 500, 150, 50]\n",
       "Amount                        [90, 80, 100, 30, 10]\n",
       "Employee                         [20, 10, 30, 5, 3]\n",
       "dtype: object"
      ]
     },
     "execution_count": 85,
     "metadata": {},
     "output_type": "execute_result"
    }
   ],
   "source": [
    "data = {'Region' : ['Korea','America','Chaina','Canada','Italy'],\n",
    "       'Sales': [300,200, 500, 150, 50],\n",
    "       'Amount':[90, 80, 100, 30, 10],\n",
    "       'Employee':[20, 10, 30, 5, 3]\n",
    "       }\n",
    "\n",
    "s = pd.Series(data)\n",
    "s"
   ]
  },
  {
   "cell_type": "markdown",
   "id": "369c1dbb",
   "metadata": {},
   "source": [
    "**DataFrame으로 변환**\n",
    "\n"
   ]
  },
  {
   "cell_type": "code",
   "execution_count": 83,
   "id": "b7e38dcf",
   "metadata": {},
   "outputs": [
    {
     "data": {
      "text/html": [
       "<div>\n",
       "<style scoped>\n",
       "    .dataframe tbody tr th:only-of-type {\n",
       "        vertical-align: middle;\n",
       "    }\n",
       "\n",
       "    .dataframe tbody tr th {\n",
       "        vertical-align: top;\n",
       "    }\n",
       "\n",
       "    .dataframe thead th {\n",
       "        text-align: right;\n",
       "    }\n",
       "</style>\n",
       "<table border=\"1\" class=\"dataframe\">\n",
       "  <thead>\n",
       "    <tr style=\"text-align: right;\">\n",
       "      <th></th>\n",
       "      <th>Region</th>\n",
       "      <th>Sales</th>\n",
       "      <th>Amount</th>\n",
       "      <th>Employee</th>\n",
       "    </tr>\n",
       "  </thead>\n",
       "  <tbody>\n",
       "    <tr>\n",
       "      <th>0</th>\n",
       "      <td>Korea</td>\n",
       "      <td>300</td>\n",
       "      <td>90</td>\n",
       "      <td>20</td>\n",
       "    </tr>\n",
       "    <tr>\n",
       "      <th>1</th>\n",
       "      <td>America</td>\n",
       "      <td>200</td>\n",
       "      <td>80</td>\n",
       "      <td>10</td>\n",
       "    </tr>\n",
       "    <tr>\n",
       "      <th>2</th>\n",
       "      <td>Chaina</td>\n",
       "      <td>500</td>\n",
       "      <td>100</td>\n",
       "      <td>30</td>\n",
       "    </tr>\n",
       "    <tr>\n",
       "      <th>3</th>\n",
       "      <td>Canada</td>\n",
       "      <td>150</td>\n",
       "      <td>30</td>\n",
       "      <td>5</td>\n",
       "    </tr>\n",
       "    <tr>\n",
       "      <th>4</th>\n",
       "      <td>Italy</td>\n",
       "      <td>50</td>\n",
       "      <td>10</td>\n",
       "      <td>3</td>\n",
       "    </tr>\n",
       "  </tbody>\n",
       "</table>\n",
       "</div>"
      ],
      "text/plain": [
       "    Region  Sales  Amount  Employee\n",
       "0    Korea    300      90        20\n",
       "1  America    200      80        10\n",
       "2   Chaina    500     100        30\n",
       "3   Canada    150      30         5\n",
       "4    Italy     50      10         3"
      ]
     },
     "execution_count": 83,
     "metadata": {},
     "output_type": "execute_result"
    }
   ],
   "source": [
    "d = pd.DataFrame(data)\n",
    "d"
   ]
  },
  {
   "cell_type": "markdown",
   "id": "f7dd14b8",
   "metadata": {},
   "source": [
    "Series는 기본적으로 인덱스 외 한 개의 값 칼럼만을 가질 수 있고 그 칼럼의 데이터가 많더라도 배열 형태로 표현됩니다.\n",
    "\n",
    "반면 DataFrame은 인덱스 칼럼 외에도 여러 개의 칼럼을 가질 수 있어요. 따라서 Index와 Column Index도 설정할 수 있습니다."
   ]
  },
  {
   "cell_type": "code",
   "execution_count": 85,
   "id": "ac48cf5d",
   "metadata": {},
   "outputs": [
    {
     "data": {
      "text/plain": [
       "Index(['Region', 'Sales', 'Amount', 'Employee'], dtype='object')"
      ]
     },
     "execution_count": 85,
     "metadata": {},
     "output_type": "execute_result"
    }
   ],
   "source": [
    "d.columns"
   ]
  },
  {
   "cell_type": "code",
   "execution_count": 86,
   "id": "05cd65e7",
   "metadata": {},
   "outputs": [
    {
     "data": {
      "text/plain": [
       "RangeIndex(start=0, stop=5, step=1)"
      ]
     },
     "execution_count": 86,
     "metadata": {},
     "output_type": "execute_result"
    }
   ],
   "source": [
    "d.index"
   ]
  },
  {
   "cell_type": "code",
   "execution_count": 89,
   "id": "fc3209c1",
   "metadata": {},
   "outputs": [
    {
     "data": {
      "text/html": [
       "<div>\n",
       "<style scoped>\n",
       "    .dataframe tbody tr th:only-of-type {\n",
       "        vertical-align: middle;\n",
       "    }\n",
       "\n",
       "    .dataframe tbody tr th {\n",
       "        vertical-align: top;\n",
       "    }\n",
       "\n",
       "    .dataframe thead th {\n",
       "        text-align: right;\n",
       "    }\n",
       "</style>\n",
       "<table border=\"1\" class=\"dataframe\">\n",
       "  <thead>\n",
       "    <tr style=\"text-align: right;\">\n",
       "      <th></th>\n",
       "      <th>a</th>\n",
       "      <th>b</th>\n",
       "      <th>c</th>\n",
       "      <th>d</th>\n",
       "    </tr>\n",
       "  </thead>\n",
       "  <tbody>\n",
       "    <tr>\n",
       "      <th>one</th>\n",
       "      <td>Korea</td>\n",
       "      <td>300</td>\n",
       "      <td>90</td>\n",
       "      <td>20</td>\n",
       "    </tr>\n",
       "    <tr>\n",
       "      <th>two</th>\n",
       "      <td>America</td>\n",
       "      <td>200</td>\n",
       "      <td>80</td>\n",
       "      <td>10</td>\n",
       "    </tr>\n",
       "    <tr>\n",
       "      <th>three</th>\n",
       "      <td>Chaina</td>\n",
       "      <td>500</td>\n",
       "      <td>100</td>\n",
       "      <td>30</td>\n",
       "    </tr>\n",
       "    <tr>\n",
       "      <th>four</th>\n",
       "      <td>Canada</td>\n",
       "      <td>150</td>\n",
       "      <td>30</td>\n",
       "      <td>5</td>\n",
       "    </tr>\n",
       "    <tr>\n",
       "      <th>five</th>\n",
       "      <td>Italy</td>\n",
       "      <td>50</td>\n",
       "      <td>10</td>\n",
       "      <td>3</td>\n",
       "    </tr>\n",
       "  </tbody>\n",
       "</table>\n",
       "</div>"
      ],
      "text/plain": [
       "             a    b    c   d\n",
       "one      Korea  300   90  20\n",
       "two    America  200   80  10\n",
       "three   Chaina  500  100  30\n",
       "four    Canada  150   30   5\n",
       "five     Italy   50   10   3"
      ]
     },
     "execution_count": 89,
     "metadata": {},
     "output_type": "execute_result"
    }
   ],
   "source": [
    "d.index = ['one','two','three','four','five']\n",
    "d.columns = ['a','b','c','d']\n",
    "d"
   ]
  },
  {
   "cell_type": "markdown",
   "id": "1f0e3c5a",
   "metadata": {},
   "source": [
    "혹시 눈치채신 분이 있을 수 있는데요, Series의 name은 DataFrame의 Column 명입니다.  \n",
    "  \n",
    "  \n",
    "**구조화된 데이터의 표현법**\n",
    "***\n",
    "구조화된 데이터를 파이썬의 자료형을 이용해서 여러 가지 방법으로 표현해 보았는데요, 정리하면 다음과 같습니다."
   ]
  },
  {
   "attachments": {
    "f-11-10.1.max-800x600.png": {
     "image/png": "[encoded data removed]"
    }
   },
   "cell_type": "markdown",
   "id": "a67eb27d",
   "metadata": {},
   "source": [
    "![f-11-10.1.max-800x600.png](attachment:f-11-10.1.max-800x600.png)"
   ]
  },
  {
   "cell_type": "code",
   "execution_count": null,
   "id": "7fb75b08",
   "metadata": {},
   "outputs": [],
   "source": []
  }
 ],
 "metadata": {
  "kernelspec": {
   "display_name": "Python 3 (ipykernel)",
   "language": "python",
   "name": "python3"
  },
  "language_info": {
   "codemirror_mode": {
    "name": "ipython",
    "version": 3
   },
   "file_extension": ".py",
   "mimetype": "text/x-python",
   "name": "python",
   "nbconvert_exporter": "python",
   "pygments_lexer": "ipython3",
   "version": "3.9.7"
  }
 },
 "nbformat": 4,
 "nbformat_minor": 5
}

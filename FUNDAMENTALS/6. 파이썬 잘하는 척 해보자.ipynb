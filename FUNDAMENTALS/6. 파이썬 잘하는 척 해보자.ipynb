{
 "cells": [
  {
   "cell_type": "markdown",
   "id": "4312eebc",
   "metadata": {},
   "source": [
    "# 6-1. 들어가며  \n",
    "  \n",
    "  **학습 목표**\n",
    "***\n",
    "  \n",
    "  \n",
    "* 파이썬에 대해서 알아보자.\n",
    "\n",
    "* 코드 재사용에 대해서 알아보자.\n",
    "\n",
    "* 프로그래밍 패러다임에 대해서 알아보자.\n",
    "\n",
    "* 파이썬 코드를 이쁘게 해보자.\n",
    "\n",
    "**목차**  \n",
    "1.파이썬 어디까지 써 봤니?!\n",
    "2.파이썬을 더 잘 사용해 보자!\n",
    "\n",
    "    2.1 For문 잘 써보기\n",
    "\n",
    "    2.2 Try - Except\n",
    "\n",
    "    2.3 Multiprocessing\n",
    "\n",
    "3.같은 코드 두 번 짜지 말자!\n",
    "\n",
    "    3.1 함수(Function)\n",
    "\n",
    "    3.2 람다 표현식\n",
    "\n",
    "    3.3 클래스(Class), 모듈(Module), 패키지(Package)\n",
    "\n",
    "4.프로그래밍 패러다임과 함수형 프로그래밍  \n",
    "5.파이써닉하게 코드를 짜보자!"
   ]
  },
  {
   "cell_type": "code",
   "execution_count": null,
   "id": "aae720dc",
   "metadata": {},
   "outputs": [],
   "source": []
  }
 ],
 "metadata": {
  "kernelspec": {
   "display_name": "Python 3 (ipykernel)",
   "language": "python",
   "name": "python3"
  },
  "language_info": {
   "codemirror_mode": {
    "name": "ipython",
    "version": 3
   },
   "file_extension": ".py",
   "mimetype": "text/x-python",
   "name": "python",
   "nbconvert_exporter": "python",
   "pygments_lexer": "ipython3",
   "version": "3.9.7"
  }
 },
 "nbformat": 4,
 "nbformat_minor": 5
}

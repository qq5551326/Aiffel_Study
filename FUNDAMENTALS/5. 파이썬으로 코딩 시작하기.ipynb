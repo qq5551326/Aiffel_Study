{
 "cells": [
  {
   "cell_type": "markdown",
   "id": "f0bce104",
   "metadata": {},
   "source": [
    "# 5-1. 파이썬으로 코딩 시작하기\n",
    "\n",
    "## 학습목표\n",
    "\n",
    " - **파이썬을 통해 프로그래밍의 기본 개념들을 이해하고 사용할 수 있다 .**\n",
    "\n",
    "\n",
    "  - 변수(variable)\n",
    "  + 함수(function)\n",
    "  * 연산자(operator)\n",
    "  - 제어문(control statements)\n",
    "  + 자료형(data types)\n",
    "\n",
    "- **오류 메시지를 읽고 이해할 수 있다.**\n",
    "- **학습한 개념들을 토대로 코드를 이해하고 수정할 수 있다.**"
   ]
  },
  {
   "cell_type": "markdown",
   "id": "7940aadd",
   "metadata": {},
   "source": [
    "## 5-2. 함수와 변수 (1) 함수 불러보기\n",
    "\n",
    "**수학에서의 함수는 입력값에 대해 출력값을 가지는 관계를 가리킴.\n",
    "프로그래밍에서의 함수는 불려진 시점에 특정한 작업을 수행하며, 입력값과 출력값은 있을 수도 없을 수도 있음.**"
   ]
  },
  {
   "cell_type": "code",
   "execution_count": 7,
   "id": "69c7b1c2",
   "metadata": {},
   "outputs": [
    {
     "name": "stdout",
     "output_type": "stream",
     "text": [
      "\n"
     ]
    }
   ],
   "source": [
    "\n",
    "print()\n"
   ]
  },
  {
   "cell_type": "markdown",
   "id": "11cfc299",
   "metadata": {},
   "source": [
    "위 Output을 확인해 보면 아무것도 보이지 않음.\n",
    "이유는 입력값이 없어서 그렇다.\n",
    "어떤 함수들은 입력값이 필수라서 입력값이 없을 때 오류를 뱉기도 한다.\n"
   ]
  },
  {
   "cell_type": "code",
   "execution_count": 8,
   "id": "f7755c7c",
   "metadata": {},
   "outputs": [
    {
     "name": "stdout",
     "output_type": "stream",
     "text": [
      "1\n"
     ]
    }
   ],
   "source": [
    "print(1)"
   ]
  },
  {
   "cell_type": "markdown",
   "id": "8ac11244",
   "metadata": {},
   "source": [
    "수학에서 f와 x가 각각 함수의 이름과 입력값을 의미하듯이,  \n",
    "print와 괄호 속 1도 동일한 의미를 지님.  \n",
    "**프로그래밍 분야에서는 입력값을 주로 인자(argument)라고 부른다.**\n"
   ]
  },
  {
   "cell_type": "code",
   "execution_count": 10,
   "id": "0a1c5e0c",
   "metadata": {},
   "outputs": [
    {
     "name": "stdout",
     "output_type": "stream",
     "text": [
      "2\n"
     ]
    }
   ],
   "source": [
    "print(1+1)"
   ]
  },
  {
   "cell_type": "markdown",
   "id": "a6d199b8",
   "metadata": {},
   "source": [
    "숫자 대신 글자를 표시하고 싶다면, 프로그램의 코드와 구분해 주기 위해 따옴표 (') 또는 쌍따옴표 (\")로 내용을 감싸줘야함.\n",
    "이렇게 감싼 글자들의 한 묶음을 하나의 **문자열(string)이라고 함.**"
   ]
  },
  {
   "cell_type": "code",
   "execution_count": 11,
   "id": "dd5c2705",
   "metadata": {},
   "outputs": [
    {
     "name": "stdout",
     "output_type": "stream",
     "text": [
      "Hello\n"
     ]
    }
   ],
   "source": [
    "print('Hello')"
   ]
  },
  {
   "cell_type": "code",
   "execution_count": 12,
   "id": "44d0cd5a",
   "metadata": {},
   "outputs": [
    {
     "data": {
      "text/plain": [
       "str"
      ]
     },
     "execution_count": 12,
     "metadata": {},
     "output_type": "execute_result"
    }
   ],
   "source": [
    "type('Hello')"
   ]
  },
  {
   "cell_type": "code",
   "execution_count": 13,
   "id": "a4642816",
   "metadata": {},
   "outputs": [
    {
     "name": "stdout",
     "output_type": "stream",
     "text": [
      "Helloworld!\n"
     ]
    }
   ],
   "source": [
    "print('Hello'+'world!')"
   ]
  },
  {
   "cell_type": "markdown",
   "id": "8eebe12d",
   "metadata": {},
   "source": [
    "문자열끼리 더하면 각각의 내용(문자열)을 이어줌.\n",
    "그렇다면 빼는 것도 가능할까?\n"
   ]
  },
  {
   "cell_type": "code",
   "execution_count": 14,
   "id": "8234aa32",
   "metadata": {},
   "outputs": [
    {
     "ename": "TypeError",
     "evalue": "unsupported operand type(s) for -: 'str' and 'str'",
     "output_type": "error",
     "traceback": [
      "\u001b[0;31m---------------------------------------------------------------------------\u001b[0m",
      "\u001b[0;31mTypeError\u001b[0m                                 Traceback (most recent call last)",
      "\u001b[0;32m/tmp/ipykernel_32/4084203021.py\u001b[0m in \u001b[0;36m<module>\u001b[0;34m\u001b[0m\n\u001b[0;32m----> 1\u001b[0;31m \u001b[0mprint\u001b[0m\u001b[0;34m(\u001b[0m\u001b[0;34m'Hello'\u001b[0m\u001b[0;34m-\u001b[0m\u001b[0;34m'o'\u001b[0m\u001b[0;34m)\u001b[0m\u001b[0;34m\u001b[0m\u001b[0;34m\u001b[0m\u001b[0m\n\u001b[0m",
      "\u001b[0;31mTypeError\u001b[0m: unsupported operand type(s) for -: 'str' and 'str'"
     ]
    }
   ],
   "source": [
    "print('Hello'-'o')"
   ]
  },
  {
   "cell_type": "markdown",
   "id": "6d8f95ae",
   "metadata": {},
   "source": [
    "이런 오류가 남. 오류의 내용은 TypeError 이고, str타입과 str타입 간에 - 연산은 지원하지 않음. 문자열끼리는 빼기 안됨\n"
   ]
  },
  {
   "cell_type": "markdown",
   "id": "103d987e",
   "metadata": {},
   "source": [
    "## 5-3. 함수와 변수 (2) 변수 사용하기\n",
    "f(x) = y 에서 f()가 '함수'라면, 입력값과 출력값인 x와y는 '변수'에 해당됩니다.\n",
    "```print()``` 라는 함수에 *greeting* 이라는 변수를 입력값으로 주는 예시를 한번 살펴볼까요?"
   ]
  },
  {
   "cell_type": "code",
   "execution_count": 16,
   "id": "d5d00db7",
   "metadata": {
    "scrolled": true
   },
   "outputs": [
    {
     "name": "stdout",
     "output_type": "stream",
     "text": [
      "안녕하세요?\n"
     ]
    }
   ],
   "source": [
    "greeting = '안녕하세요?'\n",
    "#- greeting이라는 변수에 '안녕하세요?라는 문자열을 저장합니다'\n",
    "print(greeting)\n",
    "#- greeting을 출력합니다."
   ]
  },
  {
   "cell_type": "markdown",
   "id": "cd1e7ef8",
   "metadata": {},
   "source": [
    "사전에서 '변수'를 검색해 보면, 어떤 관계나 범위 안에서 여러 가지 값으로 **변할 수 있는 수** 라고 정의되어 있음. 이처럼 변수는 스스로 값을 갖기보단 다른 값을 가리키는 존재."
   ]
  },
  {
   "cell_type": "markdown",
   "id": "78ea73f0",
   "metadata": {},
   "source": [
    "위 코드의 첫 번째 줄에서 ```greeting``` 이라는 변수가 ```안녕하세요?```라는 문자열을 가리키도록 정의함. 세 번째 줄에서는 ```print()``` 함수에 ```greeting``` 변수를 입력으로 주어 ```greeting``` 변수가 가리키는 값을 화면에 표시하도록 했음.\n",
    "\n",
    "---\n",
    "즉, 변수를 정의하기 위해서는 ```[변수명] = [변숫값]``` 과 같은 형식을 취하면 되며, 이후에는 변수명으로 해당 변숫값을 참조할 수 있음.\n"
   ]
  },
  {
   "cell_type": "markdown",
   "id": "b8a56c5a",
   "metadata": {},
   "source": [
    "여기서 또 배울 수 있는 점.\n",
    "코드가 한 줄 한 줄 순서대로 처리되기 때문에 변수를 정의(define)하기 전에 먼저 사용하려고 하면 오류가 나게 됨.\n"
   ]
  },
  {
   "cell_type": "code",
   "execution_count": 18,
   "id": "bd9b9120",
   "metadata": {},
   "outputs": [
    {
     "ename": "NameError",
     "evalue": "name 'something' is not defined",
     "output_type": "error",
     "traceback": [
      "\u001b[0;31m---------------------------------------------------------------------------\u001b[0m",
      "\u001b[0;31mNameError\u001b[0m                                 Traceback (most recent call last)",
      "\u001b[0;32m/tmp/ipykernel_32/1274272253.py\u001b[0m in \u001b[0;36m<module>\u001b[0;34m\u001b[0m\n\u001b[0;32m----> 1\u001b[0;31m \u001b[0mprint\u001b[0m\u001b[0;34m(\u001b[0m\u001b[0msomething\u001b[0m\u001b[0;34m)\u001b[0m\u001b[0;34m\u001b[0m\u001b[0;34m\u001b[0m\u001b[0m\n\u001b[0m",
      "\u001b[0;31mNameError\u001b[0m: name 'something' is not defined"
     ]
    }
   ],
   "source": [
    "print(something)"
   ]
  },
  {
   "cell_type": "markdown",
   "id": "95251ef7",
   "metadata": {},
   "source": [
    "오류 메시지를 읽어보면 ```something``` 이라는 변수명이 정의되지 않아서 발생된 오류임.\n"
   ]
  },
  {
   "cell_type": "markdown",
   "id": "12685447",
   "metadata": {},
   "source": [
    "변수란 어떤 값을 가리키는 존재.\n",
    "같은 변수명을 재사용하게 될 경우 어떤 값을 가리킬까?"
   ]
  },
  {
   "cell_type": "code",
   "execution_count": 19,
   "id": "8bcf3892",
   "metadata": {},
   "outputs": [
    {
     "name": "stdout",
     "output_type": "stream",
     "text": [
      "안녕!\n"
     ]
    }
   ],
   "source": [
    "greeting = '안녕하세요?'\n",
    "greeting = '안녕!'\n",
    "print(greeting)"
   ]
  },
  {
   "cell_type": "code",
   "execution_count": 20,
   "id": "171c3e37",
   "metadata": {},
   "outputs": [
    {
     "name": "stdout",
     "output_type": "stream",
     "text": [
      "안녕하세요?\n"
     ]
    }
   ],
   "source": [
    "greeting = '안녕하세요?'\n",
    "print(greeting)\n",
    "greeting = '안녕!'"
   ]
  },
  {
   "cell_type": "markdown",
   "id": "eb0a9587",
   "metadata": {},
   "source": [
    "코드는 한 줄씩 순서대로 실행되기 때문에,```print()``` 함수가 불리는 시점의 ```greeting```변수의 값인 ```안녕하세요?```가 출력됩니다."
   ]
  },
  {
   "cell_type": "markdown",
   "id": "4b8db624",
   "metadata": {},
   "source": [
    "## 5-4. 함수와 변수 (3) 새로운 함수를 정의하기\n",
    "이미 만들어진 함수를 부르는 것 외에 우리가 직접 함수를 만들 수도 있음.\n",
    "부르면 ```안녕!``` 이라고 표시하는 함수를 정의해 보자.\n",
    "함수는 내부에서 다른 함수를 부르거나 변수를 정의하는 등 다양한 작업을 할 수 있음.\n",
    "따라서 함수를 정의하는 방법이 이전의 변수와는 조금 다름."
   ]
  },
  {
   "cell_type": "code",
   "execution_count": 26,
   "id": "3b798f14",
   "metadata": {},
   "outputs": [],
   "source": [
    "def say_hi():\n",
    "    print('안녕!')\n",
    "#- 부르면 '안녕!'이라고 인사해주는 함수를 정의합니다."
   ]
  },
  {
   "cell_type": "markdown",
   "id": "f2164f41",
   "metadata": {},
   "source": [
    "```def```는 함수를 정의(define)할 때 사용하는 일종의 예약어이며, 함수명은 임의로 만들 수 있음. 함수명 뒤에 붙은 괄호는 이 함수에 입력으로 전달되는 값을 받는 자리. 입력값이 필요 없는 경우에는 위 코드처럼 함수명 뒤에 ()를 붙여주면 됨."
   ]
  },
  {
   "cell_type": "markdown",
   "id": "df3be7c6",
   "metadata": {},
   "source": [
    "```def 함수명()``` 뒤에 ```:```를 붙여주고, 이어서 이 함수가 불릴 때 실행할 작업들을 한 줄씩 나열해 주면 됨. 단, 해당 함수에 포함된 작업이라는 것을 나타내기 위해,```def```줄부터 함수가 끝날때까지 띄어쓰기 4칸으로 들여쓰기를 해야함.\n"
   ]
  },
  {
   "cell_type": "markdown",
   "id": "bb792a41",
   "metadata": {},
   "source": [
    "---  \n",
    "**잠깐! 매번 스페이스를 4번이나 눌러줘야 할까?**   \n",
    "_____\n",
    "키보드의 Tab 버튼을 한 번만 누르면 자동으로 인덴트가 주어짐.\n",
    "코드 스타일에 따라 다를 수 있으며 구글 파이썬 스타일 가이드에 나와있듯이 탭과 스페이스를 혼용해서 사용하면 안되고 에러가 뜸."
   ]
  },
  {
   "cell_type": "markdown",
   "id": "fc8de487",
   "metadata": {},
   "source": [
    "요약하면, say_hi 함수는 다음과 같이 풀이됨.\n",
    "\"입력값을 받지 않는 say_hi 함수는 '안녕!'이라는 문자열을 출력해 주는 함수입니다.\"\n"
   ]
  },
  {
   "cell_type": "markdown",
   "id": "cf771b4a",
   "metadata": {},
   "source": [
    "## 5-5. 함수와 변수 (4) 스코프: 변수의 유효 범위\n",
    "---\n",
    "함수 내에서도 변수를 정의할 수 있음.\n",
    "하지만 이것은 함수 안에서만 일어난 일이라는 것을 명심!\n",
    "함수가 끝나면 해당 변수는 사라지고, 함수 밖에서 해당 변수를 들여다볼 수도 없음."
   ]
  },
  {
   "cell_type": "code",
   "execution_count": 28,
   "id": "68777e3f",
   "metadata": {
    "scrolled": true
   },
   "outputs": [
    {
     "ename": "NameError",
     "evalue": "name 'goodbye' is not defined",
     "output_type": "error",
     "traceback": [
      "\u001b[0;31m---------------------------------------------------------------------------\u001b[0m",
      "\u001b[0;31mNameError\u001b[0m                                 Traceback (most recent call last)",
      "\u001b[0;32m/tmp/ipykernel_32/1866976956.py\u001b[0m in \u001b[0;36m<module>\u001b[0;34m\u001b[0m\n\u001b[1;32m      2\u001b[0m     \u001b[0mgoodbye\u001b[0m \u001b[0;34m=\u001b[0m \u001b[0;34m'잘 가!'\u001b[0m\u001b[0;34m\u001b[0m\u001b[0;34m\u001b[0m\u001b[0m\n\u001b[1;32m      3\u001b[0m \u001b[0;34m\u001b[0m\u001b[0m\n\u001b[0;32m----> 4\u001b[0;31m \u001b[0mprint\u001b[0m\u001b[0;34m(\u001b[0m\u001b[0mgoodbye\u001b[0m\u001b[0;34m)\u001b[0m\u001b[0;34m\u001b[0m\u001b[0;34m\u001b[0m\u001b[0m\n\u001b[0m",
      "\u001b[0;31mNameError\u001b[0m: name 'goodbye' is not defined"
     ]
    }
   ],
   "source": [
    "def say_goodbye():\n",
    "    goodbye = '잘 가!'\n",
    "    \n",
    "print(goodbye)"
   ]
  },
  {
   "cell_type": "markdown",
   "id": "e25896b4",
   "metadata": {},
   "source": [
    "함수 내에서 선언한 변수를 \"함수의 속마음\", 밖에서 선언한 변수를 \"방송\"이라고 생각해 주세요. 방송국이 시민 개개인의 속마음을 알 순 없으니 에러가 납니다.\n"
   ]
  },
  {
   "cell_type": "markdown",
   "id": "2d0de719",
   "metadata": {},
   "source": [
    "하지만 반대로 함수 내에서 함수 밖의 변수를 읽는 것은 가능함. 개개인이 방송을 듣는 건 가능."
   ]
  },
  {
   "cell_type": "code",
   "execution_count": 2,
   "id": "d944e29f",
   "metadata": {},
   "outputs": [
    {
     "name": "stdout",
     "output_type": "stream",
     "text": [
      "하루\n",
      "시우\n"
     ]
    }
   ],
   "source": [
    "name = '하루'\n",
    "#- name 이라는 변수는 문자열 '하루'를 가리킴.\n",
    "\n",
    "def say_name():\n",
    "    print(name)\n",
    "#- say_name() 함수의 밖에서 정의된 변수(name), 즉 '하루'를 읽어옴.\n",
    "\n",
    "say_name()\n",
    "\n",
    "name = '시우'\n",
    "#- 이제, name이라는 변수는 문자열 '시우'를 가리킵니다.\n",
    "\n",
    "say_name()\n"
   ]
  },
  {
   "cell_type": "markdown",
   "id": "99b0f7d8",
   "metadata": {},
   "source": [
    "함수 안에서 ```=``` 을 통해 값을 바꾸면 실제로 바뀔까?\n",
    "그렇지 않다. 파이썬은 함수 안에서 새로운 변수를 정의하는 것으로만 이해하기 때문.\n",
    "아래 코드를 살펴보면."
   ]
  },
  {
   "cell_type": "code",
   "execution_count": 3,
   "id": "394bfee7",
   "metadata": {},
   "outputs": [
    {
     "name": "stdout",
     "output_type": "stream",
     "text": [
      "하루\n"
     ]
    }
   ],
   "source": [
    "name = '하루'\n",
    "#- name은 문자열 '하루'를 가리키는 변수입니다.\n",
    "\n",
    "def change_name():\n",
    "    name = '시우'\n",
    "    #- 여기서 name은 해당 함수 내에서만 문자열 '시우'를 가리킵니다.\n",
    "    \n",
    "change_name()\n",
    "#- 함수를 호출해도 아무 일도 일어나지 않습니다.\n",
    "\n",
    "print(name)\n",
    "#- 첫 줄, 즉 함수 바깥에서 정의된 문자열 '하루'가 출력됩니다."
   ]
  },
  {
   "cell_type": "markdown",
   "id": "a2ececd1",
   "metadata": {},
   "source": [
    "## 5-6. 함수와 변수 (5) 함수에 인자 전달하기\n",
    "---\n",
    "원하는 이름을 주고 ```[이름],안녕!``` 을 표시하게 하려면 어떻게 해야 할까?\n"
   ]
  },
  {
   "cell_type": "code",
   "execution_count": 6,
   "id": "a7f6e2a0",
   "metadata": {},
   "outputs": [
    {
     "name": "stdout",
     "output_type": "stream",
     "text": [
      "준이, 안녕!\n"
     ]
    }
   ],
   "source": [
    "def say_hi_somebody(name):\n",
    "    print(name + ', 안녕!')\n",
    "#- 함수를 정의합니다.\n",
    "#- 이 함수는 문자열인 한 개의 입력값을 받아, '[name], 안녕!'을 출력합니다.\n",
    "\n",
    "say_hi_somebody('준이')\n",
    "#- 위에서 정의한 함수를 호출합니다.\n",
    "#- \"준이, 안녕!\"이라고 부르기 위해 입력값으로 '준이'를 주었습니다.\n"
   ]
  },
  {
   "cell_type": "markdown",
   "id": "2c3daa83",
   "metadata": {},
   "source": [
    "입력값으로 주어진 인자(argument)를 받는 변수를 **매개변수(parameter)**라고 한다.  \n",
    "즉, 위 예제에서 함수 내부의 ```name``` 매개변수이고, 외부에서 함수를 부를 때 넣어준 ```준이```는 그 매개변수에 들어가는 인자입니다. "
   ]
  },
  {
   "cell_type": "code",
   "execution_count": 8,
   "id": "26197778",
   "metadata": {},
   "outputs": [
    {
     "ename": "TypeError",
     "evalue": "say_hi_somebody() missing 1 required positional argument: 'name'",
     "output_type": "error",
     "traceback": [
      "\u001b[0;31m---------------------------------------------------------------------------\u001b[0m",
      "\u001b[0;31mTypeError\u001b[0m                                 Traceback (most recent call last)",
      "\u001b[0;32m/tmp/ipykernel_74/1885164038.py\u001b[0m in \u001b[0;36m<module>\u001b[0;34m\u001b[0m\n\u001b[0;32m----> 1\u001b[0;31m \u001b[0msay_hi_somebody\u001b[0m\u001b[0;34m(\u001b[0m\u001b[0;34m)\u001b[0m\u001b[0;34m\u001b[0m\u001b[0;34m\u001b[0m\u001b[0m\n\u001b[0m\u001b[1;32m      2\u001b[0m \u001b[0;31m#- 매개변수를 입력하지 않고 함수를 호출합니다.\u001b[0m\u001b[0;34m\u001b[0m\u001b[0;34m\u001b[0m\u001b[0m\n",
      "\u001b[0;31mTypeError\u001b[0m: say_hi_somebody() missing 1 required positional argument: 'name'"
     ]
    }
   ],
   "source": [
    "say_hi_somebody()\n",
    "#- 매개변수를 입력하지 않고 함수를 호출합니다."
   ]
  },
  {
   "cell_type": "markdown",
   "id": "0ff01b03",
   "metadata": {},
   "source": [
    "```say_hi_somebody()```라는 함수도 ```name```이라는 매개변수에 들어갈 인자 없이 살수 없는 몸.\n",
    "오류 메시지는 ```say_hi_somebody()```라는 함수가 ```name```이라는 매개변수에 들어갈 필수 위치 기반 인자 하나를 누락했다고 말하고 있음.\n",
    "결국 단순하게 이해하자면, ```say_hi_somebody()``` 함수를 정의할 때 ```name```이라는 매개변수를 정의했으니, 여기에 들어갈 인자를 빼고 부르면 안된다는 말.\n",
    "\n"
   ]
  },
  {
   "cell_type": "markdown",
   "id": "1719cde4",
   "metadata": {},
   "source": [
    "그럼 ```print()``` 함수처럼 입력값이 있든 없든 불평 없이 자기 할 일을 하는 함수를 정의할 수는 없을까?\n"
   ]
  },
  {
   "cell_type": "code",
   "execution_count": 2,
   "id": "941872eb",
   "metadata": {},
   "outputs": [
    {
     "name": "stdout",
     "output_type": "stream",
     "text": [
      "안녕, 준이!\n",
      "안녕, somebody!\n"
     ]
    }
   ],
   "source": [
    "def say_hi_default(name='somebody'):\n",
    "    print('안녕, ' + name + '!')\n",
    "    \n",
    "say_hi_default('준이')\n",
    "say_hi_default()"
   ]
  },
  {
   "cell_type": "markdown",
   "id": "bbd3db92",
   "metadata": {},
   "source": [
    "**입력값이 주어지면 그 입력값을 그대로 표시하고, 없으면 ```somebody```라는 값이 있는 것처럼 동작함. 즉, 함수가 받을 매개변수의 기본값을 지정해 주면, 입력값이 없을 경우 해당 기본값을 사용하게 됨.**\n"
   ]
  },
  {
   "cell_type": "markdown",
   "id": "4133f009",
   "metadata": {},
   "source": [
    "## 5-7. 함수와 변수 (6) 함수에 인자 여러 개 한꺼번에 전달하기\n",
    "---\n",
    "지금까지는 한 명에게만 인사했지만, 이제 난이도를 두 배로 높여서 두 명에게 인사해 봅시다. "
   ]
  },
  {
   "cell_type": "code",
   "execution_count": 3,
   "id": "ebd0cea6",
   "metadata": {},
   "outputs": [],
   "source": [
    "def say_hi_couple(name1, name2):\n",
    "    print(name1 + ', ' + name2 + ' 안녕!')"
   ]
  },
  {
   "cell_type": "code",
   "execution_count": 5,
   "id": "fde114c7",
   "metadata": {
    "scrolled": true
   },
   "outputs": [
    {
     "name": "stdout",
     "output_type": "stream",
     "text": [
      "그리, 단테 안녕!\n"
     ]
    }
   ],
   "source": [
    "say_hi_couple('그리', '단테')\n"
   ]
  },
  {
   "cell_type": "code",
   "execution_count": 17,
   "id": "05ea1914",
   "metadata": {},
   "outputs": [
    {
     "ename": "TypeError",
     "evalue": "say_hi_couple() missing 1 required positional argument: 'name2'",
     "output_type": "error",
     "traceback": [
      "\u001b[0;31m---------------------------------------------------------------------------\u001b[0m",
      "\u001b[0;31mTypeError\u001b[0m                                 Traceback (most recent call last)",
      "\u001b[0;32m/tmp/ipykernel_74/2335649333.py\u001b[0m in \u001b[0;36m<module>\u001b[0;34m\u001b[0m\n\u001b[0;32m----> 1\u001b[0;31m \u001b[0msay_hi_couple\u001b[0m\u001b[0;34m(\u001b[0m\u001b[0;34m'그리'\u001b[0m\u001b[0;34m)\u001b[0m\u001b[0;34m\u001b[0m\u001b[0;34m\u001b[0m\u001b[0m\n\u001b[0m",
      "\u001b[0;31mTypeError\u001b[0m: say_hi_couple() missing 1 required positional argument: 'name2'"
     ]
    }
   ],
   "source": [
    "say_hi_couple('그리')"
   ]
  },
  {
   "cell_type": "markdown",
   "id": "2520c21c",
   "metadata": {},
   "source": [
    "오류를 확인해 봅시다.  \n",
    "약속했던 ```name2```를 내놓으라고 합니다.  \n",
    "참고로, 함수를 정의할 때 쓰인 인자의 이름을 알고 있다면, 함수를 호출할 때 직접 붙여줄 수도 있습니다.  \n",
    "아래의 코드는 그 의미상 say_hi_couple('그리', '단테')와 동일합니다."
   ]
  },
  {
   "cell_type": "code",
   "execution_count": 7,
   "id": "6dfb287c",
   "metadata": {},
   "outputs": [
    {
     "name": "stdout",
     "output_type": "stream",
     "text": [
      "그리, 단테 안녕!\n"
     ]
    }
   ],
   "source": [
    "say_hi_couple(name1='그리', name2='단테')"
   ]
  },
  {
   "cell_type": "markdown",
   "id": "74e4de1a",
   "metadata": {},
   "source": [
    "이렇게 이름으로 인자를 전달할 때는 순서가 상관없기 때문에, 거꾸로 뒤집을 수도 있음."
   ]
  },
  {
   "cell_type": "code",
   "execution_count": 8,
   "id": "0acf0a2e",
   "metadata": {},
   "outputs": [
    {
     "name": "stdout",
     "output_type": "stream",
     "text": [
      "단테, 그리 안녕!\n"
     ]
    }
   ],
   "source": [
    "say_hi_couple(name2='그리', name1='단테')"
   ]
  },
  {
   "cell_type": "markdown",
   "id": "84a52569",
   "metadata": {},
   "source": [
    "하지만 함수를 정의할 때 약속한 이름이 아닌 엉뚱한 이름을 주면?"
   ]
  },
  {
   "cell_type": "code",
   "execution_count": 10,
   "id": "7205e657",
   "metadata": {},
   "outputs": [
    {
     "ename": "TypeError",
     "evalue": "say_hi_couple() got an unexpected keyword argument 'name'",
     "output_type": "error",
     "traceback": [
      "\u001b[0;31m---------------------------------------------------------------------------\u001b[0m",
      "\u001b[0;31mTypeError\u001b[0m                                 Traceback (most recent call last)",
      "\u001b[0;32m/tmp/ipykernel_32/2350394301.py\u001b[0m in \u001b[0;36m<module>\u001b[0;34m\u001b[0m\n\u001b[0;32m----> 1\u001b[0;31m \u001b[0msay_hi_couple\u001b[0m\u001b[0;34m(\u001b[0m\u001b[0mname\u001b[0m\u001b[0;34m=\u001b[0m\u001b[0;34m'그리'\u001b[0m\u001b[0;34m,\u001b[0m \u001b[0mname2\u001b[0m\u001b[0;34m=\u001b[0m\u001b[0;34m'단테'\u001b[0m\u001b[0;34m)\u001b[0m\u001b[0;34m\u001b[0m\u001b[0;34m\u001b[0m\u001b[0m\n\u001b[0m",
      "\u001b[0;31mTypeError\u001b[0m: say_hi_couple() got an unexpected keyword argument 'name'"
     ]
    }
   ],
   "source": [
    "say_hi_couple(name='그리', name2='단테')"
   ]
  },
  {
   "cell_type": "markdown",
   "id": "cc6da025",
   "metadata": {},
   "source": [
    "한편, 입력값이 여러 개일 때도 각 입력값마다 기본값을 지정해 줄 수 있음.  \n",
    "**단, 이 경우 기본값이 있는 인자들이 기본값이 없는 필수 인자들의 뒤에 와야 함**"
   ]
  },
  {
   "cell_type": "code",
   "execution_count": 11,
   "id": "8c080842",
   "metadata": {},
   "outputs": [],
   "source": [
    "def say_hi_couple_default(name1, name2='nobody'):\n",
    "    print(name1 +', '+ name2 + ' 안녕!')"
   ]
  },
  {
   "cell_type": "markdown",
   "id": "98195ff3",
   "metadata": {},
   "source": [
    "만약 이 규칙을 지키지 않으면 아래와 같이 함수를 정의할 때 바로 오류가 남."
   ]
  },
  {
   "cell_type": "code",
   "execution_count": 13,
   "id": "ba257ba0",
   "metadata": {},
   "outputs": [
    {
     "ename": "SyntaxError",
     "evalue": "non-default argument follows default argument (3241368022.py, line 1)",
     "output_type": "error",
     "traceback": [
      "\u001b[0;36m  File \u001b[0;32m\"/tmp/ipykernel_32/3241368022.py\"\u001b[0;36m, line \u001b[0;32m1\u001b[0m\n\u001b[0;31m    def say_hi_couple_default_wrong(name1='nobody', name2):\u001b[0m\n\u001b[0m                                                         ^\u001b[0m\n\u001b[0;31mSyntaxError\u001b[0m\u001b[0;31m:\u001b[0m non-default argument follows default argument\n"
     ]
    }
   ],
   "source": [
    "def say_hi_couple_default_wrong(name1='nobody', name2):\n",
    "    print(name1 + ', ', + name2 + ' 안녕!')"
   ]
  },
  {
   "cell_type": "markdown",
   "id": "b5a69dc9",
   "metadata": {},
   "source": [
    "오류를 살펴보면 기본값(```default```)이 없는 인자가 기본값이 있는 인자 뒤에 오면 ```SyntaxError```에 해당한다고 함.\n",
    "이유는 ```say_hi_couple_default_wrong('단테')```와 같이 인자를 하나만 주고 함수를 호출하면, 생략된 하나의 인자를 ```name1```으로 봐야 할지, ```name2```로 봐야 할지 불분명하기 때문."
   ]
  },
  {
   "cell_type": "markdown",
   "id": "4d425b0a",
   "metadata": {},
   "source": [
    "## 5-8. 함수와 변수 (7) 함수의 결과로 값을 반환하기"
   ]
  },
  {
   "cell_type": "markdown",
   "id": "17237e93",
   "metadata": {},
   "source": [
    "위에서 함수는 입력값(input)과 출력값(output)을 가질 수 있다고 했습니다. 위에서 우리는 입력값을 가진 함수를 정의하고 사용하는 방법을 살펴보았지만, 사실 여태까지 값을 출력하는 함수는 아직 살펴보지 않았습니다. 화면에 표시(print)하기는 했지만요.\n",
    "\n",
    "이게 도대체 무슨 충격적인 소리인지 알아보기 위해서, 일단 여태까지의 방법으로 숫자 두 개를 더하는 함수를 정의해 봅시다."
   ]
  },
  {
   "cell_type": "code",
   "execution_count": 29,
   "id": "458226c9",
   "metadata": {},
   "outputs": [],
   "source": [
    "def add(number1, number2):\n",
    "    print(number1 + number2)\n",
    "    "
   ]
  },
  {
   "cell_type": "code",
   "execution_count": 31,
   "id": "c15f552b",
   "metadata": {},
   "outputs": [
    {
     "name": "stdout",
     "output_type": "stream",
     "text": [
      "3\n"
     ]
    }
   ],
   "source": [
    "add(1,2)"
   ]
  },
  {
   "cell_type": "markdown",
   "id": "a9d92c5e",
   "metadata": {},
   "source": [
    "근데 만약, 이 결과에 숫자를 한 번 더 더하고 싶다면? print() 함수 안에서 add() 함수를 불러봅시다."
   ]
  },
  {
   "cell_type": "code",
   "execution_count": 32,
   "id": "81fcc6c8",
   "metadata": {},
   "outputs": [
    {
     "name": "stdout",
     "output_type": "stream",
     "text": [
      "3\n"
     ]
    },
    {
     "ename": "TypeError",
     "evalue": "unsupported operand type(s) for +: 'NoneType' and 'int'",
     "output_type": "error",
     "traceback": [
      "\u001b[0;31m---------------------------------------------------------------------------\u001b[0m",
      "\u001b[0;31mTypeError\u001b[0m                                 Traceback (most recent call last)",
      "\u001b[0;32m/tmp/ipykernel_32/3763873345.py\u001b[0m in \u001b[0;36m<module>\u001b[0;34m\u001b[0m\n\u001b[0;32m----> 1\u001b[0;31m \u001b[0mprint\u001b[0m\u001b[0;34m(\u001b[0m\u001b[0madd\u001b[0m\u001b[0;34m(\u001b[0m\u001b[0;36m1\u001b[0m\u001b[0;34m,\u001b[0m\u001b[0;36m2\u001b[0m\u001b[0;34m)\u001b[0m\u001b[0;34m+\u001b[0m\u001b[0;36m3\u001b[0m\u001b[0;34m)\u001b[0m\u001b[0;34m\u001b[0m\u001b[0;34m\u001b[0m\u001b[0m\n\u001b[0m",
      "\u001b[0;31mTypeError\u001b[0m: unsupported operand type(s) for +: 'NoneType' and 'int'"
     ]
    }
   ],
   "source": [
    "print(add(1,2)+3)"
   ]
  },
  {
   "cell_type": "markdown",
   "id": "c41baa41",
   "metadata": {},
   "source": [
    "이처럼 함수가 실행된 뒤 그 결과를 가지고 무언가를 하고 싶다면, return으로 이 값을 출력값(output)으로서 반환(return)하라고 명시적으로 표시해 줘야 합니다."
   ]
  },
  {
   "cell_type": "code",
   "execution_count": 42,
   "id": "0f8a0587",
   "metadata": {},
   "outputs": [],
   "source": [
    "def add_and_return(number1, number2):\n",
    "    print(number1 +number2)\n",
    "    return number1 + number2\n",
    "\n"
   ]
  },
  {
   "cell_type": "code",
   "execution_count": 43,
   "id": "299e662b",
   "metadata": {},
   "outputs": [
    {
     "name": "stdout",
     "output_type": "stream",
     "text": [
      "3\n",
      "6\n"
     ]
    }
   ],
   "source": [
    "print(add_and_return(1,2)+3)"
   ]
  },
  {
   "cell_type": "markdown",
   "id": "fa691d7d",
   "metadata": {},
   "source": [
    "여기서 문제입니다. 다음의 끔찍한 코드는 어떤 순서로 결과를 표시할까요? 실행하기 전에 한번 생각해 보고 맞춰보세요."
   ]
  },
  {
   "cell_type": "code",
   "execution_count": 35,
   "id": "1dabc012",
   "metadata": {},
   "outputs": [],
   "source": [
    "def print_two(word1, word2):\n",
    "    print(word1)\n",
    "    print(word2)\n",
    "\n",
    "def print_and_return(word1, word2, word3):\n",
    "    print_two(word3, word2)\n",
    "    return word1"
   ]
  },
  {
   "cell_type": "code",
   "execution_count": 36,
   "id": "ea2d54d3",
   "metadata": {},
   "outputs": [
    {
     "name": "stdout",
     "output_type": "stream",
     "text": [
      "D\n",
      "C\n",
      "A\n",
      "B\n"
     ]
    }
   ],
   "source": [
    "print_two('A', print_and_return('B', 'C', 'D'))"
   ]
  },
  {
   "cell_type": "markdown",
   "id": "177d54bf",
   "metadata": {},
   "source": [
    "위의 코드는 먼저 ```print_and_return('B', 'C', 'D')```이 호출됩니다. ```print_and_return('B', 'C', 'D')```이 호출되면서 이 함수 안에 있는 함수 ```print_two(word3, word2)```이 호출되어 D와 C가 출력됩니다. 그 후 ```print_two('A', print_and_return('B', 'C', 'D'))```이 호출되면서 ```print('A')```과 ```print(print_and_return('B', 'C', 'D'))```이 실행되죠. ```print('A')```에서는 A가, ```print(print_and_return('B', 'C', 'D'))```에서는 return 값인 B가 출력됩니다. 따라서 출력 결과가 ```D C A B```로 나옵니다.\n",
    "\n",
    "설명이 복잡하지만 천천히 코드를 뜯어보면서 생각하면 이해가실 거예요."
   ]
  },
  {
   "cell_type": "markdown",
   "id": "4809e75d",
   "metadata": {},
   "source": [
    "# 5-9. 제어문\n",
    "***\n",
    "지금까지 함수와 변수에 대한 기본적인 내용을 돌아보았습니다.\n",
    "\n",
    "우리가 파이썬에서 기본으로 제공되는 print() 함수를 즐겨 사용했던 것처럼, 앞으로도 모든 함수를 우리가 직접 만들지는 않을 겁니다.\n",
    "\n",
    "다른 사람들이 이미 만들어놓은 함수를 부르기만 하면 이미 만들어진 함수가 화면에 글자를 표시해 주고, 수치 데이터를 그래프로 그려주고, 사진을 파일로 만들어 저장해 줍니다. 소프트웨어 개발은 이렇게 이미 있는 기본 블록들을 조립해 건물을 쌓아가는 방식으로 이뤄집니다. 따라서 우리는 함수 등을 통해 제공된 기능들을 \"적절한 흐름\"에 따라서 조합하기만 하면 됩니다.\n",
    "\n",
    "지금부터는 특정 조건에 따라 알아서 필요한 횟수만큼 반복해서 실행하는 등 프로그램의 \"흐름을 제어(control)\"하는 방법에 대해 배워보겠습니다.\n",
    "\n"
   ]
  },
  {
   "cell_type": "markdown",
   "id": "1cccdfd6",
   "metadata": {},
   "source": [
    "# 5-10. 제어문 (1) `if`: 진실 혹은 거짓\n",
    "---\n",
    "어떤 명제가 참인지 거짓인지에 따라 코드의 실행 여부를 결정할 수 있습니다. ⚖\n",
    "\n",
    "입력값으로 주어진 숫자가 0 이상일 경우에만 화면에 숫자를 표시하는 함수를 한번 정의해 봅시다."
   ]
  },
  {
   "cell_type": "code",
   "execution_count": 37,
   "id": "245d6f60",
   "metadata": {},
   "outputs": [
    {
     "name": "stdout",
     "output_type": "stream",
     "text": [
      "1\n"
     ]
    }
   ],
   "source": [
    "def print_if_positive(number):\n",
    "    if number >= 0:\n",
    "        print(number)\n",
    "#- 숫자가 0보다 크거나 같을(>=) 경우 즉, 0 이상일 경우에만 숫자를 출력합니다.\n",
    "\n",
    "print_if_positive(1)\n",
    "print_if_positive(-1)"
   ]
  },
  {
   "cell_type": "markdown",
   "id": "6d7fa84f",
   "metadata": {},
   "source": [
    "```def```로 함수를 정의(define)하던 것과 비슷하지만, 이번에는 만약(if)이라는 키워드를 사용합니다.\n",
    "\n",
    "`if 명제`:의 형식으로 표시하며, 이후에 들여쓰기 된 코드 블록의 내용은 if 키워드 다음의 명제가 참일 때에만 실행됩니다. 명제를 구성할 때 사용할 수 있는 비교 연산자(conditional operator) 에는 초과 또는 미만(`>, <`), 이상 또는 이하(`>=, <=`), 값이 같음 또는 다름(`==, !=`) 등이 있습니다.\n",
    "\n",
    "위의 함수를 변형해서 양이면 `+`, 음이면 `-`를 표시하려면 어떻게 할까요?\n",
    "\n",
    "`if number >= 0:`에 속하는 블록 뒤에 `if`와 동일한 들여쓰기 깊이로 다시 `if number < 0:`를 추가하는 방법도 있겠지만, 그 이외의 경우(else)를 나타내는 `else:`를 사용해서 앞의 명제가 거짓인 경우에 실행할 코드를 손쉽게 명시할 수 있습니다."
   ]
  },
  {
   "cell_type": "code",
   "execution_count": 38,
   "id": "4af6d608",
   "metadata": {},
   "outputs": [
    {
     "name": "stdout",
     "output_type": "stream",
     "text": [
      "+\n",
      "-\n"
     ]
    }
   ],
   "source": [
    "def print_whether_positive_or_negative(number):\n",
    "    if number >= 0:\n",
    "        print('+')\n",
    "    else:\n",
    "        print('-')\n",
    "#- 숫자가 0보다 크거나 같으면 +를, 작으면 -를 출력합니다.\n",
    "\n",
    "print_whether_positive_or_negative(1)\n",
    "print_whether_positive_or_negative(-1)"
   ]
  },
  {
   "cell_type": "code",
   "execution_count": 39,
   "id": "20ceafcf",
   "metadata": {},
   "outputs": [
    {
     "name": "stdout",
     "output_type": "stream",
     "text": [
      "+\n",
      "0\n",
      "-\n"
     ]
    }
   ],
   "source": [
    "def print_whether_positive_or_negative_or_zero(number):\n",
    "    if number > 0:\n",
    "        print('+')\n",
    "    elif number == 0:\n",
    "        print('0')\n",
    "    else:\n",
    "        print('-')\n",
    "#- 숫자가 양수이면 +를, 음수이면 -를, 양수도 음수도 아닌 0일 경우 그대로 0을 출력합니다.\n",
    "\n",
    "print_whether_positive_or_negative_or_zero(1)\n",
    "print_whether_positive_or_negative_or_zero(0)\n",
    "print_whether_positive_or_negative_or_zero(-1)"
   ]
  },
  {
   "cell_type": "code",
   "execution_count": 40,
   "id": "9df09445",
   "metadata": {},
   "outputs": [
    {
     "name": "stdout",
     "output_type": "stream",
     "text": [
      "2\n"
     ]
    }
   ],
   "source": [
    "def print_if_positive_and_even(number):\n",
    "    if (number > 0) and (number % 2 == 0):\n",
    "        print(number)\n",
    "\n",
    "#- 숫자가 양수이고(and) 짝수일 때 해당 숫자를 출력합니다.\n",
    "#-- 양수 : number > 0\n",
    "#-- 짝수 : number % 2 == 0 즉, 숫자를 2로 나눈 나머지가 0인 경우\n",
    "\n",
    "print_if_positive_and_even(1)\n",
    "print_if_positive_and_even(-1)\n",
    "print_if_positive_and_even(2)\n",
    "print_if_positive_and_even(-2)"
   ]
  },
  {
   "cell_type": "code",
   "execution_count": 41,
   "id": "7ce556c5",
   "metadata": {},
   "outputs": [
    {
     "name": "stdout",
     "output_type": "stream",
     "text": [
      "1\n",
      "-1\n",
      "-2\n"
     ]
    }
   ],
   "source": [
    "def print_if_negative_or_odd(number):\n",
    "    if (number < 0) or (number % 2 != 0):\n",
    "        print(number)\n",
    "#- 숫자가 음수이거나(or) 홀수일 때 해당 숫자를 출력합니다.\n",
    "#- 음수 : number < 0\n",
    "#- 홀수 : number % 2 != 0 즉, 짝수가 아닐 때\n",
    "\n",
    "print_if_negative_or_odd(1)\n",
    "print_if_negative_or_odd(-1)\n",
    "print_if_negative_or_odd(2)\n",
    "print_if_negative_or_odd(-2)"
   ]
  },
  {
   "cell_type": "markdown",
   "id": "339bdbc9",
   "metadata": {},
   "source": [
    "# 5-11. 제어문 (2) 'while': 조건이 참인 동안 반복"
   ]
  },
  {
   "cell_type": "code",
   "execution_count": 44,
   "id": "8a5a9571",
   "metadata": {},
   "outputs": [
    {
     "name": "stdout",
     "output_type": "stream",
     "text": [
      "1\n",
      "-1\n",
      "-2\n"
     ]
    }
   ],
   "source": [
    "def print_if_negative_or_odd(number):\n",
    "    if (number <= 0) or (number % 2 != 0):\n",
    "        print(number)\n",
    "\n",
    "print_if_negative_or_odd(1)\n",
    "print_if_negative_or_odd(-1)\n",
    "print_if_negative_or_odd(2)\n",
    "print_if_negative_or_odd(-2)\n",
    "#- print_if_negative_or_odd 함수를 총 4번 호출합니다.\n",
    "#- 매개변수(number)의 인자를 각각 다르게(1, -1, 2, -2) 부여한 것을 확인할 수 있습니다."
   ]
  },
  {
   "cell_type": "markdown",
   "id": "8f797c6e",
   "metadata": {},
   "source": [
    "아래 코드의 `fibonacci()` 함수는 n번째 피보나치 수를 반환하는 함수입니다."
   ]
  },
  {
   "cell_type": "code",
   "execution_count": 22,
   "id": "3126bc59",
   "metadata": {},
   "outputs": [
    {
     "name": "stdout",
     "output_type": "stream",
     "text": [
      "1\n",
      "1\n",
      "2\n",
      "3\n",
      "5\n",
      "8\n",
      "13\n",
      "21\n",
      "34\n",
      "55\n",
      "89\n",
      "144\n",
      "233\n",
      "377\n",
      "610\n",
      "987\n",
      "1597\n",
      "2584\n",
      "4181\n",
      "6765\n",
      "끝!\n"
     ]
    }
   ],
   "source": [
    "def fibonacci(n):\n",
    "    if n <= 2:\n",
    "        return 1\n",
    "    else:\n",
    "        return fibonacci(n-2) + fibonacci(n-1)\n",
    "\n",
    "n = 1\n",
    "while n <= 20:\n",
    "    print(fibonacci(n))\n",
    "    n = n + 1\n",
    "print('끝!')"
   ]
  },
  {
   "cell_type": "markdown",
   "id": "00881010",
   "metadata": {},
   "source": [
    "스스로를 호출하는 함수를 \"재귀 함수\"라고 함.\n",
    "`return` 쪽을 보시면 `fibonacci(n-2) + fibonacci(n-1)`를 반환하네요. 아래 사진을 참고하시면 더 이해가 될 것입니다."
   ]
  },
  {
   "attachments": {
    "f-5-19.max-800x600.png": {
     "image/png": "[encoded data removed]"
    }
   },
   "cell_type": "markdown",
   "id": "00b0b6f1",
   "metadata": {},
   "source": [
    "**피보나치 수열 예시**  \n",
    "![f-5-19.max-800x600.png](attachment:f-5-19.max-800x600.png)\n",
    "fibonacci(4) 예시"
   ]
  },
  {
   "cell_type": "markdown",
   "id": "e00ddbf4",
   "metadata": {},
   "source": [
    "# 5-12. 제어문 (3) 'for': 하나씩 반복\n",
    "***\n"
   ]
  },
  {
   "cell_type": "markdown",
   "id": "e27fbc2b",
   "metadata": {},
   "source": [
    "파이썬에는 `hile` 말고도 `for`이라는 반복문이 있습니다.\n",
    "\n",
    "`while` 뒤에는 참과 거짓이 갈릴 수 있는 명제가 온다면, `for` 뒤에는 `a in A`의 형태로, 값이 여러 개 들어있는 목록 `A`에서 값을 하나씩 꺼내서 `a` 변수에 담아 반복문을 실행합니다.\n",
    "\n",
    "설명이 어려우니 한번 예를 들어 이해해 보겠습니다.\n",
    "\n",
    "`'Hi'`라는 문자열을 뜯어보면 사실 `'H'`라는 문자와 `'i'`라는 문자가 순서대로 이어지는 형태를 가지고 있습니다. 즉, `'Hi'` 안에는 `'H'`와 `'i'`라는 값이 하나씩 순서대로 들어있습니다."
   ]
  },
  {
   "cell_type": "code",
   "execution_count": 47,
   "id": "adb1f622",
   "metadata": {},
   "outputs": [
    {
     "name": "stdout",
     "output_type": "stream",
     "text": [
      "True\n"
     ]
    }
   ],
   "source": [
    "print(\"H\"+\"i\" ==\"Hi\")"
   ]
  },
  {
   "cell_type": "markdown",
   "id": "abac5dd7",
   "metadata": {},
   "source": [
    "이렇게 줄줄이 굴비처럼 엮여서 하나씩 순서대로 넘길`(iterate)`수 있는 값들을 **반복 가능한(iterable, 이터러블) 객체** 라고 함. `for` 루프를 써서 순서대로 엮인 값들을 하나씩 처리할 수 있음.\n",
    "그럼 , `'Hello'` 의 글자를 하나씩 `print()`해 봅시다."
   ]
  },
  {
   "cell_type": "code",
   "execution_count": 50,
   "id": "4aeb1094",
   "metadata": {
    "scrolled": true
   },
   "outputs": [
    {
     "name": "stdout",
     "output_type": "stream",
     "text": [
      "H\n",
      "e\n",
      "l\n",
      "l\n",
      "o\n"
     ]
    }
   ],
   "source": [
    "for character in 'Hello':\n",
    "    print(character)"
   ]
  },
  {
   "cell_type": "markdown",
   "id": "b5b71fe7",
   "metadata": {},
   "source": [
    "위의 `for`문이 실행되면, 일단 `'Hello'`의 첫 글자인 `'H'`가 `character`라는 변수에 할당됨."
   ]
  },
  {
   "cell_type": "markdown",
   "id": "d72cbf6e",
   "metadata": {},
   "source": [
    "# 5-13. 자료형\n",
    "***\n",
    "파이썬에는 숫자와 문자열 외에도 다양한 종류의 '값'들이 있으며, 이러한 종류 하나하나를 **자료형(data type)** 이라고 합니다.\n",
    "\n",
    "문자열은 반복이 가능(iterable) 하지만 숫자는 그렇지 않은 것처럼, 각 자료형마다 특징이 있습니다. 자료형 스텝 에서는 이러한 자료형들에 대해 알아볼 것입니다.\n",
    "\n",
    "참고로 값의 자료형이 무엇인지는 `type()` 함수를 통해 확인할 수 있습니다. 한번 숫자 `1`의 자료형이 무엇인지 확인해 봅시다. "
   ]
  },
  {
   "cell_type": "code",
   "execution_count": 52,
   "id": "0d5c1d03",
   "metadata": {},
   "outputs": [
    {
     "name": "stdout",
     "output_type": "stream",
     "text": [
      "<class 'int'>\n"
     ]
    }
   ],
   "source": [
    "print(type(1))"
   ]
  },
  {
   "cell_type": "markdown",
   "id": "8041f344",
   "metadata": {},
   "source": [
    "# 5-14. 자료형 (1) 정수_integer, 'int'\n",
    "***\n",
    "지금까지 우리가 잘 써온 숫자 데이터에도 사실 두 가지 자료형이 있습니다.\n",
    "\n",
    "우선 정수인 int는 양의 정수와 음의 정수를 모두 포함합니다.\n"
   ]
  },
  {
   "cell_type": "markdown",
   "id": "4b83ea40",
   "metadata": {},
   "source": [
    "정수는 무한하지만 우리 컴퓨터의 메모리는 유한하다는 점입니다. 64비트 컴퓨터의 경우 기본적으로 64비트의 공간에 하나의 숫자를 저장할 수 있습니다. 이렇게 되면 2^{64}2 \n",
    "64\n",
    " (=18,446,744,073,709,551,616)개의 숫자만 인식할 수 있습니다. 즉, 음과 양을 모두 생각하면 -9,223,372,036,854,775,808부터 9,223,372,036,854,775,807까지의 숫자만을 표현할 수 있다는 뜻입니다.\n",
    " \n",
    " ***\n",
    " 물론 해결법은 있습니다. 💡\n",
    "\n",
    "우리가 어릴 때 숫자를 세다가 손가락이 부족하면 발가락까지 쓰던 것처럼, 큰 숫자를 표현할 때는 64비트 이상의 공간을 사용하면 됩니다. 다만 이렇게 숫자를 담을 메모리 크기를 수동으로 설정해 주어야 하는 프로그래밍 언어들이 있는 반면, 우리의 파이썬은 다행히 숫자가 커지면 알아서 메모리를 더 사용하기에 안심해도 됩니다."
   ]
  },
  {
   "cell_type": "markdown",
   "id": "1573fa4f",
   "metadata": {},
   "source": [
    "# 5-15. 자료형 (2) 부동소수점 수_floating-point number, `float`\n",
    "***\n",
    "이외에 정수를 제외한 실수를 부동소수점 수 또는 떠돌이 소수점 수인 float라고 합니다. 여기서 소수는 1과 자신으로밖에 나누어지지 않는 素數(prime number)가 아니라, 소수점 아래에 값이 있는 小數(decimal)입니다."
   ]
  },
  {
   "cell_type": "code",
   "execution_count": 60,
   "id": "78c69740",
   "metadata": {},
   "outputs": [
    {
     "name": "stdout",
     "output_type": "stream",
     "text": [
      "<class 'float'>\n",
      "<class 'float'>\n",
      "True\n",
      "2.0\n",
      "\n",
      "1.0\n",
      "<class 'float'>\n",
      "1\n",
      "<class 'int'>\n"
     ]
    }
   ],
   "source": [
    "print(type(1.1))\n",
    "print(type(1.0))\n",
    "print(1 == 1.0)\n",
    "print(1 + 1.0)\n",
    "print()\n",
    "print(float(1))\n",
    "print(type(float(1)))\n",
    "print(int(1.0))\n",
    "print(type(int(1.0)))"
   ]
  },
  {
   "cell_type": "markdown",
   "id": "b1f523af",
   "metadata": {},
   "source": [
    "# 5-16. 자료형 (3) `NoneType`\n"
   ]
  },
  {
   "cell_type": "code",
   "execution_count": 64,
   "id": "6fb43e35",
   "metadata": {},
   "outputs": [
    {
     "name": "stdout",
     "output_type": "stream",
     "text": [
      "<class 'NoneType'>\n"
     ]
    }
   ],
   "source": [
    "print(type(None))"
   ]
  },
  {
   "attachments": {
    "F-5-10.jpg": {
     "image/jpeg": "[encoded data removed]"
    }
   },
   "cell_type": "markdown",
   "id": "5f2206e3",
   "metadata": {},
   "source": [
    "앞의 함정들과 다르게 NoneType 자료형에 속하는 값은 유한하며, 그마저도 딱 하나입니다. 아무것도 없음을 뜻하는 None이 바로 그 값입니다. 0도 아무것도 없다는 뜻 아니야?라고 생각하시는 분들은 아래 도표를 참조해 주시기 바랍니다.\n",
    "![F-5-10.jpg](attachment:F-5-10.jpg)"
   ]
  },
  {
   "cell_type": "markdown",
   "id": "7501ee3c",
   "metadata": {},
   "source": [
    "그렇습니다. 휴지심조차 없는 상태가 None입니다.\n",
    "\n",
    "불교의 공(空) 개념처럼 심오하게 이해할 필요 없이, 그냥 아무것도 없음을 표시하기 위해 만들어놓은 값입니다. 이전 예시들 중 함수의 반환값으로 아무것도 정의하지 않았을 경우 `NoneType`과 관련된 오류가 나왔던 것이 바로 이런 상황입니다. 이런 상황에서는 0과 같은 숫자도, 그 무엇도 반환하지 않았다는 것을 알려주기 위해 `None`이 반환된 것으로 표현합니다. 참고로 다른 프로그래밍 언어에서는 같은 개념을 null이라고 부르기도 합니다."
   ]
  },
  {
   "cell_type": "markdown",
   "id": "1ca16064",
   "metadata": {},
   "source": [
    "왜 이런 게 필요할까요?\n",
    "그 어떤 것으로도 정의되지 않는 상태라는 개념은 프로그래밍 시점에 필요한 것이 아닙니다. 디자인 타임(Design Time)이라고 부르는 설계 타이밍에는 이런 개념이 필요하지 않습니다. 모든 개념을 다 정의할 수 있는 시점이니까요.\n",
    "하지만, 프로그램이 수행하는 도중에 입력값에 따라 전혀 의도하지 않았던 유형의 출력이 발생한다면? 런타임(Runtime)이라고 부르는 프로그램 실행 타이밍에 정의되지 않은 어떤 것이 발생했다고 할 때, 그 어떤 것으로도 정의되지 않는 유형을 정의하기 위해 NoneType이라는 것이 필요하게 됩니다."
   ]
  },
  {
   "cell_type": "markdown",
   "id": "88c30bc3",
   "metadata": {},
   "source": [
    "여러분들이 어떤 스트링 value로부터 모바일 전화번호 유형의 객체를 구하는 메서드를 위와 같이 짰다고 합시다. 그런데 **저 코드를 돌리는 도중**에 value에 10자리 숫자가 입력되었다고 합시다. 그 순간 에러를 내면서 프로그램이 죽어야 할까요? 아니면 NoneType 객체라도 리턴하는 게 좋을까요?\n",
    "\n",
    "이것은 인터프리터 언어인 파이썬의 설계 사상과 관련이 있습니다. 컴파일 타임에 모든 유형이 다 정의되어야 하는 C 같은 언어는 NoneType을 필요로 하지 않습니다. 정의될 수 없는 어떤 것이 나온다면 컴파일 오류를 내면 되니까요. 하지만 어떤 것의 유형이 런타임에 정의되어도 무방하다거나, 심지어 **늦게 정의될수록 좋다고 생각하는 파이썬 같은 언어**는 NoneType 유형을 필요로 하게 됩니다."
   ]
  },
  {
   "cell_type": "markdown",
   "id": "c6dab5d1",
   "metadata": {},
   "source": [
    "# 5-17. 자료형 (4) 불리언_boolean, `bool`"
   ]
  },
  {
   "cell_type": "markdown",
   "id": "1d010ec2",
   "metadata": {},
   "source": [
    "이름부터 어렵지만 사실 뭐 별거 없습니다. 불리언 자료형에는 딱 두 가지 값만 존재합니다. 참(`True`)과 거짓(`False`).\n",
    "\n",
    "이렇게 단순한 자료형에 이런 이름이 붙은 이유는 수학자 겸 논리학자인 불 아저씨(George Boole)가 불 대수라는 개념을 만들었기 때문입니다. 즉, 불리언 자료형은 수학에서 시작되었습니다."
   ]
  },
  {
   "cell_type": "code",
   "execution_count": 66,
   "id": "38bdc412",
   "metadata": {
    "scrolled": true
   },
   "outputs": [
    {
     "name": "stdout",
     "output_type": "stream",
     "text": [
      "<class 'bool'>\n",
      "<class 'bool'>\n"
     ]
    }
   ],
   "source": [
    "print(type(True))\n",
    "print(type(False))"
   ]
  },
  {
   "cell_type": "markdown",
   "id": "c9b3e8bd",
   "metadata": {},
   "source": [
    "불리언 값들은 주로 if 비교문에서처럼 명제의 참/거짓 여부를 나타낼 때 사용됩니다. 즉, `a == b`라는 표현은 입력값 `a`와 `b`가 같다면 `True`를, 아니면 `False`를 반환하는 함수로 볼 수도 있습니다.  \n",
    "불리언 값 앞에 `not`을 붙이면 참과 거짓을 뒤집을 수도 있습니다."
   ]
  },
  {
   "cell_type": "code",
   "execution_count": 68,
   "id": "49e87e57",
   "metadata": {},
   "outputs": [
    {
     "name": "stdout",
     "output_type": "stream",
     "text": [
      "False\n",
      "False\n"
     ]
    }
   ],
   "source": [
    "print(not True)\n",
    "print(not not False)"
   ]
  },
  {
   "cell_type": "markdown",
   "id": "9f9eb117",
   "metadata": {},
   "source": [
    "`int()`나 `float()`처럼 `bool()`을 통해 다른 값을 참과 거짓으로 변환할 수도 있습니다.\n",
    "\n",
    "`None`이거나 `0` 일 때는 `False`로 변환되며, 그 외 나머지 경우에는 `True`가 됩니다."
   ]
  },
  {
   "cell_type": "code",
   "execution_count": 70,
   "id": "7474dd7e",
   "metadata": {
    "scrolled": true
   },
   "outputs": [
    {
     "name": "stdout",
     "output_type": "stream",
     "text": [
      "False\n",
      "False\n",
      "True\n"
     ]
    }
   ],
   "source": [
    "print(bool(None))\n",
    "print(bool(0))\n",
    "print(bool(1.1))"
   ]
  },
  {
   "cell_type": "markdown",
   "id": "a705efcc",
   "metadata": {},
   "source": [
    "# 5-18. 자료형 (5) 문자열_string, `str`\n",
    "\n",
    "지금까지 하나의 값만 다뤄왔지만, 이제부터는 내부에 여러 값을 포함할 수 있는 자료형들을 살펴보겠습니다.\n",
    "\n",
    "그중 첫 번째는 우리가 지금까지 잘 써온 **문자열(string)** 입니다. 문자열은 따옴표 또는 쌍따옴표로 감싸야 합니다. 만약 문자열 안에 쌍따옴표를 그대로 쓰고 싶다면, 아래처럼 따옴표로 감싸면 됩니다."
   ]
  },
  {
   "cell_type": "code",
   "execution_count": 72,
   "id": "8011e6aa",
   "metadata": {},
   "outputs": [
    {
     "name": "stdout",
     "output_type": "stream",
     "text": [
      "He said, \"spam.\"\n"
     ]
    }
   ],
   "source": [
    "print('He said, \"spam.\"')\n"
   ]
  },
  {
   "cell_type": "markdown",
   "id": "accb46d5",
   "metadata": {},
   "source": [
    "문자열 안에 쌍따옴표랑 따옴표를 둘 다 쓰고 싶다면?  \n",
    "문자열 안에서 따옴표 앞에 \\를 붙여서 이건 코드 상의 기호가 아닌, 문자 그대로로 해석하라고 표시(escape) 할 수 있습니다."
   ]
  },
  {
   "cell_type": "code",
   "execution_count": 74,
   "id": "b7a44569",
   "metadata": {},
   "outputs": [
    {
     "name": "stdout",
     "output_type": "stream",
     "text": [
      "Quote(') and double quote(\")\n"
     ]
    }
   ],
   "source": [
    "print('Quote(\\') and double quote(\\\")')"
   ]
  },
  {
   "cell_type": "markdown",
   "id": "12d5ae7b",
   "metadata": {},
   "source": [
    "괄호 안의 문자열 여러 개는 파이썬이 알아서 합침"
   ]
  },
  {
   "cell_type": "code",
   "execution_count": 77,
   "id": "876e0fa6",
   "metadata": {},
   "outputs": [
    {
     "name": "stdout",
     "output_type": "stream",
     "text": [
      "Hello June\n"
     ]
    }
   ],
   "source": [
    "print('Hello ' 'June')"
   ]
  },
  {
   "cell_type": "markdown",
   "id": "5fb918d2",
   "metadata": {},
   "source": [
    "여러 줄을 쓰고 싶다면 따옴표나 쌍따옴표 대신,   \n",
    "따옴표나 쌍따옴표를 세 개씩 연달아 써서 열고 닫아주면 됩니다."
   ]
  },
  {
   "cell_type": "code",
   "execution_count": 79,
   "id": "9c3845ec",
   "metadata": {},
   "outputs": [
    {
     "name": "stdout",
     "output_type": "stream",
     "text": [
      "Line 1\n",
      "Line2\n"
     ]
    }
   ],
   "source": [
    "print('''Line 1\n",
    "Line2''')"
   ]
  },
  {
   "cell_type": "markdown",
   "id": "4cef5c8d",
   "metadata": {},
   "source": [
    "참고로 문자열도 글자가 여러 개 연이어 있기에, `for` 루프를 사용할 수 있는 반복 가능한 객체임."
   ]
  },
  {
   "cell_type": "code",
   "execution_count": 80,
   "id": "a109ea37",
   "metadata": {},
   "outputs": [
    {
     "name": "stdout",
     "output_type": "stream",
     "text": [
      "H\n",
      "e\n",
      "l\n",
      "l\n",
      "o\n"
     ]
    }
   ],
   "source": [
    "for character in 'Hello':\n",
    "    print(character)"
   ]
  },
  {
   "cell_type": "markdown",
   "id": "fea09378",
   "metadata": {},
   "source": [
    "특히 값들이 순서대로 들어있는 반복 가능한 객체 중에서도 유한한 길이를 갖는 자료형들을 파이썬에서는 컨테이너(container) 자료형이라고 부릅니다. 이런 컨테이너 자료형들은 뒤에 [숫자]를 붙여서 해당 순서 **인덱스(index)** 에 해당하는 값만 쏙 뽑아올 수 있습니다.\n",
    "\n",
    "주의할 점은, 순서가 0부터 시작한다는 점입니다. ❕"
   ]
  },
  {
   "cell_type": "code",
   "execution_count": 87,
   "id": "1a2ff8bc",
   "metadata": {},
   "outputs": [
    {
     "name": "stdout",
     "output_type": "stream",
     "text": [
      "e\n",
      "o\n",
      "Hell\n",
      "llo\n",
      "Hello\n",
      "Hell\n",
      "Hlo\n"
     ]
    }
   ],
   "source": [
    "message = 'Hello'\n",
    "print(message[1])\n",
    "print(message[-1])\n",
    "print(message[0:4])\n",
    "print(message[2:])\n",
    "print(message[::1])    # 기본 (한 칸 씩)\n",
    "print(message[:-1:1]) # 기본 (한 칸 씩)\n",
    "print(message[::2])    # 두 칸 씩"
   ]
  },
  {
   "cell_type": "markdown",
   "id": "5a849ee3",
   "metadata": {},
   "source": [
    "아하! 위 코드를 돌려보니 `start:end-1:step` 의 형식으로 이뤄져 있는 걸 알 수 있습니다. 그렇다면 거꾸로 된 글자를 뽑으려면 어떻게 할까요?\n",
    "\n",
    "`step` 부분을 건드려주면 어떨까요? 시작과 끝은 냅두고... `step=-1`로 줘볼게요!"
   ]
  },
  {
   "cell_type": "code",
   "execution_count": 1,
   "id": "7ac787d4",
   "metadata": {},
   "outputs": [
    {
     "name": "stdout",
     "output_type": "stream",
     "text": [
      "olleH\n"
     ]
    }
   ],
   "source": [
    "message = 'Hello'\n",
    "print(message[::-1])   # 거꾸로 출력"
   ]
  },
  {
   "cell_type": "markdown",
   "id": "d33ef632",
   "metadata": {},
   "source": [
    "# 5-19. 자료형 (6) 튜플과 리스트_`tuple`, `list`\n",
    "***\n",
    "'글자 외에 숫자와 다른 객체들도 여러 개 줄줄이 꿰고 싶다!' 하시는 분들을 위해 준비된 또 다른 컨테이너 자료형이 있습니다.😎\n",
    "\n",
    "튜플(tuple)과 리스트(list)입니다.\n",
    "\n",
    "튜플의 경우에는 괄호() 안에 원하는 값들을 쉼표(,)로 구분해서 써주면 됩니다."
   ]
  },
  {
   "cell_type": "code",
   "execution_count": 2,
   "id": "d8b60078",
   "metadata": {},
   "outputs": [
    {
     "name": "stdout",
     "output_type": "stream",
     "text": [
      "1\n",
      "2\n",
      "3\n"
     ]
    }
   ],
   "source": [
    "numbers =(1,2,3)\n",
    "for number in numbers:\n",
    "    print(number)"
   ]
  },
  {
   "cell_type": "markdown",
   "id": "ca27681a",
   "metadata": {},
   "source": [
    "물론 숫자만 들어가라는 법은 없고, 문자든 어떤 값이든 넣어도 됩니다."
   ]
  },
  {
   "cell_type": "code",
   "execution_count": 3,
   "id": "15d9f826",
   "metadata": {},
   "outputs": [],
   "source": [
    "mixed_tuple =('Hello', 0, True)"
   ]
  },
  {
   "cell_type": "markdown",
   "id": "cf5b3a54",
   "metadata": {},
   "source": [
    "튜플도 문자열처럼 `[색인]` 문법을 써서 특정 위치의 값을 읽을 수 있습니다."
   ]
  },
  {
   "cell_type": "code",
   "execution_count": 5,
   "id": "c3ce8a69",
   "metadata": {
    "scrolled": true
   },
   "outputs": [
    {
     "name": "stdout",
     "output_type": "stream",
     "text": [
      "1\n"
     ]
    }
   ],
   "source": [
    "tuple_123 = (1,2,3)\n",
    "print(tuple_123[0])"
   ]
  },
  {
   "cell_type": "markdown",
   "id": "3a1efa7d",
   "metadata": {},
   "source": [
    "하지만 값을 변경할 수는 없습니다. 아래 코드는 에러가 납니다."
   ]
  },
  {
   "cell_type": "code",
   "execution_count": 6,
   "id": "676f5b50",
   "metadata": {},
   "outputs": [
    {
     "ename": "TypeError",
     "evalue": "'tuple' object does not support item assignment",
     "output_type": "error",
     "traceback": [
      "\u001b[0;31m---------------------------------------------------------------------------\u001b[0m",
      "\u001b[0;31mTypeError\u001b[0m                                 Traceback (most recent call last)",
      "\u001b[0;32m/tmp/ipykernel_32/388512261.py\u001b[0m in \u001b[0;36m<module>\u001b[0;34m\u001b[0m\n\u001b[1;32m      1\u001b[0m \u001b[0mtuple_123\u001b[0m \u001b[0;34m=\u001b[0m \u001b[0;34m(\u001b[0m\u001b[0;36m1\u001b[0m\u001b[0;34m,\u001b[0m\u001b[0;36m2\u001b[0m\u001b[0;34m,\u001b[0m\u001b[0;36m3\u001b[0m\u001b[0;34m)\u001b[0m\u001b[0;34m\u001b[0m\u001b[0;34m\u001b[0m\u001b[0m\n\u001b[0;32m----> 2\u001b[0;31m \u001b[0mtuple_123\u001b[0m\u001b[0;34m[\u001b[0m\u001b[0;36m0\u001b[0m\u001b[0;34m]\u001b[0m \u001b[0;34m=\u001b[0m \u001b[0;36m0\u001b[0m\u001b[0;34m\u001b[0m\u001b[0;34m\u001b[0m\u001b[0m\n\u001b[0m",
      "\u001b[0;31mTypeError\u001b[0m: 'tuple' object does not support item assignment"
     ]
    }
   ],
   "source": [
    "tuple_123 = (1,2,3)\n",
    "tuple_123[0] = 0"
   ]
  },
  {
   "cell_type": "code",
   "execution_count": 8,
   "id": "8c34cd84",
   "metadata": {},
   "outputs": [
    {
     "name": "stdout",
     "output_type": "stream",
     "text": [
      "1\n"
     ]
    }
   ],
   "source": [
    "nested_tuple = ((1,2), (3,4))\n",
    "print(nested_tuple[0][0])"
   ]
  },
  {
   "cell_type": "markdown",
   "id": "6adcfce8",
   "metadata": {},
   "source": [
    "튜플 안에 튜플을 넣을 수도 있습니다.\n",
    "\n",
    "이런 경우에는 [n] 문법을 연이어 써서 튜플 안의 값을 가져올 수 있습니다."
   ]
  },
  {
   "cell_type": "markdown",
   "id": "9067b12a",
   "metadata": {},
   "source": [
    "튜플끼리 덧셈 연산자를 통해 합칠 수도 있습니다."
   ]
  },
  {
   "cell_type": "code",
   "execution_count": 9,
   "id": "6fe9e289",
   "metadata": {},
   "outputs": [
    {
     "name": "stdout",
     "output_type": "stream",
     "text": [
      "(1, 2, 3, 4)\n"
     ]
    }
   ],
   "source": [
    "tuple_a = (1,2)\n",
    "tuple_b = (3,4)\n",
    "print(tuple_a + tuple_b)"
   ]
  },
  {
   "cell_type": "markdown",
   "id": "8602829f",
   "metadata": {},
   "source": [
    "`in` 연산자를 써서 특정한 값이 튜플 안에 있는지 없는지도 검사할 수 있습니다."
   ]
  },
  {
   "cell_type": "code",
   "execution_count": 10,
   "id": "672a707b",
   "metadata": {
    "scrolled": true
   },
   "outputs": [
    {
     "name": "stdout",
     "output_type": "stream",
     "text": [
      "True\n",
      "False\n"
     ]
    }
   ],
   "source": [
    "tuple_abc = ('a','b','c')\n",
    "print('a' in tuple_abc)\n",
    "print('d' in tuple_abc)"
   ]
  },
  {
   "cell_type": "markdown",
   "id": "accb8a11",
   "metadata": {},
   "source": [
    "**리스트**는 튜플과 거의 같습니다. 괄호만 대괄호`([, ])`로 바꿔주면 됩니다."
   ]
  },
  {
   "cell_type": "code",
   "execution_count": 11,
   "id": "82c9f325",
   "metadata": {},
   "outputs": [
    {
     "name": "stdout",
     "output_type": "stream",
     "text": [
      "[1, 2] ['3', '4']\n"
     ]
    }
   ],
   "source": [
    "list_a = [1,2]\n",
    "list_b = ['3', '4']\n",
    "print(list_a, list_b)"
   ]
  },
  {
   "cell_type": "markdown",
   "id": "52d6573d",
   "metadata": {},
   "source": [
    "그리고 튜플과 달리 값을 바꿀 수도 있습니다."
   ]
  },
  {
   "cell_type": "code",
   "execution_count": 12,
   "id": "23e4eaf1",
   "metadata": {},
   "outputs": [
    {
     "name": "stdout",
     "output_type": "stream",
     "text": [
      "[0, 2, 3]\n"
     ]
    }
   ],
   "source": [
    "list_123 = [1, 2, 3]\n",
    "list_123[0] = 0\n",
    "print(list_123)"
   ]
  },
  {
   "cell_type": "markdown",
   "id": "c73fdd2e",
   "metadata": {},
   "source": [
    "리스트만이 가진 또 다른 기능이 있습니다.\n",
    "\n",
    "변수를 한 번 정의해놓고 변수명 뒤에 `.append()`라는 특별한 함수를 뒤에 붙여서 값을 하나씩 추가하거나, `.remove()`를 통해 특정 값을 빼거나, `.pop()`을 통해 특정 순서의 값을 뺄 수 있다는 점입니다."
   ]
  },
  {
   "cell_type": "code",
   "execution_count": 13,
   "id": "e7eaecab",
   "metadata": {},
   "outputs": [
    {
     "name": "stdout",
     "output_type": "stream",
     "text": [
      "[1, 2, 3, 4]\n",
      "[1, 2, 3]\n",
      "[2, 3]\n"
     ]
    }
   ],
   "source": [
    "list_123 = [1, 2, 3]\n",
    "list_123.append(4)\n",
    "print(list_123)\n",
    "\n",
    "list_123.remove(4)\n",
    "print(list_123)\n",
    "\n",
    "list_123.pop(0)\n",
    "print(list_123)"
   ]
  },
  {
   "cell_type": "markdown",
   "id": "4ca376a6",
   "metadata": {},
   "source": [
    "리스트가 쓰기 더 편리한 것 같은데 그럼 **튜플**의 쓸모는 무엇일까?"
   ]
  },
  {
   "cell_type": "markdown",
   "id": "fb871c0f",
   "metadata": {},
   "source": [
    "# 5-20. 자료형 (7) 딕셔너리_dictionary, `dict`\n",
    "***\n",
    "딕셔너리(dictionary)도 값을 여러 개 포함하는 컨테이너 자료형의 일종입니다.\n",
    "\n",
    "리스트와 차이점은 숫자로 된 인덱스를 쓰는 대신, 직접 인덱스를 원하는 대로 지정할 수 있다는 점입니다.\n"
   ]
  },
  {
   "cell_type": "code",
   "execution_count": 14,
   "id": "aa9194e5",
   "metadata": {},
   "outputs": [
    {
     "name": "stdout",
     "output_type": "stream",
     "text": [
      "단테\n"
     ]
    }
   ],
   "source": [
    "conductor = {'first_name': '단테', 'last_name':'안'}\n",
    "print(conductor['first_name'])"
   ]
  },
  {
   "cell_type": "markdown",
   "id": "967775eb",
   "metadata": {},
   "source": [
    "위의 코드에서 `'first_name'`와 `'last_name'`은 각각 인덱스 또는 딕셔너리의 키(key)들이고, `'단테'`와 `'안'`은 각각 해당 키의 값(value)입니다. 문법적으로는 중괄호`({, })` 안에서 쉼표`(,)`로 각 항목`(item)`을 나누고, 항목 별로 쌍점`(:)`을 써서 키와 값을 나눕니다.\n",
    "\n",
    "딕셔너리에 새로운 값을 추가하고 싶다면 그냥 새로운 키를 넣으면 됩니다."
   ]
  },
  {
   "cell_type": "code",
   "execution_count": 15,
   "id": "939fc790",
   "metadata": {},
   "outputs": [
    {
     "name": "stdout",
     "output_type": "stream",
     "text": [
      "{'first_name': '단테', 'last_name': '안', 'gender': 'male'}\n"
     ]
    }
   ],
   "source": [
    "conductor = {'first_name':'단테', 'last_name':'안'}\n",
    "conductor['gender'] = 'male'\n",
    "print(conductor)\n"
   ]
  },
  {
   "cell_type": "markdown",
   "id": "8262fcaf",
   "metadata": {},
   "source": [
    "제거하고 싶다면 리스트와 마찬가지로 `.pop()`을 사용하면 됩니다."
   ]
  },
  {
   "cell_type": "code",
   "execution_count": 16,
   "id": "ddc4a245",
   "metadata": {},
   "outputs": [
    {
     "name": "stdout",
     "output_type": "stream",
     "text": [
      "{'first_name': '단테'}\n"
     ]
    }
   ],
   "source": [
    "conductor = {'first_name':'단테','last_name':'안'}\n",
    "conductor.pop('last_name')\n",
    "print(conductor)"
   ]
  },
  {
   "cell_type": "markdown",
   "id": "408ed7cd",
   "metadata": {},
   "source": [
    "딕셔너리에 `for` 루프문을 사용하면 기본적으로 키값만 돌려줍니다."
   ]
  },
  {
   "cell_type": "code",
   "execution_count": 17,
   "id": "9365a398",
   "metadata": {},
   "outputs": [
    {
     "name": "stdout",
     "output_type": "stream",
     "text": [
      "first_name\n",
      "last_name\n"
     ]
    }
   ],
   "source": [
    "conductor = {'first_name':'단테','last_name':'안'}\n",
    "for key in conductor:\n",
    "    print(key)"
   ]
  },
  {
   "cell_type": "markdown",
   "id": "edf28be5",
   "metadata": {},
   "source": [
    "하지만 `.items()`를 사용해서 키와 값을 둘 다 뽑아올 수도 있습니다."
   ]
  },
  {
   "cell_type": "code",
   "execution_count": 19,
   "id": "10aa6d3f",
   "metadata": {},
   "outputs": [
    {
     "name": "stdout",
     "output_type": "stream",
     "text": [
      "dict_items([('first_name', '단테'), ('last_name', '안')])\n",
      "first_name : 단테\n",
      "last_name : 안\n"
     ]
    }
   ],
   "source": [
    "conductor = {'first_name':'단테','last_name':'안'}\n",
    "print(conductor.items())\n",
    "for key, value in conductor.items():\n",
    "    print(key+ ' : ' + value)\n"
   ]
  },
  {
   "cell_type": "markdown",
   "id": "9f226e69",
   "metadata": {},
   "source": [
    "# 5-21. 마무리하기 🌜\n",
    "***\n",
    "이것으로 <파이썬으로 코딩 시작하기>의 여정이 끝이 났습니다. ⛺\n",
    "\n",
    "앞으로 여러 가지 프로젝트를 탐험하는 데 꼭 필요하고 유용한 도구들을 살펴보았는데요, 어떠셨나요?\n",
    "\n",
    "다음 여정으로 넘어가기 전에 아래 키워드들을 살펴보며 스스로 정리해 보는 시간을 가지시길 추천드립니다."
   ]
  },
  {
   "cell_type": "markdown",
   "id": "04feb464",
   "metadata": {},
   "source": [
    "+ **함수(function)**: 불려진 시점에 특정한 작업을 수행하며, 입력값과 출력값(반환값)을 가질 수 있습니다.  \n",
    "\n",
    "    - 인자(argument): 함수를 호출할 때 전달하는 입력값입니다.    \n",
    "  \n",
    "    + 매개변수(parameter): 함수가 실행될 때 입력값이 들어올 변수입니다.  \n",
    "  \n",
    "    + 반환값(return value): 함수가 종료될 때 호출 지점으로 전달할 출력값입니다.  \n",
    "  \n",
    "  \n",
    "+ **변수(variable)**: 값을 가리키는 이름입니다.      \n",
    "        \n",
    "    + 스코프(scope): 변수가 유효한 범위입니다.  \n"
   ]
  },
  {
   "cell_type": "markdown",
   "id": "b043a63a",
   "metadata": {},
   "source": [
    "* **연산자(operator)**: 주어진 값들에 대해 정해진 연산을 수행합니다.\n",
    "    * 수리 연산자(mathematical operator): +, -, *, /, //, **\n",
    "    * 비교 연산자(comparison operator): ==, !=, <, >, <=, >=, is\n",
    "    * 논리 연산자(logical operator): and, or\n",
    "    * 소속 연산자(membership operator): in  \n",
    "      \n",
    "      \n",
    "* **제어문(control statements)**: 코드 블록의 흐름(실행 여부, 반복)을 제어합니다. \n",
    "\n",
    "    * if: 명제가 참이면 실행합니다.\n",
    "    * else: if 명제 이외의 경우에 실행합니다.\n",
    "    * elif: if 명제 이외의 경우에 또 다른 명제가 참일 경우에 실행합니다.\n",
    "    * while: 명제가 참일 동안 반복합니다.\n",
    "    * for: 주어진 값들 하나씩 반복합니다.\n",
    "    \n",
    "    \n",
    "* **자료형(data types)**: 값들의 종류를 나타냅니다.\n",
    "    * 정수(int), 부동소수점 수(float), 불리언(bool), 문자열(str), 튜플(tuple), 리스트(list), 딕셔너리(dict)\n"
   ]
  },
  {
   "cell_type": "code",
   "execution_count": null,
   "id": "830ca235",
   "metadata": {},
   "outputs": [],
   "source": []
  }
 ],
 "metadata": {
  "kernelspec": {
   "display_name": "Python 3 (ipykernel)",
   "language": "python",
   "name": "python3"
  },
  "language_info": {
   "codemirror_mode": {
    "name": "ipython",
    "version": 3
   },
   "file_extension": ".py",
   "mimetype": "text/x-python",
   "name": "python",
   "nbconvert_exporter": "python",
   "pygments_lexer": "ipython3",
   "version": "3.9.7"
  }
 },
 "nbformat": 4,
 "nbformat_minor": 5
}

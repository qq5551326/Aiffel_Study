{
 "cells": [
  {
   "cell_type": "markdown",
   "id": "959eb77a",
   "metadata": {},
   "source": [
    "<br><br>\n",
    "\n",
    "***\n",
    "\n",
    "### 1. McCulloch-Pitts 모델\n",
    "\n",
    "1. 입력 신호에 해당하는 `x1`과 `x2`는 사용자 입력을 받는다\n",
    "2. 뉴런을 흥분(exited) 되게 하는 시냅스 수(𝜃) 변수명은 `theta`로 하고 사용자 입력으로 받는다\n",
    "\n",
    "\n",
    "1. 입력 신호 `x1`과 `x2`는 0 또는 1의 값 만을 가지며, 그 외의 값이 입력될 경우 ‘입력 신호는 반드시 0 또는 1 입니다’를 출력한다\n",
    "2. 뉴런을 흥분 되게 하는 시냅스 수는 0 이상의 값 만을 가지며, 그 외의 값이 입력될 경우 ‘theta는 반드시 0 이상의 값 만을 가집니다＇를 출력한다\n",
    "3. 입력 신호 및 theta의 조건을 충족할 경우, 멕컬럭-피츠 모델에 의한 y 값을 출력한다\n"
   ]
  },
  {
   "cell_type": "code",
   "execution_count": 28,
   "id": "2f314378",
   "metadata": {},
   "outputs": [
    {
     "name": "stdout",
     "output_type": "stream",
     "text": [
      "1\n",
      "1\n",
      "2\n",
      "1\n"
     ]
    }
   ],
   "source": [
    "x1=int(input())\n",
    "x2=int(input())\n",
    "theta=int(input())\n",
    "\n",
    "if  (x1 ==0 or x1== 1) and (x2 == 0 or x2 ==1) :\n",
    "    if theta >= 0 and theta <= x1+ x2 :\n",
    "        print(1)\n",
    "    else:\n",
    "        print(0)\n",
    "elif theta < 0:\n",
    "    print('theta는 반드시 0이상의 값 만을 가집니다.')\n",
    "else:\n",
    "    print('입력 신호는 반드시 0 또는 1 입니다.')"
   ]
  },
  {
   "cell_type": "markdown",
   "id": "5054f99c",
   "metadata": {},
   "source": [
    "<br><br>\n",
    "\n",
    "### 2. Hebbian의 학습 규칙\n",
    "\n",
    "1. 가중치에 해당하는 `w1`과 `w2`의 초기값은 1. 이다\n",
    "2. 학습률에 해당하는 `γ`는 `gamma`로 명하고 초기값은 0.5로 둔다\n",
    "3. 뉴런을 흥분(exited) 되게 하는 시냅스 수(𝜃) 변수명은 `theta`로 하고 초기값은 2로 둔다\n",
    "\n",
    "\n",
    "1. 연결강화의 변화를 확인하기 위해 5회 반복한다\n",
    "2. 매번 입력신호를 사용자로부터 받는다\n",
    "3. 매번 `출력값`과 가중치인 `w1`과 `w2`의 값을 출력한다"
   ]
  },
  {
   "cell_type": "code",
   "execution_count": 34,
   "id": "bd56ffed",
   "metadata": {},
   "outputs": [
    {
     "name": "stdout",
     "output_type": "stream",
     "text": [
      "1\n",
      "1\n",
      "y: 1, w1: 1.5, w2: 1.5\n",
      "0\n",
      "0\n",
      "y: 0, w1: 1.5, w2: 1.5\n",
      "1\n",
      "1\n",
      "y: 1, w1: 2.0, w2: 2.0\n",
      "1\n",
      "0\n",
      "y: 1, w1: 2.5, w2: 2.0\n",
      "1\n",
      "0\n",
      "y: 1, w1: 3.0, w2: 2.0\n"
     ]
    }
   ],
   "source": [
    "w1 = 1.0\n",
    "w2 = 1.0\n",
    "gamma = 0.5\n",
    "theta = 2\n",
    "for i in range(5):\n",
    "    x1=int(input())\n",
    "    x2=int(input())\n",
    "    \n",
    "    o = x1 * w1 + x2 * w2\n",
    "    if o >= theta:\n",
    "        y = 1\n",
    "    else:\n",
    "        y = 0\n",
    "    \n",
    "    w1 = w1+gamma*x1*y\n",
    "    w2 = w2+gamma*x2*y\n",
    "    print(f'y: {y}, w1: {w1}, w2: {w2}')\n"
   ]
  },
  {
   "cell_type": "markdown",
   "id": "32b17e76",
   "metadata": {},
   "source": [
    "<br><br>\n",
    "\n",
    "### 3. Frank Rosenblatt의 퍼셉트론\n",
    "\n",
    "1. 입력 신호에 해당하는 `x1`과 `x2`는 사용자 입력을 받는다\n",
    "2. 가중치에 해당하는 `w1`과 `w2`는 사용자 입력을 받는다\n",
    "3. 편향에 해당하는 `b1`은 사용자 입력을 받는다 \n",
    "\n",
    "\n",
    "1. 입력 신호 `x1`과 `x2`는 0 또는 1의 값 만을 가지며, 그 외의 값이 입력될 경우 ‘입력 신호는 반드시 0 또는 1 입니다’를 출력한다\n",
    "2. 가중치에 해당하는 `w1`과 `w2`, 편향에 해당하는 `b1`은 -∞에서 +∞의 값을 가진다\n",
    "3. 입력 신호의 조건을 충족할 경우, Frank Rosenblatt의 퍼셉트론에 의한 y 값을 출력한다"
   ]
  },
  {
   "cell_type": "code",
   "execution_count": 37,
   "id": "86256930",
   "metadata": {
    "scrolled": true
   },
   "outputs": [
    {
     "name": "stdout",
     "output_type": "stream",
     "text": [
      "1\n",
      "1\n",
      "1.2\n",
      "1.2\n",
      "-2\n",
      "1\n",
      "p: 0.3999999999999999\n"
     ]
    }
   ],
   "source": [
    "x1 = int(input())\n",
    "x2 = int(input())\n",
    "w1 = float(input())\n",
    "w2 = float(input())\n",
    "b1 = float(input())\n",
    "\n",
    "p = x1 * w1 + x2 * w2 +b1\n",
    "if (x1 ==0 or x1 == 1) and (x2 == 0 or x2 == 1):\n",
    "    if p >= 0:\n",
    "        print(1)\n",
    "    else:\n",
    "        print(0)\n",
    "print('p:', p)    "
   ]
  },
  {
   "cell_type": "markdown",
   "id": "c5bd8188",
   "metadata": {},
   "source": [
    "<br><br>\n",
    "\n",
    "### 4. Frank Rosenblatt의 퍼셉트론\n",
    "\n",
    "1. 앞서 만든 `Frank Rosenblatt 퍼셉트론`을 `OR 게이트`로 만들 수 있는 가중치(w1, w2)와 편향(b1) 값을 제시하라\n",
    "\n",
    "2. 앞서 만든 `Frank Rosenblatt 퍼셉트론`을 `AND 게이트`로 만들 수 있는 가중치(w1, w2)와 편향(b1) 값을 제시하라\n",
    "\n",
    "3. 앞서 만든 `Frank Rosenblatt 퍼셉트론`을 `XOR 게이트`로 만들 수 있는 가중치(w1, w2)와 편향(b1) 값을 제시하라"
   ]
  },
  {
   "cell_type": "code",
   "execution_count": null,
   "id": "e0f53fe6",
   "metadata": {},
   "outputs": [],
   "source": []
  }
 ],
 "metadata": {
  "kernelspec": {
   "display_name": "Python 3 (ipykernel)",
   "language": "python",
   "name": "python3"
  },
  "language_info": {
   "codemirror_mode": {
    "name": "ipython",
    "version": 3
   },
   "file_extension": ".py",
   "mimetype": "text/x-python",
   "name": "python",
   "nbconvert_exporter": "python",
   "pygments_lexer": "ipython3",
   "version": "3.9.7"
  }
 },
 "nbformat": 4,
 "nbformat_minor": 5
}

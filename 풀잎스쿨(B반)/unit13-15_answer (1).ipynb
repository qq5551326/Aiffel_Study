{
 "cells": [
  {
   "cell_type": "markdown",
   "id": "d35ff75a",
   "metadata": {},
   "source": [
    "## Unit 13 ~ 15 예제 문제"
   ]
  },
  {
   "cell_type": "markdown",
   "id": "5ef95656",
   "metadata": {},
   "source": [
    "***\n",
    "\n",
    "<br><br>\n",
    "\n",
    "### 1\n",
    "\n",
    "사용자로부터 입력받은 문자열을 두 번 출력하라. 아래는 사용자가 \"안녕하세요\"를 입력한 경우의 출력 결과이다.\n",
    "\n",
    "```python\n",
    ">> 안녕하세요\n",
    "안녕하세요안녕하세요\n",
    "```\n",
    "***"
   ]
  },
  {
   "cell_type": "code",
   "execution_count": 1,
   "id": "41762533",
   "metadata": {},
   "outputs": [
    {
     "name": "stdout",
     "output_type": "stream",
     "text": [
      "안녕하세요안녕하세요\n"
     ]
    }
   ],
   "source": [
    "print('안녕하세요'*2)"
   ]
  },
  {
   "cell_type": "markdown",
   "id": "022c84a2",
   "metadata": {},
   "source": [
    "***\n",
    "\n",
    "<br><br>\n",
    "\n",
    "### 2\n",
    "\n",
    "사용자로부터 하나의 숫자를 입력 받고 짝수/홀수를 판별하라.\n",
    "\n",
    "```python\n",
    ">> 30\n",
    "짝수\n",
    "```"
   ]
  },
  {
   "cell_type": "code",
   "execution_count": 3,
   "id": "76a3b10f",
   "metadata": {},
   "outputs": [
    {
     "name": "stdout",
     "output_type": "stream",
     "text": [
      "5\n",
      "홀수\n"
     ]
    }
   ],
   "source": [
    "user_input = int(input())\n",
    "\n",
    "if user_input % 2 == 0:\n",
    "    print('짝수')\n",
    "else:\n",
    "    print('홀수')"
   ]
  },
  {
   "cell_type": "markdown",
   "id": "fb484bfe",
   "metadata": {},
   "source": [
    "***\n",
    "\n",
    "<br><br>\n",
    "\n",
    "### 3\n",
    "\n",
    "사용자로부터 하나의 값을 입력받은 후 해당 값에 20을 뺀 값을 출력하라. 단 출력 값의 범위는 0~255이다. 예를 들어 결괏값이 0보다 작은 값이되는 경우 0을 출력하고 255보다 큰 값이 되는 경우 255를 출력해야 한다.\n",
    "\n",
    "```python\n",
    ">> 입력값: 200\n",
    "출력값: 180\n",
    "    \n",
    ">> 입력값: 15\n",
    "출력값: 0  \n",
    "```"
   ]
  },
  {
   "cell_type": "code",
   "execution_count": 7,
   "id": "424369ea",
   "metadata": {},
   "outputs": [
    {
     "name": "stdout",
     "output_type": "stream",
     "text": [
      "50\n",
      "30\n"
     ]
    }
   ],
   "source": [
    "user_input = int(input())\n",
    "\n",
    "user_input = max(0, user_input)\n",
    "user_input = min(255, user_input)\n",
    "\n",
    "print(user_input - 20)"
   ]
  },
  {
   "cell_type": "markdown",
   "id": "5617f0a4",
   "metadata": {},
   "source": [
    "***\n",
    "\n",
    "<br><br>\n",
    "\n",
    "### 4\n",
    "\n",
    "사용자로부터 하나의 값을 입력받은 후 해당 값에 20을 뺀 값을 출력하라. 단 출력 값의 범위는 0~255이다. 예를 들어 결괏값이 0보다 작은 값이되는 경우 0을 출력하고 255보다 큰 값이 되는 경우 255를 출력해야 한다.\n",
    "\n",
    "```python\n",
    ">> 입력값: 200\n",
    "출력값: 180\n",
    "    \n",
    ">> 입력값: 15\n",
    "출력값: 0  \n",
    "```"
   ]
  },
  {
   "cell_type": "code",
   "execution_count": 1,
   "id": "47528402",
   "metadata": {},
   "outputs": [
    {
     "name": "stdout",
     "output_type": "stream",
     "text": [
      "-50\n",
      "0\n"
     ]
    }
   ],
   "source": [
    "user_input = int(input()) - 20\n",
    "\n",
    "user_input = min(255, user_input)\n",
    "user_input = max(0, user_input)\n",
    "\n",
    "print(user_input)"
   ]
  },
  {
   "cell_type": "markdown",
   "id": "16d926c4",
   "metadata": {},
   "source": [
    "***\n",
    "\n",
    "<br><br>\n",
    "\n",
    "### 5\n",
    "\n",
    "사용자로 입력받은 단어가 아래 fruit 리스트에 포함되어 있는지를 확인하라. 포함되었다면 \"정답입니다\"를 아닐 경우 \"오답입니다\" 출력하라.\n",
    "\n",
    "```python\n",
    "fruit = [\"사과\", \"포도\", \"홍시\"]\n",
    "\n",
    ">> 좋아하는 과일은? 사과\n",
    "정답입니다.\n",
    "```"
   ]
  },
  {
   "cell_type": "code",
   "execution_count": 8,
   "id": "fd4f2d4b",
   "metadata": {},
   "outputs": [
    {
     "name": "stdout",
     "output_type": "stream",
     "text": [
      "한라봉\n",
      "오답입니다\n"
     ]
    }
   ],
   "source": [
    "fruit = [\"사과\", \"포도\", \"홍시\"]\n",
    "\n",
    "user_input = input()\n",
    "\n",
    "if user_input in fruit:\n",
    "    print('정답입니다')\n",
    "else:\n",
    "    print('오답입니다')"
   ]
  },
  {
   "cell_type": "markdown",
   "id": "4e1f0593",
   "metadata": {},
   "source": [
    "***\n",
    "\n",
    "<br><br>\n",
    "\n",
    "### 6\n",
    "\n",
    "아래와 같이 fruit 딕셔너리가 정의되어 있다. 사용자가 입력한 값이 딕셔너리 값 (value)에 포함되었다면 \"정답입니다\"를 아닐 경우 \"오답입니다\" 출력하라.\n",
    "\n",
    "```python\n",
    "fruit = {\"봄\" : \"딸기\", \"여름\" : \"토마토\", \"가을\" : \"사과\"}\n",
    "\n",
    ">> 좋아하는과일은? 한라봉\n",
    "오답입니다.\n",
    "```"
   ]
  },
  {
   "cell_type": "code",
   "execution_count": 10,
   "id": "dd9271e7",
   "metadata": {},
   "outputs": [
    {
     "name": "stdout",
     "output_type": "stream",
     "text": [
      "원숭이\n",
      "오답입니다\n"
     ]
    }
   ],
   "source": [
    "fruit = {\"봄\" : \"딸기\", \"여름\" : \"토마토\", \"가을\" : \"사과\"}\n",
    "\n",
    "user_input = input()\n",
    "\n",
    "if user_input in fruit.values():\n",
    "    print('정답입니다')\n",
    "else:\n",
    "    print('오답입니다')"
   ]
  },
  {
   "cell_type": "markdown",
   "id": "c733290d",
   "metadata": {},
   "source": [
    "***\n",
    "\n",
    "<br><br>\n",
    "\n",
    "### 7\n",
    "\n",
    "사용자로부터 세 개의 숫자를 입력 받은 후 가장 큰 숫자를 출력하라.\n",
    "\n",
    "```python\n",
    ">> input number1: 10\n",
    ">> input number2: 9\n",
    ">> input number3: 20\n",
    "20\n",
    "```"
   ]
  },
  {
   "cell_type": "code",
   "execution_count": 12,
   "id": "c445ce84",
   "metadata": {},
   "outputs": [
    {
     "name": "stdout",
     "output_type": "stream",
     "text": [
      "number1: 50\n",
      "number2: 10\n",
      "number3: 100\n",
      "100\n"
     ]
    }
   ],
   "source": [
    "x1 = int(input('number1: '))\n",
    "x2 = int(input('number2: '))\n",
    "x3 = int(input('number3: '))\n",
    "\n",
    "print(max(x1, x2, x3))"
   ]
  },
  {
   "cell_type": "markdown",
   "id": "0f47e88e",
   "metadata": {},
   "source": [
    "***\n",
    "\n",
    "<br><br>\n",
    "\n",
    "### 8\n",
    "\n",
    "휴대폰 번호 앞자리에 따라 통신사는 아래와 같이 구분된다. 사용자로부터 휴대전화 번호를 입력 받고, 통신사를 출력하는 프로그램을 작성하라.\n",
    "\n",
    "|번호|통신사|\n",
    "|--|--|\n",
    "|011|SKT|\n",
    "|016|KT|\n",
    "|019|LGU|\n",
    "|010|알수없음|\n",
    "\n",
    "```python\n",
    ">> 휴대전화 번호 입력: 011-345-1922\n",
    "당신은 SKT 사용자입니다.\n",
    "```"
   ]
  },
  {
   "cell_type": "code",
   "execution_count": 15,
   "id": "4bb15aa7",
   "metadata": {},
   "outputs": [
    {
     "name": "stdout",
     "output_type": "stream",
     "text": [
      "011-3555-2333\n",
      "당신은 SKT 사용자입니다.\n"
     ]
    }
   ],
   "source": [
    "user_input = input().split('-')[0]\n",
    "\n",
    "if user_input == '011':\n",
    "    print('당신은 SKT 사용자입니다.')\n",
    "elif user_input == '016':\n",
    "    print('당신은 KT 사용자입니다.')\n",
    "elif user_input == '019':\n",
    "    print('당신은 LGU 사용자입니다.')\n",
    "else:\n",
    "    print('당신은 알수없음 사용자입니다')"
   ]
  },
  {
   "cell_type": "markdown",
   "id": "ec58432d",
   "metadata": {},
   "source": [
    "***\n",
    "\n",
    "<br><br>\n",
    "\n",
    "### 9\n",
    "\n",
    "주민등록번호의 뒷 자리 7자리 중 두번째와 세번째는 지역코드를 의미한다. 주민 등록 번호를 입력 받은 후 출생지가 서울인지 아닌지 판단하는 코드를 작성하라\n",
    "\n",
    "|지역코드|출생지|\n",
    "|--|--|\n",
    "|00 ~ 08|서울|\n",
    "|09 ~ 12|부산|\n",
    "\n",
    "\n",
    "```python\n",
    ">> 주민등록번호: 821010-1635210\n",
    "서울이 아닙니다.\n",
    "\n",
    ">> 주민등록번호: 861010-1015210\n",
    "서울 입니다.\n",
    "```"
   ]
  },
  {
   "cell_type": "code",
   "execution_count": 3,
   "id": "0ce15c4f",
   "metadata": {},
   "outputs": [
    {
     "name": "stdout",
     "output_type": "stream",
     "text": [
      "861010-1015210\n",
      "서울 입니다.\n"
     ]
    }
   ],
   "source": [
    "user_input = input().split('-')[1]\n",
    "user_input = int(user_input[1:3])\n",
    "\n",
    "if user_input < 9:\n",
    "    print('서울 입니다.')\n",
    "else:\n",
    "    print('서울이 아닙니다.')"
   ]
  }
 ],
 "metadata": {
  "kernelspec": {
   "display_name": "Python 3 (ipykernel)",
   "language": "python",
   "name": "python3"
  },
  "language_info": {
   "codemirror_mode": {
    "name": "ipython",
    "version": 3
   },
   "file_extension": ".py",
   "mimetype": "text/x-python",
   "name": "python",
   "nbconvert_exporter": "python",
   "pygments_lexer": "ipython3",
   "version": "3.9.7"
  }
 },
 "nbformat": 4,
 "nbformat_minor": 5
}

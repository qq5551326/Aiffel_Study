{
 "cells": [
  {
   "cell_type": "code",
   "execution_count": 14,
   "id": "e0e09edb",
   "metadata": {},
   "outputs": [
    {
     "name": "stdout",
     "output_type": "stream",
     "text": [
      "True\n",
      "True\n",
      "True\n",
      "False\n",
      "139850218806720 139850218806720 139849916990528\n"
     ]
    }
   ],
   "source": [
    "a = [0,0,0,0,0]\n",
    "b = a\n",
    "print(a == b)\n",
    "print(a is b)\n",
    "c = a.copy()\n",
    "print(c ==a)\n",
    "print(c is a)\n",
    "print(id(a),id(b),id(c))\n"
   ]
  },
  {
   "cell_type": "code",
   "execution_count": 37,
   "id": "b7c10a2b",
   "metadata": {},
   "outputs": [
    {
     "name": "stdout",
     "output_type": "stream",
     "text": [
      "{'grape', 'cherry', 'pineapple', 'strawberry', 'orange'}\n"
     ]
    },
    {
     "data": {
      "text/plain": [
       "{'cherry', 'grape', 'orange', 'pineapple', 'strawberry'}"
      ]
     },
     "execution_count": 37,
     "metadata": {},
     "output_type": "execute_result"
    }
   ],
   "source": [
    "fruit = {'strawberry','grape','orange','pineapple','cherry'}\n",
    "print(fruit)\n",
    "fruit"
   ]
  },
  {
   "cell_type": "code",
   "execution_count": 44,
   "id": "277f0488",
   "metadata": {},
   "outputs": [
    {
     "data": {
      "text/plain": [
       "True"
      ]
     },
     "execution_count": 44,
     "metadata": {},
     "output_type": "execute_result"
    }
   ],
   "source": [
    "fruit = {'orange','orange','cherry'}\n",
    "fruit\n",
    "'orange' in fruit\n",
    "'ss' not in fruit"
   ]
  },
  {
   "cell_type": "code",
   "execution_count": 46,
   "id": "3e351a7f",
   "metadata": {},
   "outputs": [
    {
     "data": {
      "text/plain": [
       "{'a', 'e', 'l', 'p'}"
      ]
     },
     "execution_count": 46,
     "metadata": {},
     "output_type": "execute_result"
    }
   ],
   "source": [
    "a = set('apple')\n",
    "a"
   ]
  },
  {
   "cell_type": "code",
   "execution_count": 49,
   "id": "4418f88d",
   "metadata": {},
   "outputs": [
    {
     "data": {
      "text/plain": [
       "{0, 1, 2, 3, 4}"
      ]
     },
     "execution_count": 49,
     "metadata": {},
     "output_type": "execute_result"
    }
   ],
   "source": [
    "b = set(range(5))\n",
    "b"
   ]
  },
  {
   "cell_type": "code",
   "execution_count": 50,
   "id": "bcf07d93",
   "metadata": {},
   "outputs": [
    {
     "data": {
      "text/plain": [
       "set()"
      ]
     },
     "execution_count": 50,
     "metadata": {},
     "output_type": "execute_result"
    }
   ],
   "source": [
    "c = set()\n",
    "c"
   ]
  }
 ],
 "metadata": {
  "kernelspec": {
   "display_name": "Python 3 (ipykernel)",
   "language": "python",
   "name": "python3"
  },
  "language_info": {
   "codemirror_mode": {
    "name": "ipython",
    "version": 3
   },
   "file_extension": ".py",
   "mimetype": "text/x-python",
   "name": "python",
   "nbconvert_exporter": "python",
   "pygments_lexer": "ipython3",
   "version": "3.9.7"
  }
 },
 "nbformat": 4,
 "nbformat_minor": 5
}

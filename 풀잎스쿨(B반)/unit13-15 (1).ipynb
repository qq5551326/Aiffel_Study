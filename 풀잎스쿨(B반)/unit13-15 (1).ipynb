{
 "cells": [
  {
   "cell_type": "markdown",
   "id": "102334a9",
   "metadata": {},
   "source": [
    "## Unit 13 ~ 15 예제 문제"
   ]
  },
  {
   "cell_type": "markdown",
   "id": "7f35445e",
   "metadata": {},
   "source": [
    "***\n",
    "\n",
    "<br><br>\n",
    "\n",
    "### 1\n",
    "\n",
    "사용자로부터 입력받은 문자열을 두 번 출력하라. 아래는 사용자가 \"안녕하세요\"를 입력한 경우의 출력 결과이다.\n",
    "\n",
    "```python\n",
    ">> 안녕하세요\n",
    "안녕하세요안녕하세요\n",
    "```\n",
    "***"
   ]
  },
  {
   "cell_type": "code",
   "execution_count": 1,
   "id": "293bf50d",
   "metadata": {},
   "outputs": [
    {
     "name": "stdout",
     "output_type": "stream",
     "text": [
      "안녕하세요\n",
      "안녕하세요안녕하세요"
     ]
    }
   ],
   "source": [
    "x = input()\n",
    "for i in range(2):\n",
    "    print(x, end=\"\")"
   ]
  },
  {
   "cell_type": "markdown",
   "id": "d76d3bb0",
   "metadata": {},
   "source": [
    "***\n",
    "\n",
    "<br><br>\n",
    "\n",
    "### 2\n",
    "\n",
    "사용자로부터 하나의 숫자를 입력 받고 짝수/홀수를 판별하라.\n",
    "\n",
    "```python\n",
    ">> 30\n",
    "짝수\n",
    "```"
   ]
  },
  {
   "cell_type": "code",
   "execution_count": 4,
   "id": "1fc29c94",
   "metadata": {},
   "outputs": [
    {
     "name": "stdout",
     "output_type": "stream",
     "text": [
      "0\n",
      "짝수\n"
     ]
    }
   ],
   "source": [
    "x = int(input())\n",
    "if x % 2 == 0:\n",
    "    print('짝수')\n",
    "else:\n",
    "    print(\"홀수\")"
   ]
  },
  {
   "cell_type": "markdown",
   "id": "8700de15",
   "metadata": {},
   "source": [
    "***\n",
    "\n",
    "<br><br>\n",
    "\n",
    "### 3\n",
    "\n",
    "사용자로부터 하나의 값을 입력받은 후 해당 값에 20을 뺀 값을 출력하라. 단 출력 값의 범위는 0~255이다. 예를 들어 결괏값이 0보다 작은 값이되는 경우 0을 출력하고 255보다 큰 값이 되는 경우 255를 출력해야 한다.\n",
    "\n",
    "```python\n",
    ">> 입력값: 200\n",
    "출력값: 180\n",
    "    \n",
    ">> 입력값: 15\n",
    "출력값: 0  \n",
    "```"
   ]
  },
  {
   "cell_type": "code",
   "execution_count": 11,
   "id": "46e9f888",
   "metadata": {},
   "outputs": [
    {
     "name": "stdout",
     "output_type": "stream",
     "text": [
      "19\n",
      "0\n"
     ]
    }
   ],
   "source": [
    "x = int(input())\n",
    "if  0 <= x-20 <= 255:\n",
    "    print(x-20)\n",
    "    \n",
    "elif 0 > x-20:\n",
    "    print(0)\n",
    "elif 255 < x-20:\n",
    "    print(255)"
   ]
  },
  {
   "cell_type": "markdown",
   "id": "638b2993",
   "metadata": {},
   "source": [
    "***\n",
    "\n",
    "<br><br>\n",
    "\n",
    "### 4\n",
    "\n",
    "사용자로부터 하나의 값을 입력받은 후 해당 값에 20을 뺀 값을 출력하라. 단 출력 값의 범위는 0~255이다. 예를 들어 결괏값이 0보다 작은 값이되는 경우 0을 출력하고 255보다 큰 값이 되는 경우 255를 출력해야 한다.\n",
    "\n",
    "```python\n",
    ">> 입력값: 200\n",
    "출력값: 180\n",
    "    \n",
    ">> 입력값: 15\n",
    "출력값: 0  \n",
    "```"
   ]
  },
  {
   "cell_type": "code",
   "execution_count": null,
   "id": "fc42df88",
   "metadata": {},
   "outputs": [],
   "source": [
    "x = int(input())\n",
    "if   0 <= x-20 <= 255:\n",
    "    print(x-20)\n",
    "    "
   ]
  },
  {
   "cell_type": "markdown",
   "id": "5fcf9b2b",
   "metadata": {},
   "source": [
    "***\n",
    "\n",
    "<br><br>\n",
    "\n",
    "### 5\n",
    "\n",
    "사용자로 입력받은 단어가 아래 fruit 리스트에 포함되어 있는지를 확인하라. 포함되었다면 \"정답입니다\"를 아닐 경우 \"오답입니다\" 출력하라.\n",
    "\n",
    "```python\n",
    "fruit = [\"사과\", \"포도\", \"홍시\"]\n",
    "\n",
    ">> 좋아하는 과일은? 사과\n",
    "정답입니다.\n",
    "```"
   ]
  },
  {
   "cell_type": "code",
   "execution_count": 22,
   "id": "02bf1790",
   "metadata": {},
   "outputs": [
    {
     "name": "stdout",
     "output_type": "stream",
     "text": [
      "좋아하는 과일은? 아나 하바\n",
      "오답입니다.\n"
     ]
    }
   ],
   "source": [
    "fruit = ['사과', '포도', '홍시']\n",
    "x = input('좋아하는 과일은? ')\n",
    "if x in fruit:\n",
    "    print(\"정답입니다.\")\n",
    "else:\n",
    "    print(\"오답입니다.\")"
   ]
  },
  {
   "cell_type": "markdown",
   "id": "1bc799ec",
   "metadata": {},
   "source": [
    "***\n",
    "\n",
    "<br><br>\n",
    "\n",
    "### 6\n",
    "\n",
    "아래와 같이 fruit 딕셔너리가 정의되어 있다. 사용자가 입력한 값이 딕셔너리 값 (value)에 포함되었다면 \"정답입니다\"를 아닐 경우 \"오답입니다\" 출력하라.\n",
    "\n",
    "```python\n",
    "fruit = {\"봄\" : \"딸기\", \"여름\" : \"토마토\", \"가을\" : \"사과\"}\n",
    "\n",
    ">> 좋아하는과일은? 한라봉\n",
    "오답입니다.\n",
    "```"
   ]
  },
  {
   "cell_type": "code",
   "execution_count": 52,
   "id": "1f942bfe",
   "metadata": {},
   "outputs": [
    {
     "name": "stdout",
     "output_type": "stream",
     "text": [
      "좋아하는 과일은?사과\n",
      "정답입니다\n"
     ]
    }
   ],
   "source": [
    "fruit = {'봄': '딸기', '여름':'토마토','가을' :'사과'}\n",
    "x = input('좋아하는 과일은?')\n",
    "if x in fruit.values():\n",
    "    print('정답입니다')\n",
    "else:\n",
    "    print('오답입니다.')\n",
    "    "
   ]
  },
  {
   "cell_type": "markdown",
   "id": "81ced4c0",
   "metadata": {},
   "source": [
    "***\n",
    "\n",
    "<br><br>\n",
    "\n",
    "### 7\n",
    "\n",
    "사용자로부터 세 개의 숫자를 입력 받은 후 가장 큰 숫자를 출력하라.\n",
    "\n",
    "```python\n",
    ">> input number1: 10\n",
    ">> input number2: 9\n",
    ">> input number3: 20\n",
    "20\n",
    "```"
   ]
  },
  {
   "cell_type": "code",
   "execution_count": 27,
   "id": "933c8cfa",
   "metadata": {},
   "outputs": [
    {
     "name": "stdout",
     "output_type": "stream",
     "text": [
      "number1:10 \n",
      "number2:6\n",
      "number3:2\n",
      "10\n"
     ]
    }
   ],
   "source": [
    "number1 = int(input('number1:'))\n",
    "number2 = int(input('number2:'))\n",
    "number3 = int(input('number3:'))\n",
    "\n",
    "if number1 > number2 and number1 > number3:\n",
    "    print(number1)\n",
    "if number2 > number1 and number2 > number3:\n",
    "    print(number2)\n",
    "if number3 > number2 and number3 > number1:\n",
    "    print(number3)\n"
   ]
  },
  {
   "cell_type": "markdown",
   "id": "8e716336",
   "metadata": {},
   "source": [
    "***\n",
    "\n",
    "<br><br>\n",
    "\n",
    "### 8\n",
    "\n",
    "휴대폰 번호 앞자리에 따라 통신사는 아래와 같이 구분된다. 사용자로부터 휴대전화 번호를 입력 받고, 통신사를 출력하는 프로그램을 작성하라.\n",
    "\n",
    "|번호|통신사|\n",
    "|--|--|\n",
    "|011|SKT|\n",
    "|016|KT|\n",
    "|019|LGU|\n",
    "|010|알수없음|\n",
    "\n",
    "```python\n",
    ">> 휴대전화 번호 입력: 011-345-1922\n",
    "당신은 SKT 사용자입니다.\n",
    "```"
   ]
  },
  {
   "cell_type": "code",
   "execution_count": 38,
   "id": "3b00415d",
   "metadata": {},
   "outputs": [
    {
     "name": "stdout",
     "output_type": "stream",
     "text": [
      "휴대전호 번호 입력: 010\n",
      "알수없음\n"
     ]
    }
   ],
   "source": [
    "number = int(input('휴대전호 번호 입력: '))\n",
    "if number == int('011'):\n",
    "    print('당신은 SKT 사용자입니다.')\n",
    "elif number == int('016'):\n",
    "    print('당신은 KT 사용자입니다.')\n",
    "elif number == int('019'):\n",
    "    print('당신은 LGU 사용자입니다.')\n",
    "elif number == int('010'):\n",
    "    print('알수없음')"
   ]
  },
  {
   "cell_type": "markdown",
   "id": "10019d30",
   "metadata": {},
   "source": [
    "***\n",
    "\n",
    "<br><br>\n",
    "\n",
    "### 9\n",
    "\n",
    "주민등록번호의 뒷 자리 7자리 중 두번째와 세번째는 지역코드를 의미한다. 주민 등록 번호를 입력 받은 후 출생지가 서울인지 아닌지 판단하는 코드를 작성하라\n",
    "\n",
    "|지역코드|출생지|\n",
    "|--|--|\n",
    "|00 ~ 08|서울|\n",
    "|09 ~ 12|부산|\n",
    "\n",
    "\n",
    "```python\n",
    ">> 주민등록번호: 821010-1635210\n",
    "서울이 아닙니다.\n",
    "\n",
    ">> 주민등록번호: 861010-1015210\n",
    "서울 입니다.\n",
    "```"
   ]
  },
  {
   "cell_type": "code",
   "execution_count": 46,
   "id": "399deebf",
   "metadata": {},
   "outputs": [
    {
     "name": "stdout",
     "output_type": "stream",
     "text": [
      "주민등록번호: 861010-1015210\n",
      "서울 입니다.\n",
      "01\n"
     ]
    }
   ],
   "source": [
    "x = input('주민등록번호: ')\n",
    "if   0 == int(x[8]):\n",
    "    if 0 <= int(x[9]) <= 8:\n",
    "        print('서울 입니다.')\n",
    "else:\n",
    "    print('서울이 아닙니다.')\n",
    "print(x[8:10])"
   ]
  }
 ],
 "metadata": {
  "kernelspec": {
   "display_name": "Python 3 (ipykernel)",
   "language": "python",
   "name": "python3"
  },
  "language_info": {
   "codemirror_mode": {
    "name": "ipython",
    "version": 3
   },
   "file_extension": ".py",
   "mimetype": "text/x-python",
   "name": "python",
   "nbconvert_exporter": "python",
   "pygments_lexer": "ipython3",
   "version": "3.9.7"
  }
 },
 "nbformat": 4,
 "nbformat_minor": 5
}

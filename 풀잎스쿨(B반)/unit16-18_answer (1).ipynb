{
 "cells": [
  {
   "cell_type": "markdown",
   "id": "9ef6a47d",
   "metadata": {},
   "source": [
    "## Unit 16 ~ 18 예제 문제"
   ]
  },
  {
   "cell_type": "markdown",
   "id": "453d8cfc",
   "metadata": {},
   "source": [
    "***\n",
    "\n",
    "<br><br>\n",
    "\n",
    "### 1\n",
    "\n",
    "다음과 같이 판매가가 저장된 리스트가 있을 때 부가세가 포함된 가격을 for 문을 사용해서 화면에 출력하라. 단 부가세는 10원으로 가정한다.\n",
    "\n",
    "```python\n",
    "리스트 = [100, 200, 300]\n",
    "110\n",
    "210\n",
    "310\n",
    "```\n",
    "***"
   ]
  },
  {
   "cell_type": "code",
   "execution_count": 1,
   "id": "82a29dda",
   "metadata": {},
   "outputs": [
    {
     "name": "stdout",
     "output_type": "stream",
     "text": [
      "110\n",
      "210\n",
      "310\n"
     ]
    }
   ],
   "source": [
    "input_list = [100, 200, 300]\n",
    "\n",
    "for value in input_list:\n",
    "    print(value + 10)"
   ]
  },
  {
   "cell_type": "markdown",
   "id": "3584103f",
   "metadata": {},
   "source": [
    "***\n",
    "\n",
    "<br><br>\n",
    "\n",
    "### 2\n",
    "\n",
    "for 문을 사용해서 리스트에 저장된 값을 다음과 같이 출력하라.\n",
    "\n",
    "```python\n",
    "리스트 = [\"김밥\", \"라면\", \"튀김\"]\n",
    "\n",
    "오늘의 메뉴: 김밥\n",
    "오늘의 메뉴: 라면\n",
    "오늘의 메뉴: 튀김\n",
    "```"
   ]
  },
  {
   "cell_type": "code",
   "execution_count": 2,
   "id": "bfd94e28",
   "metadata": {},
   "outputs": [
    {
     "name": "stdout",
     "output_type": "stream",
     "text": [
      "오늘의 메뉴: 김밥\n",
      "오늘의 메뉴: 라면\n",
      "오늘의 메뉴: 튀김\n"
     ]
    }
   ],
   "source": [
    "food_list = ['김밥', '라면', '튀김']\n",
    "\n",
    "for food in food_list:\n",
    "    print(f'오늘의 메뉴: {food}')"
   ]
  },
  {
   "cell_type": "markdown",
   "id": "c2f023f7",
   "metadata": {},
   "source": [
    "***\n",
    "\n",
    "<br><br>\n",
    "\n",
    "### 3\n",
    "\n",
    "리스트에 주식 종목이름이 저장돼 있다.\n",
    "\n",
    "```python\n",
    "리스트 = [\"SK하이닉스\", \"삼성전자\", \"LG전자\"]\n",
    "```\n",
    "\n",
    "저장된 문자열의 길이를 다음과 같이 출력하라.\n",
    "\n",
    "```python\n",
    "6\n",
    "4\n",
    "4\n",
    "```"
   ]
  },
  {
   "cell_type": "code",
   "execution_count": 3,
   "id": "0922a58b",
   "metadata": {},
   "outputs": [
    {
     "name": "stdout",
     "output_type": "stream",
     "text": [
      "6\n",
      "4\n",
      "4\n"
     ]
    }
   ],
   "source": [
    "stock_list = ['SK하이닉스', '삼성전자', 'LG전자']\n",
    "\n",
    "for stock in stock_list:\n",
    "    print(len(stock))"
   ]
  },
  {
   "cell_type": "markdown",
   "id": "d9af3810",
   "metadata": {},
   "source": [
    "***\n",
    "\n",
    "<br><br>\n",
    "\n",
    "### 4\n",
    "\n",
    "리스트에는 네 개의 정수가 저장돼 있다.\n",
    "\n",
    "```python\n",
    "리스트 = [3, -20, -3, 44]\n",
    "```\n",
    "\n",
    "for문을 사용해서 리스트의 음수를 출력하라.\n",
    "\n",
    "```python\n",
    "-20\n",
    "-3\n",
    "```"
   ]
  },
  {
   "cell_type": "code",
   "execution_count": 4,
   "id": "a1e1ce8e",
   "metadata": {},
   "outputs": [
    {
     "name": "stdout",
     "output_type": "stream",
     "text": [
      "-20\n",
      "-3\n"
     ]
    }
   ],
   "source": [
    "value_list = [3, -20, -3, 44]\n",
    "\n",
    "for value in value_list:\n",
    "    if value < 0:\n",
    "        print(value)"
   ]
  },
  {
   "cell_type": "markdown",
   "id": "f082015d",
   "metadata": {},
   "source": [
    "***\n",
    "\n",
    "<br><br>\n",
    "\n",
    "### 5\n",
    "\n",
    "리스트에서 소문자만 화면에 출력하라.\n",
    "\n",
    "```python\n",
    "리스트 = [\"A\", \"b\", \"c\", \"D\"]\n",
    "\n",
    "b\n",
    "c\n",
    "```"
   ]
  },
  {
   "cell_type": "code",
   "execution_count": 13,
   "id": "328c57df",
   "metadata": {},
   "outputs": [
    {
     "name": "stdout",
     "output_type": "stream",
     "text": [
      "b\n",
      "c\n"
     ]
    }
   ],
   "source": [
    "alpha_list = ['A', 'b', 'c', 'D']\n",
    "\n",
    "for word in alpha_list:\n",
    "    if word.islower():\n",
    "        print(word)"
   ]
  },
  {
   "cell_type": "markdown",
   "id": "c7b84486",
   "metadata": {},
   "source": [
    "***\n",
    "\n",
    "<br><br>\n",
    "\n",
    "### 6\n",
    "\n",
    "my_list를 아래와 같이 출력하라.\n",
    "\n",
    "```python\n",
    "my_list = [\"가\", \"나\", \"다\", \"라\"]\n",
    "\n",
    "가 나\n",
    "나 다\n",
    "다 라\n",
    "```"
   ]
  },
  {
   "cell_type": "code",
   "execution_count": 10,
   "id": "a2143873",
   "metadata": {},
   "outputs": [
    {
     "name": "stdout",
     "output_type": "stream",
     "text": [
      "가 나\n",
      "나 다\n",
      "다 라\n"
     ]
    }
   ],
   "source": [
    "my_list = ['가', '나', '다', '라']\n",
    "\n",
    "for i in range(len(my_list)-1):\n",
    "    print(f'{my_list[i]} {my_list[i+1]}')"
   ]
  },
  {
   "cell_type": "markdown",
   "id": "5f878175",
   "metadata": {},
   "source": [
    "***\n",
    "\n",
    "<br><br>\n",
    "\n",
    "### 7\n",
    "\n",
    "리스트에는 6일 간의 종가 데이터가 저장되어 있다. 종가 데이터의 3일 이동 평균을 계산하고 이를 화면에 출력하라.\n",
    "\n",
    "```python\n",
    "my_list = [100, 200, 400, 800, 1000, 1300]\n",
    "```\n",
    "\n",
    "첫 번째 줄에는 100, 200, 400의 평균값이 출력된다. 두 번째 줄에는 200, 400, 800의 평균값이 출력된다. 같은 방식으로 나머지 데이터의 평균을 출력한다.\n",
    "\n",
    "```python\n",
    "233.33333333333334\n",
    "466.6666666666667\n",
    "733.3333333333334\n",
    "1033.3333333333333\n",
    "```"
   ]
  },
  {
   "cell_type": "code",
   "execution_count": 12,
   "id": "1a5740c7",
   "metadata": {},
   "outputs": [
    {
     "name": "stdout",
     "output_type": "stream",
     "text": [
      "233.33333333333334\n",
      "466.6666666666667\n",
      "733.3333333333334\n",
      "1033.3333333333333\n"
     ]
    }
   ],
   "source": [
    "my_list = [100, 200, 400, 800, 1000, 1300]\n",
    "\n",
    "for i in range(len(my_list) - 2):\n",
    "    mean = (my_list[i] + my_list[i+1] + my_list[i+2]) / 3\n",
    "    print(mean)"
   ]
  }
 ],
 "metadata": {
  "kernelspec": {
   "display_name": "Python 3 (ipykernel)",
   "language": "python",
   "name": "python3"
  },
  "language_info": {
   "codemirror_mode": {
    "name": "ipython",
    "version": 3
   },
   "file_extension": ".py",
   "mimetype": "text/x-python",
   "name": "python",
   "nbconvert_exporter": "python",
   "pygments_lexer": "ipython3",
   "version": "3.9.7"
  }
 },
 "nbformat": 4,
 "nbformat_minor": 5
}

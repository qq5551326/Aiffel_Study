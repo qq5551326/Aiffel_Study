{
 "cells": [
  {
   "cell_type": "markdown",
   "id": "484829cc",
   "metadata": {},
   "source": [
    "## Unit 22.2, 26.1, 29, 44.1 예제 문제"
   ]
  },
  {
   "cell_type": "markdown",
   "id": "cc89b3c8",
   "metadata": {},
   "source": [
    "***\n",
    "\n",
    "<br><br>\n",
    "\n",
    "### 1: 22.2 리스트의 할당과 복사 알아보기\n",
    "\n",
    "난수로 이루어진, 크기 100의 리스트가 있다.\n",
    "해당 리스트와 동일한 새로운 리스트 `dup`을 생성하고 맨 앞 요소의 값을 3으로 수정하여 `dup` 리스트와 `random_list`를 출력하라.\n",
    "\n",
    "\n",
    "```python\n",
    "import random\n",
    "\n",
    "리스트 = [random.randint(0, 255) for _ in range(100)]\n",
    "```\n",
    "***"
   ]
  },
  {
   "cell_type": "code",
   "execution_count": 5,
   "id": "c1821d9c",
   "metadata": {},
   "outputs": [
    {
     "name": "stdout",
     "output_type": "stream",
     "text": [
      "[3, 32, 81, 185, 146, 121, 214, 143, 159, 195, 163, 118, 225, 69, 130, 44, 93, 111, 245, 134, 136, 209, 225, 15, 242, 200, 197, 205, 70, 29, 29, 140, 6, 100, 221, 171, 140, 243, 88, 30, 231, 180, 86, 227, 196, 229, 112, 184, 216, 74, 169, 221, 14, 63, 45, 26, 77, 206, 178, 92, 235, 215, 10, 48, 195, 96, 40, 87, 165, 31, 9, 92, 246, 151, 221, 133, 146, 255, 197, 30, 57, 176, 35, 150, 91, 175, 68, 157, 160, 135, 115, 7, 69, 190, 153, 207, 233, 74, 242, 66]\n",
      "[67, 32, 81, 185, 146, 121, 214, 143, 159, 195, 163, 118, 225, 69, 130, 44, 93, 111, 245, 134, 136, 209, 225, 15, 242, 200, 197, 205, 70, 29, 29, 140, 6, 100, 221, 171, 140, 243, 88, 30, 231, 180, 86, 227, 196, 229, 112, 184, 216, 74, 169, 221, 14, 63, 45, 26, 77, 206, 178, 92, 235, 215, 10, 48, 195, 96, 40, 87, 165, 31, 9, 92, 246, 151, 221, 133, 146, 255, 197, 30, 57, 176, 35, 150, 91, 175, 68, 157, 160, 135, 115, 7, 69, 190, 153, 207, 233, 74, 242, 66]\n"
     ]
    }
   ],
   "source": [
    "import random\n",
    "\n",
    "random_list = [random.randint(0, 255) for _ in range(100)]\n",
    "\n",
    "\n",
    "dup =random_list.copy()\n",
    "dup[0]=3\n",
    "print(dup)\n",
    "print(random_list)"
   ]
  },
  {
   "cell_type": "markdown",
   "id": "76b145ac",
   "metadata": {},
   "source": [
    "***\n",
    "\n",
    "<br><br>\n",
    "\n",
    "### 2: 26.1 세트 만들기 ~ 26.2 집합 연산 사용하기\n",
    "\n",
    "표준 입력으로 양의 정수 두 개가 입력된다. 다음 소스 코드를 완성하여 두 숫자의 공약수를 세트 형태로 구하도록 만들라. 단, 최종 결과는 공약수의 합으로 판단한다.\n",
    "\n",
    "```python\n",
    "입력: 10 20\n",
    "\n",
    "출력: 18\n",
    "```"
   ]
  },
  {
   "cell_type": "code",
   "execution_count": null,
   "id": "b4bd3bf3",
   "metadata": {},
   "outputs": [],
   "source": [
    "#코드============\n",
    "a int\n",
    "\n",
    "#End=============\n",
    "\n",
    "divisor = a & b\n",
    " \n",
    "result = 0\n",
    "if type(divisor) == set:\n",
    "    result = sum(divisor)\n",
    "    \n",
    "print(result)"
   ]
  },
  {
   "cell_type": "markdown",
   "id": "d5ed6d10",
   "metadata": {},
   "source": [
    "***\n",
    "\n",
    "<br><br>\n",
    "\n",
    "### 3: Unit 29. 함수 사용하기\n",
    "\n",
    "\"안녕하세요\" 문자열을 화면에 출력하는 print_coin() 함수를 정의하라."
   ]
  },
  {
   "cell_type": "code",
   "execution_count": 6,
   "id": "abd3386a",
   "metadata": {},
   "outputs": [
    {
     "name": "stdout",
     "output_type": "stream",
     "text": [
      "안녕하세요\n"
     ]
    }
   ],
   "source": [
    "def print_coin():\n",
    "    print(\"안녕하세요\")\n",
    "    \n",
    "print_coin()"
   ]
  },
  {
   "cell_type": "markdown",
   "id": "39ea4362",
   "metadata": {},
   "source": [
    "***\n",
    "\n",
    "<br><br>\n",
    "\n",
    "### 4\n",
    "\n",
    "아래의 에러가 발생하는 이유에 대해 설명하라.\n",
    "\n",
    "```python\n",
    "hello()\n",
    "def hello():\n",
    "    print(\"Hi\")\n",
    "    \n",
    "NameError: name 'hello' is not defined\n",
    "```"
   ]
  },
  {
   "cell_type": "markdown",
   "id": "326f1a35",
   "metadata": {},
   "source": [
    "함수를 만들기 전에 미리 함수를 호출하여서 함수명이 정의가 안되었다고 에러가 뜸"
   ]
  },
  {
   "cell_type": "markdown",
   "id": "2a0ea855",
   "metadata": {},
   "source": [
    "***\n",
    "\n",
    "<br><br>\n",
    "\n",
    "### 5\n",
    "\n",
    "세 개의 숫자를 입력받아 가장 큰수를 출력하는 print_max 함수를 정의하라. 단 if 문을 사용해서 수를 비교하라."
   ]
  },
  {
   "cell_type": "code",
   "execution_count": 8,
   "id": "f9279287",
   "metadata": {},
   "outputs": [
    {
     "name": "stdout",
     "output_type": "stream",
     "text": [
      "19\n"
     ]
    }
   ],
   "source": [
    "def print_max(a,b,c):\n",
    "    if a , b, c\n",
    "        \n",
    "print_max(19,2,3)"
   ]
  },
  {
   "cell_type": "markdown",
   "id": "d114ac83",
   "metadata": {},
   "source": [
    "***\n",
    "\n",
    "<br><br>\n",
    "\n",
    "### 6\n",
    "\n",
    "하나의 딕셔너리를 입력받아 딕셔너리의 key 값을 화면에 출력하는 print_keys 함수를 정의하라.\n",
    "\n",
    "```python\n",
    "print_keys({\"이름\":\"김말똥\", \"나이\":30, \"성별\":0})\n",
    "\n",
    "이름\n",
    "나이\n",
    "성별\n",
    "```"
   ]
  },
  {
   "cell_type": "code",
   "execution_count": null,
   "id": "7a2ab05c",
   "metadata": {},
   "outputs": [],
   "source": [
    "def print_keys(a):\n",
    "    input()"
   ]
  },
  {
   "cell_type": "markdown",
   "id": "4c6c0c93",
   "metadata": {},
   "source": [
    "***\n",
    "\n",
    "<br><br>\n",
    "\n",
    "### 7: Unit 44.1 import로 모듈 가져오기\n",
    "\n",
    "`math` 라이브러리를 이용하여 √2의 값을 출력하라."
   ]
  },
  {
   "cell_type": "code",
   "execution_count": 9,
   "id": "3d8e3061",
   "metadata": {},
   "outputs": [
    {
     "data": {
      "text/plain": [
       "1.4142135623730951"
      ]
     },
     "execution_count": 9,
     "metadata": {},
     "output_type": "execute_result"
    }
   ],
   "source": [
    "import math as m\n",
    "\n",
    "m.sqrt(2)"
   ]
  }
 ],
 "metadata": {
  "kernelspec": {
   "display_name": "Python 3 (ipykernel)",
   "language": "python",
   "name": "python3"
  },
  "language_info": {
   "codemirror_mode": {
    "name": "ipython",
    "version": 3
   },
   "file_extension": ".py",
   "mimetype": "text/x-python",
   "name": "python",
   "nbconvert_exporter": "python",
   "pygments_lexer": "ipython3",
   "version": "3.9.7"
  }
 },
 "nbformat": 4,
 "nbformat_minor": 5
}

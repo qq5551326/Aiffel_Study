{
 "cells": [
  {
   "cell_type": "markdown",
   "id": "f78b59f5",
   "metadata": {},
   "source": [
    "***\n",
    "\n",
    "<br><br>\n",
    "\n",
    "### 1. 퍼셉트론 구현하기\n",
    "\n",
    "1. 입력 신호에 해당하는 `x1`과 `x2`는 사용자 입력을 받는다\n",
    "2. 가중치에 해당하는 `w1`과 `w2`는 값 1로 설정한다 \n",
    "3. 편향에 해당하는 `b1`은 값 1로 설정한다\n",
    "\n",
    "\n",
    "1. 자연상수 `e`를 표현하기 위해 `math` 패키지를 `import` 한다\n",
    "2. Frank Rosenblatt의 퍼셉트론에 의한 y 값을 출력한다"
   ]
  },
  {
   "cell_type": "code",
   "execution_count": 15,
   "id": "1ba7ec91",
   "metadata": {},
   "outputs": [
    {
     "name": "stdout",
     "output_type": "stream",
     "text": [
      "x1 : 0.4\n",
      "x2 : 0.3\n",
      "0.8455347349164652\n"
     ]
    }
   ],
   "source": [
    "import math \n",
    "x1 = float(input('x1 : '))\n",
    "x2 = float(input('x2 : '))\n",
    "w1 = 1\n",
    "w2 = 1\n",
    "b1 = 1\n",
    "\n",
    "p = (x1 * w1) + (x2 * w2) + b1\n",
    "\n",
    "o = 1/ (1+math.exp(-p))\n",
    "\n",
    "if  0<= x1 <=1 and 0 <= x2 <= 1:\n",
    "    print(o)\n",
    "    "
   ]
  },
  {
   "cell_type": "markdown",
   "id": "8e38ce4d",
   "metadata": {},
   "source": [
    "***\n",
    "\n",
    "<br><br>\n",
    "\n",
    "### 2. 텐서플로우를 이용한 퍼셉트론 구현하기"
   ]
  },
  {
   "cell_type": "code",
   "execution_count": 16,
   "id": "08c11259",
   "metadata": {},
   "outputs": [],
   "source": [
    "#필요 라이브러리 import\n",
    "from tensorflow import keras as K   #텐서플로우\n",
    "import math   #exp()"
   ]
  },
  {
   "cell_type": "code",
   "execution_count": 17,
   "id": "5f6cb302",
   "metadata": {},
   "outputs": [],
   "source": [
    "#model 생성\n",
    "model_input = K.Input(shape=2)\n",
    "dense = K.layers.Dense(units=1, activation='sigmoid')(model_input)\n",
    "\n",
    "model = K.Model(model_input, dense)"
   ]
  },
  {
   "cell_type": "code",
   "execution_count": 19,
   "id": "572faf6f",
   "metadata": {},
   "outputs": [
    {
     "data": {
      "text/plain": [
       "array([[0.5]], dtype=float32)"
      ]
     },
     "execution_count": 19,
     "metadata": {},
     "output_type": "execute_result"
    }
   ],
   "source": [
    "#model 예측\n",
    "model.predict([[0, 0]])"
   ]
  },
  {
   "cell_type": "code",
   "execution_count": null,
   "id": "1ac46d9e",
   "metadata": {},
   "outputs": [],
   "source": []
  }
 ],
 "metadata": {
  "kernelspec": {
   "display_name": "Python 3 (ipykernel)",
   "language": "python",
   "name": "python3"
  },
  "language_info": {
   "codemirror_mode": {
    "name": "ipython",
    "version": 3
   },
   "file_extension": ".py",
   "mimetype": "text/x-python",
   "name": "python",
   "nbconvert_exporter": "python",
   "pygments_lexer": "ipython3",
   "version": "3.9.7"
  }
 },
 "nbformat": 4,
 "nbformat_minor": 5
}

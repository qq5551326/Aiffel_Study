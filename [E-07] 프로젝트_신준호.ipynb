{
 "cells": [
  {
   "cell_type": "markdown",
   "id": "5bd113d4",
   "metadata": {},
   "source": [
    "# 7-13 프로젝트: 뉴스기사 요약해 보기\n"
   ]
  },
  {
   "cell_type": "markdown",
   "id": "60e913c6",
   "metadata": {},
   "source": [
    "# 1. 데이터 수집하기"
   ]
  },
  {
   "cell_type": "markdown",
   "id": "40e4c8af",
   "metadata": {},
   "source": [
    "# 라이브러리 불러오기"
   ]
  },
  {
   "cell_type": "code",
   "execution_count": 1,
   "id": "d3ecd950",
   "metadata": {},
   "outputs": [
    {
     "name": "stderr",
     "output_type": "stream",
     "text": [
      "[nltk_data] Downloading package stopwords to /aiffel/nltk_data...\n",
      "[nltk_data]   Package stopwords is already up-to-date!\n"
     ]
    }
   ],
   "source": [
    "import nltk\n",
    "nltk.download('stopwords')\n",
    "\n",
    "import numpy as np\n",
    "import pandas as pd\n",
    "import os\n",
    "import re\n",
    "import matplotlib.pyplot as plt\n",
    "from nltk.corpus import stopwords\n",
    "from bs4 import BeautifulSoup \n",
    "from tensorflow.keras.preprocessing.text import Tokenizer \n",
    "from tensorflow.keras.preprocessing.sequence import pad_sequences\n",
    "import urllib.request\n",
    "import warnings\n",
    "warnings.filterwarnings(\"ignore\", category=UserWarning, module='bs4')"
   ]
  },
  {
   "cell_type": "markdown",
   "id": "13fe02a6",
   "metadata": {},
   "source": [
    "# 데이터 불러오기"
   ]
  },
  {
   "cell_type": "code",
   "execution_count": 2,
   "id": "2f74be81",
   "metadata": {},
   "outputs": [],
   "source": [
    "import urllib.request\n",
    "urllib.request.urlretrieve(\"https://raw.githubusercontent.com/sunnysai12345/News_Summary/master/news_summary_more.csv\", filename=\"news_summary_more.csv\")\n",
    "data = pd.read_csv('news_summary_more.csv', encoding='iso-8859-1')"
   ]
  },
  {
   "cell_type": "code",
   "execution_count": 8,
   "id": "a2e8804e",
   "metadata": {
    "scrolled": true
   },
   "outputs": [
    {
     "name": "stdout",
     "output_type": "stream",
     "text": [
      "전체 샘플수 : 98401\n"
     ]
    },
    {
     "data": {
      "text/html": [
       "<div>\n",
       "<style scoped>\n",
       "    .dataframe tbody tr th:only-of-type {\n",
       "        vertical-align: middle;\n",
       "    }\n",
       "\n",
       "    .dataframe tbody tr th {\n",
       "        vertical-align: top;\n",
       "    }\n",
       "\n",
       "    .dataframe thead th {\n",
       "        text-align: right;\n",
       "    }\n",
       "</style>\n",
       "<table border=\"1\" class=\"dataframe\">\n",
       "  <thead>\n",
       "    <tr style=\"text-align: right;\">\n",
       "      <th></th>\n",
       "      <th>headlines</th>\n",
       "      <th>text</th>\n",
       "    </tr>\n",
       "  </thead>\n",
       "  <tbody>\n",
       "    <tr>\n",
       "      <th>60589</th>\n",
       "      <td>Mass graves from Indonesia's anti-communist pu...</td>\n",
       "      <td>As many as 16 mass graves from Indonesia's mas...</td>\n",
       "    </tr>\n",
       "    <tr>\n",
       "      <th>10799</th>\n",
       "      <td>Tencent builds self-driving car team in Silico...</td>\n",
       "      <td>Tencent is building a research team for its \"A...</td>\n",
       "    </tr>\n",
       "    <tr>\n",
       "      <th>84773</th>\n",
       "      <td>My daughter is not a player, she's a very pure...</td>\n",
       "      <td>Actor Shakti Kapoor, while talking about his d...</td>\n",
       "    </tr>\n",
       "    <tr>\n",
       "      <th>18377</th>\n",
       "      <td>Immature comments: Ganguly on Shastri's team c...</td>\n",
       "      <td>Former India captain Sourav Ganguly has critic...</td>\n",
       "    </tr>\n",
       "    <tr>\n",
       "      <th>61500</th>\n",
       "      <td>Ryan accused Ã¢ÂÂresearched' poison use, rem...</td>\n",
       "      <td>The class XI Ryan International School student...</td>\n",
       "    </tr>\n",
       "    <tr>\n",
       "      <th>23123</th>\n",
       "      <td>Want SC/ST reservation for promotion in govt j...</td>\n",
       "      <td>The government wants 22.5% reservation for SC ...</td>\n",
       "    </tr>\n",
       "    <tr>\n",
       "      <th>48270</th>\n",
       "      <td>India confident enough for surgical strike: Sm...</td>\n",
       "      <td>Information and Broadcasting Minister Smriti I...</td>\n",
       "    </tr>\n",
       "    <tr>\n",
       "      <th>84400</th>\n",
       "      <td>Films have moved away from goody two shoes her...</td>\n",
       "      <td>Actor Randeep Hooda has said that cinema has m...</td>\n",
       "    </tr>\n",
       "    <tr>\n",
       "      <th>90565</th>\n",
       "      <td>JK Rowling apologises for killing Snape in Har...</td>\n",
       "      <td>Harry Potter author JK Rowling took to Twitter...</td>\n",
       "    </tr>\n",
       "    <tr>\n",
       "      <th>62453</th>\n",
       "      <td>Dhoni should make way for youngsters in T20Is:...</td>\n",
       "      <td>Following India's loss in the second T20I agai...</td>\n",
       "    </tr>\n",
       "  </tbody>\n",
       "</table>\n",
       "</div>"
      ],
      "text/plain": [
       "                                               headlines  \\\n",
       "60589  Mass graves from Indonesia's anti-communist pu...   \n",
       "10799  Tencent builds self-driving car team in Silico...   \n",
       "84773  My daughter is not a player, she's a very pure...   \n",
       "18377  Immature comments: Ganguly on Shastri's team c...   \n",
       "61500  Ryan accused Ã¢ÂÂresearched' poison use, rem...   \n",
       "23123  Want SC/ST reservation for promotion in govt j...   \n",
       "48270  India confident enough for surgical strike: Sm...   \n",
       "84400  Films have moved away from goody two shoes her...   \n",
       "90565  JK Rowling apologises for killing Snape in Har...   \n",
       "62453  Dhoni should make way for youngsters in T20Is:...   \n",
       "\n",
       "                                                    text  \n",
       "60589  As many as 16 mass graves from Indonesia's mas...  \n",
       "10799  Tencent is building a research team for its \"A...  \n",
       "84773  Actor Shakti Kapoor, while talking about his d...  \n",
       "18377  Former India captain Sourav Ganguly has critic...  \n",
       "61500  The class XI Ryan International School student...  \n",
       "23123  The government wants 22.5% reservation for SC ...  \n",
       "48270  Information and Broadcasting Minister Smriti I...  \n",
       "84400  Actor Randeep Hooda has said that cinema has m...  \n",
       "90565  Harry Potter author JK Rowling took to Twitter...  \n",
       "62453  Following India's loss in the second T20I agai...  "
      ]
     },
     "execution_count": 8,
     "metadata": {},
     "output_type": "execute_result"
    }
   ],
   "source": [
    "print('전체 샘플수 :', (len(data)))      #전체 데이터는 98401개  \n",
    "data.sample(10)                         # 랜덤으로 10개를 뽑기\n"
   ]
  },
  {
   "cell_type": "markdown",
   "id": "78a6510a",
   "metadata": {},
   "source": [
    "# 2. 데이터 전처리하기(추상적 요약)\n",
    "실습에서 사용된 전처리를 참고하여 각자 필요하다고 생각하는 전처리를 추가 사용하여 텍스트를 정규화 또는 정제해 보세요. 만약, 불용어 제거를 선택한다면 상대적으로 길이가 짧은 요약 데이터에 대해서도 불용어를 제거하는 것이 좋을지 고민해 보세요."
   ]
  },
  {
   "cell_type": "code",
   "execution_count": 13,
   "id": "99d31b97",
   "metadata": {},
   "outputs": [
    {
     "name": "stdout",
     "output_type": "stream",
     "text": [
      "text 열에서 중복을 배제한 유일한 샘플의 수 : 98360\n",
      "headlines 열에서 중복을 배제한 유일한 샘플의 수 : 98280\n"
     ]
    }
   ],
   "source": [
    "# 데이터의 중복 샘플 유무를 확인하기\n",
    "\n",
    "print('text 열에서 중복을 배제한 유일한 샘플의 수 :', data['text'].nunique())\n",
    "print('headlines 열에서 중복을 배제한 유일한 샘플의 수 :', data['headlines'].nunique())"
   ]
  },
  {
   "cell_type": "code",
   "execution_count": 14,
   "id": "75cd604c",
   "metadata": {},
   "outputs": [],
   "source": [
    "# drop_duplicates()를 사용하여 중복 샘플을 제거하기\n",
    "\n"
   ]
  },
  {
   "cell_type": "code",
   "execution_count": null,
   "id": "74fb87d0",
   "metadata": {},
   "outputs": [],
   "source": []
  },
  {
   "cell_type": "markdown",
   "id": "47dd1c13",
   "metadata": {},
   "source": [
    "# 3. 어텐션 메커니즘 사용하기(추상적 요약)\n",
    "일반적인 seq2seq보다는 어텐션 메커니즘을 사용한 seq2seq를 사용하는 것이 더 나은 성능을 얻을 수 있어요. 실습 내용을 참고하여 어텐션 메커니즘을 사용한 seq2seq를 설계해 보세요."
   ]
  },
  {
   "cell_type": "code",
   "execution_count": null,
   "id": "4e8f33b0",
   "metadata": {},
   "outputs": [],
   "source": []
  },
  {
   "cell_type": "markdown",
   "id": "c7672072",
   "metadata": {},
   "source": [
    "# 4. 실제 결과와 요약문 비교하기(추상적 요약)\n",
    "원래의 요약문(headlines 열)과 학습을 통해 얻은 추상적 요약의 결과를 비교해 보세요."
   ]
  },
  {
   "cell_type": "code",
   "execution_count": null,
   "id": "babcac64",
   "metadata": {},
   "outputs": [],
   "source": []
  },
  {
   "cell_type": "markdown",
   "id": "59148f96",
   "metadata": {},
   "source": [
    "# 5. Summa을 이용해서 추출적 요약해보기\n",
    "추상적 요약은 추출적 요약과는 달리 문장의 표현력을 다양하게 가져갈 수 있지만, 추출적 요약에 비해서 난이도가 높아요. 반대로 말하면 추출적 요약은 추상적 요약에 비해 난이도가 낮고 기존 문장에서 문장을 꺼내오는 것이므로 잘못된 요약이 나올 가능성이 낮아요.\n",
    "\n",
    "Summa의 summarize를 사용하여 추출적 요약을 해보세요."
   ]
  },
  {
   "cell_type": "code",
   "execution_count": null,
   "id": "c52c8678",
   "metadata": {},
   "outputs": [],
   "source": []
  },
  {
   "cell_type": "code",
   "execution_count": null,
   "id": "671a45ed",
   "metadata": {},
   "outputs": [],
   "source": []
  }
 ],
 "metadata": {
  "kernelspec": {
   "display_name": "Python 3 (ipykernel)",
   "language": "python",
   "name": "python3"
  },
  "language_info": {
   "codemirror_mode": {
    "name": "ipython",
    "version": 3
   },
   "file_extension": ".py",
   "mimetype": "text/x-python",
   "name": "python",
   "nbconvert_exporter": "python",
   "pygments_lexer": "ipython3",
   "version": "3.9.7"
  }
 },
 "nbformat": 4,
 "nbformat_minor": 5
}

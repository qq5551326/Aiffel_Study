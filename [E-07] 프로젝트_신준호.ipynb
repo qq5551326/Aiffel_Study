{
  "cells": [
    {
      "cell_type": "markdown",
      "id": "850ba211",
      "metadata": {
        "id": "850ba211"
      },
      "source": [
        "# 7-13 프로젝트: 뉴스기사 요약해 보기\n"
      ]
    },
    {
      "cell_type": "markdown",
      "id": "0d16b72f",
      "metadata": {
        "id": "0d16b72f"
      },
      "source": [
        "# 1. 데이터 수집하기"
      ]
    },
    {
      "cell_type": "markdown",
      "id": "97cee236",
      "metadata": {
        "id": "97cee236"
      },
      "source": [
        "# 라이브러리 불러오기"
      ]
    },
    {
      "cell_type": "code",
      "execution_count": 2,
      "id": "af093fcf",
      "metadata": {
        "colab": {
          "base_uri": "https://localhost:8080/"
        },
        "id": "af093fcf",
        "outputId": "cfc26ab4-bfd6-4ad5-9173-be3db535fb25"
      },
      "outputs": [
        {
          "output_type": "stream",
          "name": "stdout",
          "text": [
            "[nltk_data] Downloading package stopwords to /root/nltk_data...\n",
            "[nltk_data]   Unzipping corpora/stopwords.zip.\n"
          ]
        }
      ],
      "source": [
        "import nltk\n",
        "nltk.download('stopwords')\n",
        "\n",
        "import numpy as np\n",
        "import pandas as pd\n",
        "import os\n",
        "import re\n",
        "import matplotlib.pyplot as plt\n",
        "from nltk.corpus import stopwords\n",
        "from bs4 import BeautifulSoup \n",
        "from tensorflow.keras.preprocessing.text import Tokenizer \n",
        "from tensorflow.keras.preprocessing.sequence import pad_sequences\n",
        "import urllib.request\n",
        "import warnings\n",
        "warnings.filterwarnings(\"ignore\", category=UserWarning, module='bs4')"
      ]
    },
    {
      "cell_type": "markdown",
      "id": "c2534214",
      "metadata": {
        "id": "c2534214"
      },
      "source": [
        "# 데이터 불러오기"
      ]
    },
    {
      "cell_type": "code",
      "execution_count": 4,
      "id": "e562dcc4",
      "metadata": {
        "id": "e562dcc4"
      },
      "outputs": [],
      "source": [
        "import urllib.request\n",
        "urllib.request.urlretrieve(\"https://raw.githubusercontent.com/sunnysai12345/News_Summary/master/news_summary_more.csv\", filename=\"news_summary_more.csv\")\n",
        "data = pd.read_csv('news_summary_more.csv', encoding='iso-8859-1')"
      ]
    },
    {
      "cell_type": "code",
      "execution_count": 5,
      "id": "eee34cf3",
      "metadata": {
        "scrolled": false,
        "colab": {
          "base_uri": "https://localhost:8080/",
          "height": 425
        },
        "id": "eee34cf3",
        "outputId": "96ffe96a-a443-4ea0-c796-1e9ee99e3240"
      },
      "outputs": [
        {
          "output_type": "stream",
          "name": "stdout",
          "text": [
            "전체 샘플수 : 98401\n"
          ]
        },
        {
          "output_type": "execute_result",
          "data": {
            "text/plain": [
              "                                               headlines  \\\n",
              "91523   World's oldest fungus discovered in South Africa   \n",
              "25335  Shiv Sena to back BJP-led NDA govt in no-confi...   \n",
              "71821   Second-largest black hole in the Milky Way found   \n",
              "19440  Only 2nd Asiad in which India or Pak not in me...   \n",
              "86350  Alia to play a Kashmiri in Meghna Gulzar's nex...   \n",
              "33741  Ex-cop found to be 'Golden State' serial kille...   \n",
              "6618   Urjit Patel's resignation sends strong message...   \n",
              "23137  Kohli doesn't need to prove anything to anyone...   \n",
              "31952  Dad-son dupe man of Ã¢ÂÂ¹1.4cr saying they se...   \n",
              "62285  Samsung to pay Apple $120 mn in slide-to-unloc...   \n",
              "\n",
              "                                                    text  \n",
              "91523  Fungus-like organisms have been found fossilis...  \n",
              "25335  The Shiv Sena has decided to back the BJP-led ...  \n",
              "71821  Japan-based scientists have found evidence of ...  \n",
              "19440  After India were beaten by Malaysia in the men...  \n",
              "86350  According to reports, actress Alia Bhatt will ...  \n",
              "33741  Police in California, US, have arrested a 72-y...  \n",
              "6618   Former RBI Governor D Subbarao said that Urjit...  \n",
              "23137  After India captain Virat Kohli smashed 149(22...  \n",
              "31952  A father-son motor mechanic duo in Delhi has a...  \n",
              "62285  The US Supreme Court has rejected a request by...  "
            ],
            "text/html": [
              "\n",
              "  <div id=\"df-4755c67a-bc65-431b-a838-5a3d0950a2fa\">\n",
              "    <div class=\"colab-df-container\">\n",
              "      <div>\n",
              "<style scoped>\n",
              "    .dataframe tbody tr th:only-of-type {\n",
              "        vertical-align: middle;\n",
              "    }\n",
              "\n",
              "    .dataframe tbody tr th {\n",
              "        vertical-align: top;\n",
              "    }\n",
              "\n",
              "    .dataframe thead th {\n",
              "        text-align: right;\n",
              "    }\n",
              "</style>\n",
              "<table border=\"1\" class=\"dataframe\">\n",
              "  <thead>\n",
              "    <tr style=\"text-align: right;\">\n",
              "      <th></th>\n",
              "      <th>headlines</th>\n",
              "      <th>text</th>\n",
              "    </tr>\n",
              "  </thead>\n",
              "  <tbody>\n",
              "    <tr>\n",
              "      <th>91523</th>\n",
              "      <td>World's oldest fungus discovered in South Africa</td>\n",
              "      <td>Fungus-like organisms have been found fossilis...</td>\n",
              "    </tr>\n",
              "    <tr>\n",
              "      <th>25335</th>\n",
              "      <td>Shiv Sena to back BJP-led NDA govt in no-confi...</td>\n",
              "      <td>The Shiv Sena has decided to back the BJP-led ...</td>\n",
              "    </tr>\n",
              "    <tr>\n",
              "      <th>71821</th>\n",
              "      <td>Second-largest black hole in the Milky Way found</td>\n",
              "      <td>Japan-based scientists have found evidence of ...</td>\n",
              "    </tr>\n",
              "    <tr>\n",
              "      <th>19440</th>\n",
              "      <td>Only 2nd Asiad in which India or Pak not in me...</td>\n",
              "      <td>After India were beaten by Malaysia in the men...</td>\n",
              "    </tr>\n",
              "    <tr>\n",
              "      <th>86350</th>\n",
              "      <td>Alia to play a Kashmiri in Meghna Gulzar's nex...</td>\n",
              "      <td>According to reports, actress Alia Bhatt will ...</td>\n",
              "    </tr>\n",
              "    <tr>\n",
              "      <th>33741</th>\n",
              "      <td>Ex-cop found to be 'Golden State' serial kille...</td>\n",
              "      <td>Police in California, US, have arrested a 72-y...</td>\n",
              "    </tr>\n",
              "    <tr>\n",
              "      <th>6618</th>\n",
              "      <td>Urjit Patel's resignation sends strong message...</td>\n",
              "      <td>Former RBI Governor D Subbarao said that Urjit...</td>\n",
              "    </tr>\n",
              "    <tr>\n",
              "      <th>23137</th>\n",
              "      <td>Kohli doesn't need to prove anything to anyone...</td>\n",
              "      <td>After India captain Virat Kohli smashed 149(22...</td>\n",
              "    </tr>\n",
              "    <tr>\n",
              "      <th>31952</th>\n",
              "      <td>Dad-son dupe man of Ã¢ÂÂ¹1.4cr saying they se...</td>\n",
              "      <td>A father-son motor mechanic duo in Delhi has a...</td>\n",
              "    </tr>\n",
              "    <tr>\n",
              "      <th>62285</th>\n",
              "      <td>Samsung to pay Apple $120 mn in slide-to-unloc...</td>\n",
              "      <td>The US Supreme Court has rejected a request by...</td>\n",
              "    </tr>\n",
              "  </tbody>\n",
              "</table>\n",
              "</div>\n",
              "      <button class=\"colab-df-convert\" onclick=\"convertToInteractive('df-4755c67a-bc65-431b-a838-5a3d0950a2fa')\"\n",
              "              title=\"Convert this dataframe to an interactive table.\"\n",
              "              style=\"display:none;\">\n",
              "        \n",
              "  <svg xmlns=\"http://www.w3.org/2000/svg\" height=\"24px\"viewBox=\"0 0 24 24\"\n",
              "       width=\"24px\">\n",
              "    <path d=\"M0 0h24v24H0V0z\" fill=\"none\"/>\n",
              "    <path d=\"M18.56 5.44l.94 2.06.94-2.06 2.06-.94-2.06-.94-.94-2.06-.94 2.06-2.06.94zm-11 1L8.5 8.5l.94-2.06 2.06-.94-2.06-.94L8.5 2.5l-.94 2.06-2.06.94zm10 10l.94 2.06.94-2.06 2.06-.94-2.06-.94-.94-2.06-.94 2.06-2.06.94z\"/><path d=\"M17.41 7.96l-1.37-1.37c-.4-.4-.92-.59-1.43-.59-.52 0-1.04.2-1.43.59L10.3 9.45l-7.72 7.72c-.78.78-.78 2.05 0 2.83L4 21.41c.39.39.9.59 1.41.59.51 0 1.02-.2 1.41-.59l7.78-7.78 2.81-2.81c.8-.78.8-2.07 0-2.86zM5.41 20L4 18.59l7.72-7.72 1.47 1.35L5.41 20z\"/>\n",
              "  </svg>\n",
              "      </button>\n",
              "      \n",
              "  <style>\n",
              "    .colab-df-container {\n",
              "      display:flex;\n",
              "      flex-wrap:wrap;\n",
              "      gap: 12px;\n",
              "    }\n",
              "\n",
              "    .colab-df-convert {\n",
              "      background-color: #E8F0FE;\n",
              "      border: none;\n",
              "      border-radius: 50%;\n",
              "      cursor: pointer;\n",
              "      display: none;\n",
              "      fill: #1967D2;\n",
              "      height: 32px;\n",
              "      padding: 0 0 0 0;\n",
              "      width: 32px;\n",
              "    }\n",
              "\n",
              "    .colab-df-convert:hover {\n",
              "      background-color: #E2EBFA;\n",
              "      box-shadow: 0px 1px 2px rgba(60, 64, 67, 0.3), 0px 1px 3px 1px rgba(60, 64, 67, 0.15);\n",
              "      fill: #174EA6;\n",
              "    }\n",
              "\n",
              "    [theme=dark] .colab-df-convert {\n",
              "      background-color: #3B4455;\n",
              "      fill: #D2E3FC;\n",
              "    }\n",
              "\n",
              "    [theme=dark] .colab-df-convert:hover {\n",
              "      background-color: #434B5C;\n",
              "      box-shadow: 0px 1px 3px 1px rgba(0, 0, 0, 0.15);\n",
              "      filter: drop-shadow(0px 1px 2px rgba(0, 0, 0, 0.3));\n",
              "      fill: #FFFFFF;\n",
              "    }\n",
              "  </style>\n",
              "\n",
              "      <script>\n",
              "        const buttonEl =\n",
              "          document.querySelector('#df-4755c67a-bc65-431b-a838-5a3d0950a2fa button.colab-df-convert');\n",
              "        buttonEl.style.display =\n",
              "          google.colab.kernel.accessAllowed ? 'block' : 'none';\n",
              "\n",
              "        async function convertToInteractive(key) {\n",
              "          const element = document.querySelector('#df-4755c67a-bc65-431b-a838-5a3d0950a2fa');\n",
              "          const dataTable =\n",
              "            await google.colab.kernel.invokeFunction('convertToInteractive',\n",
              "                                                     [key], {});\n",
              "          if (!dataTable) return;\n",
              "\n",
              "          const docLinkHtml = 'Like what you see? Visit the ' +\n",
              "            '<a target=\"_blank\" href=https://colab.research.google.com/notebooks/data_table.ipynb>data table notebook</a>'\n",
              "            + ' to learn more about interactive tables.';\n",
              "          element.innerHTML = '';\n",
              "          dataTable['output_type'] = 'display_data';\n",
              "          await google.colab.output.renderOutput(dataTable, element);\n",
              "          const docLink = document.createElement('div');\n",
              "          docLink.innerHTML = docLinkHtml;\n",
              "          element.appendChild(docLink);\n",
              "        }\n",
              "      </script>\n",
              "    </div>\n",
              "  </div>\n",
              "  "
            ]
          },
          "metadata": {},
          "execution_count": 5
        }
      ],
      "source": [
        "print('전체 샘플수 :', (len(data)))      #전체 데이터는 98401개  \n",
        "data.sample(10)                         # 랜덤으로 10개를 뽑기\n"
      ]
    },
    {
      "cell_type": "markdown",
      "id": "3a6050d6",
      "metadata": {
        "id": "3a6050d6"
      },
      "source": [
        "# 2. 데이터 전처리하기(추상적 요약)\n",
        "실습에서 사용된 전처리를 참고하여 각자 필요하다고 생각하는 전처리를 추가 사용하여 텍스트를 정규화 또는 정제해 보세요. 만약, 불용어 제거를 선택한다면 상대적으로 길이가 짧은 요약 데이터에 대해서도 불용어를 제거하는 것이 좋을지 고민해 보세요."
      ]
    },
    {
      "cell_type": "code",
      "execution_count": 6,
      "id": "f0969552",
      "metadata": {
        "colab": {
          "base_uri": "https://localhost:8080/"
        },
        "id": "f0969552",
        "outputId": "f780ac3b-d3e5-4b1a-dbcd-908751fd6522"
      },
      "outputs": [
        {
          "output_type": "stream",
          "name": "stdout",
          "text": [
            "text 열에서 중복을 배제한 유일한 샘플의 수 : 98360\n",
            "headlines 열에서 중복을 배제한 유일한 샘플의 수 : 98280\n"
          ]
        }
      ],
      "source": [
        "# 데이터의 중복 샘플 유무를 확인하기\n",
        "\n",
        "print('text 열에서 중복을 배제한 유일한 샘플의 수 :', data['text'].nunique())\n",
        "print('headlines 열에서 중복을 배제한 유일한 샘플의 수 :', data['headlines'].nunique())"
      ]
    },
    {
      "cell_type": "code",
      "execution_count": 7,
      "id": "e68ca746",
      "metadata": {
        "colab": {
          "base_uri": "https://localhost:8080/"
        },
        "id": "e68ca746",
        "outputId": "6cc1e723-a818-4f3c-c2df-5863b26208cb"
      },
      "outputs": [
        {
          "output_type": "stream",
          "name": "stdout",
          "text": [
            "전체 샘플수 : 98360\n"
          ]
        }
      ],
      "source": [
        "# drop_duplicates()를 사용하여 중복 샘플을 제거하기\n",
        "\n",
        "# inplace=True 를 설정하면 DataFrame 타입 값을 return 하지 않고 data 내부를 직접적으로 바꿉니다\n",
        "data.drop_duplicates(subset = ['text'], inplace=True)\n",
        "print('전체 샘플수 :', (len(data)))"
      ]
    },
    {
      "cell_type": "code",
      "execution_count": 8,
      "id": "aea82595",
      "metadata": {
        "scrolled": true,
        "colab": {
          "base_uri": "https://localhost:8080/"
        },
        "id": "aea82595",
        "outputId": "3393e85f-75cd-42f5-a8fe-d0c4f64bd047"
      },
      "outputs": [
        {
          "output_type": "stream",
          "name": "stdout",
          "text": [
            "headlines    0\n",
            "text         0\n",
            "dtype: int64\n"
          ]
        }
      ],
      "source": [
        "# 데이터프레임에 Null 값이 있는지 확인하기\n",
        "\n",
        "print(data.isnull().sum())"
      ]
    },
    {
      "cell_type": "code",
      "execution_count": 9,
      "id": "0ae6f7fa",
      "metadata": {
        "colab": {
          "base_uri": "https://localhost:8080/"
        },
        "id": "0ae6f7fa",
        "outputId": "a86791c1-d9c3-4f33-d0ad-aa62478af5df"
      },
      "outputs": [
        {
          "output_type": "stream",
          "name": "stdout",
          "text": [
            "정규화 사전의 수:  120\n"
          ]
        }
      ],
      "source": [
        "# 텍스트 정규화사전 만들기\n",
        "\n",
        "contractions = {\"ain't\": \"is not\", \"aren't\": \"are not\",\"can't\": \"cannot\", \"'cause\": \"because\", \"could've\": \"could have\", \"couldn't\": \"could not\",\n",
        "                           \"didn't\": \"did not\",  \"doesn't\": \"does not\", \"don't\": \"do not\", \"hadn't\": \"had not\", \"hasn't\": \"has not\", \"haven't\": \"have not\",\n",
        "                           \"he'd\": \"he would\",\"he'll\": \"he will\", \"he's\": \"he is\", \"how'd\": \"how did\", \"how'd'y\": \"how do you\", \"how'll\": \"how will\", \"how's\": \"how is\",\n",
        "                           \"I'd\": \"I would\", \"I'd've\": \"I would have\", \"I'll\": \"I will\", \"I'll've\": \"I will have\",\"I'm\": \"I am\", \"I've\": \"I have\", \"i'd\": \"i would\",\n",
        "                           \"i'd've\": \"i would have\", \"i'll\": \"i will\",  \"i'll've\": \"i will have\",\"i'm\": \"i am\", \"i've\": \"i have\", \"isn't\": \"is not\", \"it'd\": \"it would\",\n",
        "                           \"it'd've\": \"it would have\", \"it'll\": \"it will\", \"it'll've\": \"it will have\",\"it's\": \"it is\", \"let's\": \"let us\", \"ma'am\": \"madam\",\n",
        "                           \"mayn't\": \"may not\", \"might've\": \"might have\",\"mightn't\": \"might not\",\"mightn't've\": \"might not have\", \"must've\": \"must have\",\n",
        "                           \"mustn't\": \"must not\", \"mustn't've\": \"must not have\", \"needn't\": \"need not\", \"needn't've\": \"need not have\",\"o'clock\": \"of the clock\",\n",
        "                           \"oughtn't\": \"ought not\", \"oughtn't've\": \"ought not have\", \"shan't\": \"shall not\", \"sha'n't\": \"shall not\", \"shan't've\": \"shall not have\",\n",
        "                           \"she'd\": \"she would\", \"she'd've\": \"she would have\", \"she'll\": \"she will\", \"she'll've\": \"she will have\", \"she's\": \"she is\",\n",
        "                           \"should've\": \"should have\", \"shouldn't\": \"should not\", \"shouldn't've\": \"should not have\", \"so've\": \"so have\",\"so's\": \"so as\",\n",
        "                           \"this's\": \"this is\",\"that'd\": \"that would\", \"that'd've\": \"that would have\", \"that's\": \"that is\", \"there'd\": \"there would\",\n",
        "                           \"there'd've\": \"there would have\", \"there's\": \"there is\", \"here's\": \"here is\",\"they'd\": \"they would\", \"they'd've\": \"they would have\",\n",
        "                           \"they'll\": \"they will\", \"they'll've\": \"they will have\", \"they're\": \"they are\", \"they've\": \"they have\", \"to've\": \"to have\",\n",
        "                           \"wasn't\": \"was not\", \"we'd\": \"we would\", \"we'd've\": \"we would have\", \"we'll\": \"we will\", \"we'll've\": \"we will have\", \"we're\": \"we are\",\n",
        "                           \"we've\": \"we have\", \"weren't\": \"were not\", \"what'll\": \"what will\", \"what'll've\": \"what will have\", \"what're\": \"what are\",\n",
        "                           \"what's\": \"what is\", \"what've\": \"what have\", \"when's\": \"when is\", \"when've\": \"when have\", \"where'd\": \"where did\", \"where's\": \"where is\",\n",
        "                           \"where've\": \"where have\", \"who'll\": \"who will\", \"who'll've\": \"who will have\", \"who's\": \"who is\", \"who've\": \"who have\",\n",
        "                           \"why's\": \"why is\", \"why've\": \"why have\", \"will've\": \"will have\", \"won't\": \"will not\", \"won't've\": \"will not have\",\n",
        "                           \"would've\": \"would have\", \"wouldn't\": \"would not\", \"wouldn't've\": \"would not have\", \"y'all\": \"you all\",\n",
        "                           \"y'all'd\": \"you all would\",\"y'all'd've\": \"you all would have\",\"y'all're\": \"you all are\",\"y'all've\": \"you all have\",\n",
        "                           \"you'd\": \"you would\", \"you'd've\": \"you would have\", \"you'll\": \"you will\", \"you'll've\": \"you will have\",\n",
        "                           \"you're\": \"you are\", \"you've\": \"you have\"}\n",
        "\n",
        "print(\"정규화 사전의 수: \", len(contractions))"
      ]
    },
    {
      "cell_type": "code",
      "execution_count": 10,
      "id": "69d1c824",
      "metadata": {
        "colab": {
          "base_uri": "https://localhost:8080/"
        },
        "id": "69d1c824",
        "outputId": "870f9a78-5d84-4a91-cbca-840c38c51dbf"
      },
      "outputs": [
        {
          "output_type": "stream",
          "name": "stdout",
          "text": [
            "불용어 개수 : 179\n",
            "['i', 'me', 'my', 'myself', 'we', 'our', 'ours', 'ourselves', 'you', \"you're\", \"you've\", \"you'll\", \"you'd\", 'your', 'yours', 'yourself', 'yourselves', 'he', 'him', 'his', 'himself', 'she', \"she's\", 'her', 'hers', 'herself', 'it', \"it's\", 'its', 'itself', 'they', 'them', 'their', 'theirs', 'themselves', 'what', 'which', 'who', 'whom', 'this', 'that', \"that'll\", 'these', 'those', 'am', 'is', 'are', 'was', 'were', 'be', 'been', 'being', 'have', 'has', 'had', 'having', 'do', 'does', 'did', 'doing', 'a', 'an', 'the', 'and', 'but', 'if', 'or', 'because', 'as', 'until', 'while', 'of', 'at', 'by', 'for', 'with', 'about', 'against', 'between', 'into', 'through', 'during', 'before', 'after', 'above', 'below', 'to', 'from', 'up', 'down', 'in', 'out', 'on', 'off', 'over', 'under', 'again', 'further', 'then', 'once', 'here', 'there', 'when', 'where', 'why', 'how', 'all', 'any', 'both', 'each', 'few', 'more', 'most', 'other', 'some', 'such', 'no', 'nor', 'not', 'only', 'own', 'same', 'so', 'than', 'too', 'very', 's', 't', 'can', 'will', 'just', 'don', \"don't\", 'should', \"should've\", 'now', 'd', 'll', 'm', 'o', 're', 've', 'y', 'ain', 'aren', \"aren't\", 'couldn', \"couldn't\", 'didn', \"didn't\", 'doesn', \"doesn't\", 'hadn', \"hadn't\", 'hasn', \"hasn't\", 'haven', \"haven't\", 'isn', \"isn't\", 'ma', 'mightn', \"mightn't\", 'mustn', \"mustn't\", 'needn', \"needn't\", 'shan', \"shan't\", 'shouldn', \"shouldn't\", 'wasn', \"wasn't\", 'weren', \"weren't\", 'won', \"won't\", 'wouldn', \"wouldn't\"]\n"
          ]
        }
      ],
      "source": [
        "# NLTK에서 미리 정의한 불용어 처리하기\n",
        "\n",
        "print('불용어 개수 :', len(stopwords.words('english') ))\n",
        "print(stopwords.words('english'))\n",
        "\n"
      ]
    },
    {
      "cell_type": "code",
      "execution_count": 11,
      "id": "98f56074",
      "metadata": {
        "colab": {
          "base_uri": "https://localhost:8080/"
        },
        "id": "98f56074",
        "outputId": "21db90dc-29ce-4a2e-f5af-3e003f6d3dd7"
      },
      "outputs": [
        {
          "output_type": "stream",
          "name": "stdout",
          "text": [
            "=3\n"
          ]
        }
      ],
      "source": [
        "# 데이터 전처리 함수\n",
        "def preprocess_sentence(sentence, remove_stopwords=True):\n",
        "    sentence = sentence.lower() # 텍스트 소문자화\n",
        "    sentence = BeautifulSoup(sentence, \"lxml\").text # <br />, <a href = ...> 등의 html 태그 제거\n",
        "    sentence = re.sub(r'\\([^)]*\\)', '', sentence) # 괄호로 닫힌 문자열 (...) 제거 Ex) my husband (and myself!) for => my husband for\n",
        "    sentence = re.sub('\"','', sentence) # 쌍따옴표 \" 제거\n",
        "    sentence = ' '.join([contractions[t] if t in contractions else t for t in sentence.split(\" \")]) # 약어 정규화\n",
        "    sentence = re.sub(r\"'s\\b\",\"\", sentence) # 소유격 제거. Ex) roland's -> roland\n",
        "    sentence = re.sub(\"[^a-zA-Z]\", \" \", sentence) # 영어 외 문자(숫자, 특수문자 등) 공백으로 변환\n",
        "    sentence = re.sub('[m]{2,}', 'mm', sentence) # m이 3개 이상이면 2개로 변경. Ex) ummmmmmm yeah -> umm yeah\n",
        "    \n",
        "    # 불용어 제거 (text)\n",
        "    if remove_stopwords:\n",
        "        tokens = ' '.join(word for word in sentence.split() if not word in stopwords.words('english') if len(word) > 1)\n",
        "    # 불용어 미제거 (headlines)\n",
        "    else:\n",
        "        tokens = ' '.join(word for word in sentence.split() if len(word) > 1)\n",
        "    return tokens\n",
        "print('=3')"
      ]
    },
    {
      "cell_type": "code",
      "execution_count": 12,
      "id": "ccc1b47c",
      "metadata": {
        "scrolled": true,
        "colab": {
          "base_uri": "https://localhost:8080/"
        },
        "id": "ccc1b47c",
        "outputId": "ba151bab-0369-49c1-d0aa-8dbef7fba755"
      },
      "outputs": [
        {
          "output_type": "stream",
          "name": "stdout",
          "text": [
            "text:  everything bought great infact ordered twice third ordered wasfor mother father\n",
            "headlines: great way to start the day\n"
          ]
        }
      ],
      "source": [
        "# 전처리 전과 후의 결과를 확인하기 위해 임의의 text와 summary를 만들어 함수를 호출\n",
        "\n",
        "temp_text = 'Everything I bought was great, infact I ordered twice and the third ordered was<br />for my mother and father.'\n",
        "temp_headlines = 'Great way to start (or finish) the day!!!'\n",
        "\n",
        "print(\"text: \", preprocess_sentence(temp_text))\n",
        "print(\"headlines:\", preprocess_sentence(temp_headlines, False))  # 불용어를 제거하지 않습니다."
      ]
    },
    {
      "cell_type": "code",
      "execution_count": 17,
      "id": "6b1dea9a",
      "metadata": {
        "colab": {
          "base_uri": "https://localhost:8080/"
        },
        "id": "6b1dea9a",
        "outputId": "59cca3e1-932f-42d5-b8c9-59888aa87186"
      },
      "outputs": [
        {
          "output_type": "stream",
          "name": "stdout",
          "text": [
            "text 전처리 후 결과:  ['saurav kant alumnus upgrad iiit pg program machine learning artificial intelligence sr systems engineer infosys almost years work experience program upgrad degree career support helped transition data scientist tech mahindra salary hike upgrad online power learning powered lakh careers', 'kunal shah credit card bill payment platform cred gave users chance win free food swiggy one year pranav kaushik delhi techie bagged reward spending cred coins users get one cred coin per rupee bill paid used avail rewards brands like ixigo bookmyshow ubereats cult fit', 'new zealand defeated india wickets fourth odi hamilton thursday win first match five match odi series india lost international match rohit sharma captaincy consecutive victories dating back march match witnessed india getting seventh lowest total odi cricket history', 'aegon life iterm insurance plan customers enjoy tax benefits premiums paid save taxes plan provides life cover age years also customers options insure critical illnesses disability accidental death benefit rider life cover age years', 'speaking sexual harassment allegations rajkumar hirani sonam kapoor said known hirani many years true metoo movement get derailed metoo movement always believe woman case need reserve judgment added hirani accused assistant worked sanju']\n"
          ]
        }
      ],
      "source": [
        "# 전체 text 데이터에 대한 전처리\n",
        "clean_text = []\n",
        " \n",
        "for s in data['text']:\n",
        "    clean_text.append(preprocess_sentence(s))\n",
        "\n",
        "# 전처리 후 출력\n",
        "print(\"text 전처리 후 결과: \", clean_text[:5])"
      ]
    },
    {
      "cell_type": "code",
      "execution_count": 13,
      "id": "b1fd0e89",
      "metadata": {
        "colab": {
          "base_uri": "https://localhost:8080/"
        },
        "id": "b1fd0e89",
        "outputId": "e6ebad57-a7d1-4c7a-d9b4-8c70c4c93141"
      },
      "outputs": [
        {
          "output_type": "stream",
          "name": "stdout",
          "text": [
            "headlines 전처리 후 결과:  ['upgrad learner switches to career in ml al with salary hike', 'delhi techie wins free food from swiggy for one year on cred', 'new zealand end rohit sharma led india match winning streak', 'aegon life iterm insurance plan helps customers save tax', 'have known hirani for yrs what if metoo claims are not true sonam']\n"
          ]
        }
      ],
      "source": [
        "# 전체 headlines 데이터에 대한 전처리\n",
        "clean_headlines = []\n",
        "\n",
        "for s in data['headlines']:\n",
        "    clean_headlines.append(preprocess_sentence(s, False))\n",
        "\n",
        "print(\"headlines 전처리 후 결과: \", clean_headlines[:5])"
      ]
    },
    {
      "cell_type": "code",
      "source": [
        "# 데이터들을 데이터프레임에 재저장\n",
        "\n",
        "data['text'] = clean_text\n",
        "data['headlines'] = clean_headlines\n",
        "\n",
        "# 빈 값을 Null 값으로 변환\n",
        "data.replace('', np.nan, inplace=True)\n",
        "print('=3')"
      ],
      "metadata": {
        "colab": {
          "base_uri": "https://localhost:8080/"
        },
        "id": "NKO23Stib78M",
        "outputId": "14d5f8e8-696d-498f-ba74-fd45e98df3f7"
      },
      "id": "NKO23Stib78M",
      "execution_count": 18,
      "outputs": [
        {
          "output_type": "stream",
          "name": "stdout",
          "text": [
            "=3\n"
          ]
        }
      ]
    },
    {
      "cell_type": "code",
      "execution_count": 20,
      "id": "42f1d956",
      "metadata": {
        "colab": {
          "base_uri": "https://localhost:8080/"
        },
        "id": "42f1d956",
        "outputId": "1143aad0-e905-4925-df10-2186e80acd04"
      },
      "outputs": [
        {
          "output_type": "execute_result",
          "data": {
            "text/plain": [
              "headlines    0\n",
              "text         0\n",
              "dtype: int64"
            ]
          },
          "metadata": {},
          "execution_count": 20
        }
      ],
      "source": [
        "# Null 값 확인하기\n",
        "data.isnull().sum()"
      ]
    },
    {
      "cell_type": "code",
      "source": [
        "# 길이 분포 출력\n",
        "\n",
        "\n",
        "text_len = [len(s.split()) for s in data['text']]\n",
        "headlines_len = [len(s.split()) for s in data['headlines']]\n",
        "\n",
        "print('텍스트의 최소 길이 : {}'.format(np.min(text_len)))\n",
        "print('텍스트의 최대 길이 : {}'.format(np.max(text_len)))\n",
        "print('텍스트의 평균 길이 : {}'.format(np.mean(text_len)))\n",
        "print('요약의 최소 길이 : {}'.format(np.min(headlines_len)))\n",
        "print('요약의 최대 길이 : {}'.format(np.max(headlines_len)))\n",
        "print('요약의 평균 길이 : {}'.format(np.mean(headlines_len)))\n",
        "\n",
        "plt.subplot(1,2,1)\n",
        "plt.boxplot(text_len)\n",
        "plt.title('text')\n",
        "plt.subplot(1,2,2)\n",
        "plt.boxplot(headlines_len)\n",
        "plt.title('headlines')\n",
        "plt.tight_layout()\n",
        "plt.show()\n",
        "\n",
        "plt.title('text')\n",
        "plt.hist(text_len, bins = 40)\n",
        "plt.xlabel('length of samples')\n",
        "plt.ylabel('number of samples')\n",
        "plt.show()\n",
        "\n",
        "plt.title('headlines')\n",
        "plt.hist(headlines_len, bins = 40)\n",
        "plt.xlabel('length of samples')\n",
        "plt.ylabel('number of samples')\n",
        "plt.show()"
      ],
      "metadata": {
        "colab": {
          "base_uri": "https://localhost:8080/",
          "height": 963
        },
        "id": "h2Ge_tluflbv",
        "outputId": "96a0f3c5-3780-49ad-e309-a92ebeb58bf5"
      },
      "id": "h2Ge_tluflbv",
      "execution_count": 22,
      "outputs": [
        {
          "output_type": "stream",
          "name": "stdout",
          "text": [
            "텍스트의 최소 길이 : 1\n",
            "텍스트의 최대 길이 : 60\n",
            "텍스트의 평균 길이 : 35.09968483123221\n",
            "요약의 최소 길이 : 1\n",
            "요약의 최대 길이 : 16\n",
            "요약의 평균 길이 : 9.299532330215534\n"
          ]
        },
        {
          "output_type": "display_data",
          "data": {
            "text/plain": [
              "<Figure size 432x288 with 2 Axes>"
            ],
            "image/png": "[encoded data removed]"
          },
          "metadata": {
            "needs_background": "light"
          }
        },
        {
          "output_type": "display_data",
          "data": {
            "text/plain": [
              "<Figure size 432x288 with 1 Axes>"
            ],
            "image/png": "[encoded data removed]"
          },
          "metadata": {
            "needs_background": "light"
          }
        },
        {
          "output_type": "display_data",
          "data": {
            "text/plain": [
              "<Figure size 432x288 with 1 Axes>"
            ],
            "image/png": "[encoded data removed]"
          },
          "metadata": {
            "needs_background": "light"
          }
        }
      ]
    },
    {
      "cell_type": "code",
      "source": [
        "#  Text의 최대 길이와 Summary의 적절한 최대 길이 정하기\n",
        "\n",
        "text_max_len = 40\n",
        "headlines_max_len = 12\n",
        "print('=3')"
      ],
      "metadata": {
        "colab": {
          "base_uri": "https://localhost:8080/"
        },
        "id": "WG-D0H0jgrtm",
        "outputId": "e9c50574-d160-4743-c01c-c8743f7c2a70"
      },
      "id": "WG-D0H0jgrtm",
      "execution_count": 24,
      "outputs": [
        {
          "output_type": "stream",
          "name": "stdout",
          "text": [
            "=3\n"
          ]
        }
      ]
    },
    {
      "cell_type": "code",
      "source": [
        "def below_threshold_len(max_len, nested_list):\n",
        "  cnt = 0\n",
        "  for s in nested_list:\n",
        "    if(len(s.split()) <= max_len):\n",
        "        cnt = cnt + 1\n",
        "  print('전체 샘플 중 길이가 %s 이하인 샘플의 비율: %s'%(max_len, (cnt / len(nested_list))))\n",
        "print('=3')"
      ],
      "metadata": {
        "colab": {
          "base_uri": "https://localhost:8080/"
        },
        "id": "B028qD82hAwg",
        "outputId": "b5761b2c-8815-4097-8a3c-91a7df9c32f3"
      },
      "id": "B028qD82hAwg",
      "execution_count": 25,
      "outputs": [
        {
          "output_type": "stream",
          "name": "stdout",
          "text": [
            "=3\n"
          ]
        }
      ]
    },
    {
      "cell_type": "code",
      "source": [
        "below_threshold_len(text_max_len, data['text'])\n",
        "below_threshold_len(headlines_max_len,  data['headlines'])"
      ],
      "metadata": {
        "colab": {
          "base_uri": "https://localhost:8080/"
        },
        "id": "rxQ_mk5shKJb",
        "outputId": "750cb333-abc6-4a6d-ed9a-7950e0ebdb2c"
      },
      "id": "rxQ_mk5shKJb",
      "execution_count": 26,
      "outputs": [
        {
          "output_type": "stream",
          "name": "stdout",
          "text": [
            "전체 샘플 중 길이가 40 이하인 샘플의 비율: 0.9238714924766165\n",
            "전체 샘플 중 길이가 12 이하인 샘플의 비율: 0.9880337535583571\n"
          ]
        }
      ]
    },
    {
      "cell_type": "code",
      "source": [
        "#  정해진 길이보다 길면 제외하는 방법으로 데이터를 정제\n",
        "data = data[data['text'].apply(lambda x: len(x.split()) <= text_max_len)]\n",
        "data = data[data['headlines'].apply(lambda x: len(x.split()) <= headlines_max_len)]\n",
        "print('전체 샘플수 :', (len(data)))"
      ],
      "metadata": {
        "colab": {
          "base_uri": "https://localhost:8080/"
        },
        "id": "_qgQPnmchSj9",
        "outputId": "3466ae3d-93f9-4b4c-acc3-e1ae3bb09f2c"
      },
      "id": "_qgQPnmchSj9",
      "execution_count": 27,
      "outputs": [
        {
          "output_type": "stream",
          "name": "stdout",
          "text": [
            "전체 샘플수 : 89775\n"
          ]
        }
      ]
    },
    {
      "cell_type": "code",
      "source": [
        "# 요약 데이터에는 시작 토큰과 종료 토큰을 추가한다.\n",
        "data['decoder_input'] = data['headlines'].apply(lambda x : 'sostoken '+ x)\n",
        "data['decoder_target'] = data['headlines'].apply(lambda x : x + ' eostoken')\n",
        "data.head()"
      ],
      "metadata": {
        "colab": {
          "base_uri": "https://localhost:8080/",
          "height": 424
        },
        "id": "V1jMGGjJhgk4",
        "outputId": "4c324373-ea76-408c-d401-2a0cc1fe1fcb"
      },
      "id": "V1jMGGjJhgk4",
      "execution_count": 28,
      "outputs": [
        {
          "output_type": "execute_result",
          "data": {
            "text/plain": [
              "                                           headlines  \\\n",
              "0  upgrad learner switches to career in ml al wit...   \n",
              "2  new zealand end rohit sharma led india match w...   \n",
              "3  aegon life iterm insurance plan helps customer...   \n",
              "5  rahat fateh ali khan denies getting notice for...   \n",
              "6  india get all out for their lowest odi total i...   \n",
              "\n",
              "                                                text  \\\n",
              "0  saurav kant alumnus upgrad iiit pg program mac...   \n",
              "2  new zealand defeated india wickets fourth odi ...   \n",
              "3  aegon life iterm insurance plan customers enjo...   \n",
              "5  pakistani singer rahat fateh ali khan denied r...   \n",
              "6  india recorded lowest odi total new zealand ge...   \n",
              "\n",
              "                                       decoder_input  \\\n",
              "0  sostoken upgrad learner switches to career in ...   \n",
              "2  sostoken new zealand end rohit sharma led indi...   \n",
              "3  sostoken aegon life iterm insurance plan helps...   \n",
              "5  sostoken rahat fateh ali khan denies getting n...   \n",
              "6  sostoken india get all out for their lowest od...   \n",
              "\n",
              "                                      decoder_target  \n",
              "0  upgrad learner switches to career in ml al wit...  \n",
              "2  new zealand end rohit sharma led india match w...  \n",
              "3  aegon life iterm insurance plan helps customer...  \n",
              "5  rahat fateh ali khan denies getting notice for...  \n",
              "6  india get all out for their lowest odi total i...  "
            ],
            "text/html": [
              "\n",
              "  <div id=\"df-1326031a-0d27-4acd-ad72-b8807918570e\">\n",
              "    <div class=\"colab-df-container\">\n",
              "      <div>\n",
              "<style scoped>\n",
              "    .dataframe tbody tr th:only-of-type {\n",
              "        vertical-align: middle;\n",
              "    }\n",
              "\n",
              "    .dataframe tbody tr th {\n",
              "        vertical-align: top;\n",
              "    }\n",
              "\n",
              "    .dataframe thead th {\n",
              "        text-align: right;\n",
              "    }\n",
              "</style>\n",
              "<table border=\"1\" class=\"dataframe\">\n",
              "  <thead>\n",
              "    <tr style=\"text-align: right;\">\n",
              "      <th></th>\n",
              "      <th>headlines</th>\n",
              "      <th>text</th>\n",
              "      <th>decoder_input</th>\n",
              "      <th>decoder_target</th>\n",
              "    </tr>\n",
              "  </thead>\n",
              "  <tbody>\n",
              "    <tr>\n",
              "      <th>0</th>\n",
              "      <td>upgrad learner switches to career in ml al wit...</td>\n",
              "      <td>saurav kant alumnus upgrad iiit pg program mac...</td>\n",
              "      <td>sostoken upgrad learner switches to career in ...</td>\n",
              "      <td>upgrad learner switches to career in ml al wit...</td>\n",
              "    </tr>\n",
              "    <tr>\n",
              "      <th>2</th>\n",
              "      <td>new zealand end rohit sharma led india match w...</td>\n",
              "      <td>new zealand defeated india wickets fourth odi ...</td>\n",
              "      <td>sostoken new zealand end rohit sharma led indi...</td>\n",
              "      <td>new zealand end rohit sharma led india match w...</td>\n",
              "    </tr>\n",
              "    <tr>\n",
              "      <th>3</th>\n",
              "      <td>aegon life iterm insurance plan helps customer...</td>\n",
              "      <td>aegon life iterm insurance plan customers enjo...</td>\n",
              "      <td>sostoken aegon life iterm insurance plan helps...</td>\n",
              "      <td>aegon life iterm insurance plan helps customer...</td>\n",
              "    </tr>\n",
              "    <tr>\n",
              "      <th>5</th>\n",
              "      <td>rahat fateh ali khan denies getting notice for...</td>\n",
              "      <td>pakistani singer rahat fateh ali khan denied r...</td>\n",
              "      <td>sostoken rahat fateh ali khan denies getting n...</td>\n",
              "      <td>rahat fateh ali khan denies getting notice for...</td>\n",
              "    </tr>\n",
              "    <tr>\n",
              "      <th>6</th>\n",
              "      <td>india get all out for their lowest odi total i...</td>\n",
              "      <td>india recorded lowest odi total new zealand ge...</td>\n",
              "      <td>sostoken india get all out for their lowest od...</td>\n",
              "      <td>india get all out for their lowest odi total i...</td>\n",
              "    </tr>\n",
              "  </tbody>\n",
              "</table>\n",
              "</div>\n",
              "      <button class=\"colab-df-convert\" onclick=\"convertToInteractive('df-1326031a-0d27-4acd-ad72-b8807918570e')\"\n",
              "              title=\"Convert this dataframe to an interactive table.\"\n",
              "              style=\"display:none;\">\n",
              "        \n",
              "  <svg xmlns=\"http://www.w3.org/2000/svg\" height=\"24px\"viewBox=\"0 0 24 24\"\n",
              "       width=\"24px\">\n",
              "    <path d=\"M0 0h24v24H0V0z\" fill=\"none\"/>\n",
              "    <path d=\"M18.56 5.44l.94 2.06.94-2.06 2.06-.94-2.06-.94-.94-2.06-.94 2.06-2.06.94zm-11 1L8.5 8.5l.94-2.06 2.06-.94-2.06-.94L8.5 2.5l-.94 2.06-2.06.94zm10 10l.94 2.06.94-2.06 2.06-.94-2.06-.94-.94-2.06-.94 2.06-2.06.94z\"/><path d=\"M17.41 7.96l-1.37-1.37c-.4-.4-.92-.59-1.43-.59-.52 0-1.04.2-1.43.59L10.3 9.45l-7.72 7.72c-.78.78-.78 2.05 0 2.83L4 21.41c.39.39.9.59 1.41.59.51 0 1.02-.2 1.41-.59l7.78-7.78 2.81-2.81c.8-.78.8-2.07 0-2.86zM5.41 20L4 18.59l7.72-7.72 1.47 1.35L5.41 20z\"/>\n",
              "  </svg>\n",
              "      </button>\n",
              "      \n",
              "  <style>\n",
              "    .colab-df-container {\n",
              "      display:flex;\n",
              "      flex-wrap:wrap;\n",
              "      gap: 12px;\n",
              "    }\n",
              "\n",
              "    .colab-df-convert {\n",
              "      background-color: #E8F0FE;\n",
              "      border: none;\n",
              "      border-radius: 50%;\n",
              "      cursor: pointer;\n",
              "      display: none;\n",
              "      fill: #1967D2;\n",
              "      height: 32px;\n",
              "      padding: 0 0 0 0;\n",
              "      width: 32px;\n",
              "    }\n",
              "\n",
              "    .colab-df-convert:hover {\n",
              "      background-color: #E2EBFA;\n",
              "      box-shadow: 0px 1px 2px rgba(60, 64, 67, 0.3), 0px 1px 3px 1px rgba(60, 64, 67, 0.15);\n",
              "      fill: #174EA6;\n",
              "    }\n",
              "\n",
              "    [theme=dark] .colab-df-convert {\n",
              "      background-color: #3B4455;\n",
              "      fill: #D2E3FC;\n",
              "    }\n",
              "\n",
              "    [theme=dark] .colab-df-convert:hover {\n",
              "      background-color: #434B5C;\n",
              "      box-shadow: 0px 1px 3px 1px rgba(0, 0, 0, 0.15);\n",
              "      filter: drop-shadow(0px 1px 2px rgba(0, 0, 0, 0.3));\n",
              "      fill: #FFFFFF;\n",
              "    }\n",
              "  </style>\n",
              "\n",
              "      <script>\n",
              "        const buttonEl =\n",
              "          document.querySelector('#df-1326031a-0d27-4acd-ad72-b8807918570e button.colab-df-convert');\n",
              "        buttonEl.style.display =\n",
              "          google.colab.kernel.accessAllowed ? 'block' : 'none';\n",
              "\n",
              "        async function convertToInteractive(key) {\n",
              "          const element = document.querySelector('#df-1326031a-0d27-4acd-ad72-b8807918570e');\n",
              "          const dataTable =\n",
              "            await google.colab.kernel.invokeFunction('convertToInteractive',\n",
              "                                                     [key], {});\n",
              "          if (!dataTable) return;\n",
              "\n",
              "          const docLinkHtml = 'Like what you see? Visit the ' +\n",
              "            '<a target=\"_blank\" href=https://colab.research.google.com/notebooks/data_table.ipynb>data table notebook</a>'\n",
              "            + ' to learn more about interactive tables.';\n",
              "          element.innerHTML = '';\n",
              "          dataTable['output_type'] = 'display_data';\n",
              "          await google.colab.output.renderOutput(dataTable, element);\n",
              "          const docLink = document.createElement('div');\n",
              "          docLink.innerHTML = docLinkHtml;\n",
              "          element.appendChild(docLink);\n",
              "        }\n",
              "      </script>\n",
              "    </div>\n",
              "  </div>\n",
              "  "
            ]
          },
          "metadata": {},
          "execution_count": 28
        }
      ]
    },
    {
      "cell_type": "code",
      "source": [
        "# Numpy 타입으로 저장\n",
        "encoder_input = np.array(data['text']) # 인코더의 입력\n",
        "decoder_input = np.array(data['decoder_input']) # 디코더의 입력\n",
        "decoder_target = np.array(data['decoder_target']) # 디코더의 레이블\n",
        "print('=3')"
      ],
      "metadata": {
        "colab": {
          "base_uri": "https://localhost:8080/"
        },
        "id": "eWMktVmPhuXz",
        "outputId": "248345fb-6a3c-49b7-e259-85386b90d13f"
      },
      "id": "eWMktVmPhuXz",
      "execution_count": 29,
      "outputs": [
        {
          "output_type": "stream",
          "name": "stdout",
          "text": [
            "=3\n"
          ]
        }
      ]
    },
    {
      "cell_type": "code",
      "source": [
        "# 훈련 데이터와 테스트 데이터를 분리하기 \n",
        "indices = np.arange(encoder_input.shape[0])\n",
        "np.random.shuffle(indices)\n",
        "print(indices)"
      ],
      "metadata": {
        "colab": {
          "base_uri": "https://localhost:8080/"
        },
        "id": "3ZDuHp2xh6cB",
        "outputId": "dc1c1f93-6d6b-4ed2-f5dd-ed9f884254ce"
      },
      "id": "3ZDuHp2xh6cB",
      "execution_count": 30,
      "outputs": [
        {
          "output_type": "stream",
          "name": "stdout",
          "text": [
            "[88822 79256 84873 ... 72417 19479 42810]\n"
          ]
        }
      ]
    },
    {
      "cell_type": "code",
      "source": [
        "# 정수 시퀀스를 이용해 다시 데이터의 샘플 순서를 정의\n",
        "encoder_input = encoder_input[indices]\n",
        "decoder_input = decoder_input[indices]\n",
        "decoder_target = decoder_target[indices]\n",
        "print('=3')"
      ],
      "metadata": {
        "colab": {
          "base_uri": "https://localhost:8080/"
        },
        "id": "WCASDpXZiEnT",
        "outputId": "de348928-da2a-4883-ea92-4ee97c3552b9"
      },
      "id": "WCASDpXZiEnT",
      "execution_count": 31,
      "outputs": [
        {
          "output_type": "stream",
          "name": "stdout",
          "text": [
            "=3\n"
          ]
        }
      ]
    },
    {
      "cell_type": "code",
      "source": [
        "# 전체 데이터의 크기에서 0.2를 곱해서 테스트 데이터의 크기로 정의\n",
        "n_of_val = int(len(encoder_input)*0.2)\n",
        "print('테스트 데이터의 수 :', n_of_val)"
      ],
      "metadata": {
        "colab": {
          "base_uri": "https://localhost:8080/"
        },
        "id": "1sclASR2iHvD",
        "outputId": "6f0c44be-c69f-49a1-9cc0-8b69355df8ec"
      },
      "id": "1sclASR2iHvD",
      "execution_count": 32,
      "outputs": [
        {
          "output_type": "stream",
          "name": "stdout",
          "text": [
            "테스트 데이터의 수 : 17955\n"
          ]
        }
      ]
    },
    {
      "cell_type": "code",
      "source": [
        "\n",
        "encoder_input_train = encoder_input[:-n_of_val]\n",
        "decoder_input_train = decoder_input[:-n_of_val]\n",
        "decoder_target_train = decoder_target[:-n_of_val]\n",
        "\n",
        "encoder_input_test = encoder_input[-n_of_val:]\n",
        "decoder_input_test = decoder_input[-n_of_val:]\n",
        "decoder_target_test = decoder_target[-n_of_val:]\n",
        "\n",
        "print('훈련 데이터의 개수 :', len(encoder_input_train))\n",
        "print('훈련 레이블의 개수 :', len(decoder_input_train))\n",
        "print('테스트 데이터의 개수 :', len(encoder_input_test))\n",
        "print('테스트 레이블의 개수 :', len(decoder_input_test))"
      ],
      "metadata": {
        "colab": {
          "base_uri": "https://localhost:8080/"
        },
        "id": "tdJS1j0RiXj0",
        "outputId": "3539d5eb-bdd4-48c0-f0f1-702d01f4014a"
      },
      "id": "tdJS1j0RiXj0",
      "execution_count": 34,
      "outputs": [
        {
          "output_type": "stream",
          "name": "stdout",
          "text": [
            "훈련 데이터의 개수 : 71820\n",
            "훈련 레이블의 개수 : 71820\n",
            "테스트 데이터의 개수 : 17955\n",
            "테스트 레이블의 개수 : 17955\n"
          ]
        }
      ]
    },
    {
      "cell_type": "code",
      "source": [
        "# 정수 인코딩 하기\n",
        "# 단어 집합(vocabulary) 만들기 및 정수 인코딩\n",
        "\n",
        "src_tokenizer = Tokenizer() # 토크나이저 정의\n",
        "src_tokenizer.fit_on_texts(encoder_input_train) # 입력된 데이터로부터 단어 집합 생성\n",
        "print('=3')"
      ],
      "metadata": {
        "colab": {
          "base_uri": "https://localhost:8080/"
        },
        "id": "HKFBhxHhiiQX",
        "outputId": "98508332-f667-4496-d4ad-1884da075218"
      },
      "id": "HKFBhxHhiiQX",
      "execution_count": 35,
      "outputs": [
        {
          "output_type": "stream",
          "name": "stdout",
          "text": [
            "=3\n"
          ]
        }
      ]
    },
    {
      "cell_type": "code",
      "source": [
        "threshold = 7\n",
        "total_cnt = len(src_tokenizer.word_index) # 단어의 수\n",
        "rare_cnt = 0 # 등장 빈도수가 threshold보다 작은 단어의 개수를 카운트\n",
        "total_freq = 0 # 훈련 데이터의 전체 단어 빈도수 총 합\n",
        "rare_freq = 0 # 등장 빈도수가 threshold보다 작은 단어의 등장 빈도수의 총 합\n",
        "\n",
        "# 단어와 빈도수의 쌍(pair)을 key와 value로 받는다.\n",
        "for key, value in src_tokenizer.word_counts.items():\n",
        "    total_freq = total_freq + value\n",
        "\n",
        "    # 단어의 등장 빈도수가 threshold보다 작으면\n",
        "    if(value < threshold):\n",
        "        rare_cnt = rare_cnt + 1\n",
        "        rare_freq = rare_freq + value\n",
        "\n",
        "print('단어 집합(vocabulary)의 크기 :', total_cnt)\n",
        "print('등장 빈도가 %s번 이하인 희귀 단어의 수: %s'%(threshold - 1, rare_cnt))\n",
        "print('단어 집합에서 희귀 단어를 제외시킬 경우의 단어 집합의 크기 %s'%(total_cnt - rare_cnt))\n",
        "print(\"단어 집합에서 희귀 단어의 비율:\", (rare_cnt / total_cnt)*100)\n",
        "print(\"전체 등장 빈도에서 희귀 단어 등장 빈도 비율:\", (rare_freq / total_freq)*100)"
      ],
      "metadata": {
        "colab": {
          "base_uri": "https://localhost:8080/"
        },
        "id": "5x67UfE5i8Z2",
        "outputId": "84716501-dbdf-412c-cf2d-2e5600bb0fa2"
      },
      "id": "5x67UfE5i8Z2",
      "execution_count": 36,
      "outputs": [
        {
          "output_type": "stream",
          "name": "stdout",
          "text": [
            "단어 집합(vocabulary)의 크기 : 65544\n",
            "등장 빈도가 6번 이하인 희귀 단어의 수: 44576\n",
            "단어 집합에서 희귀 단어를 제외시킬 경우의 단어 집합의 크기 20968\n",
            "단어 집합에서 희귀 단어의 비율: 68.00927621139998\n",
            "전체 등장 빈도에서 희귀 단어 등장 빈도 비율: 3.6573328777970002\n"
          ]
        }
      ]
    },
    {
      "cell_type": "code",
      "source": [
        "src_vocab = 20000\n",
        "src_tokenizer = Tokenizer(num_words=src_vocab) # 단어 집합의 크기를 20000으로 제한\n",
        "src_tokenizer.fit_on_texts(encoder_input_train) # 단어 집합 재생성\n",
        "print('=3')"
      ],
      "metadata": {
        "colab": {
          "base_uri": "https://localhost:8080/"
        },
        "id": "8dXkzDS9i_WW",
        "outputId": "0abe570d-7539-4e79-a394-d9d4a0ae6a9d"
      },
      "id": "8dXkzDS9i_WW",
      "execution_count": 37,
      "outputs": [
        {
          "output_type": "stream",
          "name": "stdout",
          "text": [
            "=3\n"
          ]
        }
      ]
    },
    {
      "cell_type": "code",
      "source": [
        "# 텍스트 시퀀스를 정수 시퀀스로 변환\n",
        "encoder_input_train = src_tokenizer.texts_to_sequences(encoder_input_train) \n",
        "encoder_input_test = src_tokenizer.texts_to_sequences(encoder_input_test)\n",
        "\n",
        "# 잘 진행되었는지 샘플 출력\n",
        "print(encoder_input_train[:3])"
      ],
      "metadata": {
        "colab": {
          "base_uri": "https://localhost:8080/"
        },
        "id": "6qt-QOyajn6c",
        "outputId": "d7ad977d-b2b1-4eb4-a060-1aa8bd252952"
      },
      "id": "6qt-QOyajn6c",
      "execution_count": 38,
      "outputs": [
        {
          "output_type": "stream",
          "name": "stdout",
          "text": [
            "[[10052, 4087, 1005, 1523, 186, 4754, 1675, 3873, 229, 1120, 5787, 56, 216, 4795, 19513, 112, 4, 12, 1142, 10052, 555, 8103, 92, 1005, 90, 1499, 9065, 4754, 3159, 1900, 8104, 2543, 2146, 310, 6183], [5582, 164, 15, 4334, 5835, 248, 705, 5651, 5652, 1077, 1467, 4187, 169, 5223, 1051, 1122, 8105, 85, 5835, 6836, 2155, 1057, 5582, 1712, 10053, 1077, 2029, 5723, 282, 5223, 1883, 9834, 2842], [30, 815, 16, 10781, 225, 3420, 13, 114, 172, 1143, 363, 169, 177, 223, 1326, 2470, 997, 156, 19, 1, 60, 156, 19, 485, 815, 1305, 451, 1091, 4621, 3420, 172, 363, 3604, 815, 130, 213, 7444]]\n"
          ]
        }
      ]
    },
    {
      "cell_type": "code",
      "source": [
        "# headlines 데이터에 대해서도 동일한 작업 수행\n",
        "tar_tokenizer = Tokenizer()\n",
        "tar_tokenizer.fit_on_texts(decoder_input_train)\n",
        "print('=3')"
      ],
      "metadata": {
        "colab": {
          "base_uri": "https://localhost:8080/"
        },
        "id": "29yxNd4ajsH4",
        "outputId": "e4a8bb1c-5a92-4dce-f122-e3fd6f27e21f"
      },
      "id": "29yxNd4ajsH4",
      "execution_count": 39,
      "outputs": [
        {
          "output_type": "stream",
          "name": "stdout",
          "text": [
            "=3\n"
          ]
        }
      ]
    },
    {
      "cell_type": "code",
      "source": [
        "threshold = 6\n",
        "total_cnt = len(tar_tokenizer.word_index) # 단어의 수\n",
        "rare_cnt = 0 # 등장 빈도수가 threshold보다 작은 단어의 개수를 카운트\n",
        "total_freq = 0 # 훈련 데이터의 전체 단어 빈도수 총 합\n",
        "rare_freq = 0 # 등장 빈도수가 threshold보다 작은 단어의 등장 빈도수의 총 합\n",
        "\n",
        "# 단어와 빈도수의 쌍(pair)을 key와 value로 받는다.\n",
        "for key, value in tar_tokenizer.word_counts.items():\n",
        "    total_freq = total_freq + value\n",
        "\n",
        "    # 단어의 등장 빈도수가 threshold보다 작으면\n",
        "    if(value < threshold):\n",
        "        rare_cnt = rare_cnt + 1\n",
        "        rare_freq = rare_freq + value\n",
        "\n",
        "print('단어 집합(vocabulary)의 크기 :', total_cnt)\n",
        "print('등장 빈도가 %s번 이하인 희귀 단어의 수: %s'%(threshold - 1, rare_cnt))\n",
        "print('단어 집합에서 희귀 단어를 제외시킬 경우의 단어 집합의 크기 %s'%(total_cnt - rare_cnt))\n",
        "print(\"단어 집합에서 희귀 단어의 비율:\", (rare_cnt / total_cnt)*100)\n",
        "print(\"전체 등장 빈도에서 희귀 단어 등장 빈도 비율:\", (rare_freq / total_freq)*100)"
      ],
      "metadata": {
        "colab": {
          "base_uri": "https://localhost:8080/"
        },
        "id": "33bMziK5j19a",
        "outputId": "3ddd2231-00b1-4dc0-c7df-fa675d4d6ce0"
      },
      "id": "33bMziK5j19a",
      "execution_count": 40,
      "outputs": [
        {
          "output_type": "stream",
          "name": "stdout",
          "text": [
            "단어 집합(vocabulary)의 크기 : 28877\n",
            "등장 빈도가 5번 이하인 희귀 단어의 수: 18965\n",
            "단어 집합에서 희귀 단어를 제외시킬 경우의 단어 집합의 크기 9912\n",
            "단어 집합에서 희귀 단어의 비율: 65.67510475464903\n",
            "전체 등장 빈도에서 희귀 단어 등장 빈도 비율: 4.9521413453675045\n"
          ]
        }
      ]
    },
    {
      "cell_type": "code",
      "source": [
        "tar_vocab = 5000\n",
        "tar_tokenizer = Tokenizer(num_words=tar_vocab) \n",
        "tar_tokenizer.fit_on_texts(decoder_input_train)\n",
        "tar_tokenizer.fit_on_texts(decoder_target_train)\n",
        "\n",
        "# 텍스트 시퀀스를 정수 시퀀스로 변환\n",
        "decoder_input_train = tar_tokenizer.texts_to_sequences(decoder_input_train) \n",
        "decoder_target_train = tar_tokenizer.texts_to_sequences(decoder_target_train)\n",
        "decoder_input_test = tar_tokenizer.texts_to_sequences(decoder_input_test)\n",
        "decoder_target_test = tar_tokenizer.texts_to_sequences(decoder_target_test)\n",
        "\n",
        "# 잘 변환되었는지 확인\n",
        "print('input')\n",
        "print('input ',decoder_input_train[:5])\n",
        "print('target')\n",
        "print('decoder ',decoder_target_train[:5])"
      ],
      "metadata": {
        "colab": {
          "base_uri": "https://localhost:8080/"
        },
        "id": "UqF2aQ54j6ST",
        "outputId": "816c8c9d-1757-46fb-ecf7-994892a289b3"
      },
      "id": "UqF2aQ54j6ST",
      "execution_count": 41,
      "outputs": [
        {
          "output_type": "stream",
          "name": "stdout",
          "text": [
            "input\n",
            "input  [[1, 82, 1130, 3748, 164, 13, 1114, 3518], [1, 3091, 24, 10, 4105, 1052, 1089], [1, 166, 4561, 439, 4, 779, 973, 126], [1, 3, 482, 3519, 169], [1, 3984, 92, 69, 29, 3749, 17, 1691, 2486]]\n",
            "target\n",
            "decoder  [[82, 1130, 3748, 164, 13, 1114, 3518, 2], [3091, 24, 10, 4105, 1052, 1089, 2], [166, 4561, 439, 4, 779, 973, 126, 2], [3, 482, 3519, 169, 2], [3984, 92, 69, 29, 3749, 17, 1691, 2486, 2]]\n"
          ]
        }
      ]
    },
    {
      "cell_type": "code",
      "source": [
        "#훈련 데이터와 테스트 데이터에 대해서 \n",
        "#요약문의 길이가 1인 경우의 인덱스를 각각 drop_train과 drop_test에 라는 변수에 저장\n",
        "\n",
        "drop_train = [index for index, sentence in enumerate(decoder_input_train) if len(sentence) == 1]\n",
        "drop_test = [index for index, sentence in enumerate(decoder_input_test) if len(sentence) == 1]\n",
        "\n",
        "print('삭제할 훈련 데이터의 개수 :', len(drop_train))\n",
        "print('삭제할 테스트 데이터의 개수 :', len(drop_test))\n",
        "\n",
        "encoder_input_train = [sentence for index, sentence in enumerate(encoder_input_train) if index not in drop_train]\n",
        "decoder_input_train = [sentence for index, sentence in enumerate(decoder_input_train) if index not in drop_train]\n",
        "decoder_target_train = [sentence for index, sentence in enumerate(decoder_target_train) if index not in drop_train]\n",
        "\n",
        "encoder_input_test = [sentence for index, sentence in enumerate(encoder_input_test) if index not in drop_test]\n",
        "decoder_input_test = [sentence for index, sentence in enumerate(decoder_input_test) if index not in drop_test]\n",
        "decoder_target_test = [sentence for index, sentence in enumerate(decoder_target_test) if index not in drop_test]\n",
        "\n",
        "print('훈련 데이터의 개수 :', len(encoder_input_train))\n",
        "print('훈련 레이블의 개수 :', len(decoder_input_train))\n",
        "print('테스트 데이터의 개수 :', len(encoder_input_test))\n",
        "print('테스트 레이블의 개수 :', len(decoder_input_test))"
      ],
      "metadata": {
        "colab": {
          "base_uri": "https://localhost:8080/"
        },
        "id": "c26b7SzVk7GS",
        "outputId": "b6fafa73-b4f9-4005-8541-96330ea348d2"
      },
      "id": "c26b7SzVk7GS",
      "execution_count": 42,
      "outputs": [
        {
          "output_type": "stream",
          "name": "stdout",
          "text": [
            "삭제할 훈련 데이터의 개수 : 2\n",
            "삭제할 테스트 데이터의 개수 : 0\n",
            "훈련 데이터의 개수 : 71818\n",
            "훈련 레이블의 개수 : 71818\n",
            "테스트 데이터의 개수 : 17955\n",
            "테스트 레이블의 개수 : 17955\n"
          ]
        }
      ]
    },
    {
      "cell_type": "code",
      "source": [
        "# 패딩하기\n",
        "encoder_input_train = pad_sequences(encoder_input_train, maxlen=text_max_len, padding='post')\n",
        "encoder_input_test = pad_sequences(encoder_input_test, maxlen=text_max_len, padding='post')\n",
        "decoder_input_train = pad_sequences(decoder_input_train, maxlen=headlines_max_len, padding='post')\n",
        "decoder_target_train = pad_sequences(decoder_target_train, maxlen=headlines_max_len, padding='post')\n",
        "decoder_input_test = pad_sequences(decoder_input_test, maxlen=headlines_max_len, padding='post')\n",
        "decoder_target_test = pad_sequences(decoder_target_test, maxlen=headlines_max_len, padding='post')\n",
        "print('=3')"
      ],
      "metadata": {
        "colab": {
          "base_uri": "https://localhost:8080/"
        },
        "id": "Q290z69olJMf",
        "outputId": "fa15ad7d-f239-4818-b766-d081617949a2"
      },
      "id": "Q290z69olJMf",
      "execution_count": 43,
      "outputs": [
        {
          "output_type": "stream",
          "name": "stdout",
          "text": [
            "=3\n"
          ]
        }
      ]
    },
    {
      "cell_type": "markdown",
      "id": "12d70ef6",
      "metadata": {
        "id": "12d70ef6"
      },
      "source": [
        "# 3. 어텐션 메커니즘 사용하기(추상적 요약)\n",
        "일반적인 seq2seq보다는 어텐션 메커니즘을 사용한 seq2seq를 사용하는 것이 더 나은 성능을 얻을 수 있어요. 실습 내용을 참고하여 어텐션 메커니즘을 사용한 seq2seq를 설계해 보세요."
      ]
    },
    {
      "cell_type": "code",
      "execution_count": 44,
      "id": "f5f5c9ef",
      "metadata": {
        "id": "f5f5c9ef"
      },
      "outputs": [],
      "source": [
        "# 모델 설계하기\n",
        "\n",
        "from tensorflow.keras.layers import Input, LSTM, Embedding, Dense, Concatenate, TimeDistributed\n",
        "from tensorflow.keras.models import Model\n",
        "from tensorflow.keras.callbacks import EarlyStopping, ModelCheckpoint\n",
        "\n",
        "\n",
        "# 인코더 설계 시작\n",
        "embedding_dim = 128\n",
        "hidden_size = 256\n",
        "\n",
        "# 인코더\n",
        "encoder_inputs = Input(shape=(text_max_len,))\n",
        "\n",
        "# 인코더의 임베딩 층\n",
        "enc_emb = Embedding(src_vocab, embedding_dim)(encoder_inputs)\n",
        "\n",
        "# 인코더의 LSTM 1\n",
        "# encoder_lstm1 = LSTM(hidden_size, return_sequences=True, return_state=True ,dropout = 0.4, recurrent_dropout = 0.4)\n",
        "encoder_lstm1 = LSTM(hidden_size, return_sequences=True, return_state=True ,dropout = 0.4)\n",
        "encoder_output1, state_h1, state_c1 = encoder_lstm1(enc_emb)\n",
        "\n",
        "# 인코더의 LSTM 2\n",
        "# encoder_lstm2 = LSTM(hidden_size, return_sequences=True, return_state=True, dropout=0.4, recurrent_dropout=0.4)\n",
        "encoder_lstm2 = LSTM(hidden_size, return_sequences=True, return_state=True, dropout=0.4)\n",
        "encoder_output2, state_h2, state_c2 = encoder_lstm2(encoder_output1)\n",
        "\n",
        "# 인코더의 LSTM 3\n",
        "# encoder_lstm3 = LSTM(hidden_size, return_state=True, return_sequences=True, dropout=0.4, recurrent_dropout=0.4)\n",
        "encoder_lstm3 = LSTM(hidden_size, return_state=True, return_sequences=True, dropout=0.4)\n",
        "encoder_outputs, state_h, state_c= encoder_lstm3(encoder_output2)"
      ]
    },
    {
      "cell_type": "code",
      "source": [
        "\n",
        "# 디코더 설계\n",
        "decoder_inputs = Input(shape=(None,))\n",
        "\n",
        "# 디코더의 임베딩 층\n",
        "dec_emb_layer = Embedding(tar_vocab, embedding_dim)\n",
        "dec_emb = dec_emb_layer(decoder_inputs)\n",
        "\n",
        "# 디코더의 LSTM\n",
        "# decoder_lstm = LSTM(hidden_size, return_sequences=True, return_state=True, dropout=0.4, recurrent_dropout=0.2)\n",
        "decoder_lstm = LSTM(hidden_size, return_sequences=True, return_state=True, dropout=0.4)\n",
        "decoder_outputs, _, _ = decoder_lstm(dec_emb, initial_state=[state_h, state_c])"
      ],
      "metadata": {
        "id": "8Il2Zi3rlvKn"
      },
      "id": "8Il2Zi3rlvKn",
      "execution_count": 45,
      "outputs": []
    },
    {
      "cell_type": "code",
      "source": [
        "# 디코더의 출력층\n",
        "decoder_softmax_layer = Dense(tar_vocab, activation='softmax')\n",
        "decoder_softmax_outputs = decoder_softmax_layer(decoder_outputs) \n",
        "\n",
        "# 모델 정의\n",
        "model = Model([encoder_inputs, decoder_inputs], decoder_softmax_outputs)\n",
        "model.summary()"
      ],
      "metadata": {
        "colab": {
          "base_uri": "https://localhost:8080/"
        },
        "id": "4GnQ1YUIl7qa",
        "outputId": "1004d927-1281-451b-f820-946f93bcb5ba"
      },
      "id": "4GnQ1YUIl7qa",
      "execution_count": 46,
      "outputs": [
        {
          "output_type": "stream",
          "name": "stdout",
          "text": [
            "Model: \"model\"\n",
            "__________________________________________________________________________________________________\n",
            " Layer (type)                   Output Shape         Param #     Connected to                     \n",
            "==================================================================================================\n",
            " input_1 (InputLayer)           [(None, 40)]         0           []                               \n",
            "                                                                                                  \n",
            " embedding (Embedding)          (None, 40, 128)      2560000     ['input_1[0][0]']                \n",
            "                                                                                                  \n",
            " lstm (LSTM)                    [(None, 40, 256),    394240      ['embedding[0][0]']              \n",
            "                                 (None, 256),                                                     \n",
            "                                 (None, 256)]                                                     \n",
            "                                                                                                  \n",
            " input_2 (InputLayer)           [(None, None)]       0           []                               \n",
            "                                                                                                  \n",
            " lstm_1 (LSTM)                  [(None, 40, 256),    525312      ['lstm[0][0]']                   \n",
            "                                 (None, 256),                                                     \n",
            "                                 (None, 256)]                                                     \n",
            "                                                                                                  \n",
            " embedding_1 (Embedding)        (None, None, 128)    640000      ['input_2[0][0]']                \n",
            "                                                                                                  \n",
            " lstm_2 (LSTM)                  [(None, 40, 256),    525312      ['lstm_1[0][0]']                 \n",
            "                                 (None, 256),                                                     \n",
            "                                 (None, 256)]                                                     \n",
            "                                                                                                  \n",
            " lstm_3 (LSTM)                  [(None, None, 256),  394240      ['embedding_1[0][0]',            \n",
            "                                 (None, 256),                     'lstm_2[0][1]',                 \n",
            "                                 (None, 256)]                     'lstm_2[0][2]']                 \n",
            "                                                                                                  \n",
            " dense (Dense)                  (None, None, 5000)   1285000     ['lstm_3[0][0]']                 \n",
            "                                                                                                  \n",
            "==================================================================================================\n",
            "Total params: 6,324,104\n",
            "Trainable params: 6,324,104\n",
            "Non-trainable params: 0\n",
            "__________________________________________________________________________________________________\n"
          ]
        }
      ]
    },
    {
      "cell_type": "code",
      "source": [
        "# 어텐션 메커니즘\n",
        "\n",
        "from tensorflow.keras.layers import AdditiveAttention\n",
        "\n",
        "# 어텐션 층(어텐션 함수)\n",
        "attn_layer = AdditiveAttention(name='attention_layer')\n",
        "\n",
        "# 인코더와 디코더의 모든 time step의 hidden state를 어텐션 층에 전달하고 결과를 리턴\n",
        "attn_out = attn_layer([decoder_outputs, encoder_outputs])\n",
        "\n",
        "\n",
        "# 어텐션의 결과와 디코더의 hidden state들을 연결\n",
        "decoder_concat_input = Concatenate(axis=-1, name='concat_layer')([decoder_outputs, attn_out])\n",
        "\n",
        "# 디코더의 출력층\n",
        "decoder_softmax_layer = Dense(tar_vocab, activation='softmax')\n",
        "decoder_softmax_outputs = decoder_softmax_layer(decoder_concat_input)\n",
        "\n",
        "# 모델 정의\n",
        "model = Model([encoder_inputs, decoder_inputs], decoder_softmax_outputs)\n",
        "model.summary()"
      ],
      "metadata": {
        "colab": {
          "base_uri": "https://localhost:8080/"
        },
        "id": "tkoER2dQl_BZ",
        "outputId": "b31293df-e533-47b1-e516-570a92dbb060"
      },
      "id": "tkoER2dQl_BZ",
      "execution_count": 47,
      "outputs": [
        {
          "output_type": "stream",
          "name": "stdout",
          "text": [
            "Model: \"model_1\"\n",
            "__________________________________________________________________________________________________\n",
            " Layer (type)                   Output Shape         Param #     Connected to                     \n",
            "==================================================================================================\n",
            " input_1 (InputLayer)           [(None, 40)]         0           []                               \n",
            "                                                                                                  \n",
            " embedding (Embedding)          (None, 40, 128)      2560000     ['input_1[0][0]']                \n",
            "                                                                                                  \n",
            " lstm (LSTM)                    [(None, 40, 256),    394240      ['embedding[0][0]']              \n",
            "                                 (None, 256),                                                     \n",
            "                                 (None, 256)]                                                     \n",
            "                                                                                                  \n",
            " input_2 (InputLayer)           [(None, None)]       0           []                               \n",
            "                                                                                                  \n",
            " lstm_1 (LSTM)                  [(None, 40, 256),    525312      ['lstm[0][0]']                   \n",
            "                                 (None, 256),                                                     \n",
            "                                 (None, 256)]                                                     \n",
            "                                                                                                  \n",
            " embedding_1 (Embedding)        (None, None, 128)    640000      ['input_2[0][0]']                \n",
            "                                                                                                  \n",
            " lstm_2 (LSTM)                  [(None, 40, 256),    525312      ['lstm_1[0][0]']                 \n",
            "                                 (None, 256),                                                     \n",
            "                                 (None, 256)]                                                     \n",
            "                                                                                                  \n",
            " lstm_3 (LSTM)                  [(None, None, 256),  394240      ['embedding_1[0][0]',            \n",
            "                                 (None, 256),                     'lstm_2[0][1]',                 \n",
            "                                 (None, 256)]                     'lstm_2[0][2]']                 \n",
            "                                                                                                  \n",
            " attention_layer (AdditiveAtten  (None, None, 256)   256         ['lstm_3[0][0]',                 \n",
            " tion)                                                            'lstm_2[0][0]']                 \n",
            "                                                                                                  \n",
            " concat_layer (Concatenate)     (None, None, 512)    0           ['lstm_3[0][0]',                 \n",
            "                                                                  'attention_layer[0][0]']        \n",
            "                                                                                                  \n",
            " dense_1 (Dense)                (None, None, 5000)   2565000     ['concat_layer[0][0]']           \n",
            "                                                                                                  \n",
            "==================================================================================================\n",
            "Total params: 7,604,360\n",
            "Trainable params: 7,604,360\n",
            "Non-trainable params: 0\n",
            "__________________________________________________________________________________________________\n"
          ]
        }
      ]
    },
    {
      "cell_type": "code",
      "source": [
        "# 모델 훈련하기\n",
        "model.compile(optimizer='rmsprop', loss='sparse_categorical_crossentropy')\n",
        "es = EarlyStopping(monitor='val_loss', patience=2, verbose=1)\n",
        "history = model.fit(x=[encoder_input_train, decoder_input_train], y=decoder_target_train, \\\n",
        "          validation_data=([encoder_input_test, decoder_input_test], decoder_target_test), \\\n",
        "          batch_size=256, callbacks=[es], epochs=50)"
      ],
      "metadata": {
        "colab": {
          "base_uri": "https://localhost:8080/"
        },
        "id": "AtWJvXbXmNkb",
        "outputId": "c92395f7-8206-4390-ed6a-53b9613555f7"
      },
      "id": "AtWJvXbXmNkb",
      "execution_count": 48,
      "outputs": [
        {
          "output_type": "stream",
          "name": "stdout",
          "text": [
            "Epoch 1/50\n",
            "281/281 [==============================] - 32s 68ms/step - loss: 4.9779 - val_loss: 4.6033\n",
            "Epoch 2/50\n",
            "281/281 [==============================] - 17s 62ms/step - loss: 4.4372 - val_loss: 4.2568\n",
            "Epoch 3/50\n",
            "281/281 [==============================] - 17s 62ms/step - loss: 4.1224 - val_loss: 4.0075\n",
            "Epoch 4/50\n",
            "281/281 [==============================] - 17s 62ms/step - loss: 3.8795 - val_loss: 3.8245\n",
            "Epoch 5/50\n",
            "281/281 [==============================] - 18s 62ms/step - loss: 3.6933 - val_loss: 3.7084\n",
            "Epoch 6/50\n",
            "281/281 [==============================] - 17s 62ms/step - loss: 3.5390 - val_loss: 3.5940\n",
            "Epoch 7/50\n",
            "281/281 [==============================] - 17s 62ms/step - loss: 3.4068 - val_loss: 3.5199\n",
            "Epoch 8/50\n",
            "281/281 [==============================] - 18s 63ms/step - loss: 3.2931 - val_loss: 3.4544\n",
            "Epoch 9/50\n",
            "281/281 [==============================] - 17s 62ms/step - loss: 3.1917 - val_loss: 3.4053\n",
            "Epoch 10/50\n",
            "281/281 [==============================] - 17s 61ms/step - loss: 3.1015 - val_loss: 3.3603\n",
            "Epoch 11/50\n",
            "281/281 [==============================] - 17s 61ms/step - loss: 3.0204 - val_loss: 3.3283\n",
            "Epoch 12/50\n",
            "281/281 [==============================] - 17s 61ms/step - loss: 2.9470 - val_loss: 3.3069\n",
            "Epoch 13/50\n",
            "281/281 [==============================] - 17s 61ms/step - loss: 2.8812 - val_loss: 3.2775\n",
            "Epoch 14/50\n",
            "281/281 [==============================] - 17s 62ms/step - loss: 2.8191 - val_loss: 3.2600\n",
            "Epoch 15/50\n",
            "281/281 [==============================] - 17s 61ms/step - loss: 2.7629 - val_loss: 3.2516\n",
            "Epoch 16/50\n",
            "281/281 [==============================] - 17s 61ms/step - loss: 2.7093 - val_loss: 3.2398\n",
            "Epoch 17/50\n",
            "281/281 [==============================] - 17s 62ms/step - loss: 2.6605 - val_loss: 3.2258\n",
            "Epoch 18/50\n",
            "281/281 [==============================] - 17s 61ms/step - loss: 2.6126 - val_loss: 3.2217\n",
            "Epoch 19/50\n",
            "281/281 [==============================] - 17s 62ms/step - loss: 2.5693 - val_loss: 3.2154\n",
            "Epoch 20/50\n",
            "281/281 [==============================] - 17s 62ms/step - loss: 2.5283 - val_loss: 3.2133\n",
            "Epoch 21/50\n",
            "281/281 [==============================] - 17s 61ms/step - loss: 2.4888 - val_loss: 3.2121\n",
            "Epoch 22/50\n",
            "281/281 [==============================] - 17s 61ms/step - loss: 2.4505 - val_loss: 3.2101\n",
            "Epoch 23/50\n",
            "281/281 [==============================] - 17s 62ms/step - loss: 2.4163 - val_loss: 3.2116\n",
            "Epoch 24/50\n",
            "281/281 [==============================] - 17s 62ms/step - loss: 2.3828 - val_loss: 3.2147\n",
            "Epoch 24: early stopping\n"
          ]
        }
      ]
    },
    {
      "cell_type": "code",
      "source": [
        "plt.plot(history.history['loss'], label='train')\n",
        "plt.plot(history.history['val_loss'], label='test')\n",
        "plt.legend()\n",
        "plt.show()\n"
      ],
      "metadata": {
        "colab": {
          "base_uri": "https://localhost:8080/",
          "height": 265
        },
        "id": "sIf5apEuq72l",
        "outputId": "9077d962-a483-4037-c1f0-c32dec44f576"
      },
      "id": "sIf5apEuq72l",
      "execution_count": 73,
      "outputs": [
        {
          "output_type": "display_data",
          "data": {
            "text/plain": [
              "<Figure size 432x288 with 1 Axes>"
            ],
            "image/png": "[encoded data removed]"
          },
          "metadata": {
            "needs_background": "light"
          }
        }
      ]
    },
    {
      "cell_type": "code",
      "source": [
        ""
      ],
      "metadata": {
        "id": "NdRJN869q-3K"
      },
      "id": "NdRJN869q-3K",
      "execution_count": null,
      "outputs": []
    },
    {
      "cell_type": "markdown",
      "id": "c814c92a",
      "metadata": {
        "id": "c814c92a"
      },
      "source": [
        "# 4. 실제 결과와 요약문 비교하기(추상적 요약)\n",
        "원래의 요약문(headlines 열)과 학습을 통해 얻은 추상적 요약의 결과를 비교해 보세요."
      ]
    },
    {
      "cell_type": "code",
      "execution_count": 49,
      "id": "6f9e124e",
      "metadata": {
        "colab": {
          "base_uri": "https://localhost:8080/"
        },
        "id": "6f9e124e",
        "outputId": "5a2226fe-d8fe-4436-a00f-8a2e479b81b9"
      },
      "outputs": [
        {
          "output_type": "stream",
          "name": "stdout",
          "text": [
            "=3\n"
          ]
        }
      ],
      "source": [
        "# 인퍼런스 모델 구현하기\n",
        "\n",
        "src_index_to_word = src_tokenizer.index_word # 원문 단어 집합에서 정수 -> 단어를 얻음\n",
        "tar_word_to_index = tar_tokenizer.word_index # 요약 단어 집합에서 단어 -> 정수를 얻음\n",
        "tar_index_to_word = tar_tokenizer.index_word # 요약 단어 집합에서 정수 -> 단어를 얻음\n",
        "\n",
        "print('=3')"
      ]
    },
    {
      "cell_type": "code",
      "source": [
        "# 인코더 설계\n",
        "encoder_model = Model(inputs=encoder_inputs, outputs=[encoder_outputs, state_h, state_c])\n",
        "\n",
        "# 이전 시점의 상태들을 저장하는 텐서\n",
        "decoder_state_input_h = Input(shape=(hidden_size,))\n",
        "decoder_state_input_c = Input(shape=(hidden_size,))\n",
        "\n",
        "dec_emb2 = dec_emb_layer(decoder_inputs)\n",
        "\n",
        "# 문장의 다음 단어를 예측하기 위해서 초기 상태(initial_state)를 이전 시점의 상태로 사용. 이는 뒤의 함수 decode_sequence()에 구현\n",
        "# 훈련 과정에서와 달리 LSTM의 리턴하는 은닉 상태와 셀 상태인 state_h와 state_c를 버리지 않음.\n",
        "decoder_outputs2, state_h2, state_c2 = decoder_lstm(dec_emb2, initial_state=[decoder_state_input_h, decoder_state_input_c])\n",
        "\n",
        "print('=3')"
      ],
      "metadata": {
        "colab": {
          "base_uri": "https://localhost:8080/"
        },
        "id": "k0dFTFKooJWc",
        "outputId": "ccde86c0-ad71-4b01-84d2-6d67af613d45"
      },
      "id": "k0dFTFKooJWc",
      "execution_count": 50,
      "outputs": [
        {
          "output_type": "stream",
          "name": "stdout",
          "text": [
            "=3\n"
          ]
        }
      ]
    },
    {
      "cell_type": "code",
      "source": [
        "# 어텐션 함수\n",
        "decoder_hidden_state_input = Input(shape=(text_max_len, hidden_size))\n",
        "attn_out_inf = attn_layer([decoder_outputs2, decoder_hidden_state_input])\n",
        "decoder_inf_concat = Concatenate(axis=-1, name='concat')([decoder_outputs2, attn_out_inf])\n",
        "\n",
        "# 디코더의 출력층\n",
        "decoder_outputs2 = decoder_softmax_layer(decoder_inf_concat) \n",
        "\n",
        "# 최종 디코더 모델\n",
        "decoder_model = Model(\n",
        "    [decoder_inputs] + [decoder_hidden_state_input,decoder_state_input_h, decoder_state_input_c],\n",
        "    [decoder_outputs2] + [state_h2, state_c2])\n",
        "\n",
        "print('=3')"
      ],
      "metadata": {
        "colab": {
          "base_uri": "https://localhost:8080/"
        },
        "id": "vFdbVLd0oLYn",
        "outputId": "e6baa112-febd-4dc9-a808-1b6ac2ae8630"
      },
      "id": "vFdbVLd0oLYn",
      "execution_count": 51,
      "outputs": [
        {
          "output_type": "stream",
          "name": "stdout",
          "text": [
            "=3\n"
          ]
        }
      ]
    },
    {
      "cell_type": "code",
      "source": [
        "def decode_sequence(input_seq):\n",
        "    # 입력으로부터 인코더의 상태를 얻음\n",
        "    e_out, e_h, e_c = encoder_model.predict(input_seq)\n",
        "\n",
        "     # <SOS>에 해당하는 토큰 생성\n",
        "    target_seq = np.zeros((1,1))\n",
        "    target_seq[0, 0] = tar_word_to_index['sostoken']\n",
        "\n",
        "    stop_condition = False\n",
        "    decoded_sentence = ''\n",
        "    while not stop_condition: # stop_condition이 True가 될 때까지 루프 반복\n",
        "\n",
        "        output_tokens, h, c = decoder_model.predict([target_seq] + [e_out, e_h, e_c])\n",
        "        sampled_token_index = np.argmax(output_tokens[0, -1, :])\n",
        "        sampled_token = tar_index_to_word[sampled_token_index]\n",
        "\n",
        "        if (sampled_token!='eostoken'):\n",
        "            decoded_sentence += ' '+sampled_token\n",
        "\n",
        "        #  <eos>에 도달하거나 최대 길이를 넘으면 중단.\n",
        "        if (sampled_token == 'eostoken'  or len(decoded_sentence.split()) >= (headlines_max_len-1)):\n",
        "            stop_condition = True\n",
        "\n",
        "        # 길이가 1인 타겟 시퀀스를 업데이트\n",
        "        target_seq = np.zeros((1,1))\n",
        "        target_seq[0, 0] = sampled_token_index\n",
        "\n",
        "        # 상태를 업데이트 합니다.\n",
        "        e_h, e_c = h, c\n",
        "\n",
        "    return decoded_sentence\n",
        "print('=3')"
      ],
      "metadata": {
        "colab": {
          "base_uri": "https://localhost:8080/"
        },
        "id": "JJW4wqeWoRFx",
        "outputId": "2f9326cf-72b9-4c0f-b1f4-eedc67b8ce58"
      },
      "id": "JJW4wqeWoRFx",
      "execution_count": 54,
      "outputs": [
        {
          "output_type": "stream",
          "name": "stdout",
          "text": [
            "=3\n"
          ]
        }
      ]
    },
    {
      "cell_type": "code",
      "source": [
        "# 원문의 정수 시퀀스를 텍스트 시퀀스로 변환\n",
        "def seq2text(input_seq):\n",
        "    temp=''\n",
        "    for i in input_seq:\n",
        "        if (i!=0):\n",
        "            temp = temp + src_index_to_word[i]+' '\n",
        "    return temp\n",
        "\n",
        "# 요약문의 정수 시퀀스를 텍스트 시퀀스로 변환\n",
        "def seq2summary(input_seq):\n",
        "    temp=''\n",
        "    for i in input_seq:\n",
        "        if ((i!=0 and i!=tar_word_to_index['sostoken']) and i!=tar_word_to_index['eostoken']):\n",
        "            temp = temp + tar_index_to_word[i] + ' '\n",
        "    return temp\n",
        "\n",
        "print('=3')"
      ],
      "metadata": {
        "colab": {
          "base_uri": "https://localhost:8080/"
        },
        "id": "3wOFLzt-ogUY",
        "outputId": "58bb2a34-d46f-4a74-d826-c3b4b3618966"
      },
      "id": "3wOFLzt-ogUY",
      "execution_count": 55,
      "outputs": [
        {
          "output_type": "stream",
          "name": "stdout",
          "text": [
            "=3\n"
          ]
        }
      ]
    },
    {
      "cell_type": "code",
      "source": [
        "for i in range(50, 100):\n",
        "    print(\"원문 :\", seq2text(encoder_input_test[i]))\n",
        "    print(\"실제 요약 :\", seq2summary(decoder_input_test[i]))\n",
        "    print(\"예측 요약 :\", decode_sequence(encoder_input_test[i].reshape(1, text_max_len)))\n",
        "    print(\"\\n\")"
      ],
      "metadata": {
        "colab": {
          "base_uri": "https://localhost:8080/"
        },
        "id": "1wZN1xkhohyN",
        "outputId": "03ad9805-68d2-4ed0-efe0-93633c1cb21b"
      },
      "id": "1wZN1xkhohyN",
      "execution_count": 56,
      "outputs": [
        {
          "output_type": "stream",
          "name": "stdout",
          "text": [
            "원문 : two lashkar taiba militants attempted attack crpf camp srinagar karan nagar killed security personnel hour gun battle tuesday attack foiled alert jawan saw approaching camp immediately opened fire militants took refuge nearby building engaged gun battle \n",
            "실제 요약 : militants in crpf camp attack killed after hr gun battle \n",
            "예측 요약 :  militants attack on amarnath attack attack\n",
            "\n",
            "\n",
            "원문 : international group researchers developed generate electricity stretched twisted made carbon nanotubes times thinner human hair researchers powered small led lit every stretch could used harvesting energy motion waves temperature said researchers \n",
            "실제 요약 : that electricity on made \n",
            "예측 요약 :  scientists create self powered system\n",
            "\n",
            "\n",
            "원문 : per reports kareena kapoor khan star hindi remake marathi film kareena reportedly talks filmmaker ashutosh gowariker give final approval co stars script finalised ajay devgn first marathi film producer \n",
            "실제 요약 : kareena to star in hindi remake of report \n",
            "예측 요약 :  new release date of saif ali khan released\n",
            "\n",
            "\n",
            "원문 : us vice president mike pence reportedly hired virginia attorney richard outside legal counsel handle related ongoing fbi investigation alleged russian interference presidential elections comes president donald trump recently retained marc private counsel deal matters linked russia probe \n",
            "실제 요약 : white house hires outside to deal with russia probe \n",
            "예측 요약 :  us house us chief over trump remarks\n",
            "\n",
            "\n",
            "원문 : north east delhi municipal corporations requested delhi government sanction loans worth crore pay employees salaries three months comes several municipal school teachers threatened launch indefinite strike non payment salaries state yet released crore global share pending since december officials said \n",
            "실제 요약 : civic bodies seek cr loan from delhi govt for salaries \n",
            "예측 요약 :  delhi govt staff on strike to pay fee\n",
            "\n",
            "\n",
            "원문 : jaipur police monday posted unique graphic social media platforms warning viral kiki challenge caption challenge death keep away silly stunts advise friends well stay safe post read people around world posting videos dancing road complete challenge \n",
            "실제 요약 : do not challenge death jaipur police on viral challenge \n",
            "예측 요약 :  police to challenge challenge to challenge\n",
            "\n",
            "\n",
            "원문 : bangladesh prime minister sheikh hasina monday said resolution water sharing issue transform bilateral ties india prime minister modi reiterated government strong resolve conclude water sharing treaty added said comprehensive basin wide solution water sharing holds key shared future \n",
            "실제 요약 : resolution of issue will india ties \n",
            "예측 요약 :  pm modi calls for pm modi\n",
            "\n",
            "\n",
            "원문 : turkish court jailed man record years jail sexually abusing boys school worked charged crimes including child sexual abuse someone liberty obscenity blackmail reports said turkish government said would consider chemical castration child \n",
            "실제 요약 : turkish man jailed for record years over child sex abuse \n",
            "예측 요약 :  uk court allows female to child abuse\n",
            "\n",
            "\n",
            "원문 : uttar pradesh government decided introduce anti copying bill upcoming assembly session check cheating state examinations comes candidates registered class th th examinations left exam hall midway due many candidates found cheating exams \n",
            "실제 요약 : up to introduce anti copying bill to stop cheating in exams \n",
            "예측 요약 :  up govt to give up to conduct class exam\n",
            "\n",
            "\n",
            "원문 : police charged israeli man culpable homicide amounting murder girlfriend suffocated death sexual intercourse hotel mumbai incident took place trip india police said man currently israel applied pressure neck due suffocated \n",
            "실제 요약 : israeli man booked as lover to death during sex \n",
            "예측 요약 :  police arrests for killing in us\n",
            "\n",
            "\n",
            "원문 : per reports deepika padukone rejected offer star xxx avoiding taking projects around november owing marriage ranveer singh time reports added actress would seen xxx unless change wedding date \n",
            "실제 요약 : deepika rejects offer because of her marriage reports \n",
            "예측 요약 :  deepika to buy for crore reports\n",
            "\n",
            "\n",
            "원문 : godrej group chairman adi godrej said gst check tax evasion reduce unaccounted money system adding pay taxes get gst framework place things change better added commenting demonetisation godrej said whenever government tried control things failed \n",
            "실제 요약 : it is pay taxes or get out says \n",
            "예측 요약 :  gst is not need to gst benefits\n",
            "\n",
            "\n",
            "원문 : moscow slammed offering hitler youth haircut hitler youth haircut variant store owner apologised matter emerged adding would like say use title inappropriate taken away \n",
            "실제 요약 : offers hitler youth for \n",
            "예측 요약 :  uk apologises for chicken\n",
            "\n",
            "\n",
            "원문 : american rapper cent earned nearly million bitcoin admitted forgot earning bitcoins via sales album animal ambition bitcoins worth cent filed bankruptcy declaring debts million assets less million \n",
            "실제 요약 : says he he had now worth mn \n",
            "예측 요약 :  bitcoin to raise mn for bitcoin\n",
            "\n",
            "\n",
            "원문 : china monday blamed indian army recent stand along line actual control sikkim altercation stopped several indians pilgrimage kailash mansarovar china said step taken indian army blocked construction roads chinese army \n",
            "실제 요약 : china blames indian army for its in sikkim \n",
            "예측 요약 :  china asks citizens to learn from doklam\n",
            "\n",
            "\n",
            "원문 : ministry urban development proposed bill provides life sentence death penalty act sabotage intent cause death metro premises across india metro rail bill provides fine drunk commuters four year jail term carrying guns inside metro \n",
            "실제 요약 : bill proposes death penalty for \n",
            "예측 요약 :  death penalty for those who cleared of under rti\n",
            "\n",
            "\n",
            "원문 : picture posted reality television personality kylie jenner wherein revealed newborn daughter named become liked instagram post ever million likes beat record beyonc pregnancy announcement picture became liked post year old kylie first child boyfriend travis scott \n",
            "실제 요약 : pic of kylie baby becomes most instagram post ever \n",
            "예측 요약 :  sunny deol shares picture of her twins\n",
            "\n",
            "\n",
            "원문 : defeating bjp madhya pradesh rajasthan chhattisgarh recent assembly elections congress allies control governments five states india congress lost mizoram assembly elections mizo national front ruled state since notably union territory puducherry also ruled congress party \n",
            "실제 요약 : how many states in india are now being ruled by congress \n",
            "예측 요약 :  congress has won the congress in himachal pradesh cm\n",
            "\n",
            "\n",
            "원문 : filmmaker made luxury car style commercial depicting used honda accord car put sale ebay attracted bids commercial boasts features like deck rubber collection ends tagline luxury state mind \n",
            "실제 요약 : man films ad to sell old car for gets bid \n",
            "예측 요약 :  luxury brand puts up on sale\n",
            "\n",
            "\n",
            "원문 : radio address mann ki baat sunday pm narendra modi welcomed born st century democratic system start becoming eligible voters january vote biggest power democracy transform nation added also urged youth make development mass movement \n",
            "실제 요약 : welcome those born in st century as voters pm modi \n",
            "예측 요약 :  pm modi would be st nation pm modi\n",
            "\n",
            "\n",
            "원문 : launch crore mangalyaan mission november india became country reach martian orbit maiden voyage mangalyaan also asia first successful mars mission recently completed three years orbit despite designed last six months previous attempts reach mars successful \n",
            "실제 요약 : india only mission to reach mars in st attempt \n",
            "예측 요약 :  india to launch first ever launch in years\n",
            "\n",
            "\n",
            "원문 : bjp lok sabha mp monday said pm narendra modi leader emerge east take india new heights predicted french interestingly said predicted several historic events including rise hitler collapse world trade center \n",
            "실제 요약 : modi is the leader had bjp mp \n",
            "예측 요약 :  pm modi to declare in india\n",
            "\n",
            "\n",
            "원문 : kerala health minister kk directed health department conduct urgent preliminary inquiry reports alleged practice female genital mutilation state comes several media reports claimed illegal practice conducted medical clinics across kerala termed insult \n",
            "실제 요약 : kerala health dept to probe female \n",
            "예측 요약 :  kerala minister issues action against\n",
            "\n",
            "\n",
            "원문 : supreme court monday refused urgent hearing plea cbi officer manish kumar sinha investigated special director rakesh asthana saying nothing shocks us sinha sought quashing transfer nagpur maharashtra sinha lawyer told judges wanted bring shocking facts top court \n",
            "실제 요약 : nothing us sc refuses hearing on cbi officer plea \n",
            "예측 요약 :  sc dismisses plea to hear plea to hear fir against\n",
            "\n",
            "\n",
            "원문 : around maoists blew private solar power plant bihar gaya tuesday damaging control room administrative building police said held two security guards hostages detonated improvised explosive device attack act desperation maoists following increasing number security operations police said \n",
            "실제 요약 : maoists blow up private solar power plant in bihar \n",
            "예측 요약 :  killed in chhattisgarh coal mine kills\n",
            "\n",
            "\n",
            "원문 : bjp monday released second list containing names candidates upcoming karnataka assembly elections reddy brother illegal mining case accused reddy contest party ticket city constituency party announced candidates total seats constituencies state \n",
            "실제 요약 : bjp releases second list of candidates for taka polls \n",
            "예측 요약 :  bjp releases first list of candidates for gujarat polls\n",
            "\n",
            "\n",
            "원문 : rounder krunal pandya took twitter share picture brother hardik pandya signing autograph team india jersey privileged senior pandya number part caption read year old picked squad england washington sundar replacement feature single match \n",
            "실제 요약 : hardik pandya signs brother team india jersey \n",
            "예측 요약 :  hardik pandya to be made by pandya hardik pandya\n",
            "\n",
            "\n",
            "원문 : indian cricketer yuvraj singh posed photo zaheer khan landing maldives join latter birthday celebrations zaheer celebrated th birthday sunday also joined former mumbai pacer ajit agarkar photo zaheer yuvraj posted instagram former wife sagarika ghatge \n",
            "실제 요약 : yuvraj lands in maldives to join zaheer day celebrations \n",
            "예측 요약 :  yuvraj singh dances to celebrate day at lord\n",
            "\n",
            "\n",
            "원문 : least eight people including seven family killed several others injured nearly vehicles haryana rewari rohtak highway according reports incident took place near haryana jhajjar school bus trucks number cars among vehicles collided due poor visibility \n",
            "실제 요약 : vehicles up on haryana highway amid killed \n",
            "예측 요약 :  killed injured in road accident in uttar pradesh\n",
            "\n",
            "\n",
            "원문 : mit researchers developed robot arm play game combining abilities sight touch robot equipped force sensor wrist external camera probed blocks understand harder easier move outcomes attempts learn play \n",
            "실제 요약 : mit researchers train robot arm to play game \n",
            "예측 요약 :  mit develops robot that can detect\n",
            "\n",
            "\n",
            "원문 : three policemen kidnapped killed militants former cm mehbooba mufti slammed centre saying muscular policy working dialogue way forward seems distant dream added twitter account purportedly operated terror outfit hizbul mujahideen claimed responsibility kidnapping murder \n",
            "실제 요약 : nda policy not working pdp on policemen murder \n",
            "예측 요약 :  nothing to change in kashmir rajnath\n",
            "\n",
            "\n",
            "원문 : indian captain virat kohli deleted tweet welcoming anil kumble coach team kumble appointment kohli tweeted june last year looking forward kumble tenure great things store indian cricket stepping kumble said kohli reservations coaching style \n",
            "실제 요약 : virat kohli deletes tweet kumble as coach \n",
            "예측 요약 :  kohli kumble as kumble in the team of team\n",
            "\n",
            "\n",
            "원문 : google reportedly planning add iphone like notch smartphones next version android upcoming android version update android oreo also feature improved battery life support designs like multiple screens foldable displays new operating system internally codenamed android ice cream per reports \n",
            "실제 요약 : google to add iphone like to android phone report \n",
            "예측 요약 :  google launches new android android\n",
            "\n",
            "\n",
            "원문 : year old woman orlando us arrested allegedly pretending terminal cancer accepting donations lakh via gofundme pages charged one count wire fraud carries maximum prison sentence years due appear federal court new york august \n",
            "실제 요약 : woman arrested for cancer donation of \n",
            "예측 요약 :  woman arrested for selling drugs in us\n",
            "\n",
            "\n",
            "원문 : nasa scientists using data recently ended year cassini mission found evidence toxic hybrid ice cloud south pole saturn largest moon titan laboratory experiments determined ice cloud similar combination simple organic molecule hydrogen cyanide large ring shaped chemical \n",
            "실제 요약 : scientists find ice on saturn moon \n",
            "예측 요약 :  saturn moon ice claims found in days\n",
            "\n",
            "\n",
            "원문 : fitness trackers made defunct startup remained sale even companion app shut earlier year according consumer watchdog trackers listed sale amazon without functional app retailers removed trackers sale contacted \n",
            "실제 요약 : fitness were on sale despite app shutdown \n",
            "예측 요약 :  to launch smart that\n",
            "\n",
            "\n",
            "원문 : delhi chief minister arvind kejriwal monday said time throw undemocratic regime prime minister narendra modi urged people forget pm modi political opponents faced last five years adding last weeks office modi government unleashed cbi akhilesh yadav \n",
            "실제 요약 : time to throw out modi kejriwal \n",
            "예측 요약 :  kejriwal has not pm modi on kejriwal\n",
            "\n",
            "\n",
            "원문 : south african jazz artiste musa guitar six hour brain tumour surgery last week allowed doctors preserve brain areas used play music restore movement fingers affected tumour felt awkward uncomfortable general awake difficult concentrate said \n",
            "실제 요약 : plays during brain surgery in south africa \n",
            "예측 요약 :  doctors remove brain from brain\n",
            "\n",
            "\n",
            "원문 : move aimed boosting sales domestic products amid us sanctions iran ministry industry mine trade banned import items managing director iran commerce services trade development organisation said banned items similar domestic alternatives adding expect people support domestic products \n",
            "실제 요약 : iran bans import of items to support domestic products \n",
            "예측 요약 :  iran to buy oil imports to iran oil\n",
            "\n",
            "\n",
            "원문 : raymond chairman gautam singhania said father vijaypat singhania made mistake gifting shares worth crore stating rightfully mine agreement years shares coming said ho give shares gautam asked adding raymond would collapse someone else \n",
            "실제 요약 : father cr stake mine \n",
            "예측 요약 :  dad shares fall after loss of him\n",
            "\n",
            "\n",
            "원문 : rape eight year old mandsaur planned ahead moment decision two accused told police girl abducted school duo raped slit throat left dead girl hospital since found critical condition required two surgeries \n",
            "실제 요약 : raped year old in of the moment rape accused \n",
            "예측 요약 :  rape accused of raping minor girl in kerala\n",
            "\n",
            "\n",
            "원문 : oyo started digital record system provide real time updates including check check visitors state governments concerned authorities hotel managers capture guest details share authorities using app aditya ghosh oyo ceo south asia said process efficient transparent manual version \n",
            "실제 요약 : oyo to share live guest check in details with state govt \n",
            "예측 요약 :  why does india need to make world first\n",
            "\n",
            "\n",
            "원문 : woman england th century manor worth ticket six bedroom manor features cinema room wood burning stove parking six cars winner marie purchased tickets also receive title lady \n",
            "실제 요약 : woman wins crore with ticket \n",
            "예측 요약 :  woman wins lakh for lakh\n",
            "\n",
            "\n",
            "원문 : actress zareen khan recalling incident wherein slapped man mobbed aurangabad said someone shit know sick mentality men want grab women inappropriate manner high time women give back men added \n",
            "실제 요약 : not someone who takes on man who \n",
            "예측 요약 :  was told to sit on being molested by actress\n",
            "\n",
            "\n",
            "원문 : brazilian aviation company ceo paulo de souza said network electric aircraft developing uber likely launch commercially souza said engineers projecting one tonne vehicles transport four passengers altitude feet aircraft batteries five minutes flights souza added \n",
            "실제 요약 : uber electric aircraft likely to launch in \n",
            "예측 요약 :  to launch electric cars in us in us\n",
            "\n",
            "\n",
            "원문 : late actor vinod mehra son rohan mehra seen upcoming film baazaar said never got anything surname feel outsider bollywood despite son one even knew existed added rohan said amongst star kids spoken even film release \n",
            "실제 요약 : never got anything because of my vinod son \n",
            "예측 요약 :  my son is not my son michael\n",
            "\n",
            "\n",
            "원문 : court documents revealed blood testing startup theranos valued billion ran fake demonstration tests prospective investors complaint based testimony former employees directors claims theranos used commercial devices instead one drop blood testing technology cheat investors business partners \n",
            "실제 요약 : blood testing startup tests to investors lawsuit \n",
            "예측 요약 :  startup sues for million in startup\n",
            "\n",
            "\n",
            "원문 : young green sea turtles northern great barrier reef female warmer temperatures us based study found temperature eggs sex average global temperature predicted increase scientists fear high egg mortality female production among species \n",
            "실제 요약 : turning of female at \n",
            "예측 요약 :  in pictures in us\n",
            "\n",
            "\n",
            "원문 : commenting us president donald trump attempts comments made summit russian president vladimir putin german foreign minister said us allies demanded minimum degree reliability trump extremely difficult craft policies information facts half life hours added \n",
            "실제 요약 : allies ask minimum degree of from trump germany \n",
            "예측 요약 :  trump calls russia for russia meddling\n",
            "\n",
            "\n",
            "원문 : allegations students west bengal girls school forced write school said students something naughty guardian meeting held students written everything forced anything added parents alleged told daughters suffering homosexuality \n",
            "실제 요약 : students did something wb school on row \n",
            "예측 요약 :  girls should be girls with girls\n",
            "\n",
            "\n"
          ]
        }
      ]
    },
    {
      "cell_type": "code",
      "source": [
        ""
      ],
      "metadata": {
        "id": "l1neX87Iojvg"
      },
      "id": "l1neX87Iojvg",
      "execution_count": null,
      "outputs": []
    },
    {
      "cell_type": "markdown",
      "id": "65d455a4",
      "metadata": {
        "id": "65d455a4"
      },
      "source": [
        "# 5. Summa을 이용해서 추출적 요약해보기\n",
        "추상적 요약은 추출적 요약과는 달리 문장의 표현력을 다양하게 가져갈 수 있지만, 추출적 요약에 비해서 난이도가 높아요. 반대로 말하면 추출적 요약은 추상적 요약에 비해 난이도가 낮고 기존 문장에서 문장을 꺼내오는 것이므로 잘못된 요약이 나올 가능성이 낮아요.\n",
        "\n",
        "Summa의 summarize를 사용하여 추출적 요약을 해보세요."
      ]
    },
    {
      "cell_type": "code",
      "execution_count": 66,
      "id": "3be4aa70",
      "metadata": {
        "colab": {
          "base_uri": "https://localhost:8080/"
        },
        "id": "3be4aa70",
        "outputId": "f1acf3c0-ce52-4573-b852-ffe1e7e94000"
      },
      "outputs": [
        {
          "output_type": "stream",
          "name": "stdout",
          "text": [
            "summa                         1.2.0\n",
            "torchsummary                  1.5.1\n"
          ]
        }
      ],
      "source": [
        "#pip install summa\n",
        "! pip list | grep summa"
      ]
    },
    {
      "cell_type": "code",
      "source": [
        "import requests\n",
        "from summa.summarizer import summarize"
      ],
      "metadata": {
        "id": "TR58aRDapC8C"
      },
      "id": "TR58aRDapC8C",
      "execution_count": 67,
      "outputs": []
    },
    {
      "cell_type": "code",
      "source": [
        "text = requests.get('http://rare-technologies.com/the_matrix_synopsis.txt').text"
      ],
      "metadata": {
        "id": "hzDQCWRXpo4X"
      },
      "id": "hzDQCWRXpo4X",
      "execution_count": 68,
      "outputs": []
    },
    {
      "cell_type": "code",
      "source": [
        "print(text[:1500])"
      ],
      "metadata": {
        "colab": {
          "base_uri": "https://localhost:8080/"
        },
        "id": "RcwlOlKOpsfP",
        "outputId": "dcf15854-1421-4c75-f3b1-8f728fe2e63d"
      },
      "id": "RcwlOlKOpsfP",
      "execution_count": 69,
      "outputs": [
        {
          "output_type": "stream",
          "name": "stdout",
          "text": [
            "The screen is filled with green, cascading code which gives way to the title, The Matrix.\r\n",
            "\r\n",
            "A phone rings and text appears on the screen: \"Call trans opt: received. 2-19-98 13:24:18 REC: Log>\" As a conversation takes place between Trinity (Carrie-Anne Moss) and Cypher (Joe Pantoliano), two free humans, a table of random green numbers are being scanned and individual numbers selected, creating a series of digits not unlike an ordinary phone number, as if a code is being deciphered or a call is being traced.\r\n",
            "\r\n",
            "Trinity discusses some unknown person. Cypher taunts Trinity, suggesting she enjoys watching him. Trinity counters that \"Morpheus (Laurence Fishburne) says he may be 'the One',\" just as the sound of a number being selected alerts Trinity that someone may be tracing their call. She ends the call.\r\n",
            "\r\n",
            "Armed policemen move down a darkened, decrepit hallway in the Heart O' the City Hotel, their flashlight beam bouncing just ahead of them. They come to room 303, kick down the door and find a woman dressed in black, facing away from them. It's Trinity. She brings her hands up from the laptop she's working on at their command.\r\n",
            "\r\n",
            "Outside the hotel a car drives up and three agents appear in neatly pressed black suits. They are Agent Smith (Hugo Weaving), Agent Brown (Paul Goddard), and Agent Jones (Robert Taylor). Agent Smith and the presiding police lieutenant argue. Agent Smith admonishes the policeman that they were given specific orders to contact the agents first, for their\n"
          ]
        }
      ]
    },
    {
      "cell_type": "code",
      "source": [
        "print('headlines:')\n",
        "print(summarize(text, ratio=0.005))        #원문의 0.005%만 출력"
      ],
      "metadata": {
        "colab": {
          "base_uri": "https://localhost:8080/"
        },
        "id": "0rVlByiepFVp",
        "outputId": "154c14db-d115-4773-f3f4-b9ad4b50887a"
      },
      "id": "0rVlByiepFVp",
      "execution_count": 70,
      "outputs": [
        {
          "output_type": "stream",
          "name": "stdout",
          "text": [
            "headlines:\n",
            "Morpheus, Trinity, Neo, Apoc, Switch, Mouse and Cypher are jacked into the Matrix.\n",
            "Trinity brings the helicopter down to the floor that Morpheus is on and Neo opens fire on the three Agents.\n"
          ]
        }
      ]
    },
    {
      "cell_type": "code",
      "source": [
        "# 리스트로 출력 결과 받기\n",
        "print('headlines:')\n",
        "print(summarize(text, ratio=0.005, split=True))"
      ],
      "metadata": {
        "colab": {
          "base_uri": "https://localhost:8080/"
        },
        "id": "Ly_7jyJMp3fW",
        "outputId": "7fd85153-5f11-4ef3-8658-29ab5db8e231"
      },
      "id": "Ly_7jyJMp3fW",
      "execution_count": 71,
      "outputs": [
        {
          "output_type": "stream",
          "name": "stdout",
          "text": [
            "headlines:\n",
            "['Morpheus, Trinity, Neo, Apoc, Switch, Mouse and Cypher are jacked into the Matrix.', 'Trinity brings the helicopter down to the floor that Morpheus is on and Neo opens fire on the three Agents.']\n"
          ]
        }
      ]
    },
    {
      "cell_type": "code",
      "source": [
        "# 단어의 수로 요약문의 크기를 조절\n",
        "print('headlines:')\n",
        "print(summarize(text, words=50))"
      ],
      "metadata": {
        "colab": {
          "base_uri": "https://localhost:8080/"
        },
        "id": "HKGudKbcqJQ3",
        "outputId": "9c9dd554-a612-4d8c-aea2-21d56f9281d1"
      },
      "id": "HKGudKbcqJQ3",
      "execution_count": 72,
      "outputs": [
        {
          "output_type": "stream",
          "name": "stdout",
          "text": [
            "headlines:\n",
            "Trinity takes Neo to Morpheus.\n",
            "Morpheus, Trinity, Neo, Apoc, Switch, Mouse and Cypher are jacked into the Matrix.\n",
            "Trinity brings the helicopter down to the floor that Morpheus is on and Neo opens fire on the three Agents.\n"
          ]
        }
      ]
    },
    {
      "cell_type": "markdown",
      "source": [
        "# 회고 \n",
        "\n",
        "추상적 요약을 통하여 얻은 요약문을 살펴보면 실제 요약과는 다른 요약을 출력하는 걸 확인하였다.\n",
        "원문에 없던 단어들로 요약한 경우도 있다.\n",
        "\n",
        "요약을 하긴 했으나 원문에 맞지 않는 문장으로 요약을 한 것 같다. \n",
        "\n",
        "추출적 요약을 해본 결과 추상적 요약보다는 좀 더 난이도가 낮다는걸 확인하였다.\n",
        "\n",
        "과정을 진행하면서 복잡한 개념들(LSTM, 어텐션 메커니즘 등)이 있었고 전처리 과정이 힘들었던 것같다."
      ],
      "metadata": {
        "id": "EmQvnExprcSu"
      },
      "id": "EmQvnExprcSu"
    },
    {
      "cell_type": "code",
      "source": [
        ""
      ],
      "metadata": {
        "id": "1QYbWvIbrlCf"
      },
      "id": "1QYbWvIbrlCf",
      "execution_count": null,
      "outputs": []
    }
  ],
  "metadata": {
    "kernelspec": {
      "display_name": "Python 3 (ipykernel)",
      "language": "python",
      "name": "python3"
    },
    "language_info": {
      "codemirror_mode": {
        "name": "ipython",
        "version": 3
      },
      "file_extension": ".py",
      "mimetype": "text/x-python",
      "name": "python",
      "nbconvert_exporter": "python",
      "pygments_lexer": "ipython3",
      "version": "3.9.7"
    },
    "colab": {
      "name": "[E-07] 프로젝트_신준호.ipynb",
      "provenance": [],
      "collapsed_sections": []
    },
    "accelerator": "GPU"
  },
  "nbformat": 4,
  "nbformat_minor": 5
}
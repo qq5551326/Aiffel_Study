{
 "cells": [
  {
   "cell_type": "code",
   "execution_count": null,
   "id": "f65b5eae",
   "metadata": {},
   "outputs": [],
   "source": [
    "import numpy as np\n",
    "import pandas as pd\n",
    "import os\n",
    "import re\n",
    "import matplotlib.pyplot as plt"
   ]
  },
  {
   "cell_type": "markdown",
   "id": "a80f1e0a",
   "metadata": {},
   "source": [
    "# 나머지 년도"
   ]
  },
  {
   "cell_type": "code",
   "execution_count": 2,
   "id": "5e5f2bf0",
   "metadata": {},
   "outputs": [],
   "source": [
    "def firdata(visa_path):\n",
    "    visa = pd.read_csv(visa_path)\n",
    "    temp = visa.copy()\n",
    "    temp = temp.drop('Job_Title', axis = 1)\n",
    "    temp = temp.drop('Employer_Country', axis = 1)\n",
    "    temp = temp.drop(temp[(temp['Employer_Name'].isnull()) | (temp['SOC_Title'].isnull()) | (temp['Full_Time_Position'].isnull()) | (temp['Prevailing_Wage'].isnull()) | (temp['Unit_Of_Pay'].isnull())].index)\n",
    "    temp = temp.drop(temp[temp['Employer_Location'].isnull()].index)\n",
    "    temp['Worksite'] = temp['Worksite'].fillna(temp['Employer_Location'])\n",
    "    print(temp.isnull().sum())\n",
    "    return temp\n",
    "    \n"
   ]
  },
  {
   "cell_type": "markdown",
   "id": "aab56388",
   "metadata": {},
   "source": [
    "# 2019년도 만"
   ]
  },
  {
   "cell_type": "code",
   "execution_count": 4,
   "id": "6136c743",
   "metadata": {},
   "outputs": [],
   "source": [
    "def secdata(visa_path):\n",
    "    visa = pd.read_csv(visa_path)\n",
    "    temp = visa.copy()\n",
    "    temp = temp.drop('Job_Title', axis = 1)\n",
    "    temp = temp.drop('Employer_Country', axis = 1)\n",
    "    temp = temp.drop(temp[(temp['Employer_Name'].isnull()) | (temp['SOC_Title'].isnull()) | (temp['Full_Time_Position'].isnull()) | (temp['Wage_Rate_Of_Pay'].isnull()) | (temp['Unit_Of_Pay'].isnull())].index)\n",
    "    temp = temp.drop(temp[temp['Employer_Location'].isnull()].index)\n",
    "    temp['Worksite'] = temp['Worksite'].fillna(temp['Employer_Location'])\n",
    "    print(temp.isnull().sum())\n",
    "    return temp\n",
    "    \n"
   ]
  },
  {
   "cell_type": "markdown",
   "id": "d464ae34",
   "metadata": {},
   "source": [
    "# 예시"
   ]
  },
  {
   "cell_type": "code",
   "execution_count": 3,
   "id": "6f154a16",
   "metadata": {},
   "outputs": [
    {
     "name": "stdout",
     "output_type": "stream",
     "text": [
      "Visa_Class            0\n",
      "Employer_Name         0\n",
      "SOC_Title             0\n",
      "Full_Time_Position    0\n",
      "Worksite              0\n",
      "Prevailing_Wage       0\n",
      "Unit_Of_Pay           0\n",
      "Employer_Location     0\n",
      "Case_Status           0\n",
      "dtype: int64\n"
     ]
    }
   ],
   "source": [
    "visa_2017 = firdata('archive (1)/LCA_FY_2017.csv')"
   ]
  },
  {
   "cell_type": "code",
   "execution_count": 5,
   "id": "67dc4d81",
   "metadata": {},
   "outputs": [
    {
     "data": {
      "text/plain": [
       "H-1B               610190\n",
       "E-3 Australian      12142\n",
       "H-1B1 Singapore      1254\n",
       "H-1B1 Chile           933\n",
       "Name: Visa_Class, dtype: int64"
      ]
     },
     "execution_count": 5,
     "metadata": {},
     "output_type": "execute_result"
    }
   ],
   "source": [
    "visa_2017['Visa_Class'].value_counts()"
   ]
  },
  {
   "cell_type": "code",
   "execution_count": 6,
   "id": "ba527136",
   "metadata": {},
   "outputs": [
    {
     "data": {
      "text/plain": [
       "H-1B               533570\n",
       "E-3 Australian      10189\n",
       "H-1B1 Singapore      1089\n",
       "H-1B1 Chile           792\n",
       "Name: Visa_Class, dtype: int64"
      ]
     },
     "execution_count": 6,
     "metadata": {},
     "output_type": "execute_result"
    }
   ],
   "source": [
    "visa_2017[visa_2017['Case_Status'] == 'CERTIFIED']['Visa_Class'].value_counts()"
   ]
  },
  {
   "cell_type": "code",
   "execution_count": 7,
   "id": "5764ad71",
   "metadata": {},
   "outputs": [
    {
     "data": {
      "text/plain": [
       "H-1B               87.443255\n",
       "E-3 Australian     83.915335\n",
       "H-1B1 Singapore    86.842105\n",
       "H-1B1 Chile        84.887460\n",
       "Name: Visa_Class, dtype: float64"
      ]
     },
     "execution_count": 7,
     "metadata": {},
     "output_type": "execute_result"
    }
   ],
   "source": [
    "visa_2017[visa_2017['Case_Status'] == 'CERTIFIED']['Visa_Class'].value_counts() / visa_2017['Visa_Class'].value_counts() * 100 "
   ]
  },
  {
   "cell_type": "code",
   "execution_count": null,
   "id": "5eb26d23",
   "metadata": {},
   "outputs": [],
   "source": []
  }
 ],
 "metadata": {
  "kernelspec": {
   "display_name": "Python 3 (ipykernel)",
   "language": "python",
   "name": "python3"
  },
  "language_info": {
   "codemirror_mode": {
    "name": "ipython",
    "version": 3
   },
   "file_extension": ".py",
   "mimetype": "text/x-python",
   "name": "python",
   "nbconvert_exporter": "python",
   "pygments_lexer": "ipython3",
   "version": "3.9.7"
  }
 },
 "nbformat": 4,
 "nbformat_minor": 5
}

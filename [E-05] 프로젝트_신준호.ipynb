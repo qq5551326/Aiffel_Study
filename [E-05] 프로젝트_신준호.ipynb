{
 "cells": [
  {
   "cell_type": "markdown",
   "id": "80b5a81e",
   "metadata": {},
   "source": [
    "# 가위바위보 분류기를 만들자.\n",
    "라이브러리 버전을 확인해 봅니다.\n",
    "***\n",
    "사용할 라이브러리 버전을 둘러봅시다.\n"
   ]
  },
  {
   "cell_type": "code",
   "execution_count": 1,
   "id": "da650a1d",
   "metadata": {},
   "outputs": [
    {
     "name": "stdout",
     "output_type": "stream",
     "text": [
      "2.6.0\n",
      "1.22.2\n"
     ]
    }
   ],
   "source": [
    "import tensorflow as tf\n",
    "import numpy as np\n",
    "import os \n",
    "\n",
    "print(tf.__version__)\n",
    "print(np.__version__)\n"
   ]
  },
  {
   "cell_type": "markdown",
   "id": "b89928d4",
   "metadata": {},
   "source": [
    "# 디렉토리 만들기\n",
    "이제 클라우드에 실습용 디렉토리 rock_scissor_paper 및 하위 디렉토리들을 만들어, 데이터셋을 올릴 차례입니다!\n"
   ]
  },
  {
   "cell_type": "markdown",
   "id": "f99e7a50",
   "metadata": {},
   "source": [
    "# 디렉토리 만들기  \n",
    "$ mkdir -p ~/aiffel/rock_scissor_paper/scissor  \n",
    "\n",
    "$ mkdir -p ~/aiffel/rock_scissor_paper/rock  \n",
    "\n",
    "$ mkdir -p ~/aiffel/rock_scissor_paper/paper  \n",
    "\n",
    "\n",
    "$ ls -l ~/aiffel/rock_scissor_paper"
   ]
  },
  {
   "cell_type": "markdown",
   "id": "725aaf60",
   "metadata": {},
   "source": [
    "# 클라우드 이미지 압축 해제\n",
    "압축 해제를 하려면 Cloud shell을 열고 아래 명령어를 입력해주세요."
   ]
  },
  {
   "cell_type": "markdown",
   "id": "88df9bcc",
   "metadata": {},
   "source": [
    "# 원하는 디렉토리로 이동 =3\n",
    "$ cd  ~/aiffel/rock_scissor_paper/rock  \n",
    "\n",
    "# 압축 해제 명령어 : unzip <파일명>.zip  \n",
    "\n",
    "$ unzip rock.zip  \n",
    "\n",
    "# 가위, 보에 대해서도 똑같이 실행!\n",
    "\n",
    "$ cd  ~/aiffel/rock_scissor_paper/scissor \n",
    "\n",
    "$ unzip scissor.zip  \n",
    "\n",
    "$ cd  ~/aiffel/rock_scissor_paper/paper  \n",
    "\n",
    "$ unzip paper.zip  "
   ]
  },
  {
   "cell_type": "markdown",
   "id": "c0de0011",
   "metadata": {},
   "source": [
    "# 데이터 불러오기  + Resize 하기\n",
    "숫자 손글씨의 경우 이미지 크기가 28x28 이었기 때문에, 우리의 가위, 바위, 보 이미지도 28x28로 만들어야 합니다. 이를 위해서는 PIL 라이브러리를 사용해볼 거예요. 그러려면 먼저 라이브러리를 불러와야 겠죠?\n"
   ]
  },
  {
   "cell_type": "code",
   "execution_count": 2,
   "id": "90c9f888",
   "metadata": {},
   "outputs": [
    {
     "name": "stdout",
     "output_type": "stream",
     "text": [
      "PIL 라이브러리 import 완료!\n"
     ]
    }
   ],
   "source": [
    "from PIL import Image\n",
    "import glob\n",
    "\n",
    "print(\"PIL 라이브러리 import 완료!\")"
   ]
  },
  {
   "cell_type": "code",
   "execution_count": 3,
   "id": "96b156aa",
   "metadata": {},
   "outputs": [
    {
     "name": "stdout",
     "output_type": "stream",
     "text": [
      "200  images to be resized.\n",
      "200  images resized.\n",
      "가위 이미지 resize 완료!\n"
     ]
    }
   ],
   "source": [
    "def resize_images(img_path):\n",
    "\timages=glob.glob(img_path + \"/*.jpg\")  \n",
    "    \n",
    "\tprint(len(images), \" images to be resized.\")\n",
    "\n",
    "    # 파일마다 모두 28x28 사이즈로 바꾸어 저장합니다.\n",
    "\ttarget_size=(28,28)\n",
    "\tfor img in images:\n",
    "\t\told_img=Image.open(img)\n",
    "\t\tnew_img=old_img.resize(target_size,Image.ANTIALIAS)\n",
    "\t\tnew_img.save(img, \"JPEG\")\n",
    "    \n",
    "\tprint(len(images), \" images resized.\")\n",
    "\t\n",
    "# 가위 이미지가 저장된 디렉토리 아래의 모든 jpg 파일을 읽어들여서\n",
    "image_dir_path = os.getenv(\"HOME\") + \"/aiffel/rock_scissor_paper/scissor\"\n",
    "resize_images(image_dir_path)\n",
    "\n",
    "print(\"가위 이미지 resize 완료!\")"
   ]
  },
  {
   "cell_type": "code",
   "execution_count": 4,
   "id": "51c60982",
   "metadata": {},
   "outputs": [
    {
     "name": "stdout",
     "output_type": "stream",
     "text": [
      "200  images to be resized.\n",
      "200  images resized.\n"
     ]
    }
   ],
   "source": [
    "# 바위 이미지가 저장된 디렉토리 아래의 모든 jpg 파일을 읽어들여서\n",
    "image_dir_path = os.getenv(\"HOME\") + \"/aiffel/rock_scissor_paper/rock\"\n",
    "\n",
    "# 파일마다 모두 28x28 사이즈로 바꾸어 저장합니다.\n",
    "resize_images(image_dir_path)"
   ]
  },
  {
   "cell_type": "code",
   "execution_count": 5,
   "id": "42ffa671",
   "metadata": {},
   "outputs": [
    {
     "name": "stdout",
     "output_type": "stream",
     "text": [
      "200  images to be resized.\n",
      "200  images resized.\n"
     ]
    }
   ],
   "source": [
    "# 보 이미지가 저장된 디렉토리 아래의 모든 jpg 파일을 읽어들여서\n",
    "image_dir_path = os.getenv(\"HOME\") + \"/aiffel/rock_scissor_paper/paper\"\n",
    "\n",
    "# 파일마다 모두 28x28 사이즈로 바꾸어 저장합니다.\n",
    "resize_images(image_dir_path)"
   ]
  },
  {
   "cell_type": "markdown",
   "id": "b451535b",
   "metadata": {},
   "source": [
    "# load_data() 함수로 데이터 읽어오기\n",
    "3개의 클래스 즉   \n",
    "가위:0, 바위:1, 보:2 로 라벨링이 됨"
   ]
  },
  {
   "cell_type": "code",
   "execution_count": 6,
   "id": "bb309b9d",
   "metadata": {},
   "outputs": [
    {
     "name": "stdout",
     "output_type": "stream",
     "text": [
      "학습데이터(x_train)의 이미지 개수는 600 입니다.\n",
      "x_train shape: (600, 28, 28, 3)\n",
      "y_train shape: (600,)\n"
     ]
    }
   ],
   "source": [
    "import numpy as np\n",
    "\n",
    "def load_data(img_path, number_of_data=600):  # 가위바위보 이미지 개수 총합에 주의하세요.\n",
    "    # 가위 : 0, 바위 : 1, 보 : 2\n",
    "    img_size=28\n",
    "    color=3\n",
    "    #이미지 데이터와 라벨(가위 : 0, 바위 : 1, 보 : 2) 데이터를 담을 행렬(matrix) 영역을 생성합니다.\n",
    "    imgs=np.zeros(number_of_data*img_size*img_size*color,dtype=np.int32).reshape(number_of_data,img_size,img_size,color)\n",
    "    labels=np.zeros(number_of_data,dtype=np.int32)\n",
    "\n",
    "    idx=0\n",
    "    for file in glob.iglob(img_path+'/scissor/*.jpg'):\n",
    "        img = np.array(Image.open(file),dtype=np.int32)\n",
    "        imgs[idx,:,:,:]=img    # 데이터 영역에 이미지 행렬을 복사\n",
    "        labels[idx]=0   # 가위 : 0\n",
    "        idx=idx+1\n",
    "\n",
    "    for file in glob.iglob(img_path+'/rock/*.jpg'):\n",
    "        img = np.array(Image.open(file),dtype=np.int32)\n",
    "        imgs[idx,:,:,:]=img    # 데이터 영역에 이미지 행렬을 복사\n",
    "        labels[idx]=1   # 바위 : 1\n",
    "        idx=idx+1  \n",
    "    \n",
    "    for file in glob.iglob(img_path+'/paper/*.jpg'):\n",
    "        img = np.array(Image.open(file),dtype=np.int32)\n",
    "        imgs[idx,:,:,:]=img    # 데이터 영역에 이미지 행렬을 복사\n",
    "        labels[idx]=2   # 보 : 2\n",
    "        idx=idx+1\n",
    "        \n",
    "    print(\"학습데이터(x_train)의 이미지 개수는\", idx,\"입니다.\")\n",
    "    return imgs, labels\n",
    "\n",
    "image_dir_path = os.getenv(\"HOME\") + \"/aiffel/rock_scissor_paper\"\n",
    "(x_train, y_train)=load_data(image_dir_path)\n",
    "x_train_norm = x_train/255.0   # 입력은 0~1 사이의 값으로 정규화\n",
    "\n",
    "print(\"x_train shape: {}\".format(x_train.shape))\n",
    "print(\"y_train shape: {}\".format(y_train.shape))"
   ]
  },
  {
   "cell_type": "markdown",
   "id": "5039f38e",
   "metadata": {},
   "source": [
    "이미지 한번 불러오기"
   ]
  },
  {
   "cell_type": "code",
   "execution_count": 7,
   "id": "44e08406",
   "metadata": {},
   "outputs": [
    {
     "name": "stdout",
     "output_type": "stream",
     "text": [
      "라벨:  0\n"
     ]
    },
    {
     "data": {
      "image/png": "[encoded data removed]",
      "text/plain": [
       "<Figure size 432x288 with 1 Axes>"
      ]
     },
     "metadata": {
      "needs_background": "light"
     },
     "output_type": "display_data"
    }
   ],
   "source": [
    "import matplotlib.pyplot as plt\n",
    "plt.imshow(x_train[0])\n",
    "print('라벨: ', y_train[0])\n"
   ]
  },
  {
   "cell_type": "markdown",
   "id": "e79f4fe1",
   "metadata": {},
   "source": [
    "# 딥러닝 네트워크 설계하기"
   ]
  },
  {
   "cell_type": "code",
   "execution_count": 8,
   "id": "1e1f3cad",
   "metadata": {},
   "outputs": [
    {
     "name": "stdout",
     "output_type": "stream",
     "text": [
      "Model에 추가된 Layer 개수:  7\n",
      "Model: \"sequential\"\n",
      "_________________________________________________________________\n",
      "Layer (type)                 Output Shape              Param #   \n",
      "=================================================================\n",
      "conv2d (Conv2D)              (None, 26, 26, 16)        448       \n",
      "_________________________________________________________________\n",
      "max_pooling2d (MaxPooling2D) (None, 13, 13, 16)        0         \n",
      "_________________________________________________________________\n",
      "conv2d_1 (Conv2D)            (None, 11, 11, 32)        4640      \n",
      "_________________________________________________________________\n",
      "max_pooling2d_1 (MaxPooling2 (None, 5, 5, 32)          0         \n",
      "_________________________________________________________________\n",
      "flatten (Flatten)            (None, 800)               0         \n",
      "_________________________________________________________________\n",
      "dense (Dense)                (None, 32)                25632     \n",
      "_________________________________________________________________\n",
      "dense_1 (Dense)              (None, 3)                 99        \n",
      "=================================================================\n",
      "Total params: 30,819\n",
      "Trainable params: 30,819\n",
      "Non-trainable params: 0\n",
      "_________________________________________________________________\n"
     ]
    }
   ],
   "source": [
    "import tensorflow as tf\n",
    "from tensorflow import keras\n",
    "import numpy as np\n",
    "\n",
    "# model을 직접 만들어 보세요.\n",
    "model=keras.models.Sequential()\n",
    "model.add(keras.layers.Conv2D(16, (3,3), activation='relu', input_shape=(28,28,3)))\n",
    "model.add(keras.layers.MaxPool2D(2,2))\n",
    "model.add(keras.layers.Conv2D(32, (3,3), activation='relu'))\n",
    "model.add(keras.layers.MaxPooling2D((2,2)))\n",
    "model.add(keras.layers.Flatten())\n",
    "model.add(keras.layers.Dense(32, activation='relu'))\n",
    "model.add(keras.layers.Dense(3, activation='softmax'))\n",
    "\n",
    "print('Model에 추가된 Layer 개수: ', len(model.layers))\n",
    "\n",
    "model.summary()"
   ]
  },
  {
   "cell_type": "markdown",
   "id": "c8bc9e4a",
   "metadata": {},
   "source": [
    "# 딥러닝 네트워크 학습시키기\n"
   ]
  },
  {
   "cell_type": "code",
   "execution_count": 9,
   "id": "4d0b7ac0",
   "metadata": {},
   "outputs": [
    {
     "name": "stdout",
     "output_type": "stream",
     "text": [
      "Epoch 1/10\n",
      "19/19 [==============================] - 1s 18ms/step - loss: 5.4947 - accuracy: 0.5400\n",
      "Epoch 2/10\n",
      "19/19 [==============================] - 0s 20ms/step - loss: 0.6385 - accuracy: 0.7950\n",
      "Epoch 3/10\n",
      "19/19 [==============================] - 0s 18ms/step - loss: 0.2694 - accuracy: 0.8783\n",
      "Epoch 4/10\n",
      "19/19 [==============================] - 0s 18ms/step - loss: 0.1953 - accuracy: 0.9250\n",
      "Epoch 5/10\n",
      "19/19 [==============================] - 0s 20ms/step - loss: 0.1295 - accuracy: 0.9550\n",
      "Epoch 6/10\n",
      "19/19 [==============================] - 0s 18ms/step - loss: 0.0859 - accuracy: 0.9667\n",
      "Epoch 7/10\n",
      "19/19 [==============================] - 0s 19ms/step - loss: 0.0494 - accuracy: 0.9883\n",
      "Epoch 8/10\n",
      "19/19 [==============================] - 0s 20ms/step - loss: 0.0311 - accuracy: 0.9967\n",
      "Epoch 9/10\n",
      "19/19 [==============================] - 0s 18ms/step - loss: 0.0261 - accuracy: 0.9983\n",
      "Epoch 10/10\n",
      "19/19 [==============================] - 0s 19ms/step - loss: 0.0177 - accuracy: 0.9967\n"
     ]
    },
    {
     "data": {
      "text/plain": [
       "<keras.callbacks.History at 0x7faff4db9a00>"
      ]
     },
     "execution_count": 9,
     "metadata": {},
     "output_type": "execute_result"
    }
   ],
   "source": [
    "# model을 학습시키는 코드를 직접 작성해 보세요.\n",
    "# Hint! model.compile()과 model.fit()을 사용\n",
    "model.compile(optimizer='adam',\n",
    "             loss='sparse_categorical_crossentropy',\n",
    "             metrics=['accuracy'])\n",
    "\n",
    "model.fit(x_train, y_train, epochs=10)"
   ]
  },
  {
   "cell_type": "markdown",
   "id": "5250cfc5",
   "metadata": {},
   "source": [
    "# 얼마나 잘 만들었는지 확인하기(테스트)\n",
    "***\n",
    "300장의 가위바위보 이미지를 만들어 모두 학습에 사용했음.  \n",
    "그러므로 테스트 데이터가 없음. 옆 친구의 이미지 데이터 300장을 받아오기.  \n",
    "그것을 테스트 데이터로 하여 test accuracy를 측정하기. "
   ]
  },
  {
   "cell_type": "code",
   "execution_count": 10,
   "id": "ad5a7451",
   "metadata": {},
   "outputs": [],
   "source": [
    "# test 디렉토리를 생성해서, 친구에게 받은 데이터를 업로드해보세요.\n",
    "# ! mkdir -p ~/aiffel/rock_scissor_paper/test"
   ]
  },
  {
   "cell_type": "code",
   "execution_count": 11,
   "id": "5e9ac483",
   "metadata": {
    "scrolled": true
   },
   "outputs": [
    {
     "name": "stdout",
     "output_type": "stream",
     "text": [
      "100  images to be resized.\n",
      "100  images resized.\n",
      "100  images to be resized.\n",
      "100  images resized.\n",
      "100  images to be resized.\n",
      "100  images resized.\n",
      "테스트 데이터(x_test)의 이미지 개수는 300 입니다.\n",
      "x_test shape: (300, 28, 28, 3)\n",
      "y_test shape: (300,)\n"
     ]
    }
   ],
   "source": [
    "# x_test, y_test를 만드는 방법은 x_train, y_train을 만드는 방법과 아주 유사합니다.\n",
    "# [[YOUR CODE]]\n",
    "\n",
    "# 이미지 크기 바꾸기 28X28사이즈로. (바위)\n",
    "image_dir_path = os.getenv(\"HOME\") + \"/aiffel/rock_scissor_paper/test/rock_test\"\n",
    "resize_images(image_dir_path)\n",
    "# (가위)\n",
    "image_dir_path = os.getenv(\"HOME\") + \"/aiffel/rock_scissor_paper/test/scissor_test\"\n",
    "resize_images(image_dir_path)\n",
    "# (보)\n",
    "image_dir_path = os.getenv(\"HOME\") + \"/aiffel/rock_scissor_paper/test/paper_test\"\n",
    "resize_images(image_dir_path)\n",
    "\n",
    "\n",
    "# load_data 함수 만들기(테스트용)\n",
    "import numpy as np\n",
    "\n",
    "def load_data(img_path, number_of_data=300):  # 가위바위보 이미지 개수 총합에 주의하세요.\n",
    "    # 가위 : 0, 바위 : 1, 보 : 2\n",
    "    img_size=28\n",
    "    color=3\n",
    "    #이미지 데이터와 라벨(가위 : 0, 바위 : 1, 보 : 2) 데이터를 담을 행렬(matrix) 영역을 생성합니다.\n",
    "    imgs=np.zeros(number_of_data*img_size*img_size*color,dtype=np.int32).reshape(number_of_data,img_size,img_size,color)\n",
    "    labels=np.zeros(number_of_data,dtype=np.int32)\n",
    "\n",
    "    idx=0\n",
    "    for file in glob.iglob(img_path+'/scissor_test/*.jpg'):\n",
    "        img = np.array(Image.open(file),dtype=np.int32)\n",
    "        imgs[idx,:,:,:]=img    # 데이터 영역에 이미지 행렬을 복사\n",
    "        labels[idx]=0   # 가위 : 0\n",
    "        idx=idx+1\n",
    "\n",
    "    for file in glob.iglob(img_path+'/rock_test/*.jpg'):\n",
    "        img = np.array(Image.open(file),dtype=np.int32)\n",
    "        imgs[idx,:,:,:]=img    # 데이터 영역에 이미지 행렬을 복사\n",
    "        labels[idx]=1   # 바위 : 1\n",
    "        idx=idx+1  \n",
    "    \n",
    "    for file in glob.iglob(img_path+'/paper_test/*.jpg'):\n",
    "        img = np.array(Image.open(file),dtype=np.int32)\n",
    "        imgs[idx,:,:,:]=img    # 데이터 영역에 이미지 행렬을 복사\n",
    "        labels[idx]=2   # 보 : 2\n",
    "        idx=idx+1\n",
    "        \n",
    "    print(\"테스트 데이터(x_test)의 이미지 개수는\", idx,\"입니다.\")\n",
    "    return imgs, labels\n",
    "\n",
    "image_dir_path = os.getenv(\"HOME\") + \"/aiffel/rock_scissor_paper/test\"\n",
    "(x_test, y_test)=load_data(image_dir_path)\n",
    "x_test_norm = x_test/255.0   # 입력은 0~1 사이의 값으로 정규화\n",
    "\n",
    "print(\"x_test shape: {}\".format(x_test.shape))\n",
    "print(\"y_test shape: {}\".format(y_test.shape))"
   ]
  },
  {
   "cell_type": "markdown",
   "id": "5ddce9d9",
   "metadata": {},
   "source": [
    "# 더 좋은 네트워크 만들어보기\n",
    "시험용 데이터 x_test에 대한 인식률 test accuracy가 train accuracy 보다 낮게 나오는 것을 개선하기.\n"
   ]
  },
  {
   "cell_type": "code",
   "execution_count": 12,
   "id": "c4c85187",
   "metadata": {
    "scrolled": true
   },
   "outputs": [
    {
     "name": "stdout",
     "output_type": "stream",
     "text": [
      "Model: \"sequential_1\"\n",
      "_________________________________________________________________\n",
      "Layer (type)                 Output Shape              Param #   \n",
      "=================================================================\n",
      "conv2d_2 (Conv2D)            (None, 26, 26, 32)        896       \n",
      "_________________________________________________________________\n",
      "max_pooling2d_2 (MaxPooling2 (None, 13, 13, 32)        0         \n",
      "_________________________________________________________________\n",
      "conv2d_3 (Conv2D)            (None, 11, 11, 64)        18496     \n",
      "_________________________________________________________________\n",
      "max_pooling2d_3 (MaxPooling2 (None, 5, 5, 64)          0         \n",
      "_________________________________________________________________\n",
      "flatten_1 (Flatten)          (None, 1600)              0         \n",
      "_________________________________________________________________\n",
      "dense_2 (Dense)              (None, 64)                102464    \n",
      "_________________________________________________________________\n",
      "dense_3 (Dense)              (None, 3)                 195       \n",
      "=================================================================\n",
      "Total params: 122,051\n",
      "Trainable params: 122,051\n",
      "Non-trainable params: 0\n",
      "_________________________________________________________________\n",
      "Epoch 1/20\n",
      "19/19 [==============================] - 1s 32ms/step - loss: 16.8446 - accuracy: 0.4017\n",
      "Epoch 2/20\n",
      "19/19 [==============================] - 1s 32ms/step - loss: 0.5814 - accuracy: 0.7467\n",
      "Epoch 3/20\n",
      "19/19 [==============================] - 1s 32ms/step - loss: 0.2805 - accuracy: 0.8750\n",
      "Epoch 4/20\n",
      "19/19 [==============================] - 1s 33ms/step - loss: 0.1854 - accuracy: 0.9233\n",
      "Epoch 5/20\n",
      "19/19 [==============================] - 1s 32ms/step - loss: 0.1077 - accuracy: 0.9617\n",
      "Epoch 6/20\n",
      "19/19 [==============================] - 1s 32ms/step - loss: 0.0708 - accuracy: 0.9817\n",
      "Epoch 7/20\n",
      "19/19 [==============================] - 1s 32ms/step - loss: 0.0418 - accuracy: 0.9900\n",
      "Epoch 8/20\n",
      "19/19 [==============================] - 1s 31ms/step - loss: 0.0231 - accuracy: 0.9983\n",
      "Epoch 9/20\n",
      "19/19 [==============================] - 1s 30ms/step - loss: 0.0212 - accuracy: 0.9967\n",
      "Epoch 10/20\n",
      "19/19 [==============================] - 1s 31ms/step - loss: 0.0145 - accuracy: 1.0000\n",
      "Epoch 11/20\n",
      "19/19 [==============================] - 1s 33ms/step - loss: 0.0087 - accuracy: 1.0000\n",
      "Epoch 12/20\n",
      "19/19 [==============================] - 1s 33ms/step - loss: 0.0055 - accuracy: 1.0000\n",
      "Epoch 13/20\n",
      "19/19 [==============================] - 1s 32ms/step - loss: 0.0043 - accuracy: 1.0000\n",
      "Epoch 14/20\n",
      "19/19 [==============================] - 1s 33ms/step - loss: 0.0038 - accuracy: 1.0000\n",
      "Epoch 15/20\n",
      "19/19 [==============================] - 1s 32ms/step - loss: 0.0031 - accuracy: 1.0000\n",
      "Epoch 16/20\n",
      "19/19 [==============================] - 1s 33ms/step - loss: 0.0025 - accuracy: 1.0000\n",
      "Epoch 17/20\n",
      "19/19 [==============================] - 1s 34ms/step - loss: 0.0024 - accuracy: 1.0000\n",
      "Epoch 18/20\n",
      "19/19 [==============================] - 1s 31ms/step - loss: 0.0020 - accuracy: 1.0000\n",
      "Epoch 19/20\n",
      "19/19 [==============================] - 1s 33ms/step - loss: 0.0019 - accuracy: 1.0000\n",
      "Epoch 20/20\n",
      "19/19 [==============================] - 1s 34ms/step - loss: 0.0016 - accuracy: 1.0000\n",
      "10/10 - 0s - loss: 5.5060 - accuracy: 0.6167\n",
      "test_loss: 5.505963325500488 \n",
      "test_accuracy: 0.6166666746139526\n"
     ]
    }
   ],
   "source": [
    "# model을 학습시키는 코드를 직접 작성해 보세요.\n",
    "# Hint! model.evaluate()을 사용해 봅시다.\n",
    "\n",
    "# 바꿔 볼 수 있는 하이퍼파라미터들\n",
    "n_channel_1=32\n",
    "n_channel_2=64\n",
    "n_dense=64\n",
    "n_train_epoch=20\n",
    "\n",
    "model=keras.models.Sequential()\n",
    "model.add(keras.layers.Conv2D(n_channel_1, (3,3), activation='relu', input_shape=(28,28,3)))\n",
    "model.add(keras.layers.MaxPool2D(2,2))\n",
    "model.add(keras.layers.Conv2D(n_channel_2, (3,3), activation='relu'))\n",
    "model.add(keras.layers.MaxPooling2D((2,2)))\n",
    "model.add(keras.layers.Flatten())\n",
    "model.add(keras.layers.Dense(n_dense, activation='relu'))\n",
    "model.add(keras.layers.Dense(3, activation='softmax'))\n",
    "\n",
    "model.summary()\n",
    "model.compile(optimizer='adam',\n",
    "             loss='sparse_categorical_crossentropy',\n",
    "             metrics=['accuracy'])\n",
    "\n",
    "# 모델 훈련\n",
    "model.fit(x_train, y_train, epochs=n_train_epoch)\n",
    "\n",
    "# 모델 시험\n",
    "test_loss, test_accuracy = model.evaluate(x_test, y_test, verbose=2)\n",
    "print(\"test_loss: {} \".format(test_loss))\n",
    "print(\"test_accuracy: {}\".format(test_accuracy))"
   ]
  },
  {
   "cell_type": "markdown",
   "id": "2bd97c62",
   "metadata": {},
   "source": [
    "# 회고\n",
    "\n",
    "처음에 데이터를 학습 시키고 학습시킨 모델을 테스트 했을때 40~50프로의 정확도를 보였다.  \n",
    "목표는 60프로 이상의 정확도를 보이는 것으로, 하이퍼파라미터를 바꾸거나 모델의 학습에 들어가는 데이터를 늘려주는 것으로 실험을 하였다.  \n",
    "하이퍼 파라미터만 조절했을때는 정확도가 크게 변화가 없었다.  \n",
    "그러나 학습시킬 이미지의 양을 300개에서 600개로 늘린 후에 다시 해본 결과 61프로의 정확도가 나왔다.\n",
    "새로운 데이터를 테스트해서 평가하는 것이 쉽지 만은 않은것 같다.  \n",
    "같은 환경에서도 정확도가 달라지는 상황이 생기기 때문에 운? 적인 요소도 있는 것 같다.  \n",
    "어쨋든 좀 더 똑똑한 모델을 만드는데 있어서 중요한 요소는 하이퍼 파라미터와 학습할 데이터의 양인 것을 확인하였다.  "
   ]
  }
 ],
 "metadata": {
  "kernelspec": {
   "display_name": "Python 3 (ipykernel)",
   "language": "python",
   "name": "python3"
  },
  "language_info": {
   "codemirror_mode": {
    "name": "ipython",
    "version": 3
   },
   "file_extension": ".py",
   "mimetype": "text/x-python",
   "name": "python",
   "nbconvert_exporter": "python",
   "pygments_lexer": "ipython3",
   "version": "3.9.7"
  }
 },
 "nbformat": 4,
 "nbformat_minor": 5
}
